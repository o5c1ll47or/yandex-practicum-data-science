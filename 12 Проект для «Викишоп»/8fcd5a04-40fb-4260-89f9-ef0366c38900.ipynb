{
 "cells": [
  {
   "cell_type": "markdown",
   "metadata": {},
   "source": [
    "Привет, меня зовут Артем Хуршудов. Сегодня я проверю твой проект.\n",
    "<br> Дальнейшее общение будет происходить на \"ты\" если это не вызывает никаких проблем.\n",
    "<br> Желательно реагировать на каждый мой комментарий ('исправил', 'не понятно как исправить ошибку', ...)\n",
    "<br> Пожалуйста, не удаляй комментарии ревьюера, так как они повышают качество повторного ревью.\n",
    "\n",
    "Комментарии будут в <font color='green'>зеленой</font>, <font color='blue'>синей</font> или <font color='red'>красной</font> рамках:\n",
    "\n",
    "<div class=\"alert alert-block alert-success\">\n",
    "<b>Успех:</b> Если все сделано отлично\n",
    "</div>\n",
    "\n",
    "<div class=\"alert alert-block alert-info\">\n",
    "<b>Совет: </b> Если можно немного улучшить\n",
    "</div>\n",
    "\n",
    "<div class=\"alert alert-block alert-danger\">\n",
    "<b>Ошибка:</b> Если требуются исправления. Работа не может быть принята с красными комментариями.\n",
    "</div>\n",
    "\n",
    "-------------------\n",
    "\n",
    "Будет очень хорошо, если ты будешь помечать свои действия следующим образом:\n",
    "<div class=\"alert alert-block alert-warning\">\n",
    "<b>Комментарий студента:</b> ...\n",
    "</div>\n",
    "\n",
    "<div class=\"alert alert-block alert-warning\">\n",
    "<b>Изменения:</b> Были внесены следующие изменения ...\n",
    "</div>\n",
    "\n",
    "<font color='green'><b>Полезные (и просто интересные) материалы:</b></font> \\\n",
    "Для работы с текстами используют и другие подходы. Например, сейчас активно используются RNN (LSTM) и трансформеры (BERT и другие с улицы Сезам, например, ELMO). НО! Они не являются панацеей, не всегда они нужны, так как и TF-IDF или Word2Vec + модели из классического ML тоже могут справляться. \\\n",
    "BERT тяжелый, существует много его вариаций для разных задач, есть готовые модели, есть надстройки над библиотекой transformers. Если, обучать BERT на GPU (можно в Google Colab или Kaggle), то должно быть побыстрее.\\\n",
    "https://huggingface.co/transformers/model_doc/bert.html \\\n",
    "https://t.me/renat_alimbekov \\\n",
    "https://colah.github.io/posts/2015-08-Understanding-LSTMs/ - Про LSTM \\\n",
    "https://web.stanford.edu/~jurafsky/slp3/10.pdf - про энкодер-декодер модели, этеншены\\\n",
    "https://pytorch.org/tutorials/beginner/transformer_tutorial.html - официальный гайд\n",
    "по трансформеру от создателей pytorch\\\n",
    "https://transformer.huggingface.co/ - поболтать с трансформером \\\n",
    "Библиотеки: allennlp, fairseq, transformers, tensorflow-text — множествореализованных\n",
    "методов для трансформеров методов NLP \\\n",
    "Word2Vec https://radimrehurek.com/gensim/models/word2vec.html \n",
    "\n",
    "<font color='green'>Пример BERT с GPU:\n",
    "```python\n",
    "%%time\n",
    "from tqdm import notebook\n",
    "batch_size = 2 # для примера возьмем такой батч, где будет всего две строки датасета\n",
    "embeddings = [] \n",
    "for i in notebook.tqdm(range(input_ids.shape[0] // batch_size)):\n",
    "        batch = torch.LongTensor(input_ids[batch_size*i:batch_size*(i+1)]).cuda() # закидываем тензор на GPU\n",
    "        attention_mask_batch = torch.LongTensor(attention_mask[batch_size*i:batch_size*(i+1)]).cuda()\n",
    "        \n",
    "        with torch.no_grad():\n",
    "            model.cuda()\n",
    "            batch_embeddings = model(batch, attention_mask=attention_mask_batch)\n",
    "        \n",
    "        embeddings.append(batch_embeddings[0][:,0,:].cpu().numpy()) # перевод обратно на проц, чтобы в нумпай кинуть\n",
    "        del batch\n",
    "        del attention_mask_batch\n",
    "        del batch_embeddings\n",
    "        \n",
    "features = np.concatenate(embeddings) \n",
    "```\n",
    "Можно сделать предварительную проверку на наличие GPU.\\\n",
    "Например, так: ```device = torch.device(\"cuda:0\") if torch.cuda.is_available() else torch.device(\"cpu\")```\\\n",
    "Тогда вместо .cuda() нужно писать .to(device)\n",
    "</font>\n",
    "\n",
    "### <font color='orange'>Общее впечатление</font>\n",
    "* Большое спасибо за проделанную работу. Видно, что приложено много усилий.\n",
    "* Радует, что ноутбук хорошо структурирован. Приятно проверять такие работы.\n",
    "* Отлично, что стоп-слова были исключены!\n",
    "* Над этим проектом нужно будет еще немного поработать. Однако, изменения не должны занять много времени.\n",
    "* В работе я оставил несколько советов. Буду рад, если ты учтешь их.\n",
    "* С радостью отвечу на твои вопросы, если они есть. Лучше всего их собрать в следующей ячейке. Жду новую версию проекта."
   ]
  },
  {
   "cell_type": "markdown",
   "metadata": {},
   "source": [
    "<div class=\"alert alert-block alert-warning\">\n",
    "<b>Комментарий студента:</b> Спасибо за ссылки! Жаль, что у меня нет видеокарты =)\n",
    "</div>"
   ]
  },
  {
   "cell_type": "markdown",
   "metadata": {},
   "source": [
    "# Проект для «Викишоп»"
   ]
  },
  {
   "cell_type": "markdown",
   "metadata": {},
   "source": [
    "Интернет-магазин «Викишоп» запускает новый сервис. Теперь пользователи могут редактировать и дополнять описания товаров, как в вики-сообществах. То есть клиенты предлагают свои правки и комментируют изменения других. Магазину нужен инструмент, который будет искать токсичные комментарии и отправлять их на модерацию. \n",
    "\n",
    "Обучите модель классифицировать комментарии на позитивные и негативные. В вашем распоряжении набор данных с разметкой о токсичности правок.\n",
    "\n",
    "Постройте модель со значением метрики качества *F1* не меньше 0.75. \n",
    "\n",
    "**Инструкция по выполнению проекта**\n",
    "\n",
    "1. Загрузите и подготовьте данные.\n",
    "2. Обучите разные модели. \n",
    "3. Сделайте выводы.\n",
    "\n",
    "Для выполнения проекта применять *BERT* необязательно, но вы можете попробовать.\n",
    "\n",
    "**Описание данных**\n",
    "\n",
    "Данные находятся в файле `toxic_comments.csv`. Столбец *text* в нём содержит текст комментария, а *toxic* — целевой признак."
   ]
  },
  {
   "cell_type": "markdown",
   "metadata": {
    "toc": true
   },
   "source": [
    "<h1>Содержание<span class=\"tocSkip\"></span></h1>\n",
    "<div class=\"toc\"><ul class=\"toc-item\"><li><ul class=\"toc-item\"><li><span><a href=\"#Общее-впечатление\" data-toc-modified-id=\"Общее-впечатление-0.1\"><span class=\"toc-item-num\">0.1&nbsp;&nbsp;</span><font color=\"orange\">Общее впечатление</font></a></span></li></ul></li><li><span><a href=\"#Подготовка\" data-toc-modified-id=\"Подготовка-1\"><span class=\"toc-item-num\">1&nbsp;&nbsp;</span>Подготовка</a></span><ul class=\"toc-item\"><li><span><a href=\"#LogisticRegression-с-TF-IDF\" data-toc-modified-id=\"LogisticRegression-с-TF-IDF-1.1\"><span class=\"toc-item-num\">1.1&nbsp;&nbsp;</span>LogisticRegression с TF-IDF</a></span></li><li><span><a href=\"#LogisticRegression-c-BERT\" data-toc-modified-id=\"LogisticRegression-c-BERT-1.2\"><span class=\"toc-item-num\">1.2&nbsp;&nbsp;</span>LogisticRegression c BERT</a></span></li></ul></li><li><span><a href=\"#Обучение\" data-toc-modified-id=\"Обучение-2\"><span class=\"toc-item-num\">2&nbsp;&nbsp;</span>Обучение</a></span><ul class=\"toc-item\"><li><span><a href=\"#LogisticRegression-с-TF-IDF\" data-toc-modified-id=\"LogisticRegression-с-TF-IDF-2.1\"><span class=\"toc-item-num\">2.1&nbsp;&nbsp;</span>LogisticRegression с TF-IDF</a></span></li><li><span><a href=\"#LogisticRegression-c-BERT\" data-toc-modified-id=\"LogisticRegression-c-BERT-2.2\"><span class=\"toc-item-num\">2.2&nbsp;&nbsp;</span>LogisticRegression c BERT</a></span></li></ul></li><li><span><a href=\"#Выводы\" data-toc-modified-id=\"Выводы-3\"><span class=\"toc-item-num\">3&nbsp;&nbsp;</span>Выводы</a></span></li><li><span><a href=\"#Чек-лист-проверки\" data-toc-modified-id=\"Чек-лист-проверки-4\"><span class=\"toc-item-num\">4&nbsp;&nbsp;</span>Чек-лист проверки</a></span></li></ul></div>"
   ]
  },
  {
   "cell_type": "code",
   "execution_count": 29,
   "metadata": {},
   "outputs": [
    {
     "name": "stdout",
     "output_type": "stream",
     "text": [
      "Requirement already satisfied: wordcloud in f:\\praktikum.yandex\\lib\\site-packages (1.8.1)\n",
      "Requirement already satisfied: pillow in f:\\praktikum.yandex\\lib\\site-packages (from wordcloud) (9.0.0)\n",
      "Requirement already satisfied: numpy>=1.6.1 in f:\\praktikum.yandex\\lib\\site-packages (from wordcloud) (1.21.5)\n",
      "Requirement already satisfied: matplotlib in f:\\praktikum.yandex\\lib\\site-packages (from wordcloud) (3.5.1)\n",
      "Requirement already satisfied: packaging>=20.0 in f:\\praktikum.yandex\\lib\\site-packages (from matplotlib->wordcloud) (21.3)\n",
      "Requirement already satisfied: pyparsing>=2.2.1 in f:\\praktikum.yandex\\lib\\site-packages (from matplotlib->wordcloud) (3.0.6)\n",
      "Requirement already satisfied: python-dateutil>=2.7 in f:\\praktikum.yandex\\lib\\site-packages (from matplotlib->wordcloud) (2.8.2)\n",
      "Requirement already satisfied: cycler>=0.10 in f:\\praktikum.yandex\\lib\\site-packages (from matplotlib->wordcloud) (0.11.0)\n",
      "Requirement already satisfied: kiwisolver>=1.0.1 in f:\\praktikum.yandex\\lib\\site-packages (from matplotlib->wordcloud) (1.3.2)\n",
      "Requirement already satisfied: fonttools>=4.22.0 in f:\\praktikum.yandex\\lib\\site-packages (from matplotlib->wordcloud) (4.28.5)\n",
      "Requirement already satisfied: six>=1.5 in f:\\praktikum.yandex\\lib\\site-packages (from python-dateutil>=2.7->matplotlib->wordcloud) (1.16.0)\n",
      "Note: you may need to restart the kernel to use updated packages.\n"
     ]
    },
    {
     "name": "stderr",
     "output_type": "stream",
     "text": [
      "WARNING: You are using pip version 21.3.1; however, version 22.0.3 is available.\n",
      "You should consider upgrading via the 'f:\\praktikum.yandex\\scripts\\python.exe -m pip install --upgrade pip' command.\n"
     ]
    }
   ],
   "source": [
    "pip install wordcloud"
   ]
  },
  {
   "cell_type": "code",
   "execution_count": 30,
   "metadata": {},
   "outputs": [
    {
     "name": "stdout",
     "output_type": "stream",
     "text": [
      "Requirement already satisfied: plotly==5.1.0 in f:\\praktikum.yandex\\lib\\site-packages (5.1.0)Note: you may need to restart the kernel to use updated packages.\n",
      "Requirement already satisfied: six in f:\\praktikum.yandex\\lib\\site-packages (from plotly==5.1.0) (1.16.0)\n",
      "Requirement already satisfied: tenacity>=6.2.0 in f:\\praktikum.yandex\\lib\\site-packages (from plotly==5.1.0) (8.0.1)\n",
      "\n"
     ]
    },
    {
     "name": "stderr",
     "output_type": "stream",
     "text": [
      "WARNING: You are using pip version 21.3.1; however, version 22.0.3 is available.\n",
      "You should consider upgrading via the 'f:\\praktikum.yandex\\scripts\\python.exe -m pip install --upgrade pip' command.\n"
     ]
    }
   ],
   "source": [
    "pip install plotly==5.1.0"
   ]
  },
  {
   "cell_type": "code",
   "execution_count": 31,
   "metadata": {},
   "outputs": [
    {
     "name": "stderr",
     "output_type": "stream",
     "text": [
      "[nltk_data] Downloading package stopwords to\n",
      "[nltk_data]     C:\\Users\\Евгений\\AppData\\Roaming\\nltk_data...\n",
      "[nltk_data]   Package stopwords is already up-to-date!\n"
     ]
    }
   ],
   "source": [
    "import numpy as np\n",
    "import pandas as pd\n",
    "import torch\n",
    "from tqdm import notebook\n",
    "from transformers import DistilBertTokenizer, DistilBertModel\n",
    "from sklearn.linear_model import LogisticRegression\n",
    "from sklearn.metrics import f1_score, confusion_matrix, roc_curve\n",
    "from sklearn.model_selection import train_test_split, cross_val_score, GridSearchCV\n",
    "import plotly\n",
    "import plotly.express as px\n",
    "from wordcloud import WordCloud, STOPWORDS , ImageColorGenerator\n",
    "import seaborn as sns\n",
    "import matplotlib.pyplot as plt\n",
    "from pymystem3 import Mystem\n",
    "import re\n",
    "from sklearn.utils import shuffle\n",
    "from nltk.corpus import stopwords\n",
    "import nltk\n",
    "from sklearn.feature_extraction.text import TfidfVectorizer\n",
    "import string\n",
    "import warnings\n",
    "warnings.filterwarnings('ignore')\n",
    "m = Mystem()\n",
    "nltk.download('stopwords')\n",
    "stopwords = set(stopwords.words('english'))"
   ]
  },
  {
   "cell_type": "code",
   "execution_count": 32,
   "metadata": {},
   "outputs": [
    {
     "name": "stderr",
     "output_type": "stream",
     "text": [
      "[nltk_data] Downloading package wordnet to\n",
      "[nltk_data]     C:\\Users\\Евгений\\AppData\\Roaming\\nltk_data...\n",
      "[nltk_data]   Package wordnet is already up-to-date!\n",
      "[nltk_data] Downloading package omw-1.4 to\n",
      "[nltk_data]     C:\\Users\\Евгений\\AppData\\Roaming\\nltk_data...\n",
      "[nltk_data]   Package omw-1.4 is already up-to-date!\n"
     ]
    },
    {
     "data": {
      "text/plain": [
       "True"
      ]
     },
     "execution_count": 32,
     "metadata": {},
     "output_type": "execute_result"
    }
   ],
   "source": [
    "import nltk\n",
    "nltk.download('wordnet')\n",
    "nltk.download('omw-1.4')"
   ]
  },
  {
   "cell_type": "code",
   "execution_count": 33,
   "metadata": {},
   "outputs": [
    {
     "data": {
      "text/html": [
       "\n",
       "<style>\n",
       ".output_png {\n",
       "    display: table-cell;\n",
       "    text-align: center;\n",
       "    vertical-align: middle;\n",
       "}\n",
       "</style>\n"
      ],
      "text/plain": [
       "<IPython.core.display.HTML object>"
      ]
     },
     "execution_count": 33,
     "metadata": {},
     "output_type": "execute_result"
    }
   ],
   "source": [
    "from IPython.core.display import HTML\n",
    "HTML(\"\"\"\n",
    "<style>\n",
    ".output_png {\n",
    "    display: table-cell;\n",
    "    text-align: center;\n",
    "    vertical-align: middle;\n",
    "}\n",
    "</style>\n",
    "\"\"\")"
   ]
  },
  {
   "cell_type": "markdown",
   "metadata": {},
   "source": [
    "<div class=\"alert alert-block alert-success\">\n",
    "<b>Успех:</b> Отлично, что все импорты собраны в верхней части ноутбука! Если у того, кто будет запускать твой ноутбук будут отсутствовать некоторые библиотеки, то он это увидит сразу, а не в процессе!\n",
    "</div>"
   ]
  },
  {
   "cell_type": "code",
   "execution_count": 34,
   "metadata": {},
   "outputs": [],
   "source": [
    "def remove_punct(text):\n",
    "    text  = \"\".join([char for char in text if char not in string.punctuation])\n",
    "    text = re.sub('[0-9]+', '', text)\n",
    "    return text\n",
    "\n",
    "def tokenization(text):\n",
    "    text = re.split('\\W+', text)\n",
    "    return text\n",
    "\n",
    "def remove_stopwords(text):\n",
    "    stopword = nltk.corpus.stopwords.words('english')\n",
    "    text = [word for word in text if word not in stopword]\n",
    "    return text\n",
    "\n",
    "def lemmatizer(text):\n",
    "    wn = nltk.WordNetLemmatizer()\n",
    "    text = [wn.lemmatize(word) for word in text]\n",
    "    return text\n",
    "\n",
    "def downsample(features, target, fraction):\n",
    "    features_zeros = features[target == 0]\n",
    "    features_ones = features[target == 1]\n",
    "    target_zeros = target[target == 0]\n",
    "    target_ones = target[target == 1]\n",
    "\n",
    "    features_downsampled = pd.concat(\n",
    "        [features_zeros.sample(frac=fraction, random_state=12345)] + [features_ones])\n",
    "    target_downsampled = pd.concat(\n",
    "        [target_zeros.sample(frac=fraction, random_state=12345)] + [target_ones])\n",
    "    \n",
    "    features_downsampled, target_downsampled = shuffle(\n",
    "        features_downsampled, target_downsampled, random_state=12345)\n",
    "    \n",
    "    return features_downsampled, target_downsampled\n",
    "\n",
    "def upsample(features, target, repeat): \n",
    "    features_zeros = features[target == 0]\n",
    "    features_ones = features[target == 1]\n",
    "    target_zeros = target[target == 0]  \n",
    "    target_ones = target[target == 1]\n",
    "\n",
    "    features_upsampled = pd.concat(\n",
    "        [features_zeros] + [features_ones] * repeat) \n",
    "\n",
    "    target_upsampled = pd.concat(\n",
    "        [target_zeros] + [target_ones] * repeat)\n",
    "\n",
    "    features_upsampled, target_upsampled = shuffle(\n",
    "        features_upsampled, target_upsampled, random_state=12345)\n",
    "\n",
    "    return features_upsampled, target_upsampled"
   ]
  },
  {
   "cell_type": "code",
   "execution_count": 35,
   "metadata": {},
   "outputs": [],
   "source": [
    "df = pd.read_csv('https://code.s3.yandex.net/datasets/toxic_comments.csv')"
   ]
  },
  {
   "cell_type": "code",
   "execution_count": 36,
   "metadata": {},
   "outputs": [
    {
     "data": {
      "image/png": "[encoded data removed]",
      "text/plain": [
       "<Figure size 936x432 with 2 Axes>"
      ]
     },
     "metadata": {
      "needs_background": "light"
     },
     "output_type": "display_data"
    }
   ],
   "source": [
    "df_toxic = df[df['toxic']==1]\n",
    "df_nottoxic = df[df['toxic']==0]\n",
    "\n",
    "toxic = \" \".join(review for review in df_toxic.text)\n",
    "nottoxic = \" \".join(review for review in df_nottoxic.text)\n",
    "\n",
    "fig, ax = plt.subplots(1, 2, figsize  = (13,6))\n",
    "wordcloud_toxic = WordCloud(max_font_size=50, max_words=30, background_color = 'white',).generate(toxic)\n",
    "wordcloud_nottoxic = WordCloud(max_font_size=50, max_words=30, background_color = 'white',).generate(nottoxic)\n",
    "\n",
    "ax[0].imshow(wordcloud_toxic, interpolation='bilinear')\n",
    "ax[0].set_title('Toxic comments',fontsize=18)\n",
    "ax[0].axis('off')\n",
    "ax[1].imshow(wordcloud_nottoxic, interpolation='bilinear')\n",
    "ax[1].set_title('NonToxic Comments',fontsize=18)\n",
    "ax[1].axis('off')\n",
    "plt.tight_layout()"
   ]
  },
  {
   "cell_type": "code",
   "execution_count": 37,
   "metadata": {
    "scrolled": false
   },
   "outputs": [
    {
     "data": {
      "application/vnd.plotly.v1+json": {
       "config": {
        "plotlyServerURL": "https://plot.ly"
       },
       "data": [
        {
         "domain": {
          "x": [
           0,
           1
          ],
          "y": [
           0,
           1
          ]
         },
         "hole": 0.3,
         "hovertemplate": "label=%{label}<br>value=%{value}<extra></extra>",
         "labels": [
          0,
          1
         ],
         "legendgroup": "",
         "name": "",
         "showlegend": true,
         "type": "pie",
         "values": [
          143346,
          16225
         ]
        }
       ],
       "layout": {
        "legend": {
         "tracegroupgap": 0
        },
        "margin": {
         "t": 60
        },
        "template": {
         "data": {
          "bar": [
           {
            "error_x": {
             "color": "#2a3f5f"
            },
            "error_y": {
             "color": "#2a3f5f"
            },
            "marker": {
             "line": {
              "color": "#E5ECF6",
              "width": 0.5
             },
             "pattern": {
              "fillmode": "overlay",
              "size": 10,
              "solidity": 0.2
             }
            },
            "type": "bar"
           }
          ],
          "barpolar": [
           {
            "marker": {
             "line": {
              "color": "#E5ECF6",
              "width": 0.5
             },
             "pattern": {
              "fillmode": "overlay",
              "size": 10,
              "solidity": 0.2
             }
            },
            "type": "barpolar"
           }
          ],
          "carpet": [
           {
            "aaxis": {
             "endlinecolor": "#2a3f5f",
             "gridcolor": "white",
             "linecolor": "white",
             "minorgridcolor": "white",
             "startlinecolor": "#2a3f5f"
            },
            "baxis": {
             "endlinecolor": "#2a3f5f",
             "gridcolor": "white",
             "linecolor": "white",
             "minorgridcolor": "white",
             "startlinecolor": "#2a3f5f"
            },
            "type": "carpet"
           }
          ],
          "choropleth": [
           {
            "colorbar": {
             "outlinewidth": 0,
             "ticks": ""
            },
            "type": "choropleth"
           }
          ],
          "contour": [
           {
            "colorbar": {
             "outlinewidth": 0,
             "ticks": ""
            },
            "colorscale": [
             [
              0,
              "#0d0887"
             ],
             [
              0.1111111111111111,
              "#46039f"
             ],
             [
              0.2222222222222222,
              "#7201a8"
             ],
             [
              0.3333333333333333,
              "#9c179e"
             ],
             [
              0.4444444444444444,
              "#bd3786"
             ],
             [
              0.5555555555555556,
              "#d8576b"
             ],
             [
              0.6666666666666666,
              "#ed7953"
             ],
             [
              0.7777777777777778,
              "#fb9f3a"
             ],
             [
              0.8888888888888888,
              "#fdca26"
             ],
             [
              1,
              "#f0f921"
             ]
            ],
            "type": "contour"
           }
          ],
          "contourcarpet": [
           {
            "colorbar": {
             "outlinewidth": 0,
             "ticks": ""
            },
            "type": "contourcarpet"
           }
          ],
          "heatmap": [
           {
            "colorbar": {
             "outlinewidth": 0,
             "ticks": ""
            },
            "colorscale": [
             [
              0,
              "#0d0887"
             ],
             [
              0.1111111111111111,
              "#46039f"
             ],
             [
              0.2222222222222222,
              "#7201a8"
             ],
             [
              0.3333333333333333,
              "#9c179e"
             ],
             [
              0.4444444444444444,
              "#bd3786"
             ],
             [
              0.5555555555555556,
              "#d8576b"
             ],
             [
              0.6666666666666666,
              "#ed7953"
             ],
             [
              0.7777777777777778,
              "#fb9f3a"
             ],
             [
              0.8888888888888888,
              "#fdca26"
             ],
             [
              1,
              "#f0f921"
             ]
            ],
            "type": "heatmap"
           }
          ],
          "heatmapgl": [
           {
            "colorbar": {
             "outlinewidth": 0,
             "ticks": ""
            },
            "colorscale": [
             [
              0,
              "#0d0887"
             ],
             [
              0.1111111111111111,
              "#46039f"
             ],
             [
              0.2222222222222222,
              "#7201a8"
             ],
             [
              0.3333333333333333,
              "#9c179e"
             ],
             [
              0.4444444444444444,
              "#bd3786"
             ],
             [
              0.5555555555555556,
              "#d8576b"
             ],
             [
              0.6666666666666666,
              "#ed7953"
             ],
             [
              0.7777777777777778,
              "#fb9f3a"
             ],
             [
              0.8888888888888888,
              "#fdca26"
             ],
             [
              1,
              "#f0f921"
             ]
            ],
            "type": "heatmapgl"
           }
          ],
          "histogram": [
           {
            "marker": {
             "pattern": {
              "fillmode": "overlay",
              "size": 10,
              "solidity": 0.2
             }
            },
            "type": "histogram"
           }
          ],
          "histogram2d": [
           {
            "colorbar": {
             "outlinewidth": 0,
             "ticks": ""
            },
            "colorscale": [
             [
              0,
              "#0d0887"
             ],
             [
              0.1111111111111111,
              "#46039f"
             ],
             [
              0.2222222222222222,
              "#7201a8"
             ],
             [
              0.3333333333333333,
              "#9c179e"
             ],
             [
              0.4444444444444444,
              "#bd3786"
             ],
             [
              0.5555555555555556,
              "#d8576b"
             ],
             [
              0.6666666666666666,
              "#ed7953"
             ],
             [
              0.7777777777777778,
              "#fb9f3a"
             ],
             [
              0.8888888888888888,
              "#fdca26"
             ],
             [
              1,
              "#f0f921"
             ]
            ],
            "type": "histogram2d"
           }
          ],
          "histogram2dcontour": [
           {
            "colorbar": {
             "outlinewidth": 0,
             "ticks": ""
            },
            "colorscale": [
             [
              0,
              "#0d0887"
             ],
             [
              0.1111111111111111,
              "#46039f"
             ],
             [
              0.2222222222222222,
              "#7201a8"
             ],
             [
              0.3333333333333333,
              "#9c179e"
             ],
             [
              0.4444444444444444,
              "#bd3786"
             ],
             [
              0.5555555555555556,
              "#d8576b"
             ],
             [
              0.6666666666666666,
              "#ed7953"
             ],
             [
              0.7777777777777778,
              "#fb9f3a"
             ],
             [
              0.8888888888888888,
              "#fdca26"
             ],
             [
              1,
              "#f0f921"
             ]
            ],
            "type": "histogram2dcontour"
           }
          ],
          "mesh3d": [
           {
            "colorbar": {
             "outlinewidth": 0,
             "ticks": ""
            },
            "type": "mesh3d"
           }
          ],
          "parcoords": [
           {
            "line": {
             "colorbar": {
              "outlinewidth": 0,
              "ticks": ""
             }
            },
            "type": "parcoords"
           }
          ],
          "pie": [
           {
            "automargin": true,
            "type": "pie"
           }
          ],
          "scatter": [
           {
            "marker": {
             "colorbar": {
              "outlinewidth": 0,
              "ticks": ""
             }
            },
            "type": "scatter"
           }
          ],
          "scatter3d": [
           {
            "line": {
             "colorbar": {
              "outlinewidth": 0,
              "ticks": ""
             }
            },
            "marker": {
             "colorbar": {
              "outlinewidth": 0,
              "ticks": ""
             }
            },
            "type": "scatter3d"
           }
          ],
          "scattercarpet": [
           {
            "marker": {
             "colorbar": {
              "outlinewidth": 0,
              "ticks": ""
             }
            },
            "type": "scattercarpet"
           }
          ],
          "scattergeo": [
           {
            "marker": {
             "colorbar": {
              "outlinewidth": 0,
              "ticks": ""
             }
            },
            "type": "scattergeo"
           }
          ],
          "scattergl": [
           {
            "marker": {
             "colorbar": {
              "outlinewidth": 0,
              "ticks": ""
             }
            },
            "type": "scattergl"
           }
          ],
          "scattermapbox": [
           {
            "marker": {
             "colorbar": {
              "outlinewidth": 0,
              "ticks": ""
             }
            },
            "type": "scattermapbox"
           }
          ],
          "scatterpolar": [
           {
            "marker": {
             "colorbar": {
              "outlinewidth": 0,
              "ticks": ""
             }
            },
            "type": "scatterpolar"
           }
          ],
          "scatterpolargl": [
           {
            "marker": {
             "colorbar": {
              "outlinewidth": 0,
              "ticks": ""
             }
            },
            "type": "scatterpolargl"
           }
          ],
          "scatterternary": [
           {
            "marker": {
             "colorbar": {
              "outlinewidth": 0,
              "ticks": ""
             }
            },
            "type": "scatterternary"
           }
          ],
          "surface": [
           {
            "colorbar": {
             "outlinewidth": 0,
             "ticks": ""
            },
            "colorscale": [
             [
              0,
              "#0d0887"
             ],
             [
              0.1111111111111111,
              "#46039f"
             ],
             [
              0.2222222222222222,
              "#7201a8"
             ],
             [
              0.3333333333333333,
              "#9c179e"
             ],
             [
              0.4444444444444444,
              "#bd3786"
             ],
             [
              0.5555555555555556,
              "#d8576b"
             ],
             [
              0.6666666666666666,
              "#ed7953"
             ],
             [
              0.7777777777777778,
              "#fb9f3a"
             ],
             [
              0.8888888888888888,
              "#fdca26"
             ],
             [
              1,
              "#f0f921"
             ]
            ],
            "type": "surface"
           }
          ],
          "table": [
           {
            "cells": {
             "fill": {
              "color": "#EBF0F8"
             },
             "line": {
              "color": "white"
             }
            },
            "header": {
             "fill": {
              "color": "#C8D4E3"
             },
             "line": {
              "color": "white"
             }
            },
            "type": "table"
           }
          ]
         },
         "layout": {
          "annotationdefaults": {
           "arrowcolor": "#2a3f5f",
           "arrowhead": 0,
           "arrowwidth": 1
          },
          "autotypenumbers": "strict",
          "coloraxis": {
           "colorbar": {
            "outlinewidth": 0,
            "ticks": ""
           }
          },
          "colorscale": {
           "diverging": [
            [
             0,
             "#8e0152"
            ],
            [
             0.1,
             "#c51b7d"
            ],
            [
             0.2,
             "#de77ae"
            ],
            [
             0.3,
             "#f1b6da"
            ],
            [
             0.4,
             "#fde0ef"
            ],
            [
             0.5,
             "#f7f7f7"
            ],
            [
             0.6,
             "#e6f5d0"
            ],
            [
             0.7,
             "#b8e186"
            ],
            [
             0.8,
             "#7fbc41"
            ],
            [
             0.9,
             "#4d9221"
            ],
            [
             1,
             "#276419"
            ]
           ],
           "sequential": [
            [
             0,
             "#0d0887"
            ],
            [
             0.1111111111111111,
             "#46039f"
            ],
            [
             0.2222222222222222,
             "#7201a8"
            ],
            [
             0.3333333333333333,
             "#9c179e"
            ],
            [
             0.4444444444444444,
             "#bd3786"
            ],
            [
             0.5555555555555556,
             "#d8576b"
            ],
            [
             0.6666666666666666,
             "#ed7953"
            ],
            [
             0.7777777777777778,
             "#fb9f3a"
            ],
            [
             0.8888888888888888,
             "#fdca26"
            ],
            [
             1,
             "#f0f921"
            ]
           ],
           "sequentialminus": [
            [
             0,
             "#0d0887"
            ],
            [
             0.1111111111111111,
             "#46039f"
            ],
            [
             0.2222222222222222,
             "#7201a8"
            ],
            [
             0.3333333333333333,
             "#9c179e"
            ],
            [
             0.4444444444444444,
             "#bd3786"
            ],
            [
             0.5555555555555556,
             "#d8576b"
            ],
            [
             0.6666666666666666,
             "#ed7953"
            ],
            [
             0.7777777777777778,
             "#fb9f3a"
            ],
            [
             0.8888888888888888,
             "#fdca26"
            ],
            [
             1,
             "#f0f921"
            ]
           ]
          },
          "colorway": [
           "#636efa",
           "#EF553B",
           "#00cc96",
           "#ab63fa",
           "#FFA15A",
           "#19d3f3",
           "#FF6692",
           "#B6E880",
           "#FF97FF",
           "#FECB52"
          ],
          "font": {
           "color": "#2a3f5f"
          },
          "geo": {
           "bgcolor": "white",
           "lakecolor": "white",
           "landcolor": "#E5ECF6",
           "showlakes": true,
           "showland": true,
           "subunitcolor": "white"
          },
          "hoverlabel": {
           "align": "left"
          },
          "hovermode": "closest",
          "mapbox": {
           "style": "light"
          },
          "paper_bgcolor": "white",
          "plot_bgcolor": "#E5ECF6",
          "polar": {
           "angularaxis": {
            "gridcolor": "white",
            "linecolor": "white",
            "ticks": ""
           },
           "bgcolor": "#E5ECF6",
           "radialaxis": {
            "gridcolor": "white",
            "linecolor": "white",
            "ticks": ""
           }
          },
          "scene": {
           "xaxis": {
            "backgroundcolor": "#E5ECF6",
            "gridcolor": "white",
            "gridwidth": 2,
            "linecolor": "white",
            "showbackground": true,
            "ticks": "",
            "zerolinecolor": "white"
           },
           "yaxis": {
            "backgroundcolor": "#E5ECF6",
            "gridcolor": "white",
            "gridwidth": 2,
            "linecolor": "white",
            "showbackground": true,
            "ticks": "",
            "zerolinecolor": "white"
           },
           "zaxis": {
            "backgroundcolor": "#E5ECF6",
            "gridcolor": "white",
            "gridwidth": 2,
            "linecolor": "white",
            "showbackground": true,
            "ticks": "",
            "zerolinecolor": "white"
           }
          },
          "shapedefaults": {
           "line": {
            "color": "#2a3f5f"
           }
          },
          "ternary": {
           "aaxis": {
            "gridcolor": "white",
            "linecolor": "white",
            "ticks": ""
           },
           "baxis": {
            "gridcolor": "white",
            "linecolor": "white",
            "ticks": ""
           },
           "bgcolor": "#E5ECF6",
           "caxis": {
            "gridcolor": "white",
            "linecolor": "white",
            "ticks": ""
           }
          },
          "title": {
           "x": 0.05
          },
          "xaxis": {
           "automargin": true,
           "gridcolor": "white",
           "linecolor": "white",
           "ticks": "",
           "title": {
            "standoff": 15
           },
           "zerolinecolor": "white",
           "zerolinewidth": 2
          },
          "yaxis": {
           "automargin": true,
           "gridcolor": "white",
           "linecolor": "white",
           "ticks": "",
           "title": {
            "standoff": 15
           },
           "zerolinecolor": "white",
           "zerolinewidth": 2
          }
         }
        }
       }
      },
      "text/html": [
       "<div>                            <div id=\"4b719d61-28b2-4da1-bfb4-dd5c8c438820\" class=\"plotly-graph-div\" style=\"height:525px; width:100%;\"></div>            <script type=\"text/javascript\">                require([\"plotly\"], function(Plotly) {                    window.PLOTLYENV=window.PLOTLYENV || {};                                    if (document.getElementById(\"4b719d61-28b2-4da1-bfb4-dd5c8c438820\")) {                    Plotly.newPlot(                        \"4b719d61-28b2-4da1-bfb4-dd5c8c438820\",                        [{\"domain\":{\"x\":[0.0,1.0],\"y\":[0.0,1.0]},\"hole\":0.3,\"hovertemplate\":\"label=%{label}<br>value=%{value}<extra></extra>\",\"labels\":[0,1],\"legendgroup\":\"\",\"name\":\"\",\"showlegend\":true,\"type\":\"pie\",\"values\":[143346,16225]}],                        {\"legend\":{\"tracegroupgap\":0},\"margin\":{\"t\":60},\"template\":{\"data\":{\"bar\":[{\"error_x\":{\"color\":\"#2a3f5f\"},\"error_y\":{\"color\":\"#2a3f5f\"},\"marker\":{\"line\":{\"color\":\"#E5ECF6\",\"width\":0.5},\"pattern\":{\"fillmode\":\"overlay\",\"size\":10,\"solidity\":0.2}},\"type\":\"bar\"}],\"barpolar\":[{\"marker\":{\"line\":{\"color\":\"#E5ECF6\",\"width\":0.5},\"pattern\":{\"fillmode\":\"overlay\",\"size\":10,\"solidity\":0.2}},\"type\":\"barpolar\"}],\"carpet\":[{\"aaxis\":{\"endlinecolor\":\"#2a3f5f\",\"gridcolor\":\"white\",\"linecolor\":\"white\",\"minorgridcolor\":\"white\",\"startlinecolor\":\"#2a3f5f\"},\"baxis\":{\"endlinecolor\":\"#2a3f5f\",\"gridcolor\":\"white\",\"linecolor\":\"white\",\"minorgridcolor\":\"white\",\"startlinecolor\":\"#2a3f5f\"},\"type\":\"carpet\"}],\"choropleth\":[{\"colorbar\":{\"outlinewidth\":0,\"ticks\":\"\"},\"type\":\"choropleth\"}],\"contour\":[{\"colorbar\":{\"outlinewidth\":0,\"ticks\":\"\"},\"colorscale\":[[0.0,\"#0d0887\"],[0.1111111111111111,\"#46039f\"],[0.2222222222222222,\"#7201a8\"],[0.3333333333333333,\"#9c179e\"],[0.4444444444444444,\"#bd3786\"],[0.5555555555555556,\"#d8576b\"],[0.6666666666666666,\"#ed7953\"],[0.7777777777777778,\"#fb9f3a\"],[0.8888888888888888,\"#fdca26\"],[1.0,\"#f0f921\"]],\"type\":\"contour\"}],\"contourcarpet\":[{\"colorbar\":{\"outlinewidth\":0,\"ticks\":\"\"},\"type\":\"contourcarpet\"}],\"heatmap\":[{\"colorbar\":{\"outlinewidth\":0,\"ticks\":\"\"},\"colorscale\":[[0.0,\"#0d0887\"],[0.1111111111111111,\"#46039f\"],[0.2222222222222222,\"#7201a8\"],[0.3333333333333333,\"#9c179e\"],[0.4444444444444444,\"#bd3786\"],[0.5555555555555556,\"#d8576b\"],[0.6666666666666666,\"#ed7953\"],[0.7777777777777778,\"#fb9f3a\"],[0.8888888888888888,\"#fdca26\"],[1.0,\"#f0f921\"]],\"type\":\"heatmap\"}],\"heatmapgl\":[{\"colorbar\":{\"outlinewidth\":0,\"ticks\":\"\"},\"colorscale\":[[0.0,\"#0d0887\"],[0.1111111111111111,\"#46039f\"],[0.2222222222222222,\"#7201a8\"],[0.3333333333333333,\"#9c179e\"],[0.4444444444444444,\"#bd3786\"],[0.5555555555555556,\"#d8576b\"],[0.6666666666666666,\"#ed7953\"],[0.7777777777777778,\"#fb9f3a\"],[0.8888888888888888,\"#fdca26\"],[1.0,\"#f0f921\"]],\"type\":\"heatmapgl\"}],\"histogram\":[{\"marker\":{\"pattern\":{\"fillmode\":\"overlay\",\"size\":10,\"solidity\":0.2}},\"type\":\"histogram\"}],\"histogram2d\":[{\"colorbar\":{\"outlinewidth\":0,\"ticks\":\"\"},\"colorscale\":[[0.0,\"#0d0887\"],[0.1111111111111111,\"#46039f\"],[0.2222222222222222,\"#7201a8\"],[0.3333333333333333,\"#9c179e\"],[0.4444444444444444,\"#bd3786\"],[0.5555555555555556,\"#d8576b\"],[0.6666666666666666,\"#ed7953\"],[0.7777777777777778,\"#fb9f3a\"],[0.8888888888888888,\"#fdca26\"],[1.0,\"#f0f921\"]],\"type\":\"histogram2d\"}],\"histogram2dcontour\":[{\"colorbar\":{\"outlinewidth\":0,\"ticks\":\"\"},\"colorscale\":[[0.0,\"#0d0887\"],[0.1111111111111111,\"#46039f\"],[0.2222222222222222,\"#7201a8\"],[0.3333333333333333,\"#9c179e\"],[0.4444444444444444,\"#bd3786\"],[0.5555555555555556,\"#d8576b\"],[0.6666666666666666,\"#ed7953\"],[0.7777777777777778,\"#fb9f3a\"],[0.8888888888888888,\"#fdca26\"],[1.0,\"#f0f921\"]],\"type\":\"histogram2dcontour\"}],\"mesh3d\":[{\"colorbar\":{\"outlinewidth\":0,\"ticks\":\"\"},\"type\":\"mesh3d\"}],\"parcoords\":[{\"line\":{\"colorbar\":{\"outlinewidth\":0,\"ticks\":\"\"}},\"type\":\"parcoords\"}],\"pie\":[{\"automargin\":true,\"type\":\"pie\"}],\"scatter\":[{\"marker\":{\"colorbar\":{\"outlinewidth\":0,\"ticks\":\"\"}},\"type\":\"scatter\"}],\"scatter3d\":[{\"line\":{\"colorbar\":{\"outlinewidth\":0,\"ticks\":\"\"}},\"marker\":{\"colorbar\":{\"outlinewidth\":0,\"ticks\":\"\"}},\"type\":\"scatter3d\"}],\"scattercarpet\":[{\"marker\":{\"colorbar\":{\"outlinewidth\":0,\"ticks\":\"\"}},\"type\":\"scattercarpet\"}],\"scattergeo\":[{\"marker\":{\"colorbar\":{\"outlinewidth\":0,\"ticks\":\"\"}},\"type\":\"scattergeo\"}],\"scattergl\":[{\"marker\":{\"colorbar\":{\"outlinewidth\":0,\"ticks\":\"\"}},\"type\":\"scattergl\"}],\"scattermapbox\":[{\"marker\":{\"colorbar\":{\"outlinewidth\":0,\"ticks\":\"\"}},\"type\":\"scattermapbox\"}],\"scatterpolar\":[{\"marker\":{\"colorbar\":{\"outlinewidth\":0,\"ticks\":\"\"}},\"type\":\"scatterpolar\"}],\"scatterpolargl\":[{\"marker\":{\"colorbar\":{\"outlinewidth\":0,\"ticks\":\"\"}},\"type\":\"scatterpolargl\"}],\"scatterternary\":[{\"marker\":{\"colorbar\":{\"outlinewidth\":0,\"ticks\":\"\"}},\"type\":\"scatterternary\"}],\"surface\":[{\"colorbar\":{\"outlinewidth\":0,\"ticks\":\"\"},\"colorscale\":[[0.0,\"#0d0887\"],[0.1111111111111111,\"#46039f\"],[0.2222222222222222,\"#7201a8\"],[0.3333333333333333,\"#9c179e\"],[0.4444444444444444,\"#bd3786\"],[0.5555555555555556,\"#d8576b\"],[0.6666666666666666,\"#ed7953\"],[0.7777777777777778,\"#fb9f3a\"],[0.8888888888888888,\"#fdca26\"],[1.0,\"#f0f921\"]],\"type\":\"surface\"}],\"table\":[{\"cells\":{\"fill\":{\"color\":\"#EBF0F8\"},\"line\":{\"color\":\"white\"}},\"header\":{\"fill\":{\"color\":\"#C8D4E3\"},\"line\":{\"color\":\"white\"}},\"type\":\"table\"}]},\"layout\":{\"annotationdefaults\":{\"arrowcolor\":\"#2a3f5f\",\"arrowhead\":0,\"arrowwidth\":1},\"autotypenumbers\":\"strict\",\"coloraxis\":{\"colorbar\":{\"outlinewidth\":0,\"ticks\":\"\"}},\"colorscale\":{\"diverging\":[[0,\"#8e0152\"],[0.1,\"#c51b7d\"],[0.2,\"#de77ae\"],[0.3,\"#f1b6da\"],[0.4,\"#fde0ef\"],[0.5,\"#f7f7f7\"],[0.6,\"#e6f5d0\"],[0.7,\"#b8e186\"],[0.8,\"#7fbc41\"],[0.9,\"#4d9221\"],[1,\"#276419\"]],\"sequential\":[[0.0,\"#0d0887\"],[0.1111111111111111,\"#46039f\"],[0.2222222222222222,\"#7201a8\"],[0.3333333333333333,\"#9c179e\"],[0.4444444444444444,\"#bd3786\"],[0.5555555555555556,\"#d8576b\"],[0.6666666666666666,\"#ed7953\"],[0.7777777777777778,\"#fb9f3a\"],[0.8888888888888888,\"#fdca26\"],[1.0,\"#f0f921\"]],\"sequentialminus\":[[0.0,\"#0d0887\"],[0.1111111111111111,\"#46039f\"],[0.2222222222222222,\"#7201a8\"],[0.3333333333333333,\"#9c179e\"],[0.4444444444444444,\"#bd3786\"],[0.5555555555555556,\"#d8576b\"],[0.6666666666666666,\"#ed7953\"],[0.7777777777777778,\"#fb9f3a\"],[0.8888888888888888,\"#fdca26\"],[1.0,\"#f0f921\"]]},\"colorway\":[\"#636efa\",\"#EF553B\",\"#00cc96\",\"#ab63fa\",\"#FFA15A\",\"#19d3f3\",\"#FF6692\",\"#B6E880\",\"#FF97FF\",\"#FECB52\"],\"font\":{\"color\":\"#2a3f5f\"},\"geo\":{\"bgcolor\":\"white\",\"lakecolor\":\"white\",\"landcolor\":\"#E5ECF6\",\"showlakes\":true,\"showland\":true,\"subunitcolor\":\"white\"},\"hoverlabel\":{\"align\":\"left\"},\"hovermode\":\"closest\",\"mapbox\":{\"style\":\"light\"},\"paper_bgcolor\":\"white\",\"plot_bgcolor\":\"#E5ECF6\",\"polar\":{\"angularaxis\":{\"gridcolor\":\"white\",\"linecolor\":\"white\",\"ticks\":\"\"},\"bgcolor\":\"#E5ECF6\",\"radialaxis\":{\"gridcolor\":\"white\",\"linecolor\":\"white\",\"ticks\":\"\"}},\"scene\":{\"xaxis\":{\"backgroundcolor\":\"#E5ECF6\",\"gridcolor\":\"white\",\"gridwidth\":2,\"linecolor\":\"white\",\"showbackground\":true,\"ticks\":\"\",\"zerolinecolor\":\"white\"},\"yaxis\":{\"backgroundcolor\":\"#E5ECF6\",\"gridcolor\":\"white\",\"gridwidth\":2,\"linecolor\":\"white\",\"showbackground\":true,\"ticks\":\"\",\"zerolinecolor\":\"white\"},\"zaxis\":{\"backgroundcolor\":\"#E5ECF6\",\"gridcolor\":\"white\",\"gridwidth\":2,\"linecolor\":\"white\",\"showbackground\":true,\"ticks\":\"\",\"zerolinecolor\":\"white\"}},\"shapedefaults\":{\"line\":{\"color\":\"#2a3f5f\"}},\"ternary\":{\"aaxis\":{\"gridcolor\":\"white\",\"linecolor\":\"white\",\"ticks\":\"\"},\"baxis\":{\"gridcolor\":\"white\",\"linecolor\":\"white\",\"ticks\":\"\"},\"bgcolor\":\"#E5ECF6\",\"caxis\":{\"gridcolor\":\"white\",\"linecolor\":\"white\",\"ticks\":\"\"}},\"title\":{\"x\":0.05},\"xaxis\":{\"automargin\":true,\"gridcolor\":\"white\",\"linecolor\":\"white\",\"ticks\":\"\",\"title\":{\"standoff\":15},\"zerolinecolor\":\"white\",\"zerolinewidth\":2},\"yaxis\":{\"automargin\":true,\"gridcolor\":\"white\",\"linecolor\":\"white\",\"ticks\":\"\",\"title\":{\"standoff\":15},\"zerolinecolor\":\"white\",\"zerolinewidth\":2}}}},                        {\"responsive\": true}                    ).then(function(){\n",
       "                            \n",
       "var gd = document.getElementById('4b719d61-28b2-4da1-bfb4-dd5c8c438820');\n",
       "var x = new MutationObserver(function (mutations, observer) {{\n",
       "        var display = window.getComputedStyle(gd).display;\n",
       "        if (!display || display === 'none') {{\n",
       "            console.log([gd, 'removed!']);\n",
       "            Plotly.purge(gd);\n",
       "            observer.disconnect();\n",
       "        }}\n",
       "}});\n",
       "\n",
       "// Listen for the removal of the full notebook cells\n",
       "var notebookContainer = gd.closest('#notebook-container');\n",
       "if (notebookContainer) {{\n",
       "    x.observe(notebookContainer, {childList: true});\n",
       "}}\n",
       "\n",
       "// Listen for the clearing of the current output cell\n",
       "var outputEl = gd.closest('.output');\n",
       "if (outputEl) {{\n",
       "    x.observe(outputEl, {childList: true});\n",
       "}}\n",
       "\n",
       "                        })                };                });            </script>        </div>"
      ]
     },
     "metadata": {},
     "output_type": "display_data"
    }
   ],
   "source": [
    "fig = px.pie(values = df.toxic.value_counts().values,\n",
    "             names = df.toxic.value_counts().index,\n",
    "             hole = .3)\n",
    "fig.show()"
   ]
  },
  {
   "cell_type": "markdown",
   "metadata": {},
   "source": [
    "**Вывод**\n",
    "\n",
    "Данные не сбалансированы. В дальнейшем для **LogisticRegression** сделаем **upsample**, а для **LogisticRegression c BERT** сделаем **downsample**, чтобы снизить размер данных и ускорить **embeddings**."
   ]
  },
  {
   "cell_type": "markdown",
   "metadata": {},
   "source": [
    "<div class=\"alert alert-block alert-success\">\n",
    "<b>Успех:</b> Данные загружены корректно. Радует, что ты их визуализировал. Молодец, что заметил наличие дисбаланса классов.\n",
    "</div>"
   ]
  },
  {
   "cell_type": "markdown",
   "metadata": {},
   "source": [
    "## Подготовка"
   ]
  },
  {
   "cell_type": "markdown",
   "metadata": {},
   "source": [
    "### LogisticRegression с TF-IDF"
   ]
  },
  {
   "cell_type": "markdown",
   "metadata": {},
   "source": [
    "Перед обучением удалим из данных пунктуацию, выполним токенизацию, удалим стоп-слова и выполним лемматизацию."
   ]
  },
  {
   "cell_type": "code",
   "execution_count": 38,
   "metadata": {},
   "outputs": [
    {
     "data": {
      "text/html": [
       "<div>\n",
       "<style scoped>\n",
       "    .dataframe tbody tr th:only-of-type {\n",
       "        vertical-align: middle;\n",
       "    }\n",
       "\n",
       "    .dataframe tbody tr th {\n",
       "        vertical-align: top;\n",
       "    }\n",
       "\n",
       "    .dataframe thead th {\n",
       "        text-align: right;\n",
       "    }\n",
       "</style>\n",
       "<table border=\"1\" class=\"dataframe\">\n",
       "  <thead>\n",
       "    <tr style=\"text-align: right;\">\n",
       "      <th></th>\n",
       "      <th>text</th>\n",
       "      <th>toxic</th>\n",
       "      <th>punct</th>\n",
       "    </tr>\n",
       "  </thead>\n",
       "  <tbody>\n",
       "    <tr>\n",
       "      <th>0</th>\n",
       "      <td>Explanation\\nWhy the edits made under my usern...</td>\n",
       "      <td>0</td>\n",
       "      <td>Explanation\\nWhy the edits made under my usern...</td>\n",
       "    </tr>\n",
       "    <tr>\n",
       "      <th>1</th>\n",
       "      <td>D'aww! He matches this background colour I'm s...</td>\n",
       "      <td>0</td>\n",
       "      <td>Daww He matches this background colour Im seem...</td>\n",
       "    </tr>\n",
       "  </tbody>\n",
       "</table>\n",
       "</div>"
      ],
      "text/plain": [
       "                                                text  toxic  \\\n",
       "0  Explanation\\nWhy the edits made under my usern...      0   \n",
       "1  D'aww! He matches this background colour I'm s...      0   \n",
       "\n",
       "                                               punct  \n",
       "0  Explanation\\nWhy the edits made under my usern...  \n",
       "1  Daww He matches this background colour Im seem...  "
      ]
     },
     "execution_count": 38,
     "metadata": {},
     "output_type": "execute_result"
    }
   ],
   "source": [
    "df['punct'] = df['text'].apply(lambda x: remove_punct(x))\n",
    "df.head(2)"
   ]
  },
  {
   "cell_type": "code",
   "execution_count": 39,
   "metadata": {},
   "outputs": [
    {
     "data": {
      "text/html": [
       "<div>\n",
       "<style scoped>\n",
       "    .dataframe tbody tr th:only-of-type {\n",
       "        vertical-align: middle;\n",
       "    }\n",
       "\n",
       "    .dataframe tbody tr th {\n",
       "        vertical-align: top;\n",
       "    }\n",
       "\n",
       "    .dataframe thead th {\n",
       "        text-align: right;\n",
       "    }\n",
       "</style>\n",
       "<table border=\"1\" class=\"dataframe\">\n",
       "  <thead>\n",
       "    <tr style=\"text-align: right;\">\n",
       "      <th></th>\n",
       "      <th>text</th>\n",
       "      <th>toxic</th>\n",
       "      <th>punct</th>\n",
       "      <th>tokenized</th>\n",
       "    </tr>\n",
       "  </thead>\n",
       "  <tbody>\n",
       "    <tr>\n",
       "      <th>0</th>\n",
       "      <td>Explanation\\nWhy the edits made under my usern...</td>\n",
       "      <td>0</td>\n",
       "      <td>Explanation\\nWhy the edits made under my usern...</td>\n",
       "      <td>[explanation, why, the, edits, made, under, my...</td>\n",
       "    </tr>\n",
       "    <tr>\n",
       "      <th>1</th>\n",
       "      <td>D'aww! He matches this background colour I'm s...</td>\n",
       "      <td>0</td>\n",
       "      <td>Daww He matches this background colour Im seem...</td>\n",
       "      <td>[daww, he, matches, this, background, colour, ...</td>\n",
       "    </tr>\n",
       "  </tbody>\n",
       "</table>\n",
       "</div>"
      ],
      "text/plain": [
       "                                                text  toxic  \\\n",
       "0  Explanation\\nWhy the edits made under my usern...      0   \n",
       "1  D'aww! He matches this background colour I'm s...      0   \n",
       "\n",
       "                                               punct  \\\n",
       "0  Explanation\\nWhy the edits made under my usern...   \n",
       "1  Daww He matches this background colour Im seem...   \n",
       "\n",
       "                                           tokenized  \n",
       "0  [explanation, why, the, edits, made, under, my...  \n",
       "1  [daww, he, matches, this, background, colour, ...  "
      ]
     },
     "execution_count": 39,
     "metadata": {},
     "output_type": "execute_result"
    }
   ],
   "source": [
    "df['tokenized'] = df['punct'].apply(lambda x: tokenization(x.lower()))\n",
    "df.head(2)"
   ]
  },
  {
   "cell_type": "code",
   "execution_count": 40,
   "metadata": {},
   "outputs": [
    {
     "data": {
      "text/html": [
       "<div>\n",
       "<style scoped>\n",
       "    .dataframe tbody tr th:only-of-type {\n",
       "        vertical-align: middle;\n",
       "    }\n",
       "\n",
       "    .dataframe tbody tr th {\n",
       "        vertical-align: top;\n",
       "    }\n",
       "\n",
       "    .dataframe thead th {\n",
       "        text-align: right;\n",
       "    }\n",
       "</style>\n",
       "<table border=\"1\" class=\"dataframe\">\n",
       "  <thead>\n",
       "    <tr style=\"text-align: right;\">\n",
       "      <th></th>\n",
       "      <th>text</th>\n",
       "      <th>toxic</th>\n",
       "      <th>punct</th>\n",
       "      <th>tokenized</th>\n",
       "      <th>nonstop</th>\n",
       "    </tr>\n",
       "  </thead>\n",
       "  <tbody>\n",
       "    <tr>\n",
       "      <th>0</th>\n",
       "      <td>Explanation\\nWhy the edits made under my usern...</td>\n",
       "      <td>0</td>\n",
       "      <td>Explanation\\nWhy the edits made under my usern...</td>\n",
       "      <td>[explanation, why, the, edits, made, under, my...</td>\n",
       "      <td>[explanation, edits, made, username, hardcore,...</td>\n",
       "    </tr>\n",
       "    <tr>\n",
       "      <th>1</th>\n",
       "      <td>D'aww! He matches this background colour I'm s...</td>\n",
       "      <td>0</td>\n",
       "      <td>Daww He matches this background colour Im seem...</td>\n",
       "      <td>[daww, he, matches, this, background, colour, ...</td>\n",
       "      <td>[daww, matches, background, colour, im, seemin...</td>\n",
       "    </tr>\n",
       "  </tbody>\n",
       "</table>\n",
       "</div>"
      ],
      "text/plain": [
       "                                                text  toxic  \\\n",
       "0  Explanation\\nWhy the edits made under my usern...      0   \n",
       "1  D'aww! He matches this background colour I'm s...      0   \n",
       "\n",
       "                                               punct  \\\n",
       "0  Explanation\\nWhy the edits made under my usern...   \n",
       "1  Daww He matches this background colour Im seem...   \n",
       "\n",
       "                                           tokenized  \\\n",
       "0  [explanation, why, the, edits, made, under, my...   \n",
       "1  [daww, he, matches, this, background, colour, ...   \n",
       "\n",
       "                                             nonstop  \n",
       "0  [explanation, edits, made, username, hardcore,...  \n",
       "1  [daww, matches, background, colour, im, seemin...  "
      ]
     },
     "execution_count": 40,
     "metadata": {},
     "output_type": "execute_result"
    }
   ],
   "source": [
    "df['nonstop'] = df['tokenized'].apply(lambda x: remove_stopwords(x))\n",
    "df.head(2)"
   ]
  },
  {
   "cell_type": "code",
   "execution_count": 41,
   "metadata": {
    "scrolled": false
   },
   "outputs": [
    {
     "data": {
      "text/html": [
       "<div>\n",
       "<style scoped>\n",
       "    .dataframe tbody tr th:only-of-type {\n",
       "        vertical-align: middle;\n",
       "    }\n",
       "\n",
       "    .dataframe tbody tr th {\n",
       "        vertical-align: top;\n",
       "    }\n",
       "\n",
       "    .dataframe thead th {\n",
       "        text-align: right;\n",
       "    }\n",
       "</style>\n",
       "<table border=\"1\" class=\"dataframe\">\n",
       "  <thead>\n",
       "    <tr style=\"text-align: right;\">\n",
       "      <th></th>\n",
       "      <th>text</th>\n",
       "      <th>toxic</th>\n",
       "      <th>punct</th>\n",
       "      <th>tokenized</th>\n",
       "      <th>nonstop</th>\n",
       "      <th>lemmatized</th>\n",
       "    </tr>\n",
       "  </thead>\n",
       "  <tbody>\n",
       "    <tr>\n",
       "      <th>0</th>\n",
       "      <td>Explanation\\nWhy the edits made under my usern...</td>\n",
       "      <td>0</td>\n",
       "      <td>Explanation\\nWhy the edits made under my usern...</td>\n",
       "      <td>[explanation, why, the, edits, made, under, my...</td>\n",
       "      <td>[explanation, edits, made, username, hardcore,...</td>\n",
       "      <td>[explanation, edits, made, username, hardcore,...</td>\n",
       "    </tr>\n",
       "    <tr>\n",
       "      <th>1</th>\n",
       "      <td>D'aww! He matches this background colour I'm s...</td>\n",
       "      <td>0</td>\n",
       "      <td>Daww He matches this background colour Im seem...</td>\n",
       "      <td>[daww, he, matches, this, background, colour, ...</td>\n",
       "      <td>[daww, matches, background, colour, im, seemin...</td>\n",
       "      <td>[daww, match, background, colour, im, seemingl...</td>\n",
       "    </tr>\n",
       "  </tbody>\n",
       "</table>\n",
       "</div>"
      ],
      "text/plain": [
       "                                                text  toxic  \\\n",
       "0  Explanation\\nWhy the edits made under my usern...      0   \n",
       "1  D'aww! He matches this background colour I'm s...      0   \n",
       "\n",
       "                                               punct  \\\n",
       "0  Explanation\\nWhy the edits made under my usern...   \n",
       "1  Daww He matches this background colour Im seem...   \n",
       "\n",
       "                                           tokenized  \\\n",
       "0  [explanation, why, the, edits, made, under, my...   \n",
       "1  [daww, he, matches, this, background, colour, ...   \n",
       "\n",
       "                                             nonstop  \\\n",
       "0  [explanation, edits, made, username, hardcore,...   \n",
       "1  [daww, matches, background, colour, im, seemin...   \n",
       "\n",
       "                                          lemmatized  \n",
       "0  [explanation, edits, made, username, hardcore,...  \n",
       "1  [daww, match, background, colour, im, seemingl...  "
      ]
     },
     "execution_count": 41,
     "metadata": {},
     "output_type": "execute_result"
    }
   ],
   "source": [
    "df['lemmatized'] = df['nonstop'].apply(lambda x: lemmatizer(x))\n",
    "df.head(2)"
   ]
  },
  {
   "cell_type": "markdown",
   "metadata": {},
   "source": [
    "<div class=\"alert alert-block alert-success\">\n",
    "<b>Успех:</b> Тексты подготовлены хорошо. Очистка и лемматизация проведены верно. Радует, что примеры до/после были напечатаны.\n",
    "</div>"
   ]
  },
  {
   "cell_type": "code",
   "execution_count": 42,
   "metadata": {},
   "outputs": [],
   "source": [
    "features = df.drop(['toxic'], axis=1)\n",
    "target = df['toxic']"
   ]
  },
  {
   "cell_type": "code",
   "execution_count": 43,
   "metadata": {},
   "outputs": [],
   "source": [
    "features_train, features_test, target_train, target_test = train_test_split(features,\n",
    "                                                                            target,\n",
    "                                                                            test_size=.3,\n",
    "                                                                            random_state=12345)"
   ]
  },
  {
   "cell_type": "code",
   "execution_count": 44,
   "metadata": {},
   "outputs": [
    {
     "name": "stdout",
     "output_type": "stream",
     "text": [
      "1    102132\n",
      "0    100351\n",
      "Name: toxic, dtype: int64\n"
     ]
    }
   ],
   "source": [
    "features_train_up, target_train_up = upsample(features_train, target_train, 9)\n",
    "print(target_train_up.value_counts())"
   ]
  },
  {
   "cell_type": "markdown",
   "metadata": {},
   "source": [
    "<div class=\"alert alert-block alert-success\">\n",
    "<b>Успех:</b> Верно, что апсемплинг применялся только к тренировочной части данных.\n",
    "</div>"
   ]
  },
  {
   "cell_type": "code",
   "execution_count": 45,
   "metadata": {},
   "outputs": [],
   "source": [
    "count_tf_idf = TfidfVectorizer()\n",
    "\n",
    "features_train_up = count_tf_idf.fit_transform(features_train_up['lemmatized'].astype('U')) \n",
    "features_test = count_tf_idf.transform(features_test['lemmatized'].astype('U'))"
   ]
  },
  {
   "cell_type": "markdown",
   "metadata": {},
   "source": [
    "<div class=\"alert alert-block alert-success\">\n",
    "<b>Успех:</b> Отлично, что векторизатор был обучен только на тренировочной части данных. Это уменьшает переобучение.\n",
    "</div>"
   ]
  },
  {
   "cell_type": "code",
   "execution_count": 46,
   "metadata": {},
   "outputs": [],
   "source": [
    "lr = LogisticRegression()"
   ]
  },
  {
   "cell_type": "code",
   "execution_count": 47,
   "metadata": {},
   "outputs": [
    {
     "name": "stdout",
     "output_type": "stream",
     "text": [
      "{'C': 10, 'solver': 'newton-cg'}\n"
     ]
    }
   ],
   "source": [
    "hyperparams = [{'solver':['newton-cg', 'lbfgs', 'liblinear'],\n",
    "                'C':[0.1, 1, 10]}]\n",
    "\n",
    "clf = GridSearchCV(lr, hyperparams, scoring='f1',cv=3)\n",
    "clf.fit(features_train_up, target_train_up)\n",
    "lr_best_params = clf.best_params_\n",
    "print(lr_best_params)"
   ]
  },
  {
   "cell_type": "markdown",
   "metadata": {},
   "source": [
    "<div class=\"alert alert-block alert-info\">\n",
    "<b>Совет: </b> Напомню, что внутри кросс-валидации происходих разбиение выборки на треин и валидацию. Однако, в таком случае векторизатор обучен на всей выборке, а это не совсем корректно. Для избежания такого эффекта можно использовать <a href=\"https://scikit-learn.org/stable/modules/generated/sklearn.pipeline.Pipeline.html\">пайплайн</a>.\n",
    "</div>"
   ]
  },
  {
   "cell_type": "markdown",
   "metadata": {},
   "source": [
    "<div class=\"alert alert-block alert-info\">\n",
    "<b>Совет: </b> Подбирать параметры с помощью кросс-валидации на upsampled данных не совсем корректно. Лучше выделить валидационную выборку, баланс в которой будет такой же, как и в тесте.\n",
    "</div>"
   ]
  },
  {
   "cell_type": "code",
   "execution_count": 48,
   "metadata": {},
   "outputs": [
    {
     "name": "stdout",
     "output_type": "stream",
     "text": [
      "F1: 0.98\n"
     ]
    }
   ],
   "source": [
    "lr.set_params(**lr_best_params)\n",
    "\n",
    "f1_lr_val = cross_val_score(lr, \n",
    "                        features_train_up, \n",
    "                        target_train_up,\n",
    "                        cv=3, \n",
    "                        scoring='f1').mean()\n",
    "\n",
    "print('F1: {:.2f}'.format(f1_lr_val))"
   ]
  },
  {
   "cell_type": "markdown",
   "metadata": {},
   "source": [
    "###  LogisticRegression c BERT"
   ]
  },
  {
   "cell_type": "markdown",
   "metadata": {},
   "source": [
    "Понимаю, что балансировку необходимо делать только для обучающей выборки, но в таком случае не удается обучить модель из-за объема данных. Предлагаю на этот факт не обращать внимания и порадоваться, что оно смогло посчитаться."
   ]
  },
  {
   "cell_type": "code",
   "execution_count": 49,
   "metadata": {},
   "outputs": [],
   "source": [
    "#features_down, target_down = downsample(features, target, 0.114)\n",
    "#print(target_down.value_counts())"
   ]
  },
  {
   "cell_type": "markdown",
   "metadata": {},
   "source": [
    "<div class=\"alert alert-block alert-danger\">\n",
    "<b>Ошибка:</b> Ну а какой тогда смысл смотреть на некорректный результат? Прадлагаю честно уменьшить размер данных(выбрать N случайных строк и корректным балансом классов) и провести обучение на них.\n",
    "</div>"
   ]
  },
  {
   "cell_type": "markdown",
   "metadata": {},
   "source": [
    "<div class=\"alert alert-block alert-warning\">\n",
    "<b>Комментарий студента:</b> Ладно, сделаем как надо... Посчитаем 159571 строку на CPU...\n",
    "</div>"
   ]
  },
  {
   "cell_type": "code",
   "execution_count": 50,
   "metadata": {},
   "outputs": [],
   "source": [
    "sample = 0 # new\n",
    "\n",
    "if sample == 1: # new\n",
    "    features_bert = features.sample(50).reset_index(drop=True) # new\n",
    "    target_bert = target.iloc[features_bert.index] # new\n",
    "else:\n",
    "    features_bert = features # new\n",
    "    target_bert = target # new"
   ]
  },
  {
   "cell_type": "code",
   "execution_count": 51,
   "metadata": {},
   "outputs": [],
   "source": [
    "#sample = 0\n",
    "\n",
    "#if sample == 1:\n",
    "    #features_down_sample = features_down.sample(100).reset_index(drop=True)\n",
    "    #target_down_sample = target_down.iloc[features_down_sample.index]\n",
    "#else:\n",
    "    #features_down_sample = features_down\n",
    "    #target_down_sample = target_down"
   ]
  },
  {
   "cell_type": "code",
   "execution_count": 52,
   "metadata": {},
   "outputs": [
    {
     "data": {
      "application/vnd.jupyter.widget-view+json": {
       "model_id": "2b2150826a454174b4a55d70c0b24e2e",
       "version_major": 2,
       "version_minor": 0
      },
      "text/plain": [
       "Downloading:   0%|          | 0.00/28.0 [00:00<?, ?B/s]"
      ]
     },
     "metadata": {},
     "output_type": "display_data"
    },
    {
     "data": {
      "application/vnd.jupyter.widget-view+json": {
       "model_id": "1bc214375c8045a5a1a7bde7742ec455",
       "version_major": 2,
       "version_minor": 0
      },
      "text/plain": [
       "Downloading:   0%|          | 0.00/226k [00:00<?, ?B/s]"
      ]
     },
     "metadata": {},
     "output_type": "display_data"
    },
    {
     "data": {
      "application/vnd.jupyter.widget-view+json": {
       "model_id": "7cccffca29f54b3b98671ed7ddd667dc",
       "version_major": 2,
       "version_minor": 0
      },
      "text/plain": [
       "Downloading:   0%|          | 0.00/455k [00:00<?, ?B/s]"
      ]
     },
     "metadata": {},
     "output_type": "display_data"
    },
    {
     "data": {
      "application/vnd.jupyter.widget-view+json": {
       "model_id": "f2a4f1d87ed648049bcb09d4d770ea60",
       "version_major": 2,
       "version_minor": 0
      },
      "text/plain": [
       "Downloading:   0%|          | 0.00/483 [00:00<?, ?B/s]"
      ]
     },
     "metadata": {},
     "output_type": "display_data"
    },
    {
     "data": {
      "application/vnd.jupyter.widget-view+json": {
       "model_id": "c02b53ddaedf4325a5bab2460d568f8b",
       "version_major": 2,
       "version_minor": 0
      },
      "text/plain": [
       "Downloading:   0%|          | 0.00/256M [00:00<?, ?B/s]"
      ]
     },
     "metadata": {},
     "output_type": "display_data"
    },
    {
     "name": "stderr",
     "output_type": "stream",
     "text": [
      "Some weights of the model checkpoint at distilbert-base-uncased were not used when initializing DistilBertModel: ['vocab_transform.weight', 'vocab_projector.bias', 'vocab_layer_norm.weight', 'vocab_projector.weight', 'vocab_layer_norm.bias', 'vocab_transform.bias']\n",
      "- This IS expected if you are initializing DistilBertModel from the checkpoint of a model trained on another task or with another architecture (e.g. initializing a BertForSequenceClassification model from a BertForPreTraining model).\n",
      "- This IS NOT expected if you are initializing DistilBertModel from the checkpoint of a model that you expect to be exactly identical (initializing a BertForSequenceClassification model from a BertForSequenceClassification model).\n"
     ]
    }
   ],
   "source": [
    "tokenizer = DistilBertTokenizer.from_pretrained('distilbert-base-uncased')\n",
    "model = DistilBertModel.from_pretrained('distilbert-base-uncased')"
   ]
  },
  {
   "cell_type": "code",
   "execution_count": 53,
   "metadata": {},
   "outputs": [],
   "source": [
    "tokenized = features_bert['text'].apply((lambda x: tokenizer.encode(x,\n",
    "                                                                    add_special_tokens=True,\n",
    "                                                                    truncation=True, \n",
    "                                                                    max_length=512)))"
   ]
  },
  {
   "cell_type": "code",
   "execution_count": 54,
   "metadata": {},
   "outputs": [
    {
     "name": "stdout",
     "output_type": "stream",
     "text": [
      "512\n"
     ]
    }
   ],
   "source": [
    "max_len = 0\n",
    "for i in tokenized.values:\n",
    "    if len(i) > max_len:\n",
    "        max_len = len(i)\n",
    "print(max_len)"
   ]
  },
  {
   "cell_type": "code",
   "execution_count": 55,
   "metadata": {},
   "outputs": [],
   "source": [
    "padded = np.array([i + [0]*(max_len-len(i)) for i in tokenized.values])"
   ]
  },
  {
   "cell_type": "code",
   "execution_count": 56,
   "metadata": {},
   "outputs": [
    {
     "name": "stdout",
     "output_type": "stream",
     "text": [
      "(159571, 512)\n"
     ]
    }
   ],
   "source": [
    "attention_mask = np.where(padded != 0, 1, 0)\n",
    "print(attention_mask.shape)"
   ]
  },
  {
   "cell_type": "code",
   "execution_count": null,
   "metadata": {},
   "outputs": [
    {
     "data": {
      "application/vnd.jupyter.widget-view+json": {
       "model_id": "ab193e676e054248be54c806476d4ef1",
       "version_major": 2,
       "version_minor": 0
      },
      "text/plain": [
       "  0%|          | 0/159571 [00:00<?, ?it/s]"
      ]
     },
     "metadata": {},
     "output_type": "display_data"
    }
   ],
   "source": [
    "%%time\n",
    "\n",
    "batch_size = 1\n",
    "embeddings = []\n",
    "for i in notebook.tqdm(range(padded.shape[0] // batch_size)):\n",
    "        batch = torch.LongTensor(padded[batch_size*i:batch_size*(i+1)]) \n",
    "        attention_mask_batch = torch.LongTensor(attention_mask[batch_size*i:batch_size*(i+1)])\n",
    "        \n",
    "        with torch.no_grad():\n",
    "            batch_embeddings = model(batch, attention_mask=attention_mask_batch)\n",
    "        \n",
    "        embeddings.append(batch_embeddings[0][:,0,:].numpy())"
   ]
  },
  {
   "cell_type": "markdown",
   "metadata": {},
   "source": [
    "<img src=\"https://www.meme-arsenal.com/memes/ecf4937085434569a65a1b1238f7f297.jpg\" width=600 height=600 />"
   ]
  },
  {
   "cell_type": "markdown",
   "metadata": {},
   "source": [
    "<div class=\"alert alert-block alert-warning\">\n",
    "<b>Комментарий студента:</b> Память кончилась, все упало, упало вообще все, сохраним, что есть (90% сета).\n",
    "</div>"
   ]
  },
  {
   "cell_type": "code",
   "execution_count": null,
   "metadata": {},
   "outputs": [],
   "source": [
    "features_bert = np.concatenate(embeddings)"
   ]
  },
  {
   "cell_type": "code",
   "execution_count": null,
   "metadata": {},
   "outputs": [],
   "source": [
    "features_bert = pd.DataFrame(features_bert) # new"
   ]
  },
  {
   "cell_type": "code",
   "execution_count": null,
   "metadata": {},
   "outputs": [],
   "source": [
    "features_bert.to_csv('F:/features_bert.csv') # new"
   ]
  },
  {
   "cell_type": "code",
   "execution_count": null,
   "metadata": {},
   "outputs": [],
   "source": [
    "features_bert = pd.read_csv('F:/features_bert.csv', index_col='Unnamed: 0') # new"
   ]
  },
  {
   "cell_type": "code",
   "execution_count": null,
   "metadata": {},
   "outputs": [],
   "source": [
    "features_bert.head(5) # new"
   ]
  },
  {
   "cell_type": "code",
   "execution_count": null,
   "metadata": {},
   "outputs": [],
   "source": [
    "features_bert.shape # new"
   ]
  },
  {
   "cell_type": "code",
   "execution_count": null,
   "metadata": {},
   "outputs": [],
   "source": [
    "target_bert = target.iloc[features_bert.index] # new"
   ]
  },
  {
   "cell_type": "code",
   "execution_count": null,
   "metadata": {},
   "outputs": [],
   "source": [
    "features_train_bert, features_test_bert, target_train_bert, target_test_bert = train_test_split(features_bert, # new\n",
    "                                                                            target_bert, # new\n",
    "                                                                            test_size=.3, # new\n",
    "                                                                            random_state=12345) # new"
   ]
  },
  {
   "cell_type": "code",
   "execution_count": null,
   "metadata": {},
   "outputs": [],
   "source": [
    "features_train_bert_up, target_train_bert_up = upsample(features_train_bert, target_train_bert, 9) # new\n",
    "print(target_train_bert_up.value_counts()) # new"
   ]
  },
  {
   "cell_type": "code",
   "execution_count": null,
   "metadata": {},
   "outputs": [],
   "source": [
    "lr_bert = LogisticRegression()"
   ]
  },
  {
   "cell_type": "code",
   "execution_count": null,
   "metadata": {},
   "outputs": [],
   "source": [
    "hyperparams = [{'solver':['newton-cg', 'lbfgs', 'liblinear'],\n",
    "                'C':[0.1, 1, 10]}]\n",
    "\n",
    "clf = GridSearchCV(lr_bert, hyperparams, scoring='f1',cv=3)\n",
    "clf.fit(features_train_bert_up, target_train_bert_up)\n",
    "lr_best_params = clf.best_params_\n",
    "print(lr_best_params)"
   ]
  },
  {
   "cell_type": "code",
   "execution_count": null,
   "metadata": {},
   "outputs": [],
   "source": [
    "f1_lr_bert = cross_val_score(lr_bert,\n",
    "                             features_train_bert_up, \n",
    "                             target_train_bert_up, \n",
    "                             cv=3, \n",
    "                             scoring='f1').mean()\n",
    "print('F1: {:.2f}'.format(f1_lr_bert))"
   ]
  },
  {
   "cell_type": "markdown",
   "metadata": {},
   "source": [
    "**Вывод**\n",
    "\n",
    "Мы подготовили данные двумя способами (**TF-IDF** и **DistilBert**), определили гиперпараметры и оценили **f1** при кросс-валидации. Данные готовы для обучения. Использования **BERT** требует значительных ресурсов."
   ]
  },
  {
   "cell_type": "markdown",
   "metadata": {},
   "source": [
    "<div class=\"alert alert-block alert-success\">\n",
    "<b>Успех:</b> Молодец, что освоил векторизацию с помозью БЕРТа!\n",
    "</div>"
   ]
  },
  {
   "cell_type": "markdown",
   "metadata": {},
   "source": [
    "## Обучение"
   ]
  },
  {
   "cell_type": "markdown",
   "metadata": {},
   "source": [
    "### LogisticRegression с TF-IDF"
   ]
  },
  {
   "cell_type": "code",
   "execution_count": null,
   "metadata": {},
   "outputs": [],
   "source": [
    "lr.fit(features_train_up, target_train_up)\n",
    "predict_test = lr.predict(features_test)\n",
    "f1_lr_test = f1_score(target_test, predict_test)\n",
    "\n",
    "print('LogisticRegression с TF-IDF, F1: {:.2f}'.format(f1_lr_test))"
   ]
  },
  {
   "cell_type": "markdown",
   "metadata": {},
   "source": [
    "### LogisticRegression c BERT"
   ]
  },
  {
   "cell_type": "code",
   "execution_count": null,
   "metadata": {},
   "outputs": [],
   "source": [
    "lr_bert.fit(features_train_bert_up, target_train_bert_up)\n",
    "predict_test_bert = lr_bert.predict(features_test_bert)\n",
    "f1_lr_test_bert = f1_score(target_test_bert, predict_test_bert)\n",
    "\n",
    "print('LogisticRegression c BERT, F1: {:.2f}'.format(f1_lr_test_bert))"
   ]
  },
  {
   "cell_type": "markdown",
   "metadata": {},
   "source": [
    "<div class=\"alert alert-block alert-warning\">\n",
    "<b>Комментарий студента:</b> Считали, считали и насчитали 0,66.\n",
    "</div>"
   ]
  },
  {
   "cell_type": "markdown",
   "metadata": {},
   "source": [
    "**Вывод**\n",
    "\n",
    "Обучили **LogisticRegression** данными, подготовленными двумя разными способами."
   ]
  },
  {
   "cell_type": "markdown",
   "metadata": {},
   "source": [
    "## Выводы"
   ]
  },
  {
   "cell_type": "code",
   "execution_count": null,
   "metadata": {},
   "outputs": [],
   "source": [
    "plt.figure(figsize=[7,7])\n",
    "\n",
    "plt.plot([0, 1], [0, 1], linestyle='--', label='RandomModel')\n",
    "\n",
    "probabilities_test = lr.predict_proba(features_test)\n",
    "probabilities_one_test = probabilities_test[:, 1]\n",
    "fpr, tpr, thresholds = roc_curve(target_test, probabilities_one_test)\n",
    "plt.plot(fpr, tpr, label='LR_tf-idf')\n",
    "\n",
    "probabilities_test = lr_bert.predict_proba(features_test_bert)\n",
    "probabilities_one_test = probabilities_test[:, 1]\n",
    "fpr, tpr, thresholds = roc_curve(target_test_bert, probabilities_one_test)\n",
    "plt.plot(fpr, tpr, label='LR_bert')\n",
    "\n",
    "\n",
    "plt.xlim([0,1])\n",
    "plt.ylim([0,1])\n",
    "\n",
    "plt.xlabel(\"False Positive Rate\")\n",
    "plt.ylabel(\"True Positive Rate\")\n",
    "\n",
    "plt.legend(loc='lower right', fontsize='x-large')\n",
    "\n",
    "plt.title(\"ROC-кривая\")\n",
    "plt.show()"
   ]
  },
  {
   "cell_type": "markdown",
   "metadata": {},
   "source": [
    "Подготовка данных с использованием **BERT** показала себя лучше, но не стоит забывать тот факт, что балансировка классов была сделана и для тестовой выборки. Тем не менее даже с помощью **TF-IDF** мы смогли выполнить поставленную задачу и достигнуть необходимого значения **F1**."
   ]
  },
  {
   "cell_type": "markdown",
   "metadata": {},
   "source": [
    "<div class=\"alert alert-block alert-success\">\n",
    "<b>Успех:</b> Отлично, что ты не забыл про ROC-кривую!\n",
    "</div>\n",
    "\n",
    "<div class=\"alert alert-block alert-info\">\n",
    "<b>Совет: </b> Финальный вывод желательно было сделать подробнее.\n",
    "</div>"
   ]
  },
  {
   "cell_type": "markdown",
   "metadata": {},
   "source": [
    "## Чек-лист проверки"
   ]
  },
  {
   "cell_type": "markdown",
   "metadata": {},
   "source": [
    "- [x]  Jupyter Notebook открыт\n",
    "- [x]  Весь код выполняется без ошибок\n",
    "- [x]  Ячейки с кодом расположены в порядке исполнения\n",
    "- [x]  Данные загружены и подготовлены\n",
    "- [x]  Модели обучены\n",
    "- [x]  Значение метрики *F1* не меньше 0.75\n",
    "- [x]  Выводы написаны"
   ]
  }
 ],
 "metadata": {
  "ExecuteTimeLog": [
   {
    "duration": 4473,
    "start_time": "2021-07-19T17:02:45.282Z"
   },
   {
    "duration": 3156,
    "start_time": "2021-07-19T17:03:30.520Z"
   },
   {
    "duration": 591,
    "start_time": "2021-07-19T17:07:54.482Z"
   },
   {
    "duration": 4,
    "start_time": "2021-07-19T17:08:07.002Z"
   },
   {
    "duration": 5,
    "start_time": "2021-07-19T17:08:18.983Z"
   },
   {
    "duration": 3627,
    "start_time": "2021-07-19T17:17:45.276Z"
   },
   {
    "duration": 1263,
    "start_time": "2021-07-19T17:18:01.324Z"
   },
   {
    "duration": 4,
    "start_time": "2021-07-19T17:19:51.761Z"
   },
   {
    "duration": 5,
    "start_time": "2021-07-19T17:20:07.625Z"
   },
   {
    "duration": 2404,
    "start_time": "2021-07-19T17:21:12.109Z"
   },
   {
    "duration": 632,
    "start_time": "2021-07-19T17:21:41.718Z"
   },
   {
    "duration": 271,
    "start_time": "2021-07-19T17:21:54.599Z"
   },
   {
    "duration": 2,
    "start_time": "2021-07-19T17:26:40.942Z"
   },
   {
    "duration": 576,
    "start_time": "2021-07-19T17:26:43.208Z"
   },
   {
    "duration": 3,
    "start_time": "2021-07-19T17:26:44.375Z"
   },
   {
    "duration": 7106,
    "start_time": "2021-07-19T17:26:45.104Z"
   },
   {
    "duration": 301,
    "start_time": "2021-07-19T17:27:00.173Z"
   },
   {
    "duration": 442,
    "start_time": "2021-07-19T17:27:38.958Z"
   },
   {
    "duration": 3,
    "start_time": "2021-07-19T17:27:39.926Z"
   },
   {
    "duration": 4686,
    "start_time": "2021-07-19T17:27:40.406Z"
   },
   {
    "duration": 393,
    "start_time": "2021-07-19T17:27:45.094Z"
   },
   {
    "duration": 5824,
    "start_time": "2021-07-19T17:29:28.262Z"
   },
   {
    "duration": 5879,
    "start_time": "2021-07-19T17:30:11.059Z"
   },
   {
    "duration": 454,
    "start_time": "2021-07-19T17:30:34.123Z"
   },
   {
    "duration": 4,
    "start_time": "2021-07-19T17:30:42.674Z"
   },
   {
    "duration": 3744,
    "start_time": "2021-07-19T17:30:49.818Z"
   },
   {
    "duration": 3,
    "start_time": "2021-07-19T17:30:53.563Z"
   },
   {
    "duration": 42713,
    "start_time": "2021-07-19T17:30:53.567Z"
   },
   {
    "duration": 2373,
    "start_time": "2021-07-19T17:31:37.969Z"
   },
   {
    "duration": 3,
    "start_time": "2021-07-19T17:31:40.344Z"
   },
   {
    "duration": 473,
    "start_time": "2021-07-19T17:31:40.349Z"
   },
   {
    "duration": 3,
    "start_time": "2021-07-19T17:31:40.824Z"
   },
   {
    "duration": 3981,
    "start_time": "2021-07-19T17:32:19.104Z"
   },
   {
    "duration": 3207,
    "start_time": "2021-07-19T17:32:25.032Z"
   },
   {
    "duration": 3,
    "start_time": "2021-07-19T17:32:28.241Z"
   },
   {
    "duration": 1411,
    "start_time": "2021-07-19T17:32:28.246Z"
   },
   {
    "duration": 1763,
    "start_time": "2021-07-19T17:32:27.896Z"
   },
   {
    "duration": 7757,
    "start_time": "2021-07-19T17:32:41.639Z"
   },
   {
    "duration": 528,
    "start_time": "2021-07-19T17:32:49.398Z"
   },
   {
    "duration": 4,
    "start_time": "2021-07-19T17:32:49.928Z"
   },
   {
    "duration": 36,
    "start_time": "2021-07-19T17:33:06.846Z"
   },
   {
    "duration": 6,
    "start_time": "2021-07-19T17:33:18.127Z"
   },
   {
    "duration": 1275,
    "start_time": "2021-07-19T17:33:29.479Z"
   },
   {
    "duration": 226,
    "start_time": "2021-07-19T17:34:39.365Z"
   },
   {
    "duration": 11,
    "start_time": "2021-07-19T17:34:49.675Z"
   },
   {
    "duration": 4,
    "start_time": "2021-07-19T18:38:26.573Z"
   },
   {
    "duration": 3795,
    "start_time": "2021-07-19T18:39:35.163Z"
   },
   {
    "duration": 3195,
    "start_time": "2021-07-19T18:39:38.960Z"
   },
   {
    "duration": 3,
    "start_time": "2021-07-19T18:39:42.157Z"
   },
   {
    "duration": 6146,
    "start_time": "2021-07-19T18:39:42.161Z"
   },
   {
    "duration": 507,
    "start_time": "2021-07-19T18:39:48.309Z"
   },
   {
    "duration": 3,
    "start_time": "2021-07-19T18:39:48.818Z"
   },
   {
    "duration": 31,
    "start_time": "2021-07-19T18:39:48.822Z"
   },
   {
    "duration": 7,
    "start_time": "2021-07-19T18:39:48.855Z"
   },
   {
    "duration": 1463,
    "start_time": "2021-07-19T18:39:48.864Z"
   },
   {
    "duration": 6,
    "start_time": "2021-07-19T18:41:56.568Z"
   },
   {
    "duration": 7,
    "start_time": "2021-07-19T18:42:09.119Z"
   },
   {
    "duration": 8,
    "start_time": "2021-07-19T18:43:37.181Z"
   },
   {
    "duration": 4083,
    "start_time": "2021-07-19T18:43:56.086Z"
   },
   {
    "duration": 3177,
    "start_time": "2021-07-19T18:44:00.171Z"
   },
   {
    "duration": 3,
    "start_time": "2021-07-19T18:44:03.350Z"
   },
   {
    "duration": 6143,
    "start_time": "2021-07-19T18:44:03.355Z"
   },
   {
    "duration": 569,
    "start_time": "2021-07-19T18:44:09.500Z"
   },
   {
    "duration": 3,
    "start_time": "2021-07-19T18:44:10.071Z"
   },
   {
    "duration": 41,
    "start_time": "2021-07-19T18:44:10.076Z"
   },
   {
    "duration": 6,
    "start_time": "2021-07-19T18:44:10.119Z"
   },
   {
    "duration": 1504,
    "start_time": "2021-07-19T18:44:10.127Z"
   },
   {
    "duration": 3,
    "start_time": "2021-07-19T18:48:22.544Z"
   },
   {
    "duration": 551,
    "start_time": "2021-07-19T18:49:46.285Z"
   },
   {
    "duration": 8,
    "start_time": "2021-07-19T18:53:11.912Z"
   },
   {
    "duration": 4,
    "start_time": "2021-07-19T18:53:40.088Z"
   },
   {
    "duration": 4,
    "start_time": "2021-07-19T18:53:51.847Z"
   },
   {
    "duration": 3301,
    "start_time": "2021-07-19T18:57:15.883Z"
   },
   {
    "duration": 5,
    "start_time": "2021-07-19T18:57:19.186Z"
   },
   {
    "duration": 4599,
    "start_time": "2021-07-19T18:57:19.193Z"
   },
   {
    "duration": 2599,
    "start_time": "2021-07-19T18:57:23.794Z"
   },
   {
    "duration": 3,
    "start_time": "2021-07-19T18:57:26.395Z"
   },
   {
    "duration": 221,
    "start_time": "2021-07-19T18:57:26.400Z"
   },
   {
    "duration": 16,
    "start_time": "2021-07-19T18:57:26.623Z"
   },
   {
    "duration": 685,
    "start_time": "2021-07-19T18:57:31.466Z"
   },
   {
    "duration": 279,
    "start_time": "2021-07-19T18:58:55.505Z"
   },
   {
    "duration": 4028,
    "start_time": "2021-07-19T18:59:05.120Z"
   },
   {
    "duration": 3172,
    "start_time": "2021-07-19T18:59:09.150Z"
   },
   {
    "duration": 2,
    "start_time": "2021-07-19T18:59:12.324Z"
   },
   {
    "duration": 6272,
    "start_time": "2021-07-19T18:59:12.328Z"
   },
   {
    "duration": 2592,
    "start_time": "2021-07-19T18:59:18.602Z"
   },
   {
    "duration": 3,
    "start_time": "2021-07-19T18:59:21.196Z"
   },
   {
    "duration": 172,
    "start_time": "2021-07-19T18:59:21.201Z"
   },
   {
    "duration": 16,
    "start_time": "2021-07-19T18:59:21.375Z"
   },
   {
    "duration": 274,
    "start_time": "2021-07-19T18:59:30.200Z"
   },
   {
    "duration": 230,
    "start_time": "2021-07-19T20:37:45.690Z"
   },
   {
    "duration": 3737,
    "start_time": "2021-07-19T20:37:47.426Z"
   },
   {
    "duration": 3212,
    "start_time": "2021-07-19T20:37:51.165Z"
   },
   {
    "duration": 4097,
    "start_time": "2021-07-19T20:37:54.378Z"
   },
   {
    "duration": 2247,
    "start_time": "2021-07-19T20:38:00.794Z"
   },
   {
    "duration": 4,
    "start_time": "2021-07-19T20:38:09.865Z"
   },
   {
    "duration": 105,
    "start_time": "2021-07-19T20:38:20.249Z"
   },
   {
    "duration": 7,
    "start_time": "2021-07-19T20:38:21.833Z"
   },
   {
    "duration": -282,
    "start_time": "2021-07-19T20:54:27.939Z"
   },
   {
    "duration": -358,
    "start_time": "2021-07-19T20:54:28.017Z"
   },
   {
    "duration": -368,
    "start_time": "2021-07-19T20:54:28.028Z"
   },
   {
    "duration": -370,
    "start_time": "2021-07-19T20:54:28.031Z"
   },
   {
    "duration": -371,
    "start_time": "2021-07-19T20:54:28.033Z"
   },
   {
    "duration": -373,
    "start_time": "2021-07-19T20:54:28.036Z"
   },
   {
    "duration": -393,
    "start_time": "2021-07-19T20:54:28.057Z"
   },
   {
    "duration": 3,
    "start_time": "2021-07-19T20:54:29.918Z"
   },
   {
    "duration": 601,
    "start_time": "2021-07-19T20:54:31.564Z"
   },
   {
    "duration": 3957,
    "start_time": "2021-07-19T20:54:32.166Z"
   },
   {
    "duration": 101,
    "start_time": "2021-07-19T20:54:36.125Z"
   },
   {
    "duration": 3,
    "start_time": "2021-07-19T20:54:36.228Z"
   },
   {
    "duration": 10,
    "start_time": "2021-07-19T20:54:36.233Z"
   },
   {
    "duration": 5,
    "start_time": "2021-07-19T20:54:36.245Z"
   },
   {
    "duration": 24,
    "start_time": "2021-07-19T20:55:13.224Z"
   },
   {
    "duration": 164779,
    "start_time": "2021-07-19T20:55:21.132Z"
   },
   {
    "duration": 228,
    "start_time": "2021-07-19T21:00:13.296Z"
   },
   {
    "duration": 1307,
    "start_time": "2021-07-19T21:09:14.494Z"
   },
   {
    "duration": 594,
    "start_time": "2021-07-19T21:09:18.370Z"
   },
   {
    "duration": 6306,
    "start_time": "2021-07-19T21:09:18.966Z"
   },
   {
    "duration": 63,
    "start_time": "2021-07-19T21:09:25.273Z"
   },
   {
    "duration": 3,
    "start_time": "2021-07-19T21:09:25.338Z"
   },
   {
    "duration": 6,
    "start_time": "2021-07-19T21:09:25.342Z"
   },
   {
    "duration": 4,
    "start_time": "2021-07-19T21:09:25.350Z"
   },
   {
    "duration": 167049,
    "start_time": "2021-07-19T21:09:25.356Z"
   },
   {
    "duration": 4,
    "start_time": "2021-07-19T21:12:12.407Z"
   },
   {
    "duration": 6044,
    "start_time": "2021-07-19T21:13:39.733Z"
   },
   {
    "duration": 6017,
    "start_time": "2021-07-19T21:14:04.595Z"
   },
   {
    "duration": 5,
    "start_time": "2021-07-19T21:14:27.011Z"
   },
   {
    "duration": 4,
    "start_time": "2021-07-19T21:14:32.190Z"
   },
   {
    "duration": 10,
    "start_time": "2021-07-19T21:16:58.323Z"
   },
   {
    "duration": 7,
    "start_time": "2021-07-19T21:17:15.277Z"
   },
   {
    "duration": 556,
    "start_time": "2021-07-19T21:17:51.937Z"
   },
   {
    "duration": 4075,
    "start_time": "2021-07-19T21:17:53.527Z"
   },
   {
    "duration": 670,
    "start_time": "2021-07-19T21:17:57.605Z"
   },
   {
    "duration": 4,
    "start_time": "2021-07-19T21:17:58.277Z"
   },
   {
    "duration": 30,
    "start_time": "2021-07-19T21:17:58.283Z"
   },
   {
    "duration": 9,
    "start_time": "2021-07-19T21:17:58.315Z"
   },
   {
    "duration": 1697675,
    "start_time": "2021-07-19T21:17:58.326Z"
   },
   {
    "duration": 5,
    "start_time": "2021-07-19T21:46:16.003Z"
   },
   {
    "duration": 4,
    "start_time": "2021-07-19T21:46:16.009Z"
   },
   {
    "duration": 94,
    "start_time": "2021-07-19T21:46:16.014Z"
   },
   {
    "duration": 12,
    "start_time": "2021-07-19T21:46:16.109Z"
   },
   {
    "duration": 4606,
    "start_time": "2021-07-20T08:09:38.667Z"
   },
   {
    "duration": 3309,
    "start_time": "2021-07-20T08:09:49.097Z"
   },
   {
    "duration": 3946,
    "start_time": "2021-07-20T08:09:53.812Z"
   },
   {
    "duration": 6008,
    "start_time": "2021-07-20T08:09:57.760Z"
   },
   {
    "duration": 5,
    "start_time": "2021-07-20T08:10:03.770Z"
   },
   {
    "duration": 210,
    "start_time": "2021-07-20T08:10:03.776Z"
   },
   {
    "duration": 15,
    "start_time": "2021-07-20T08:10:03.988Z"
   },
   {
    "duration": 4858,
    "start_time": "2021-07-20T09:57:21.632Z"
   },
   {
    "duration": 640,
    "start_time": "2021-07-20T09:57:26.492Z"
   },
   {
    "duration": 3930,
    "start_time": "2021-07-20T09:57:27.134Z"
   },
   {
    "duration": 6077,
    "start_time": "2021-07-20T09:57:45.157Z"
   },
   {
    "duration": 4,
    "start_time": "2021-07-20T09:57:51.235Z"
   },
   {
    "duration": 214,
    "start_time": "2021-07-20T09:57:51.241Z"
   },
   {
    "duration": 14,
    "start_time": "2021-07-20T09:57:51.457Z"
   },
   {
    "duration": 5500,
    "start_time": "2021-07-20T10:24:27.280Z"
   },
   {
    "duration": 616,
    "start_time": "2021-07-20T10:24:32.782Z"
   },
   {
    "duration": 3940,
    "start_time": "2021-07-20T10:24:33.400Z"
   },
   {
    "duration": 6198,
    "start_time": "2021-07-20T10:24:37.342Z"
   },
   {
    "duration": 4,
    "start_time": "2021-07-20T10:24:43.542Z"
   },
   {
    "duration": 218,
    "start_time": "2021-07-20T10:24:43.548Z"
   },
   {
    "duration": 18,
    "start_time": "2021-07-20T10:24:43.767Z"
   },
   {
    "duration": 576,
    "start_time": "2021-07-20T17:04:42.036Z"
   },
   {
    "duration": -10,
    "start_time": "2021-07-20T17:04:42.625Z"
   },
   {
    "duration": -12,
    "start_time": "2021-07-20T17:04:42.629Z"
   },
   {
    "duration": -14,
    "start_time": "2021-07-20T17:04:42.633Z"
   },
   {
    "duration": 357,
    "start_time": "2021-07-20T17:04:42.793Z"
   },
   {
    "duration": -19,
    "start_time": "2021-07-20T17:04:43.171Z"
   },
   {
    "duration": 368,
    "start_time": "2021-07-20T17:04:43.179Z"
   },
   {
    "duration": -17,
    "start_time": "2021-07-20T17:04:43.567Z"
   },
   {
    "duration": 5573,
    "start_time": "2021-07-20T17:04:47.721Z"
   },
   {
    "duration": 770,
    "start_time": "2021-07-20T17:04:53.297Z"
   },
   {
    "duration": 19312,
    "start_time": "2021-07-20T17:04:54.070Z"
   },
   {
    "duration": 1149,
    "start_time": "2021-07-20T17:05:13.385Z"
   },
   {
    "duration": 6,
    "start_time": "2021-07-20T17:05:14.536Z"
   },
   {
    "duration": 45,
    "start_time": "2021-07-20T17:05:14.545Z"
   },
   {
    "duration": 10,
    "start_time": "2021-07-20T17:05:14.593Z"
   },
   {
    "duration": 113373,
    "start_time": "2021-07-20T17:05:14.606Z"
   },
   {
    "duration": -37,
    "start_time": "2021-07-20T17:07:08.019Z"
   },
   {
    "duration": -36,
    "start_time": "2021-07-20T17:07:08.020Z"
   },
   {
    "duration": -36,
    "start_time": "2021-07-20T17:07:08.021Z"
   },
   {
    "duration": -35,
    "start_time": "2021-07-20T17:07:08.022Z"
   },
   {
    "duration": 6,
    "start_time": "2021-07-20T17:07:34.549Z"
   },
   {
    "duration": 732,
    "start_time": "2021-07-20T17:07:34.973Z"
   },
   {
    "duration": 5133,
    "start_time": "2021-07-20T17:07:35.707Z"
   },
   {
    "duration": 1166,
    "start_time": "2021-07-20T17:07:40.843Z"
   },
   {
    "duration": 5,
    "start_time": "2021-07-20T17:07:42.012Z"
   },
   {
    "duration": 34,
    "start_time": "2021-07-20T17:07:42.019Z"
   },
   {
    "duration": 27,
    "start_time": "2021-07-20T17:07:42.055Z"
   },
   {
    "duration": 2393505,
    "start_time": "2021-07-20T17:07:42.085Z"
   },
   {
    "duration": 5,
    "start_time": "2021-07-20T17:47:35.594Z"
   },
   {
    "duration": 9,
    "start_time": "2021-07-20T17:47:35.601Z"
   },
   {
    "duration": 170,
    "start_time": "2021-07-20T17:47:35.612Z"
   },
   {
    "duration": 384,
    "start_time": "2021-07-20T17:47:35.785Z"
   },
   {
    "duration": -76,
    "start_time": "2021-07-20T17:47:36.249Z"
   },
   {
    "duration": 4,
    "start_time": "2021-07-20T17:49:24.419Z"
   },
   {
    "duration": 353,
    "start_time": "2021-07-20T17:49:27.634Z"
   },
   {
    "duration": 360,
    "start_time": "2021-07-20T17:49:28.266Z"
   },
   {
    "duration": 379,
    "start_time": "2021-07-20T17:50:44.409Z"
   },
   {
    "duration": 4951,
    "start_time": "2021-07-20T17:51:12.888Z"
   },
   {
    "duration": 804,
    "start_time": "2021-07-20T17:51:23.616Z"
   },
   {
    "duration": 537,
    "start_time": "2021-07-20T17:51:24.423Z"
   },
   {
    "duration": 379,
    "start_time": "2021-07-20T17:51:38.639Z"
   },
   {
    "duration": 324,
    "start_time": "2021-07-20T17:51:57.383Z"
   },
   {
    "duration": 3431,
    "start_time": "2021-07-20T17:52:15.191Z"
   },
   {
    "duration": 403,
    "start_time": "2021-07-20T17:53:28.925Z"
   },
   {
    "duration": 423,
    "start_time": "2021-07-20T17:57:46.519Z"
   },
   {
    "duration": 5,
    "start_time": "2021-07-20T17:58:13.254Z"
   },
   {
    "duration": 375,
    "start_time": "2021-07-20T17:58:18.030Z"
   },
   {
    "duration": 367,
    "start_time": "2021-07-20T17:58:38.301Z"
   },
   {
    "duration": 347,
    "start_time": "2021-07-20T18:00:38.443Z"
   },
   {
    "duration": 393,
    "start_time": "2021-07-20T18:00:59.506Z"
   },
   {
    "duration": 16,
    "start_time": "2021-07-20T18:01:21.810Z"
   },
   {
    "duration": 363,
    "start_time": "2021-07-20T18:01:36.450Z"
   },
   {
    "duration": 8,
    "start_time": "2021-07-20T18:01:59.937Z"
   },
   {
    "duration": 7,
    "start_time": "2021-07-20T18:02:04.648Z"
   },
   {
    "duration": 5,
    "start_time": "2021-07-20T18:02:06.513Z"
   },
   {
    "duration": 3388,
    "start_time": "2021-07-20T18:05:20.173Z"
   },
   {
    "duration": 657,
    "start_time": "2021-07-20T18:06:13.220Z"
   },
   {
    "duration": 437,
    "start_time": "2021-07-20T18:07:03.298Z"
   },
   {
    "duration": 16330,
    "start_time": "2021-07-20T18:07:28.889Z"
   },
   {
    "duration": 5,
    "start_time": "2021-07-20T18:07:51.001Z"
   },
   {
    "duration": 341,
    "start_time": "2021-07-20T18:07:54.400Z"
   },
   {
    "duration": 380,
    "start_time": "2021-07-20T18:09:08.014Z"
   },
   {
    "duration": 29356,
    "start_time": "2021-07-20T18:10:34.365Z"
   },
   {
    "duration": 6,
    "start_time": "2021-07-20T18:11:03.725Z"
   },
   {
    "duration": 543,
    "start_time": "2021-07-20T18:11:03.734Z"
   },
   {
    "duration": 5,
    "start_time": "2021-07-20T18:11:36.171Z"
   },
   {
    "duration": 386,
    "start_time": "2021-07-20T18:11:39.363Z"
   },
   {
    "duration": 426,
    "start_time": "2021-07-20T18:11:50.619Z"
   },
   {
    "duration": 120537,
    "start_time": "2021-07-20T18:12:05.715Z"
   },
   {
    "duration": 3489,
    "start_time": "2021-07-20T18:14:06.255Z"
   },
   {
    "duration": 1527,
    "start_time": "2021-07-20T18:14:09.747Z"
   },
   {
    "duration": 7,
    "start_time": "2021-07-20T18:14:13.177Z"
   },
   {
    "duration": 391,
    "start_time": "2021-07-20T18:14:17.704Z"
   },
   {
    "duration": 6768,
    "start_time": "2021-07-20T18:14:27.349Z"
   },
   {
    "duration": 876,
    "start_time": "2021-07-20T18:14:34.120Z"
   },
   {
    "duration": 786,
    "start_time": "2021-07-20T18:14:41.844Z"
   },
   {
    "duration": 3510,
    "start_time": "2021-07-20T18:14:42.632Z"
   },
   {
    "duration": 624,
    "start_time": "2021-07-20T18:14:46.146Z"
   },
   {
    "duration": 64,
    "start_time": "2021-07-20T18:15:15.961Z"
   },
   {
    "duration": 5259,
    "start_time": "2021-07-21T08:51:00.313Z"
   },
   {
    "duration": 3328,
    "start_time": "2021-07-21T08:51:19.786Z"
   },
   {
    "duration": 299053,
    "start_time": "2021-07-21T08:51:23.117Z"
   },
   {
    "duration": 3181,
    "start_time": "2021-07-21T08:56:25.393Z"
   },
   {
    "duration": 7096,
    "start_time": "2021-07-21T08:57:04.031Z"
   },
   {
    "duration": 3471,
    "start_time": "2021-07-21T08:59:18.854Z"
   },
   {
    "duration": 98096,
    "start_time": "2021-07-21T08:59:22.328Z"
   },
   {
    "duration": 1087,
    "start_time": "2021-07-21T09:01:00.427Z"
   },
   {
    "duration": 98975,
    "start_time": "2021-07-21T09:01:42.642Z"
   },
   {
    "duration": 96152,
    "start_time": "2021-07-21T09:03:40.167Z"
   },
   {
    "duration": 343,
    "start_time": "2021-07-21T09:07:22.063Z"
   },
   {
    "duration": 2666,
    "start_time": "2021-07-21T09:08:10.533Z"
   },
   {
    "duration": 356,
    "start_time": "2021-07-21T09:08:16.222Z"
   },
   {
    "duration": 2480,
    "start_time": "2021-07-21T09:08:23.080Z"
   },
   {
    "duration": 104387,
    "start_time": "2021-07-21T09:10:25.602Z"
   },
   {
    "duration": 104256,
    "start_time": "2021-07-21T09:12:57.211Z"
   },
   {
    "duration": 103475,
    "start_time": "2021-07-21T09:33:23.173Z"
   },
   {
    "duration": 103852,
    "start_time": "2021-07-21T09:35:16.946Z"
   },
   {
    "duration": 407,
    "start_time": "2021-07-21T09:37:00.800Z"
   },
   {
    "duration": 98789,
    "start_time": "2021-07-21T09:37:10.752Z"
   },
   {
    "duration": 96039,
    "start_time": "2021-07-21T09:39:02.473Z"
   },
   {
    "duration": 95177,
    "start_time": "2021-07-21T09:58:43.057Z"
   },
   {
    "duration": 96016,
    "start_time": "2021-07-21T10:14:44.411Z"
   },
   {
    "duration": 6,
    "start_time": "2021-07-21T14:54:16.516Z"
   },
   {
    "duration": 939,
    "start_time": "2021-07-21T14:54:19.595Z"
   },
   {
    "duration": 644,
    "start_time": "2021-07-21T14:54:29.876Z"
   },
   {
    "duration": 702,
    "start_time": "2021-07-21T14:54:34.033Z"
   },
   {
    "duration": 695,
    "start_time": "2021-07-21T14:54:39.670Z"
   },
   {
    "duration": 731,
    "start_time": "2021-07-21T14:54:44.404Z"
   },
   {
    "duration": 910,
    "start_time": "2021-07-21T14:55:15.580Z"
   },
   {
    "duration": 827,
    "start_time": "2021-07-21T14:55:21.123Z"
   },
   {
    "duration": 1048,
    "start_time": "2021-07-21T14:55:26.074Z"
   },
   {
    "duration": 824,
    "start_time": "2021-07-21T14:55:41.207Z"
   },
   {
    "duration": 3227,
    "start_time": "2021-07-21T14:56:49.509Z"
   },
   {
    "duration": 7,
    "start_time": "2021-07-21T14:56:55.073Z"
   },
   {
    "duration": 750,
    "start_time": "2021-07-21T14:56:57.849Z"
   },
   {
    "duration": 23,
    "start_time": "2021-07-21T14:56:58.602Z"
   },
   {
    "duration": 873,
    "start_time": "2021-07-21T14:56:58.687Z"
   },
   {
    "duration": 330,
    "start_time": "2021-07-21T14:57:00.605Z"
   },
   {
    "duration": 381,
    "start_time": "2021-07-21T14:59:03.870Z"
   },
   {
    "duration": 3266,
    "start_time": "2021-07-21T15:03:05.230Z"
   },
   {
    "duration": 3362,
    "start_time": "2021-07-21T15:03:23.480Z"
   },
   {
    "duration": 6659,
    "start_time": "2021-07-21T15:03:26.845Z"
   },
   {
    "duration": 922,
    "start_time": "2021-07-21T15:03:33.507Z"
   },
   {
    "duration": -73,
    "start_time": "2021-07-21T15:03:34.505Z"
   },
   {
    "duration": 790,
    "start_time": "2021-07-21T15:03:38.984Z"
   },
   {
    "duration": 30,
    "start_time": "2021-07-21T15:03:39.776Z"
   },
   {
    "duration": 976,
    "start_time": "2021-07-21T15:03:40.624Z"
   },
   {
    "duration": 734,
    "start_time": "2021-07-21T15:03:41.603Z"
   },
   {
    "duration": 5,
    "start_time": "2021-07-21T17:31:18.581Z"
   },
   {
    "duration": 729,
    "start_time": "2021-07-21T17:31:19.053Z"
   },
   {
    "duration": 23,
    "start_time": "2021-07-21T17:31:19.786Z"
   },
   {
    "duration": 929,
    "start_time": "2021-07-21T17:31:20.333Z"
   },
   {
    "duration": 64,
    "start_time": "2021-07-21T17:31:32.811Z"
   },
   {
    "duration": 64,
    "start_time": "2021-07-21T17:32:02.476Z"
   },
   {
    "duration": 6,
    "start_time": "2021-07-21T17:32:06.340Z"
   },
   {
    "duration": 716,
    "start_time": "2021-07-21T17:32:06.779Z"
   },
   {
    "duration": 22,
    "start_time": "2021-07-21T17:32:07.498Z"
   },
   {
    "duration": 797,
    "start_time": "2021-07-21T17:32:07.620Z"
   },
   {
    "duration": 81,
    "start_time": "2021-07-21T17:32:08.419Z"
   },
   {
    "duration": 3650,
    "start_time": "2021-07-21T17:37:35.445Z"
   },
   {
    "duration": 613,
    "start_time": "2021-07-21T17:37:45.380Z"
   },
   {
    "duration": 9,
    "start_time": "2021-07-21T17:39:44.730Z"
   },
   {
    "duration": 361,
    "start_time": "2021-07-21T17:43:07.157Z"
   },
   {
    "duration": 387,
    "start_time": "2021-07-21T17:43:35.741Z"
   },
   {
    "duration": 3303,
    "start_time": "2021-07-21T17:43:40.924Z"
   },
   {
    "duration": 29,
    "start_time": "2021-07-21T17:44:16.924Z"
   },
   {
    "duration": 1603,
    "start_time": "2021-07-21T17:44:20.324Z"
   },
   {
    "duration": 17,
    "start_time": "2021-07-21T17:45:03.739Z"
   },
   {
    "duration": 5,
    "start_time": "2021-07-21T17:45:46.249Z"
   },
   {
    "duration": 14,
    "start_time": "2021-07-21T17:45:47.784Z"
   },
   {
    "duration": 434,
    "start_time": "2021-07-21T17:46:30.032Z"
   },
   {
    "duration": 29,
    "start_time": "2021-07-21T17:46:52.611Z"
   },
   {
    "duration": 7,
    "start_time": "2021-07-21T17:47:06.375Z"
   },
   {
    "duration": 8,
    "start_time": "2021-07-21T17:47:17.343Z"
   },
   {
    "duration": 11,
    "start_time": "2021-07-21T17:47:26.750Z"
   },
   {
    "duration": 9,
    "start_time": "2021-07-21T17:47:34.166Z"
   },
   {
    "duration": 390,
    "start_time": "2021-07-21T17:50:23.275Z"
   },
   {
    "duration": 1252,
    "start_time": "2021-07-21T17:52:10.391Z"
   },
   {
    "duration": -37,
    "start_time": "2021-07-21T17:52:11.683Z"
   },
   {
    "duration": -37,
    "start_time": "2021-07-21T17:52:11.684Z"
   },
   {
    "duration": -36,
    "start_time": "2021-07-21T17:52:11.685Z"
   },
   {
    "duration": -37,
    "start_time": "2021-07-21T17:52:11.687Z"
   },
   {
    "duration": -36,
    "start_time": "2021-07-21T17:52:11.688Z"
   },
   {
    "duration": -37,
    "start_time": "2021-07-21T17:52:11.690Z"
   },
   {
    "duration": 751,
    "start_time": "2021-07-21T17:52:25.959Z"
   },
   {
    "duration": 24,
    "start_time": "2021-07-21T17:52:27.319Z"
   },
   {
    "duration": 2361,
    "start_time": "2021-07-21T17:52:29.117Z"
   },
   {
    "duration": 72,
    "start_time": "2021-07-21T17:52:31.481Z"
   },
   {
    "duration": 5480,
    "start_time": "2021-07-21T17:52:31.557Z"
   },
   {
    "duration": 5,
    "start_time": "2021-07-21T17:52:37.040Z"
   },
   {
    "duration": 13,
    "start_time": "2021-07-21T17:52:37.048Z"
   },
   {
    "duration": 490,
    "start_time": "2021-07-21T17:52:37.064Z"
   },
   {
    "duration": 8,
    "start_time": "2021-07-21T17:52:54.879Z"
   },
   {
    "duration": 11,
    "start_time": "2021-07-21T17:53:02.399Z"
   },
   {
    "duration": 102,
    "start_time": "2021-07-21T17:56:04.403Z"
   },
   {
    "duration": 784,
    "start_time": "2021-07-21T17:57:59.976Z"
   },
   {
    "duration": 31,
    "start_time": "2021-07-21T17:58:00.764Z"
   },
   {
    "duration": 2339,
    "start_time": "2021-07-21T17:58:00.799Z"
   },
   {
    "duration": 84,
    "start_time": "2021-07-21T17:58:03.141Z"
   },
   {
    "duration": 5303,
    "start_time": "2021-07-21T17:58:03.228Z"
   },
   {
    "duration": 343,
    "start_time": "2021-07-21T17:58:08.534Z"
   },
   {
    "duration": 6,
    "start_time": "2021-07-21T17:58:35.999Z"
   },
   {
    "duration": 12,
    "start_time": "2021-07-21T17:58:37.671Z"
   },
   {
    "duration": 10,
    "start_time": "2021-07-21T17:59:44.038Z"
   },
   {
    "duration": 5842,
    "start_time": "2021-07-21T17:59:47.293Z"
   },
   {
    "duration": 7,
    "start_time": "2021-07-21T17:59:53.138Z"
   },
   {
    "duration": 1378,
    "start_time": "2021-07-21T18:00:31.069Z"
   },
   {
    "duration": 28,
    "start_time": "2021-07-21T18:01:04.916Z"
   },
   {
    "duration": 16,
    "start_time": "2021-07-21T18:01:08.283Z"
   },
   {
    "duration": 19,
    "start_time": "2021-07-21T18:01:08.548Z"
   },
   {
    "duration": 6,
    "start_time": "2021-07-21T19:01:19.439Z"
   },
   {
    "duration": 8,
    "start_time": "2021-07-21T19:01:32.965Z"
   },
   {
    "duration": 6080,
    "start_time": "2021-07-21T19:01:52.045Z"
   },
   {
    "duration": 6,
    "start_time": "2021-07-21T19:03:25.555Z"
   },
   {
    "duration": 12,
    "start_time": "2021-07-21T19:03:26.252Z"
   },
   {
    "duration": 13,
    "start_time": "2021-07-21T19:03:27.427Z"
   },
   {
    "duration": 8,
    "start_time": "2021-07-21T19:03:28.041Z"
   },
   {
    "duration": 5,
    "start_time": "2021-07-21T19:04:17.666Z"
   },
   {
    "duration": 12,
    "start_time": "2021-07-21T19:04:22.065Z"
   },
   {
    "duration": 15,
    "start_time": "2021-07-21T19:04:22.457Z"
   },
   {
    "duration": 6,
    "start_time": "2021-07-21T19:04:22.721Z"
   },
   {
    "duration": 11,
    "start_time": "2021-07-21T19:04:32.842Z"
   },
   {
    "duration": 15,
    "start_time": "2021-07-21T19:05:16.393Z"
   },
   {
    "duration": 5,
    "start_time": "2021-07-21T19:05:34.745Z"
   },
   {
    "duration": 11,
    "start_time": "2021-07-21T19:05:35.119Z"
   },
   {
    "duration": 14,
    "start_time": "2021-07-21T19:05:35.592Z"
   },
   {
    "duration": 16,
    "start_time": "2021-07-21T19:05:37.599Z"
   },
   {
    "duration": 5,
    "start_time": "2021-07-21T19:05:38.232Z"
   },
   {
    "duration": 5,
    "start_time": "2021-07-21T19:05:45.712Z"
   },
   {
    "duration": 394,
    "start_time": "2021-07-21T19:08:18.676Z"
   },
   {
    "duration": 829,
    "start_time": "2021-07-21T19:08:35.940Z"
   },
   {
    "duration": 380,
    "start_time": "2021-07-21T19:09:01.196Z"
   },
   {
    "duration": 47,
    "start_time": "2021-07-21T19:10:01.665Z"
   },
   {
    "duration": 7,
    "start_time": "2021-07-21T19:10:05.521Z"
   },
   {
    "duration": 567,
    "start_time": "2021-07-21T19:10:10.241Z"
   },
   {
    "duration": 5,
    "start_time": "2021-07-21T19:10:17.673Z"
   },
   {
    "duration": 5,
    "start_time": "2021-07-21T19:10:35.505Z"
   },
   {
    "duration": 6,
    "start_time": "2021-07-21T19:11:02.145Z"
   },
   {
    "duration": 352,
    "start_time": "2021-07-21T19:13:22.813Z"
   },
   {
    "duration": 9,
    "start_time": "2021-07-21T19:13:57.948Z"
   },
   {
    "duration": 335,
    "start_time": "2021-07-21T19:14:02.293Z"
   },
   {
    "duration": 28,
    "start_time": "2021-07-21T19:14:33.251Z"
   },
   {
    "duration": 317,
    "start_time": "2021-07-21T19:14:46.635Z"
   },
   {
    "duration": 850,
    "start_time": "2021-07-21T19:17:00.272Z"
   },
   {
    "duration": 5817,
    "start_time": "2021-07-21T19:17:18.334Z"
   },
   {
    "duration": 9,
    "start_time": "2021-07-21T19:17:24.154Z"
   },
   {
    "duration": 29,
    "start_time": "2021-07-21T19:17:24.166Z"
   },
   {
    "duration": 15,
    "start_time": "2021-07-21T19:17:24.198Z"
   },
   {
    "duration": 574,
    "start_time": "2021-07-21T19:17:24.215Z"
   },
   {
    "duration": 341,
    "start_time": "2021-07-21T19:17:28.432Z"
   },
   {
    "duration": 679,
    "start_time": "2021-07-21T19:17:42.294Z"
   },
   {
    "duration": 5506,
    "start_time": "2021-07-21T19:17:46.398Z"
   },
   {
    "duration": 6,
    "start_time": "2021-07-21T19:17:51.907Z"
   },
   {
    "duration": 28,
    "start_time": "2021-07-21T19:17:51.916Z"
   },
   {
    "duration": 14,
    "start_time": "2021-07-21T19:17:51.947Z"
   },
   {
    "duration": 534,
    "start_time": "2021-07-21T19:17:51.964Z"
   },
   {
    "duration": 13,
    "start_time": "2021-07-21T19:19:35.868Z"
   },
   {
    "duration": 17,
    "start_time": "2021-07-21T19:19:39.459Z"
   },
   {
    "duration": 7,
    "start_time": "2021-07-21T19:20:33.355Z"
   },
   {
    "duration": 24,
    "start_time": "2021-07-21T19:20:38.538Z"
   },
   {
    "duration": 7,
    "start_time": "2021-07-21T19:20:55.514Z"
   },
   {
    "duration": 19,
    "start_time": "2021-07-21T19:20:58.785Z"
   },
   {
    "duration": 643,
    "start_time": "2021-07-21T19:21:40.522Z"
   },
   {
    "duration": 345,
    "start_time": "2021-07-21T19:21:55.097Z"
   },
   {
    "duration": 18,
    "start_time": "2021-07-21T19:24:31.037Z"
   },
   {
    "duration": 17,
    "start_time": "2021-07-21T19:24:47.797Z"
   },
   {
    "duration": 17,
    "start_time": "2021-07-21T19:24:54.820Z"
   },
   {
    "duration": 19,
    "start_time": "2021-07-21T19:25:00.820Z"
   },
   {
    "duration": 19,
    "start_time": "2021-07-21T19:25:06.708Z"
   },
   {
    "duration": 18,
    "start_time": "2021-07-21T19:25:11.427Z"
   },
   {
    "duration": 19,
    "start_time": "2021-07-21T19:25:15.132Z"
   },
   {
    "duration": 347,
    "start_time": "2021-07-21T19:29:41.526Z"
   },
   {
    "duration": 310,
    "start_time": "2021-07-21T19:29:46.397Z"
   },
   {
    "duration": 7,
    "start_time": "2021-07-21T19:29:50.630Z"
   },
   {
    "duration": 1523,
    "start_time": "2021-07-21T19:29:54.013Z"
   },
   {
    "duration": 17,
    "start_time": "2021-07-21T19:30:05.149Z"
   },
   {
    "duration": 17,
    "start_time": "2021-07-21T19:30:10.230Z"
   },
   {
    "duration": 17,
    "start_time": "2021-07-21T19:30:15.325Z"
   },
   {
    "duration": 20,
    "start_time": "2021-07-21T19:30:35.677Z"
   },
   {
    "duration": 22,
    "start_time": "2021-07-21T19:30:43.149Z"
   },
   {
    "duration": 23,
    "start_time": "2021-07-21T19:30:49.212Z"
   },
   {
    "duration": 21,
    "start_time": "2021-07-21T19:30:57.237Z"
   },
   {
    "duration": 20,
    "start_time": "2021-07-21T19:31:01.940Z"
   },
   {
    "duration": 20,
    "start_time": "2021-07-21T19:31:08.739Z"
   },
   {
    "duration": 19,
    "start_time": "2021-07-21T19:31:14.155Z"
   },
   {
    "duration": 19,
    "start_time": "2021-07-21T19:31:16.963Z"
   },
   {
    "duration": 21,
    "start_time": "2021-07-21T19:31:22.883Z"
   },
   {
    "duration": 20,
    "start_time": "2021-07-21T19:31:26.299Z"
   },
   {
    "duration": 20,
    "start_time": "2021-07-21T19:31:30.035Z"
   },
   {
    "duration": 20,
    "start_time": "2021-07-21T19:31:33.819Z"
   },
   {
    "duration": 19,
    "start_time": "2021-07-21T19:31:38.459Z"
   },
   {
    "duration": 19,
    "start_time": "2021-07-21T19:31:43.619Z"
   },
   {
    "duration": 19,
    "start_time": "2021-07-21T19:31:50.459Z"
   },
   {
    "duration": 21,
    "start_time": "2021-07-21T19:31:55.130Z"
   },
   {
    "duration": 20,
    "start_time": "2021-07-21T19:32:00.106Z"
   },
   {
    "duration": 21,
    "start_time": "2021-07-21T19:32:03.634Z"
   },
   {
    "duration": 19,
    "start_time": "2021-07-21T19:32:10.692Z"
   },
   {
    "duration": 20,
    "start_time": "2021-07-21T19:32:13.666Z"
   },
   {
    "duration": 16,
    "start_time": "2021-07-21T19:32:24.290Z"
   },
   {
    "duration": 357,
    "start_time": "2021-07-21T19:32:32.658Z"
   },
   {
    "duration": 422,
    "start_time": "2021-07-21T19:32:48.593Z"
   },
   {
    "duration": 341,
    "start_time": "2021-07-21T19:33:07.961Z"
   },
   {
    "duration": 18,
    "start_time": "2021-07-21T19:33:18.313Z"
   },
   {
    "duration": 80,
    "start_time": "2021-07-21T19:33:18.833Z"
   },
   {
    "duration": 99,
    "start_time": "2021-07-21T19:33:31.057Z"
   },
   {
    "duration": 17,
    "start_time": "2021-07-21T19:34:10.599Z"
   },
   {
    "duration": 23,
    "start_time": "2021-07-21T19:34:47.951Z"
   },
   {
    "duration": 25,
    "start_time": "2021-07-21T19:35:06.663Z"
   },
   {
    "duration": 21,
    "start_time": "2021-07-21T19:35:24.518Z"
   },
   {
    "duration": 5400,
    "start_time": "2021-07-21T19:37:38.443Z"
   },
   {
    "duration": 8,
    "start_time": "2021-07-21T19:37:43.846Z"
   },
   {
    "duration": 37,
    "start_time": "2021-07-21T19:37:43.858Z"
   },
   {
    "duration": 18,
    "start_time": "2021-07-21T19:37:43.899Z"
   },
   {
    "duration": 288,
    "start_time": "2021-07-21T19:37:43.920Z"
   },
   {
    "duration": 104,
    "start_time": "2021-07-21T19:37:44.211Z"
   },
   {
    "duration": 9,
    "start_time": "2021-07-21T19:48:46.187Z"
   },
   {
    "duration": 19,
    "start_time": "2021-07-21T19:48:48.587Z"
   },
   {
    "duration": 16,
    "start_time": "2021-07-21T19:48:53.730Z"
   },
   {
    "duration": 304,
    "start_time": "2021-07-21T19:48:54.938Z"
   },
   {
    "duration": 99,
    "start_time": "2021-07-21T19:48:57.611Z"
   },
   {
    "duration": 790,
    "start_time": "2021-07-21T19:52:03.766Z"
   },
   {
    "duration": 755,
    "start_time": "2021-07-21T19:52:26.743Z"
   },
   {
    "duration": 16,
    "start_time": "2021-07-21T19:53:18.949Z"
   },
   {
    "duration": 407,
    "start_time": "2021-07-21T19:53:19.453Z"
   },
   {
    "duration": 98,
    "start_time": "2021-07-21T19:53:19.867Z"
   },
   {
    "duration": 765,
    "start_time": "2021-07-21T19:53:22.653Z"
   },
   {
    "duration": 339,
    "start_time": "2021-07-21T19:53:49.997Z"
   },
   {
    "duration": 29,
    "start_time": "2021-07-21T19:54:07.739Z"
   },
   {
    "duration": 750,
    "start_time": "2021-07-21T19:54:12.900Z"
   },
   {
    "duration": 774,
    "start_time": "2021-07-21T19:54:31.339Z"
   },
   {
    "duration": 791,
    "start_time": "2021-07-21T19:54:41.355Z"
   },
   {
    "duration": 710,
    "start_time": "2021-07-21T19:54:55.596Z"
   },
   {
    "duration": 758,
    "start_time": "2021-07-21T19:55:12.530Z"
   },
   {
    "duration": 9,
    "start_time": "2021-07-21T19:55:18.587Z"
   },
   {
    "duration": 449,
    "start_time": "2021-07-21T19:55:22.858Z"
   },
   {
    "duration": 496,
    "start_time": "2021-07-21T19:57:44.302Z"
   },
   {
    "duration": 481,
    "start_time": "2021-07-21T19:58:33.750Z"
   },
   {
    "duration": 709,
    "start_time": "2021-07-21T19:59:45.932Z"
   },
   {
    "duration": 704,
    "start_time": "2021-07-21T20:00:52.115Z"
   },
   {
    "duration": 776,
    "start_time": "2021-07-21T20:01:34.842Z"
   },
   {
    "duration": 740,
    "start_time": "2021-07-21T20:02:03.145Z"
   },
   {
    "duration": 494,
    "start_time": "2021-07-21T20:02:22.945Z"
   },
   {
    "duration": 447,
    "start_time": "2021-07-21T20:02:38.457Z"
   },
   {
    "duration": 367,
    "start_time": "2021-07-21T20:02:44.728Z"
   },
   {
    "duration": 793,
    "start_time": "2021-07-21T20:03:22.992Z"
   },
   {
    "duration": 3,
    "start_time": "2021-07-21T20:03:24.392Z"
   },
   {
    "duration": 48116,
    "start_time": "2021-07-21T20:03:24.984Z"
   },
   {
    "duration": 69,
    "start_time": "2021-07-21T20:04:13.104Z"
   },
   {
    "duration": 162666,
    "start_time": "2021-07-21T20:04:13.192Z"
   },
   {
    "duration": 28,
    "start_time": "2021-07-21T20:06:55.861Z"
   },
   {
    "duration": 41,
    "start_time": "2021-07-21T20:06:55.892Z"
   },
   {
    "duration": 54,
    "start_time": "2021-07-21T20:06:55.936Z"
   },
   {
    "duration": 7132,
    "start_time": "2021-07-21T20:06:55.993Z"
   },
   {
    "duration": 42259,
    "start_time": "2021-07-21T20:07:03.128Z"
   },
   {
    "duration": 20931,
    "start_time": "2021-07-21T20:09:29.664Z"
   },
   {
    "duration": 815,
    "start_time": "2021-07-21T20:54:42.227Z"
   },
   {
    "duration": 766,
    "start_time": "2021-07-21T20:54:55.637Z"
   },
   {
    "duration": 720,
    "start_time": "2021-07-21T20:55:09.475Z"
   },
   {
    "duration": 744,
    "start_time": "2021-07-21T20:55:26.860Z"
   },
   {
    "duration": 334,
    "start_time": "2021-07-21T21:03:33.391Z"
   },
   {
    "duration": 346,
    "start_time": "2021-07-21T21:03:46.144Z"
   },
   {
    "duration": 5,
    "start_time": "2021-07-21T21:03:55.208Z"
   },
   {
    "duration": 379,
    "start_time": "2021-07-21T21:04:06.791Z"
   },
   {
    "duration": 6,
    "start_time": "2021-07-21T21:04:31.447Z"
   },
   {
    "duration": 6,
    "start_time": "2021-07-21T21:04:57.510Z"
   },
   {
    "duration": 383,
    "start_time": "2021-07-21T21:05:08.014Z"
   },
   {
    "duration": 327,
    "start_time": "2021-07-21T21:05:12.950Z"
   },
   {
    "duration": 22,
    "start_time": "2021-07-21T21:05:30.486Z"
   },
   {
    "duration": 327,
    "start_time": "2021-07-21T21:05:34.645Z"
   },
   {
    "duration": 749,
    "start_time": "2021-07-21T21:05:47.829Z"
   },
   {
    "duration": 24,
    "start_time": "2021-07-21T21:05:55.789Z"
   },
   {
    "duration": 330,
    "start_time": "2021-07-21T21:06:17.780Z"
   },
   {
    "duration": 754,
    "start_time": "2021-07-21T21:06:24.404Z"
   },
   {
    "duration": 341,
    "start_time": "2021-07-21T21:06:33.548Z"
   },
   {
    "duration": 7,
    "start_time": "2021-07-21T21:06:40.892Z"
   },
   {
    "duration": 23,
    "start_time": "2021-07-21T21:08:13.842Z"
   },
   {
    "duration": 8,
    "start_time": "2021-07-21T21:08:34.105Z"
   },
   {
    "duration": 27,
    "start_time": "2021-07-21T21:08:44.577Z"
   },
   {
    "duration": 19,
    "start_time": "2021-07-21T21:09:32.912Z"
   },
   {
    "duration": 326,
    "start_time": "2021-07-21T21:09:46.079Z"
   },
   {
    "duration": 19,
    "start_time": "2021-07-21T21:09:50.023Z"
   },
   {
    "duration": 10,
    "start_time": "2021-07-21T21:10:08.807Z"
   },
   {
    "duration": 345,
    "start_time": "2021-07-21T21:10:14.831Z"
   },
   {
    "duration": 714,
    "start_time": "2021-07-21T21:10:36.126Z"
   },
   {
    "duration": 9,
    "start_time": "2021-07-21T21:10:52.294Z"
   },
   {
    "duration": 7,
    "start_time": "2021-07-21T21:10:58.029Z"
   },
   {
    "duration": 11313,
    "start_time": "2021-07-21T21:11:09.061Z"
   },
   {
    "duration": 1094,
    "start_time": "2021-07-21T21:11:20.377Z"
   },
   {
    "duration": 5,
    "start_time": "2021-07-21T21:11:24.205Z"
   },
   {
    "duration": 38,
    "start_time": "2021-07-21T21:11:25.807Z"
   },
   {
    "duration": 7,
    "start_time": "2021-07-21T21:11:30.045Z"
   },
   {
    "duration": 5,
    "start_time": "2021-07-21T21:11:41.837Z"
   },
   {
    "duration": 5210,
    "start_time": "2021-07-21T21:11:42.229Z"
   },
   {
    "duration": 132,
    "start_time": "2021-07-21T21:11:47.442Z"
   },
   {
    "duration": 10,
    "start_time": "2021-07-21T21:11:47.577Z"
   },
   {
    "duration": 11,
    "start_time": "2021-07-21T21:11:47.590Z"
   },
   {
    "duration": 7,
    "start_time": "2021-07-21T21:11:47.603Z"
   },
   {
    "duration": 211980,
    "start_time": "2021-07-21T21:11:47.613Z"
   },
   {
    "duration": 7,
    "start_time": "2021-07-21T21:15:19.596Z"
   },
   {
    "duration": 24,
    "start_time": "2021-07-21T21:15:19.607Z"
   },
   {
    "duration": 354,
    "start_time": "2021-07-21T21:15:19.634Z"
   },
   {
    "duration": 5,
    "start_time": "2021-07-21T21:15:19.992Z"
   },
   {
    "duration": 14,
    "start_time": "2021-07-21T21:15:20.085Z"
   },
   {
    "duration": 86,
    "start_time": "2021-07-21T21:15:20.102Z"
   },
   {
    "duration": 6,
    "start_time": "2021-07-21T21:15:20.191Z"
   },
   {
    "duration": 7,
    "start_time": "2021-07-21T21:17:28.322Z"
   },
   {
    "duration": 463,
    "start_time": "2021-07-21T21:17:29.229Z"
   },
   {
    "duration": 5,
    "start_time": "2021-07-21T21:17:29.788Z"
   },
   {
    "duration": 7,
    "start_time": "2021-07-21T21:17:30.069Z"
   },
   {
    "duration": 9,
    "start_time": "2021-07-21T21:17:30.516Z"
   },
   {
    "duration": 5,
    "start_time": "2021-07-21T21:17:30.964Z"
   },
   {
    "duration": 19067,
    "start_time": "2021-07-21T21:18:35.108Z"
   },
   {
    "duration": 13,
    "start_time": "2021-07-21T21:19:29.578Z"
   },
   {
    "duration": 35,
    "start_time": "2021-07-21T21:19:29.874Z"
   },
   {
    "duration": 49,
    "start_time": "2021-07-21T21:19:30.586Z"
   },
   {
    "duration": 8120,
    "start_time": "2021-07-21T21:19:31.594Z"
   },
   {
    "duration": 18061,
    "start_time": "2021-07-21T21:19:42.843Z"
   },
   {
    "duration": 21980,
    "start_time": "2021-07-21T21:20:29.083Z"
   },
   {
    "duration": 20370,
    "start_time": "2021-07-21T21:21:41.312Z"
   },
   {
    "duration": 1292,
    "start_time": "2021-07-21T21:23:01.797Z"
   },
   {
    "duration": 29857,
    "start_time": "2021-07-21T21:23:28.844Z"
   },
   {
    "duration": 3297,
    "start_time": "2021-07-21T21:24:10.325Z"
   },
   {
    "duration": 3145,
    "start_time": "2021-07-21T21:24:13.626Z"
   },
   {
    "duration": 3168,
    "start_time": "2021-07-21T21:24:16.776Z"
   },
   {
    "duration": 9864,
    "start_time": "2021-07-21T21:24:19.949Z"
   },
   {
    "duration": 12,
    "start_time": "2021-07-21T21:24:29.815Z"
   },
   {
    "duration": 9764,
    "start_time": "2021-07-21T21:24:29.829Z"
   },
   {
    "duration": 3,
    "start_time": "2021-07-21T21:24:39.596Z"
   },
   {
    "duration": 45854,
    "start_time": "2021-07-21T21:24:39.601Z"
   },
   {
    "duration": 4439,
    "start_time": "2021-07-21T21:25:25.459Z"
   },
   {
    "duration": 155336,
    "start_time": "2021-07-21T21:25:29.902Z"
   },
   {
    "duration": 13,
    "start_time": "2021-07-21T21:28:05.240Z"
   },
   {
    "duration": 51,
    "start_time": "2021-07-21T21:28:05.255Z"
   },
   {
    "duration": 43,
    "start_time": "2021-07-21T21:28:05.309Z"
   },
   {
    "duration": 7668,
    "start_time": "2021-07-21T21:28:05.355Z"
   },
   {
    "duration": -351,
    "start_time": "2021-07-21T21:28:13.377Z"
   },
   {
    "duration": -351,
    "start_time": "2021-07-21T21:28:13.378Z"
   },
   {
    "duration": -351,
    "start_time": "2021-07-21T21:28:13.379Z"
   },
   {
    "duration": -351,
    "start_time": "2021-07-21T21:28:13.380Z"
   },
   {
    "duration": -350,
    "start_time": "2021-07-21T21:28:13.381Z"
   },
   {
    "duration": -350,
    "start_time": "2021-07-21T21:28:13.382Z"
   },
   {
    "duration": -349,
    "start_time": "2021-07-21T21:28:13.383Z"
   },
   {
    "duration": -349,
    "start_time": "2021-07-21T21:28:13.384Z"
   },
   {
    "duration": -350,
    "start_time": "2021-07-21T21:28:13.386Z"
   },
   {
    "duration": -349,
    "start_time": "2021-07-21T21:28:13.387Z"
   },
   {
    "duration": -352,
    "start_time": "2021-07-21T21:28:13.391Z"
   },
   {
    "duration": -352,
    "start_time": "2021-07-21T21:28:13.392Z"
   },
   {
    "duration": -353,
    "start_time": "2021-07-21T21:28:13.394Z"
   },
   {
    "duration": -354,
    "start_time": "2021-07-21T21:28:13.397Z"
   },
   {
    "duration": -354,
    "start_time": "2021-07-21T21:28:13.398Z"
   },
   {
    "duration": -354,
    "start_time": "2021-07-21T21:28:13.400Z"
   },
   {
    "duration": -356,
    "start_time": "2021-07-21T21:28:13.403Z"
   },
   {
    "duration": 363,
    "start_time": "2021-07-21T21:29:22.009Z"
   },
   {
    "duration": 43,
    "start_time": "2021-07-21T21:29:28.040Z"
   },
   {
    "duration": 2627,
    "start_time": "2021-07-21T21:29:28.648Z"
   },
   {
    "duration": 37,
    "start_time": "2021-07-21T21:29:35.400Z"
   },
   {
    "duration": 42,
    "start_time": "2021-07-21T21:29:35.856Z"
   },
   {
    "duration": 7290,
    "start_time": "2021-07-21T21:29:36.281Z"
   },
   {
    "duration": 37398,
    "start_time": "2021-07-21T21:29:46.448Z"
   },
   {
    "duration": -355,
    "start_time": "2021-07-21T21:30:24.205Z"
   },
   {
    "duration": -359,
    "start_time": "2021-07-21T21:30:24.210Z"
   },
   {
    "duration": -360,
    "start_time": "2021-07-21T21:30:24.212Z"
   },
   {
    "duration": -359,
    "start_time": "2021-07-21T21:30:24.213Z"
   },
   {
    "duration": -360,
    "start_time": "2021-07-21T21:30:24.215Z"
   },
   {
    "duration": -359,
    "start_time": "2021-07-21T21:30:24.216Z"
   },
   {
    "duration": -359,
    "start_time": "2021-07-21T21:30:24.217Z"
   },
   {
    "duration": -359,
    "start_time": "2021-07-21T21:30:24.219Z"
   },
   {
    "duration": -361,
    "start_time": "2021-07-21T21:30:24.222Z"
   },
   {
    "duration": -360,
    "start_time": "2021-07-21T21:30:24.223Z"
   },
   {
    "duration": -360,
    "start_time": "2021-07-21T21:30:24.224Z"
   },
   {
    "duration": -361,
    "start_time": "2021-07-21T21:30:24.226Z"
   },
   {
    "duration": -360,
    "start_time": "2021-07-21T21:30:24.227Z"
   },
   {
    "duration": -360,
    "start_time": "2021-07-21T21:30:24.228Z"
   },
   {
    "duration": -360,
    "start_time": "2021-07-21T21:30:24.230Z"
   },
   {
    "duration": -362,
    "start_time": "2021-07-21T21:30:24.233Z"
   },
   {
    "duration": 10,
    "start_time": "2021-07-21T21:45:19.746Z"
   },
   {
    "duration": 7,
    "start_time": "2021-07-21T21:45:19.913Z"
   },
   {
    "duration": 5898,
    "start_time": "2021-07-21T21:45:20.097Z"
   },
   {
    "duration": 142,
    "start_time": "2021-07-21T21:45:25.998Z"
   },
   {
    "duration": 5,
    "start_time": "2021-07-21T21:45:26.143Z"
   },
   {
    "duration": 25,
    "start_time": "2021-07-21T21:45:26.151Z"
   },
   {
    "duration": 16,
    "start_time": "2021-07-21T21:45:26.178Z"
   },
   {
    "duration": 235605,
    "start_time": "2021-07-21T21:45:26.197Z"
   },
   {
    "duration": 7,
    "start_time": "2021-07-21T21:49:21.804Z"
   },
   {
    "duration": 6,
    "start_time": "2021-07-21T21:49:21.888Z"
   },
   {
    "duration": 1338,
    "start_time": "2021-07-21T21:49:21.897Z"
   },
   {
    "duration": -374,
    "start_time": "2021-07-21T21:49:23.613Z"
   },
   {
    "duration": -377,
    "start_time": "2021-07-21T21:49:23.618Z"
   },
   {
    "duration": -378,
    "start_time": "2021-07-21T21:49:23.621Z"
   },
   {
    "duration": -380,
    "start_time": "2021-07-21T21:49:23.625Z"
   },
   {
    "duration": -379,
    "start_time": "2021-07-21T21:49:23.627Z"
   },
   {
    "duration": 30102,
    "start_time": "2021-07-21T21:54:18.093Z"
   },
   {
    "duration": 9,
    "start_time": "2021-07-21T21:54:48.287Z"
   },
   {
    "duration": 8,
    "start_time": "2021-07-21T21:54:48.299Z"
   },
   {
    "duration": 5245,
    "start_time": "2021-07-21T21:54:48.310Z"
   },
   {
    "duration": 119,
    "start_time": "2021-07-21T21:54:53.557Z"
   },
   {
    "duration": 10,
    "start_time": "2021-07-21T21:54:53.678Z"
   },
   {
    "duration": 19,
    "start_time": "2021-07-21T21:54:53.691Z"
   },
   {
    "duration": 6,
    "start_time": "2021-07-21T21:54:53.714Z"
   },
   {
    "duration": 209778,
    "start_time": "2021-07-21T21:54:53.723Z"
   },
   {
    "duration": 81,
    "start_time": "2021-07-21T21:58:23.504Z"
   },
   {
    "duration": 9,
    "start_time": "2021-07-21T21:58:23.589Z"
   },
   {
    "duration": 1186,
    "start_time": "2021-07-21T21:58:23.601Z"
   },
   {
    "duration": 5,
    "start_time": "2021-07-21T21:58:24.791Z"
   },
   {
    "duration": 7,
    "start_time": "2021-07-21T21:58:24.886Z"
   },
   {
    "duration": 10,
    "start_time": "2021-07-21T21:58:24.895Z"
   },
   {
    "duration": 5,
    "start_time": "2021-07-21T21:58:24.907Z"
   },
   {
    "duration": 22460,
    "start_time": "2021-07-21T21:58:24.914Z"
   },
   {
    "duration": 10111,
    "start_time": "2021-07-22T09:34:45.613Z"
   },
   {
    "duration": -91,
    "start_time": "2021-07-22T09:34:55.820Z"
   },
   {
    "duration": -91,
    "start_time": "2021-07-22T09:34:55.822Z"
   },
   {
    "duration": -91,
    "start_time": "2021-07-22T09:34:55.824Z"
   },
   {
    "duration": -91,
    "start_time": "2021-07-22T09:34:55.827Z"
   },
   {
    "duration": -92,
    "start_time": "2021-07-22T09:34:55.830Z"
   },
   {
    "duration": -92,
    "start_time": "2021-07-22T09:34:55.832Z"
   },
   {
    "duration": -90,
    "start_time": "2021-07-22T09:34:55.833Z"
   },
   {
    "duration": -90,
    "start_time": "2021-07-22T09:34:55.835Z"
   },
   {
    "duration": -90,
    "start_time": "2021-07-22T09:34:55.837Z"
   },
   {
    "duration": -90,
    "start_time": "2021-07-22T09:34:55.839Z"
   },
   {
    "duration": -95,
    "start_time": "2021-07-22T09:34:55.848Z"
   },
   {
    "duration": -96,
    "start_time": "2021-07-22T09:34:55.850Z"
   },
   {
    "duration": 5875,
    "start_time": "2021-07-22T09:35:03.466Z"
   },
   {
    "duration": 21325,
    "start_time": "2021-07-22T09:35:09.344Z"
   },
   {
    "duration": 19896,
    "start_time": "2021-07-22T09:35:30.672Z"
   },
   {
    "duration": 871,
    "start_time": "2021-07-22T09:35:50.572Z"
   },
   {
    "duration": 14,
    "start_time": "2021-07-22T09:35:51.445Z"
   },
   {
    "duration": 1459,
    "start_time": "2021-07-22T09:35:51.461Z"
   },
   {
    "duration": 627,
    "start_time": "2021-07-22T09:35:52.923Z"
   },
   {
    "duration": 53921,
    "start_time": "2021-07-22T09:35:53.553Z"
   },
   {
    "duration": 531,
    "start_time": "2021-07-22T09:36:47.477Z"
   },
   {
    "duration": 159361,
    "start_time": "2021-07-22T09:37:05.332Z"
   },
   {
    "duration": 14,
    "start_time": "2021-07-22T09:39:44.696Z"
   },
   {
    "duration": 35,
    "start_time": "2021-07-22T09:39:44.713Z"
   },
   {
    "duration": 48,
    "start_time": "2021-07-22T09:39:44.767Z"
   },
   {
    "duration": 7341,
    "start_time": "2021-07-22T09:39:44.818Z"
   },
   {
    "duration": 6,
    "start_time": "2021-07-22T09:39:52.161Z"
   },
   {
    "duration": 928531,
    "start_time": "2021-07-22T09:39:52.169Z"
   },
   {
    "duration": 3336,
    "start_time": "2021-07-22T16:55:40.123Z"
   },
   {
    "duration": 3892,
    "start_time": "2021-07-22T16:55:43.463Z"
   },
   {
    "duration": 7874,
    "start_time": "2021-07-22T16:55:47.358Z"
   },
   {
    "duration": 12,
    "start_time": "2021-07-22T16:55:55.234Z"
   },
   {
    "duration": 779,
    "start_time": "2021-07-22T16:55:55.248Z"
   },
   {
    "duration": 22,
    "start_time": "2021-07-22T16:55:56.030Z"
   },
   {
    "duration": 2307,
    "start_time": "2021-07-22T16:55:56.068Z"
   },
   {
    "duration": 968,
    "start_time": "2021-07-22T16:55:58.380Z"
   },
   {
    "duration": 6137,
    "start_time": "2021-07-22T16:55:59.352Z"
   },
   {
    "duration": 6,
    "start_time": "2021-07-22T16:56:05.492Z"
   },
   {
    "duration": 10,
    "start_time": "2021-07-22T16:56:05.500Z"
   },
   {
    "duration": 19,
    "start_time": "2021-07-22T16:56:05.512Z"
   },
   {
    "duration": 275,
    "start_time": "2021-07-22T16:56:05.533Z"
   },
   {
    "duration": 4,
    "start_time": "2021-07-22T16:56:05.810Z"
   },
   {
    "duration": 207102,
    "start_time": "2021-07-22T16:56:05.816Z"
   },
   {
    "duration": 6,
    "start_time": "2021-07-22T16:59:32.921Z"
   },
   {
    "duration": 43,
    "start_time": "2021-07-22T16:59:32.930Z"
   },
   {
    "duration": 5468,
    "start_time": "2021-07-22T16:59:32.976Z"
   },
   {
    "duration": 122,
    "start_time": "2021-07-22T16:59:38.446Z"
   },
   {
    "duration": 6,
    "start_time": "2021-07-22T16:59:38.570Z"
   },
   {
    "duration": 13,
    "start_time": "2021-07-22T16:59:38.578Z"
   },
   {
    "duration": 7,
    "start_time": "2021-07-22T16:59:38.594Z"
   },
   {
    "duration": 67635,
    "start_time": "2021-07-22T16:59:38.607Z"
   },
   {
    "duration": -186,
    "start_time": "2021-07-22T17:00:46.431Z"
   },
   {
    "duration": -186,
    "start_time": "2021-07-22T17:00:46.433Z"
   },
   {
    "duration": -186,
    "start_time": "2021-07-22T17:00:46.434Z"
   },
   {
    "duration": -187,
    "start_time": "2021-07-22T17:00:46.436Z"
   },
   {
    "duration": -186,
    "start_time": "2021-07-22T17:00:46.437Z"
   },
   {
    "duration": -187,
    "start_time": "2021-07-22T17:00:46.439Z"
   },
   {
    "duration": -187,
    "start_time": "2021-07-22T17:00:46.440Z"
   },
   {
    "duration": -186,
    "start_time": "2021-07-22T17:00:46.441Z"
   },
   {
    "duration": -186,
    "start_time": "2021-07-22T17:00:46.442Z"
   },
   {
    "duration": 9,
    "start_time": "2021-07-22T17:00:50.730Z"
   },
   {
    "duration": 495,
    "start_time": "2021-07-22T17:00:56.663Z"
   },
   {
    "duration": 4,
    "start_time": "2021-07-22T17:01:00.388Z"
   },
   {
    "duration": 208851,
    "start_time": "2021-07-22T17:01:00.836Z"
   },
   {
    "duration": 2459,
    "start_time": "2021-07-22T17:06:19.222Z"
   },
   {
    "duration": 9,
    "start_time": "2021-07-22T17:07:09.172Z"
   },
   {
    "duration": 380,
    "start_time": "2021-07-22T17:07:12.788Z"
   },
   {
    "duration": 704,
    "start_time": "2021-07-22T17:07:21.995Z"
   },
   {
    "duration": 26,
    "start_time": "2021-07-22T17:07:22.702Z"
   },
   {
    "duration": 387,
    "start_time": "2021-07-22T17:07:25.906Z"
   },
   {
    "duration": 376,
    "start_time": "2021-07-22T17:07:53.482Z"
   },
   {
    "duration": 385,
    "start_time": "2021-07-22T17:07:59.522Z"
   },
   {
    "duration": 411,
    "start_time": "2021-07-22T17:08:21.073Z"
   },
   {
    "duration": 186,
    "start_time": "2021-07-22T17:08:31.105Z"
   },
   {
    "duration": 389,
    "start_time": "2021-07-22T17:09:03.248Z"
   },
   {
    "duration": 2076,
    "start_time": "2021-07-22T17:09:10.432Z"
   },
   {
    "duration": 1671,
    "start_time": "2021-07-22T17:09:17.281Z"
   },
   {
    "duration": 362,
    "start_time": "2021-07-22T17:10:04.855Z"
   },
   {
    "duration": 2025,
    "start_time": "2021-07-22T17:10:14.840Z"
   },
   {
    "duration": 9,
    "start_time": "2021-07-22T17:10:32.007Z"
   },
   {
    "duration": 5631,
    "start_time": "2021-07-22T17:10:36.110Z"
   },
   {
    "duration": 200,
    "start_time": "2021-07-22T17:11:05.006Z"
   },
   {
    "duration": 220,
    "start_time": "2021-07-22T17:11:12.629Z"
   },
   {
    "duration": 2321,
    "start_time": "2021-07-22T17:12:20.605Z"
   },
   {
    "duration": 2080,
    "start_time": "2021-07-22T17:12:42.892Z"
   },
   {
    "duration": 11,
    "start_time": "2021-07-22T17:13:17.395Z"
   },
   {
    "duration": 3499,
    "start_time": "2021-07-22T17:13:22.795Z"
   },
   {
    "duration": 11,
    "start_time": "2021-07-22T17:13:50.746Z"
   },
   {
    "duration": 3508,
    "start_time": "2021-07-22T17:13:55.860Z"
   },
   {
    "duration": 11,
    "start_time": "2021-07-22T17:14:33.065Z"
   },
   {
    "duration": 7,
    "start_time": "2021-07-22T17:14:33.505Z"
   },
   {
    "duration": 39,
    "start_time": "2021-07-22T17:14:38.497Z"
   },
   {
    "duration": 4,
    "start_time": "2021-07-22T17:14:50.632Z"
   },
   {
    "duration": 10,
    "start_time": "2021-07-22T17:14:51.447Z"
   },
   {
    "duration": 7,
    "start_time": "2021-07-22T17:14:58.848Z"
   },
   {
    "duration": 15,
    "start_time": "2021-07-22T17:14:59.512Z"
   },
   {
    "duration": 4904,
    "start_time": "2021-07-22T17:15:00.936Z"
   },
   {
    "duration": 6819,
    "start_time": "2021-07-22T17:15:19.544Z"
   },
   {
    "duration": 392,
    "start_time": "2021-07-22T17:15:34.136Z"
   },
   {
    "duration": 5519,
    "start_time": "2021-07-22T17:15:58.871Z"
   },
   {
    "duration": 9,
    "start_time": "2021-07-22T17:16:09.358Z"
   },
   {
    "duration": 8,
    "start_time": "2021-07-22T17:16:24.182Z"
   },
   {
    "duration": 508,
    "start_time": "2021-07-22T17:16:27.703Z"
   },
   {
    "duration": -180,
    "start_time": "2021-07-22T17:16:28.395Z"
   },
   {
    "duration": 5,
    "start_time": "2021-07-22T17:17:23.605Z"
   },
   {
    "duration": 7,
    "start_time": "2021-07-22T17:17:24.845Z"
   },
   {
    "duration": 17,
    "start_time": "2021-07-22T17:17:25.172Z"
   },
   {
    "duration": 15,
    "start_time": "2021-07-22T17:17:26.405Z"
   },
   {
    "duration": 418,
    "start_time": "2021-07-22T17:17:27.981Z"
   },
   {
    "duration": 392,
    "start_time": "2021-07-22T17:18:21.484Z"
   },
   {
    "duration": 452,
    "start_time": "2021-07-22T17:20:34.136Z"
   },
   {
    "duration": 416,
    "start_time": "2021-07-22T17:20:50.792Z"
   },
   {
    "duration": 612,
    "start_time": "2021-07-22T17:21:01.352Z"
   },
   {
    "duration": 7,
    "start_time": "2021-07-22T17:21:09.184Z"
   },
   {
    "duration": 6,
    "start_time": "2021-07-22T17:21:15.623Z"
   },
   {
    "duration": 1080,
    "start_time": "2021-07-22T17:21:39.223Z"
   },
   {
    "duration": -192,
    "start_time": "2021-07-22T17:21:40.499Z"
   },
   {
    "duration": 545,
    "start_time": "2021-07-22T17:22:34.781Z"
   },
   {
    "duration": 6,
    "start_time": "2021-07-22T17:22:42.957Z"
   },
   {
    "duration": 8,
    "start_time": "2021-07-22T17:22:43.309Z"
   },
   {
    "duration": 18,
    "start_time": "2021-07-22T17:22:43.693Z"
   },
   {
    "duration": 371,
    "start_time": "2021-07-22T17:22:44.157Z"
   },
   {
    "duration": 369,
    "start_time": "2021-07-22T17:22:52.749Z"
   },
   {
    "duration": 7,
    "start_time": "2021-07-22T17:23:02.037Z"
   },
   {
    "duration": 369,
    "start_time": "2021-07-22T17:23:08.845Z"
   },
   {
    "duration": 380,
    "start_time": "2021-07-22T17:25:40.919Z"
   },
   {
    "duration": 5,
    "start_time": "2021-07-22T17:26:34.119Z"
   },
   {
    "duration": 6,
    "start_time": "2021-07-22T17:26:38.639Z"
   },
   {
    "duration": 8,
    "start_time": "2021-07-22T17:26:38.895Z"
   },
   {
    "duration": 16,
    "start_time": "2021-07-22T17:26:39.168Z"
   },
   {
    "duration": 16,
    "start_time": "2021-07-22T17:26:39.648Z"
   },
   {
    "duration": 11,
    "start_time": "2021-07-22T17:27:06.792Z"
   },
   {
    "duration": 5,
    "start_time": "2021-07-22T17:27:12.431Z"
   },
   {
    "duration": 24,
    "start_time": "2021-07-22T17:27:53.518Z"
   },
   {
    "duration": 6,
    "start_time": "2021-07-22T17:27:58.477Z"
   },
   {
    "duration": 21,
    "start_time": "2021-07-22T17:28:05.790Z"
   },
   {
    "duration": 5,
    "start_time": "2021-07-22T17:28:07.054Z"
   },
   {
    "duration": 4,
    "start_time": "2021-07-22T17:28:10.373Z"
   },
   {
    "duration": 407,
    "start_time": "2021-07-22T17:28:17.440Z"
   },
   {
    "duration": 8,
    "start_time": "2021-07-22T17:29:49.521Z"
   },
   {
    "duration": 15,
    "start_time": "2021-07-22T17:29:49.851Z"
   },
   {
    "duration": 17,
    "start_time": "2021-07-22T17:29:50.347Z"
   },
   {
    "duration": 685,
    "start_time": "2021-07-22T17:29:51.188Z"
   },
   {
    "duration": 468,
    "start_time": "2021-07-22T17:30:10.779Z"
   },
   {
    "duration": 426,
    "start_time": "2021-07-22T17:30:16.995Z"
   },
   {
    "duration": 523,
    "start_time": "2021-07-22T17:30:27.011Z"
   },
   {
    "duration": 402,
    "start_time": "2021-07-22T17:30:33.114Z"
   },
   {
    "duration": 442,
    "start_time": "2021-07-22T17:30:39.266Z"
   },
   {
    "duration": 7,
    "start_time": "2021-07-22T17:30:44.810Z"
   },
   {
    "duration": 15,
    "start_time": "2021-07-22T17:30:45.018Z"
   },
   {
    "duration": 16,
    "start_time": "2021-07-22T17:30:45.234Z"
   },
   {
    "duration": 8,
    "start_time": "2021-07-22T17:30:45.451Z"
   },
   {
    "duration": 4,
    "start_time": "2021-07-22T17:30:50.498Z"
   },
   {
    "duration": 388,
    "start_time": "2021-07-22T17:30:50.505Z"
   },
   {
    "duration": 6,
    "start_time": "2021-07-22T17:35:07.316Z"
   },
   {
    "duration": 7,
    "start_time": "2021-07-22T17:35:07.588Z"
   },
   {
    "duration": 17,
    "start_time": "2021-07-22T17:35:07.836Z"
   },
   {
    "duration": 16,
    "start_time": "2021-07-22T17:35:08.292Z"
   },
   {
    "duration": 7,
    "start_time": "2021-07-22T17:35:08.788Z"
   },
   {
    "duration": 5,
    "start_time": "2021-07-22T17:35:09.724Z"
   },
   {
    "duration": 368,
    "start_time": "2021-07-22T17:35:27.628Z"
   },
   {
    "duration": 363,
    "start_time": "2021-07-22T17:35:43.635Z"
   },
   {
    "duration": 375,
    "start_time": "2021-07-22T17:37:27.336Z"
   },
   {
    "duration": 410,
    "start_time": "2021-07-22T17:37:34.544Z"
   },
   {
    "duration": 498,
    "start_time": "2021-07-22T17:37:37.169Z"
   },
   {
    "duration": 388,
    "start_time": "2021-07-22T17:37:54.688Z"
   },
   {
    "duration": 6,
    "start_time": "2021-07-22T17:39:10.166Z"
   },
   {
    "duration": 5,
    "start_time": "2021-07-22T17:39:13.998Z"
   },
   {
    "duration": 6,
    "start_time": "2021-07-22T17:39:35.700Z"
   },
   {
    "duration": 8,
    "start_time": "2021-07-22T17:39:35.893Z"
   },
   {
    "duration": 16,
    "start_time": "2021-07-22T17:39:36.093Z"
   },
   {
    "duration": 16,
    "start_time": "2021-07-22T17:39:36.302Z"
   },
   {
    "duration": 396,
    "start_time": "2021-07-22T17:39:36.725Z"
   },
   {
    "duration": 6,
    "start_time": "2021-07-22T17:39:37.397Z"
   },
   {
    "duration": 403,
    "start_time": "2021-07-22T17:39:46.470Z"
   },
   {
    "duration": 546,
    "start_time": "2021-07-22T17:41:38.162Z"
   },
   {
    "duration": 375,
    "start_time": "2021-07-22T17:41:47.227Z"
   },
   {
    "duration": 390,
    "start_time": "2021-07-22T17:41:51.514Z"
   },
   {
    "duration": 19,
    "start_time": "2021-07-22T17:43:30.056Z"
   },
   {
    "duration": 6,
    "start_time": "2021-07-22T17:43:42.407Z"
   },
   {
    "duration": 6,
    "start_time": "2021-07-22T17:44:10.471Z"
   },
   {
    "duration": 23,
    "start_time": "2021-07-22T17:44:38.687Z"
   },
   {
    "duration": 5,
    "start_time": "2021-07-22T17:44:39.182Z"
   },
   {
    "duration": 12,
    "start_time": "2021-07-22T17:44:49.521Z"
   },
   {
    "duration": 6,
    "start_time": "2021-07-22T17:45:44.517Z"
   },
   {
    "duration": 9,
    "start_time": "2021-07-22T17:45:44.789Z"
   },
   {
    "duration": 16,
    "start_time": "2021-07-22T17:45:45.061Z"
   },
   {
    "duration": 11,
    "start_time": "2021-07-22T17:45:45.669Z"
   },
   {
    "duration": 13,
    "start_time": "2021-07-22T17:45:46.637Z"
   },
   {
    "duration": 6,
    "start_time": "2021-07-22T17:45:53.229Z"
   },
   {
    "duration": 234,
    "start_time": "2021-07-22T17:47:40.570Z"
   },
   {
    "duration": 6,
    "start_time": "2021-07-22T17:47:41.330Z"
   },
   {
    "duration": 239,
    "start_time": "2021-07-22T17:47:48.930Z"
   },
   {
    "duration": 6,
    "start_time": "2021-07-22T17:47:49.353Z"
   },
   {
    "duration": 9,
    "start_time": "2021-07-22T17:48:26.321Z"
   },
   {
    "duration": 9,
    "start_time": "2021-07-22T17:48:26.993Z"
   },
   {
    "duration": 20,
    "start_time": "2021-07-22T17:48:27.617Z"
   },
   {
    "duration": 37,
    "start_time": "2021-07-22T17:48:46.240Z"
   },
   {
    "duration": 226,
    "start_time": "2021-07-22T17:49:20.031Z"
   },
   {
    "duration": 5,
    "start_time": "2021-07-22T17:49:20.471Z"
   },
   {
    "duration": 385,
    "start_time": "2021-07-22T17:49:29.888Z"
   },
   {
    "duration": 6,
    "start_time": "2021-07-22T17:49:30.375Z"
   },
   {
    "duration": 8617,
    "start_time": "2021-07-22T17:50:14.078Z"
   },
   {
    "duration": 1896,
    "start_time": "2021-07-22T17:50:24.855Z"
   },
   {
    "duration": 7,
    "start_time": "2021-07-22T17:50:32.142Z"
   },
   {
    "duration": 381,
    "start_time": "2021-07-22T17:50:45.142Z"
   },
   {
    "duration": 7,
    "start_time": "2021-07-22T17:50:52.655Z"
   },
   {
    "duration": 12,
    "start_time": "2021-07-22T17:50:52.665Z"
   },
   {
    "duration": 17,
    "start_time": "2021-07-22T17:50:52.681Z"
   },
   {
    "duration": 38,
    "start_time": "2021-07-22T17:50:52.701Z"
   },
   {
    "duration": 381,
    "start_time": "2021-07-22T17:50:54.037Z"
   },
   {
    "duration": 419,
    "start_time": "2021-07-22T17:51:12.213Z"
   },
   {
    "duration": 249,
    "start_time": "2021-07-22T17:51:22.781Z"
   },
   {
    "duration": 6,
    "start_time": "2021-07-22T17:51:25.044Z"
   },
   {
    "duration": 235,
    "start_time": "2021-07-22T17:51:34.060Z"
   },
   {
    "duration": 6,
    "start_time": "2021-07-22T17:51:35.333Z"
   },
   {
    "duration": 383,
    "start_time": "2021-07-22T17:51:45.348Z"
   },
   {
    "duration": 5,
    "start_time": "2021-07-22T17:51:45.820Z"
   },
   {
    "duration": 204,
    "start_time": "2021-07-22T17:52:14.524Z"
   },
   {
    "duration": 5949,
    "start_time": "2021-07-22T17:52:14.731Z"
   },
   {
    "duration": 1078,
    "start_time": "2021-07-22T17:52:20.683Z"
   },
   {
    "duration": 5912,
    "start_time": "2021-07-22T17:52:21.767Z"
   },
   {
    "duration": 7,
    "start_time": "2021-07-22T17:52:27.682Z"
   },
   {
    "duration": 31,
    "start_time": "2021-07-22T17:52:27.691Z"
   },
   {
    "duration": 50,
    "start_time": "2021-07-22T17:52:27.725Z"
   },
   {
    "duration": 43,
    "start_time": "2021-07-22T17:52:27.778Z"
   },
   {
    "duration": 430,
    "start_time": "2021-07-22T17:52:27.824Z"
   },
   {
    "duration": 217,
    "start_time": "2021-07-22T17:53:12.562Z"
   },
   {
    "duration": 1700,
    "start_time": "2021-07-22T17:53:12.782Z"
   },
   {
    "duration": 5709,
    "start_time": "2021-07-22T17:53:14.485Z"
   },
   {
    "duration": 1001,
    "start_time": "2021-07-22T17:53:20.197Z"
   },
   {
    "duration": 9,
    "start_time": "2021-07-22T17:53:21.201Z"
   },
   {
    "duration": 66,
    "start_time": "2021-07-22T17:53:21.213Z"
   },
   {
    "duration": 418,
    "start_time": "2021-07-22T17:54:34.449Z"
   },
   {
    "duration": 194,
    "start_time": "2021-07-22T17:54:37.904Z"
   },
   {
    "duration": 1703,
    "start_time": "2021-07-22T17:54:38.101Z"
   },
   {
    "duration": 5660,
    "start_time": "2021-07-22T17:54:39.807Z"
   },
   {
    "duration": 1108,
    "start_time": "2021-07-22T17:54:45.470Z"
   },
   {
    "duration": 6,
    "start_time": "2021-07-22T17:54:46.580Z"
   },
   {
    "duration": 53,
    "start_time": "2021-07-22T17:54:46.589Z"
   },
   {
    "duration": 6,
    "start_time": "2021-07-22T20:44:12.223Z"
   },
   {
    "duration": 11,
    "start_time": "2021-07-22T20:44:12.469Z"
   },
   {
    "duration": 20,
    "start_time": "2021-07-22T20:44:12.678Z"
   },
   {
    "duration": 55,
    "start_time": "2021-07-22T20:44:13.126Z"
   },
   {
    "duration": 389,
    "start_time": "2021-07-22T20:55:32.733Z"
   },
   {
    "duration": 6,
    "start_time": "2021-07-22T20:55:45.149Z"
   },
   {
    "duration": 427,
    "start_time": "2021-07-22T20:58:25.337Z"
   },
   {
    "duration": 391,
    "start_time": "2021-07-22T21:00:35.926Z"
   },
   {
    "duration": 95,
    "start_time": "2021-07-22T21:00:48.259Z"
   },
   {
    "duration": 397,
    "start_time": "2021-07-22T21:00:56.630Z"
   },
   {
    "duration": 5883,
    "start_time": "2021-07-22T21:01:32.125Z"
   },
   {
    "duration": 1216,
    "start_time": "2021-07-22T21:01:38.012Z"
   },
   {
    "duration": 5952,
    "start_time": "2021-07-22T21:01:39.231Z"
   },
   {
    "duration": 6,
    "start_time": "2021-07-22T21:01:45.186Z"
   },
   {
    "duration": 24,
    "start_time": "2021-07-22T21:01:45.195Z"
   },
   {
    "duration": 2005,
    "start_time": "2021-07-22T21:02:02.156Z"
   },
   {
    "duration": 201,
    "start_time": "2021-07-22T21:02:11.071Z"
   },
   {
    "duration": 1647,
    "start_time": "2021-07-22T21:02:11.274Z"
   },
   {
    "duration": 5731,
    "start_time": "2021-07-22T21:02:12.924Z"
   },
   {
    "duration": 982,
    "start_time": "2021-07-22T21:02:18.659Z"
   },
   {
    "duration": 27,
    "start_time": "2021-07-22T21:02:19.644Z"
   },
   {
    "duration": 43,
    "start_time": "2021-07-22T21:02:19.673Z"
   },
   {
    "duration": 49,
    "start_time": "2021-07-22T21:02:19.719Z"
   },
   {
    "duration": 37,
    "start_time": "2021-07-22T21:02:19.771Z"
   },
   {
    "duration": 363,
    "start_time": "2021-07-22T21:02:19.810Z"
   },
   {
    "duration": 4,
    "start_time": "2021-07-22T21:02:59.931Z"
   },
   {
    "duration": 45,
    "start_time": "2021-07-22T21:03:00.155Z"
   },
   {
    "duration": 6202,
    "start_time": "2021-07-22T21:10:49.831Z"
   },
   {
    "duration": 23,
    "start_time": "2021-07-22T21:10:56.688Z"
   },
   {
    "duration": 2579,
    "start_time": "2021-07-22T21:10:57.553Z"
   },
   {
    "duration": 82,
    "start_time": "2021-07-22T21:11:00.134Z"
   },
   {
    "duration": 449,
    "start_time": "2021-07-22T21:11:00.219Z"
   },
   {
    "duration": 208,
    "start_time": "2021-07-22T21:11:00.671Z"
   },
   {
    "duration": 1732,
    "start_time": "2021-07-22T21:11:00.881Z"
   },
   {
    "duration": 6076,
    "start_time": "2021-07-22T21:11:02.615Z"
   },
   {
    "duration": 984,
    "start_time": "2021-07-22T21:11:08.693Z"
   },
   {
    "duration": 10,
    "start_time": "2021-07-22T21:11:09.680Z"
   },
   {
    "duration": 10,
    "start_time": "2021-07-22T21:11:09.693Z"
   },
   {
    "duration": 18,
    "start_time": "2021-07-22T21:11:09.706Z"
   },
   {
    "duration": 43,
    "start_time": "2021-07-22T21:11:09.766Z"
   },
   {
    "duration": 10,
    "start_time": "2021-07-22T21:13:44.732Z"
   },
   {
    "duration": 4,
    "start_time": "2021-07-22T21:13:45.499Z"
   },
   {
    "duration": 606,
    "start_time": "2021-07-22T21:13:46.292Z"
   },
   {
    "duration": 26,
    "start_time": "2021-07-22T21:14:02.188Z"
   },
   {
    "duration": 578,
    "start_time": "2021-07-22T21:14:02.915Z"
   },
   {
    "duration": 14,
    "start_time": "2021-07-22T21:14:21.139Z"
   },
   {
    "duration": 659,
    "start_time": "2021-07-22T21:14:23.315Z"
   },
   {
    "duration": 4,
    "start_time": "2021-07-22T21:14:40.139Z"
   },
   {
    "duration": 986,
    "start_time": "2021-07-22T21:14:42.018Z"
   },
   {
    "duration": 621,
    "start_time": "2021-07-22T21:14:59.098Z"
   },
   {
    "duration": 13,
    "start_time": "2021-07-22T21:15:17.866Z"
   },
   {
    "duration": 31823,
    "start_time": "2021-07-22T21:15:20.801Z"
   },
   {
    "duration": 145,
    "start_time": "2021-07-22T21:16:05.520Z"
   },
   {
    "duration": 136,
    "start_time": "2021-07-22T21:16:30.736Z"
   },
   {
    "duration": 5,
    "start_time": "2021-07-22T21:16:38.151Z"
   },
   {
    "duration": 13769,
    "start_time": "2021-07-22T21:16:39.320Z"
   },
   {
    "duration": 10800,
    "start_time": "2021-07-22T21:16:58.776Z"
   },
   {
    "duration": 4,
    "start_time": "2021-07-22T21:17:21.080Z"
   },
   {
    "duration": 11635,
    "start_time": "2021-07-22T21:17:21.734Z"
   },
   {
    "duration": 8,
    "start_time": "2021-07-22T21:18:15.501Z"
   },
   {
    "duration": 10,
    "start_time": "2021-07-22T21:18:20.053Z"
   },
   {
    "duration": 11,
    "start_time": "2021-07-22T21:18:35.716Z"
   },
   {
    "duration": 6,
    "start_time": "2021-07-22T21:18:55.684Z"
   },
   {
    "duration": 10,
    "start_time": "2021-07-22T21:18:56.452Z"
   },
   {
    "duration": 20,
    "start_time": "2021-07-22T21:18:57.436Z"
   },
   {
    "duration": 44,
    "start_time": "2021-07-22T21:18:59.083Z"
   },
   {
    "duration": 19,
    "start_time": "2021-07-22T21:19:25.291Z"
   },
   {
    "duration": 4,
    "start_time": "2021-07-22T21:19:25.795Z"
   },
   {
    "duration": 40,
    "start_time": "2021-07-22T21:19:28.227Z"
   },
   {
    "duration": 10,
    "start_time": "2021-07-22T21:20:08.834Z"
   },
   {
    "duration": 41,
    "start_time": "2021-07-22T21:20:15.882Z"
   },
   {
    "duration": 398,
    "start_time": "2021-07-22T21:20:26.115Z"
   },
   {
    "duration": 10,
    "start_time": "2021-07-22T21:20:30.962Z"
   },
   {
    "duration": 4,
    "start_time": "2021-07-22T21:20:41.802Z"
   },
   {
    "duration": 5967,
    "start_time": "2021-07-22T21:20:42.066Z"
   },
   {
    "duration": 15,
    "start_time": "2021-07-22T21:20:56.570Z"
   },
   {
    "duration": 4,
    "start_time": "2021-07-22T21:21:01.384Z"
   },
   {
    "duration": 19,
    "start_time": "2021-07-22T21:21:01.721Z"
   },
   {
    "duration": 11,
    "start_time": "2021-07-22T21:21:14.184Z"
   },
   {
    "duration": 8,
    "start_time": "2021-07-22T21:21:27.088Z"
   },
   {
    "duration": 7,
    "start_time": "2021-07-22T21:21:37.688Z"
   },
   {
    "duration": 4,
    "start_time": "2021-07-22T21:21:42.880Z"
   },
   {
    "duration": 16,
    "start_time": "2021-07-22T21:21:43.456Z"
   },
   {
    "duration": 3,
    "start_time": "2021-07-22T21:21:58.672Z"
   },
   {
    "duration": 5961,
    "start_time": "2021-07-22T21:21:59.337Z"
   },
   {
    "duration": 16,
    "start_time": "2021-07-22T21:22:17.583Z"
   },
   {
    "duration": 6,
    "start_time": "2021-07-22T21:22:44.518Z"
   },
   {
    "duration": 115,
    "start_time": "2021-07-22T21:24:12.548Z"
   },
   {
    "duration": 153,
    "start_time": "2021-07-22T21:24:31.036Z"
   },
   {
    "duration": 5220,
    "start_time": "2021-07-22T21:24:34.851Z"
   },
   {
    "duration": 7,
    "start_time": "2021-07-22T21:24:47.620Z"
   },
   {
    "duration": 10,
    "start_time": "2021-07-22T21:24:47.811Z"
   },
   {
    "duration": 18,
    "start_time": "2021-07-22T21:24:48.011Z"
   },
   {
    "duration": 127,
    "start_time": "2021-07-22T21:24:48.204Z"
   },
   {
    "duration": 6,
    "start_time": "2021-07-22T21:24:55.459Z"
   },
   {
    "duration": 6,
    "start_time": "2021-07-22T21:25:04.083Z"
   },
   {
    "duration": 4,
    "start_time": "2021-07-22T21:25:23.419Z"
   },
   {
    "duration": 108,
    "start_time": "2021-07-22T21:25:26.490Z"
   },
   {
    "duration": 4,
    "start_time": "2021-07-22T21:29:36.940Z"
   },
   {
    "duration": 205441,
    "start_time": "2021-07-22T21:29:37.365Z"
   },
   {
    "duration": 3601,
    "start_time": "2021-07-22T21:33:54.966Z"
   },
   {
    "duration": 3,
    "start_time": "2021-07-22T21:33:58.570Z"
   },
   {
    "duration": 48693,
    "start_time": "2021-07-22T21:33:58.578Z"
   },
   {
    "duration": 102,
    "start_time": "2021-07-22T21:34:47.275Z"
   },
   {
    "duration": 11733,
    "start_time": "2021-07-22T21:34:47.380Z"
   },
   {
    "duration": 6364,
    "start_time": "2021-07-22T21:34:59.115Z"
   },
   {
    "duration": 54798,
    "start_time": "2021-07-22T21:35:05.481Z"
   },
   {
    "duration": 183770,
    "start_time": "2021-07-22T21:36:00.283Z"
   },
   {
    "duration": 32067,
    "start_time": "2021-07-22T21:39:04.057Z"
   },
   {
    "duration": 118,
    "start_time": "2021-07-22T21:39:36.127Z"
   },
   {
    "duration": 91,
    "start_time": "2021-07-22T21:39:36.247Z"
   },
   {
    "duration": 134,
    "start_time": "2021-07-22T21:39:36.340Z"
   },
   {
    "duration": 3712,
    "start_time": "2021-07-22T21:39:36.477Z"
   },
   {
    "duration": 5,
    "start_time": "2021-07-22T21:39:40.191Z"
   },
   {
    "duration": 9,
    "start_time": "2021-07-22T21:39:40.199Z"
   },
   {
    "duration": 42560,
    "start_time": "2021-07-22T21:39:40.210Z"
   },
   {
    "duration": 20,
    "start_time": "2021-07-22T21:41:40.931Z"
   },
   {
    "duration": 11,
    "start_time": "2021-07-22T21:41:42.003Z"
   },
   {
    "duration": 5,
    "start_time": "2021-07-22T21:41:46.939Z"
   },
   {
    "duration": 5605,
    "start_time": "2021-07-22T21:41:48.083Z"
   },
   {
    "duration": 20,
    "start_time": "2021-07-22T21:41:53.692Z"
   },
   {
    "duration": 8,
    "start_time": "2021-07-22T21:41:53.715Z"
   },
   {
    "duration": 10,
    "start_time": "2021-07-22T21:41:53.725Z"
   },
   {
    "duration": 32,
    "start_time": "2021-07-22T21:41:53.738Z"
   },
   {
    "duration": 21456,
    "start_time": "2021-07-22T21:41:54.619Z"
   },
   {
    "duration": 93,
    "start_time": "2021-07-22T21:42:16.078Z"
   },
   {
    "duration": 20,
    "start_time": "2021-07-22T21:42:16.175Z"
   },
   {
    "duration": 72,
    "start_time": "2021-07-22T21:42:16.198Z"
   },
   {
    "duration": 2105,
    "start_time": "2021-07-22T21:42:49.929Z"
   },
   {
    "duration": 3678,
    "start_time": "2021-07-22T21:43:13.857Z"
   },
   {
    "duration": 18590,
    "start_time": "2021-07-22T21:43:21.281Z"
   },
   {
    "duration": 385,
    "start_time": "2021-07-22T21:44:00.288Z"
   },
   {
    "duration": 9,
    "start_time": "2021-07-22T21:44:47.950Z"
   },
   {
    "duration": 10,
    "start_time": "2021-07-22T21:44:48.143Z"
   },
   {
    "duration": 5150,
    "start_time": "2021-07-22T21:44:48.374Z"
   },
   {
    "duration": 3,
    "start_time": "2021-07-22T21:44:53.527Z"
   },
   {
    "duration": 408,
    "start_time": "2021-07-22T21:47:02.360Z"
   },
   {
    "duration": 349,
    "start_time": "2021-07-22T21:47:08.107Z"
   },
   {
    "duration": 8371,
    "start_time": "2021-07-22T21:47:13.302Z"
   },
   {
    "duration": 15,
    "start_time": "2021-07-22T21:47:21.676Z"
   },
   {
    "duration": 3891,
    "start_time": "2021-07-22T21:47:21.694Z"
   },
   {
    "duration": 3,
    "start_time": "2021-07-22T21:47:25.588Z"
   },
   {
    "duration": 49255,
    "start_time": "2021-07-22T21:47:25.593Z"
   },
   {
    "duration": 1994,
    "start_time": "2021-07-22T21:48:14.851Z"
   },
   {
    "duration": 11624,
    "start_time": "2021-07-22T21:48:16.847Z"
   },
   {
    "duration": 6477,
    "start_time": "2021-07-22T21:48:28.477Z"
   },
   {
    "duration": 54677,
    "start_time": "2021-07-22T21:48:34.958Z"
   },
   {
    "duration": -593,
    "start_time": "2021-07-22T21:49:30.232Z"
   },
   {
    "duration": -593,
    "start_time": "2021-07-22T21:49:30.233Z"
   },
   {
    "duration": -594,
    "start_time": "2021-07-22T21:49:30.235Z"
   },
   {
    "duration": -593,
    "start_time": "2021-07-22T21:49:30.236Z"
   },
   {
    "duration": -593,
    "start_time": "2021-07-22T21:49:30.237Z"
   },
   {
    "duration": -596,
    "start_time": "2021-07-22T21:49:30.241Z"
   },
   {
    "duration": -595,
    "start_time": "2021-07-22T21:49:30.242Z"
   },
   {
    "duration": -596,
    "start_time": "2021-07-22T21:49:30.244Z"
   },
   {
    "duration": -595,
    "start_time": "2021-07-22T21:49:30.244Z"
   },
   {
    "duration": -597,
    "start_time": "2021-07-22T21:49:30.248Z"
   },
   {
    "duration": -597,
    "start_time": "2021-07-22T21:49:30.249Z"
   },
   {
    "duration": -598,
    "start_time": "2021-07-22T21:49:30.251Z"
   },
   {
    "duration": -598,
    "start_time": "2021-07-22T21:49:30.252Z"
   },
   {
    "duration": -601,
    "start_time": "2021-07-22T21:49:30.257Z"
   },
   {
    "duration": -600,
    "start_time": "2021-07-22T21:49:30.257Z"
   },
   {
    "duration": -602,
    "start_time": "2021-07-22T21:49:30.260Z"
   },
   {
    "duration": -606,
    "start_time": "2021-07-22T21:49:30.265Z"
   },
   {
    "duration": -606,
    "start_time": "2021-07-22T21:49:30.267Z"
   },
   {
    "duration": -607,
    "start_time": "2021-07-22T21:49:30.269Z"
   },
   {
    "duration": -610,
    "start_time": "2021-07-22T21:49:30.274Z"
   },
   {
    "duration": -610,
    "start_time": "2021-07-22T21:49:30.275Z"
   },
   {
    "duration": -611,
    "start_time": "2021-07-22T21:49:30.278Z"
   },
   {
    "duration": -615,
    "start_time": "2021-07-22T21:49:30.283Z"
   },
   {
    "duration": -615,
    "start_time": "2021-07-22T21:49:30.284Z"
   },
   {
    "duration": 4810,
    "start_time": "2021-07-23T06:50:30.717Z"
   },
   {
    "duration": 19908,
    "start_time": "2021-07-23T06:50:35.529Z"
   },
   {
    "duration": 6904,
    "start_time": "2021-07-23T06:50:55.440Z"
   },
   {
    "duration": 14,
    "start_time": "2021-07-23T06:51:02.347Z"
   },
   {
    "duration": 6989,
    "start_time": "2021-07-23T06:51:02.364Z"
   },
   {
    "duration": 3,
    "start_time": "2021-07-23T06:51:09.356Z"
   },
   {
    "duration": 48656,
    "start_time": "2021-07-23T06:51:09.367Z"
   },
   {
    "duration": 777,
    "start_time": "2021-07-23T06:51:58.026Z"
   },
   {
    "duration": 11631,
    "start_time": "2021-07-23T06:51:58.807Z"
   },
   {
    "duration": 6454,
    "start_time": "2021-07-23T06:52:10.442Z"
   },
   {
    "duration": 53286,
    "start_time": "2021-07-23T06:52:16.898Z"
   },
   {
    "duration": 180170,
    "start_time": "2021-07-23T06:53:10.186Z"
   },
   {
    "duration": 36241,
    "start_time": "2021-07-23T06:56:10.358Z"
   },
   {
    "duration": 122,
    "start_time": "2021-07-23T06:56:46.602Z"
   },
   {
    "duration": 108,
    "start_time": "2021-07-23T06:56:46.726Z"
   },
   {
    "duration": 163,
    "start_time": "2021-07-23T06:56:46.837Z"
   },
   {
    "duration": 4131,
    "start_time": "2021-07-23T06:56:47.002Z"
   },
   {
    "duration": 4,
    "start_time": "2021-07-23T06:56:51.135Z"
   },
   {
    "duration": 9437,
    "start_time": "2021-07-23T06:56:51.141Z"
   },
   {
    "duration": 20,
    "start_time": "2021-07-23T06:57:00.581Z"
   },
   {
    "duration": 11,
    "start_time": "2021-07-23T06:57:00.603Z"
   },
   {
    "duration": 5311,
    "start_time": "2021-07-23T06:57:00.617Z"
   },
   {
    "duration": 26,
    "start_time": "2021-07-23T06:57:05.930Z"
   },
   {
    "duration": 10,
    "start_time": "2021-07-23T06:57:05.959Z"
   },
   {
    "duration": 6,
    "start_time": "2021-07-23T06:57:05.971Z"
   },
   {
    "duration": 8,
    "start_time": "2021-07-23T06:57:05.979Z"
   },
   {
    "duration": 21790,
    "start_time": "2021-07-23T06:57:05.992Z"
   },
   {
    "duration": 92,
    "start_time": "2021-07-23T06:57:27.785Z"
   },
   {
    "duration": 22,
    "start_time": "2021-07-23T06:57:27.880Z"
   },
   {
    "duration": 40,
    "start_time": "2021-07-23T06:57:27.905Z"
   },
   {
    "duration": 3,
    "start_time": "2021-07-23T06:57:27.948Z"
   },
   {
    "duration": 18,
    "start_time": "2021-07-23T06:57:27.954Z"
   },
   {
    "duration": 15,
    "start_time": "2021-07-23T06:57:27.975Z"
   },
   {
    "duration": 9,
    "start_time": "2021-07-23T06:57:27.993Z"
   },
   {
    "duration": 6540,
    "start_time": "2021-07-23T06:57:28.005Z"
   },
   {
    "duration": 3611,
    "start_time": "2021-07-23T07:44:29.051Z"
   },
   {
    "duration": 3575,
    "start_time": "2021-07-23T07:44:32.664Z"
   },
   {
    "duration": 6952,
    "start_time": "2021-07-23T07:44:36.242Z"
   },
   {
    "duration": 15,
    "start_time": "2021-07-23T07:44:43.197Z"
   },
   {
    "duration": 3580,
    "start_time": "2021-07-23T07:44:43.215Z"
   },
   {
    "duration": 3,
    "start_time": "2021-07-23T07:44:46.797Z"
   },
   {
    "duration": 48149,
    "start_time": "2021-07-23T07:44:46.802Z"
   },
   {
    "duration": 726,
    "start_time": "2021-07-23T07:45:34.954Z"
   },
   {
    "duration": 11946,
    "start_time": "2021-07-23T07:45:35.683Z"
   },
   {
    "duration": 6090,
    "start_time": "2021-07-23T07:45:47.631Z"
   },
   {
    "duration": 53704,
    "start_time": "2021-07-23T07:45:53.723Z"
   },
   {
    "duration": 184691,
    "start_time": "2021-07-23T07:46:47.430Z"
   },
   {
    "duration": 34838,
    "start_time": "2021-07-23T07:49:52.124Z"
   },
   {
    "duration": 117,
    "start_time": "2021-07-23T07:50:26.968Z"
   },
   {
    "duration": 96,
    "start_time": "2021-07-23T07:50:27.087Z"
   },
   {
    "duration": 119,
    "start_time": "2021-07-23T07:50:27.186Z"
   },
   {
    "duration": 3700,
    "start_time": "2021-07-23T07:50:27.308Z"
   },
   {
    "duration": 4,
    "start_time": "2021-07-23T07:50:31.010Z"
   },
   {
    "duration": 11648,
    "start_time": "2021-07-23T07:50:31.016Z"
   },
   {
    "duration": -88,
    "start_time": "2021-07-23T07:50:42.755Z"
   },
   {
    "duration": -89,
    "start_time": "2021-07-23T07:50:42.758Z"
   },
   {
    "duration": -90,
    "start_time": "2021-07-23T07:50:42.760Z"
   },
   {
    "duration": -96,
    "start_time": "2021-07-23T07:50:42.767Z"
   },
   {
    "duration": -97,
    "start_time": "2021-07-23T07:50:42.769Z"
   },
   {
    "duration": -97,
    "start_time": "2021-07-23T07:50:42.771Z"
   },
   {
    "duration": -98,
    "start_time": "2021-07-23T07:50:42.773Z"
   },
   {
    "duration": -100,
    "start_time": "2021-07-23T07:50:42.776Z"
   },
   {
    "duration": -100,
    "start_time": "2021-07-23T07:50:42.778Z"
   },
   {
    "duration": -102,
    "start_time": "2021-07-23T07:50:42.781Z"
   },
   {
    "duration": -103,
    "start_time": "2021-07-23T07:50:42.783Z"
   },
   {
    "duration": -105,
    "start_time": "2021-07-23T07:50:42.786Z"
   },
   {
    "duration": -104,
    "start_time": "2021-07-23T07:50:42.787Z"
   },
   {
    "duration": -106,
    "start_time": "2021-07-23T07:50:42.790Z"
   },
   {
    "duration": -107,
    "start_time": "2021-07-23T07:50:42.793Z"
   },
   {
    "duration": -108,
    "start_time": "2021-07-23T07:50:42.795Z"
   },
   {
    "duration": 4,
    "start_time": "2021-07-23T09:53:53.217Z"
   },
   {
    "duration": 2668168,
    "start_time": "2021-07-23T09:53:53.543Z"
   },
   {
    "duration": 18,
    "start_time": "2021-07-23T12:56:27.887Z"
   },
   {
    "duration": 11,
    "start_time": "2021-07-23T12:56:28.192Z"
   },
   {
    "duration": 5445,
    "start_time": "2021-07-23T12:56:28.429Z"
   },
   {
    "duration": 26,
    "start_time": "2021-07-23T12:56:33.877Z"
   },
   {
    "duration": 9,
    "start_time": "2021-07-23T12:56:33.905Z"
   },
   {
    "duration": 8,
    "start_time": "2021-07-23T12:56:33.916Z"
   },
   {
    "duration": 8,
    "start_time": "2021-07-23T12:56:33.926Z"
   },
   {
    "duration": 31047,
    "start_time": "2021-07-23T12:56:33.936Z"
   },
   {
    "duration": 92,
    "start_time": "2021-07-23T12:57:04.986Z"
   },
   {
    "duration": 9,
    "start_time": "2021-07-23T12:57:05.081Z"
   },
   {
    "duration": 21,
    "start_time": "2021-07-23T12:59:43.342Z"
   },
   {
    "duration": 3718,
    "start_time": "2021-07-23T13:24:12.585Z"
   },
   {
    "duration": 3488,
    "start_time": "2021-07-23T13:24:16.307Z"
   },
   {
    "duration": 6379,
    "start_time": "2021-07-23T13:24:19.800Z"
   },
   {
    "duration": 15,
    "start_time": "2021-07-23T13:24:26.182Z"
   },
   {
    "duration": 3608,
    "start_time": "2021-07-23T13:24:26.199Z"
   },
   {
    "duration": 3,
    "start_time": "2021-07-23T13:24:29.809Z"
   },
   {
    "duration": 48772,
    "start_time": "2021-07-23T13:24:29.814Z"
   },
   {
    "duration": 1784,
    "start_time": "2021-07-23T13:25:18.589Z"
   },
   {
    "duration": 12739,
    "start_time": "2021-07-23T13:25:20.376Z"
   },
   {
    "duration": 6331,
    "start_time": "2021-07-23T13:25:33.119Z"
   },
   {
    "duration": 54080,
    "start_time": "2021-07-23T13:25:39.453Z"
   },
   {
    "duration": 193293,
    "start_time": "2021-07-23T13:26:33.536Z"
   },
   {
    "duration": 36796,
    "start_time": "2021-07-23T13:29:46.832Z"
   },
   {
    "duration": 121,
    "start_time": "2021-07-23T13:30:23.630Z"
   },
   {
    "duration": 96,
    "start_time": "2021-07-23T13:30:23.754Z"
   },
   {
    "duration": 170,
    "start_time": "2021-07-23T13:30:23.853Z"
   },
   {
    "duration": 3982,
    "start_time": "2021-07-23T13:30:24.026Z"
   },
   {
    "duration": 4,
    "start_time": "2021-07-23T13:30:28.011Z"
   },
   {
    "duration": 2716898,
    "start_time": "2021-07-23T13:30:28.017Z"
   },
   {
    "duration": 55,
    "start_time": "2021-07-23T14:15:44.917Z"
   },
   {
    "duration": 11,
    "start_time": "2021-07-23T14:15:44.974Z"
   },
   {
    "duration": 5211,
    "start_time": "2021-07-23T14:15:44.987Z"
   },
   {
    "duration": 43,
    "start_time": "2021-07-23T14:15:50.201Z"
   },
   {
    "duration": 21,
    "start_time": "2021-07-23T14:15:50.247Z"
   },
   {
    "duration": 6,
    "start_time": "2021-07-23T14:15:50.270Z"
   },
   {
    "duration": 7,
    "start_time": "2021-07-23T14:15:50.278Z"
   },
   {
    "duration": 48128,
    "start_time": "2021-07-23T14:15:50.290Z"
   },
   {
    "duration": 77,
    "start_time": "2021-07-23T14:16:38.454Z"
   },
   {
    "duration": 22,
    "start_time": "2021-07-23T14:16:38.533Z"
   },
   {
    "duration": 1535,
    "start_time": "2021-07-23T14:16:38.557Z"
   },
   {
    "duration": -258,
    "start_time": "2021-07-23T14:16:40.353Z"
   },
   {
    "duration": 6,
    "start_time": "2021-07-23T15:14:55.035Z"
   },
   {
    "duration": 7,
    "start_time": "2021-07-23T15:15:02.669Z"
   },
   {
    "duration": 6,
    "start_time": "2021-07-23T15:15:14.190Z"
   },
   {
    "duration": 7,
    "start_time": "2021-07-23T15:15:16.621Z"
   },
   {
    "duration": 650,
    "start_time": "2021-07-23T15:15:26.673Z"
   },
   {
    "duration": 348,
    "start_time": "2021-07-23T15:15:40.316Z"
   },
   {
    "duration": 3,
    "start_time": "2021-07-23T15:16:47.987Z"
   },
   {
    "duration": 361,
    "start_time": "2021-07-23T15:16:51.391Z"
   },
   {
    "duration": 6,
    "start_time": "2021-07-23T15:17:15.010Z"
   },
   {
    "duration": 6,
    "start_time": "2021-07-23T15:17:36.500Z"
   },
   {
    "duration": 19,
    "start_time": "2021-07-23T15:18:00.401Z"
   },
   {
    "duration": 11,
    "start_time": "2021-07-23T15:18:00.606Z"
   },
   {
    "duration": 404,
    "start_time": "2021-07-23T15:18:32.897Z"
   },
   {
    "duration": 3322,
    "start_time": "2021-07-23T15:18:39.356Z"
   },
   {
    "duration": 3480,
    "start_time": "2021-07-23T15:18:42.682Z"
   },
   {
    "duration": 6559,
    "start_time": "2021-07-23T15:18:46.167Z"
   },
   {
    "duration": 15,
    "start_time": "2021-07-23T15:18:52.729Z"
   },
   {
    "duration": 5023,
    "start_time": "2021-07-23T15:18:52.747Z"
   },
   {
    "duration": 3,
    "start_time": "2021-07-23T15:18:57.773Z"
   },
   {
    "duration": 49149,
    "start_time": "2021-07-23T15:18:57.778Z"
   },
   {
    "duration": 1814,
    "start_time": "2021-07-23T15:19:46.931Z"
   },
   {
    "duration": 11735,
    "start_time": "2021-07-23T15:19:48.748Z"
   },
   {
    "duration": 6053,
    "start_time": "2021-07-23T15:20:00.485Z"
   },
   {
    "duration": 53391,
    "start_time": "2021-07-23T15:20:06.540Z"
   },
   {
    "duration": 183005,
    "start_time": "2021-07-23T15:20:59.933Z"
   },
   {
    "duration": 34515,
    "start_time": "2021-07-23T15:24:02.941Z"
   },
   {
    "duration": 120,
    "start_time": "2021-07-23T15:24:37.459Z"
   },
   {
    "duration": 95,
    "start_time": "2021-07-23T15:24:37.582Z"
   },
   {
    "duration": 116,
    "start_time": "2021-07-23T15:24:37.680Z"
   },
   {
    "duration": 3835,
    "start_time": "2021-07-23T15:24:37.798Z"
   },
   {
    "duration": 5,
    "start_time": "2021-07-23T15:24:41.636Z"
   },
   {
    "duration": 2692969,
    "start_time": "2021-07-23T15:24:41.645Z"
   },
   {
    "duration": 55,
    "start_time": "2021-07-23T16:09:34.618Z"
   },
   {
    "duration": 11,
    "start_time": "2021-07-23T16:09:34.676Z"
   },
   {
    "duration": 5208,
    "start_time": "2021-07-23T16:09:34.689Z"
   },
   {
    "duration": 126,
    "start_time": "2021-07-23T16:09:39.901Z"
   },
   {
    "duration": 5,
    "start_time": "2021-07-23T16:09:40.030Z"
   },
   {
    "duration": 17,
    "start_time": "2021-07-23T16:09:40.037Z"
   },
   {
    "duration": 14,
    "start_time": "2021-07-23T16:09:40.056Z"
   },
   {
    "duration": 237685,
    "start_time": "2021-07-23T16:09:40.073Z"
   },
   {
    "duration": 131,
    "start_time": "2021-07-23T16:13:37.838Z"
   },
   {
    "duration": 28,
    "start_time": "2021-07-23T16:13:37.971Z"
   },
   {
    "duration": 139,
    "start_time": "2021-07-23T16:13:38.001Z"
   },
   {
    "duration": 3311,
    "start_time": "2021-07-24T13:48:01.189Z"
   },
   {
    "duration": 3235,
    "start_time": "2021-07-24T13:48:04.503Z"
   },
   {
    "duration": 6145,
    "start_time": "2021-07-24T13:48:07.745Z"
   },
   {
    "duration": 14,
    "start_time": "2021-07-24T13:48:13.893Z"
   },
   {
    "duration": 5174,
    "start_time": "2021-07-24T13:48:13.910Z"
   },
   {
    "duration": 3,
    "start_time": "2021-07-24T13:48:19.086Z"
   },
   {
    "duration": 49657,
    "start_time": "2021-07-24T13:48:19.093Z"
   },
   {
    "duration": 1932,
    "start_time": "2021-07-24T13:49:08.753Z"
   },
   {
    "duration": 11917,
    "start_time": "2021-07-24T13:49:10.688Z"
   },
   {
    "duration": 6286,
    "start_time": "2021-07-24T13:49:22.607Z"
   },
   {
    "duration": 55358,
    "start_time": "2021-07-24T13:49:28.895Z"
   },
   {
    "duration": 185792,
    "start_time": "2021-07-24T13:50:24.256Z"
   },
   {
    "duration": 35591,
    "start_time": "2021-07-24T13:53:30.050Z"
   },
   {
    "duration": 124,
    "start_time": "2021-07-24T13:54:05.643Z"
   },
   {
    "duration": 102,
    "start_time": "2021-07-24T13:54:05.769Z"
   },
   {
    "duration": 126,
    "start_time": "2021-07-24T13:54:05.873Z"
   },
   {
    "duration": 3889,
    "start_time": "2021-07-24T13:54:06.001Z"
   },
   {
    "duration": 4,
    "start_time": "2021-07-24T13:54:09.892Z"
   },
   {
    "duration": 2773003,
    "start_time": "2021-07-24T13:54:09.898Z"
   },
   {
    "duration": 17,
    "start_time": "2021-07-24T14:40:22.904Z"
   },
   {
    "duration": 10,
    "start_time": "2021-07-24T14:40:22.924Z"
   },
   {
    "duration": 5143,
    "start_time": "2021-07-24T14:40:22.939Z"
   },
   {
    "duration": 109,
    "start_time": "2021-07-24T14:40:28.085Z"
   },
   {
    "duration": 4,
    "start_time": "2021-07-24T14:40:28.197Z"
   },
   {
    "duration": 8,
    "start_time": "2021-07-24T14:40:28.204Z"
   },
   {
    "duration": 9,
    "start_time": "2021-07-24T14:40:28.215Z"
   },
   {
    "duration": 371,
    "start_time": "2021-07-24T14:48:26.139Z"
   },
   {
    "duration": 3282,
    "start_time": "2021-07-24T14:48:37.112Z"
   },
   {
    "duration": 3359,
    "start_time": "2021-07-24T14:48:40.401Z"
   },
   {
    "duration": 6707,
    "start_time": "2021-07-24T14:48:43.763Z"
   },
   {
    "duration": 15,
    "start_time": "2021-07-24T14:48:50.472Z"
   },
   {
    "duration": 4902,
    "start_time": "2021-07-24T14:48:50.490Z"
   },
   {
    "duration": 3,
    "start_time": "2021-07-24T14:48:55.395Z"
   },
   {
    "duration": 48559,
    "start_time": "2021-07-24T14:48:55.400Z"
   },
   {
    "duration": 1930,
    "start_time": "2021-07-24T14:49:43.963Z"
   },
   {
    "duration": 12871,
    "start_time": "2021-07-24T14:49:45.896Z"
   },
   {
    "duration": 6527,
    "start_time": "2021-07-24T14:49:58.770Z"
   },
   {
    "duration": 55431,
    "start_time": "2021-07-24T14:50:05.300Z"
   },
   {
    "duration": 194073,
    "start_time": "2021-07-24T14:51:00.734Z"
   },
   {
    "duration": 36304,
    "start_time": "2021-07-24T14:54:14.809Z"
   },
   {
    "duration": 134,
    "start_time": "2021-07-24T14:54:51.116Z"
   },
   {
    "duration": 98,
    "start_time": "2021-07-24T14:54:51.253Z"
   },
   {
    "duration": 143,
    "start_time": "2021-07-24T14:54:51.353Z"
   },
   {
    "duration": 3986,
    "start_time": "2021-07-24T14:54:51.499Z"
   },
   {
    "duration": 4,
    "start_time": "2021-07-24T14:54:55.487Z"
   },
   {
    "duration": 3715,
    "start_time": "2021-07-24T15:24:37.067Z"
   },
   {
    "duration": 4070,
    "start_time": "2021-07-24T15:24:40.789Z"
   },
   {
    "duration": 6163,
    "start_time": "2021-07-24T15:24:44.862Z"
   },
   {
    "duration": 15,
    "start_time": "2021-07-24T15:24:51.027Z"
   },
   {
    "duration": 3450,
    "start_time": "2021-07-24T15:24:51.044Z"
   },
   {
    "duration": 3,
    "start_time": "2021-07-24T15:24:54.496Z"
   },
   {
    "duration": 48769,
    "start_time": "2021-07-24T15:24:54.504Z"
   },
   {
    "duration": 737,
    "start_time": "2021-07-24T15:25:43.276Z"
   },
   {
    "duration": 12030,
    "start_time": "2021-07-24T15:25:44.015Z"
   },
   {
    "duration": 6272,
    "start_time": "2021-07-24T15:25:56.047Z"
   },
   {
    "duration": 54834,
    "start_time": "2021-07-24T15:26:02.321Z"
   },
   {
    "duration": 198955,
    "start_time": "2021-07-24T15:26:57.157Z"
   },
   {
    "duration": 37983,
    "start_time": "2021-07-24T15:30:16.115Z"
   },
   {
    "duration": 129,
    "start_time": "2021-07-24T15:30:54.100Z"
   },
   {
    "duration": 104,
    "start_time": "2021-07-24T15:30:54.231Z"
   },
   {
    "duration": 132,
    "start_time": "2021-07-24T15:30:54.338Z"
   },
   {
    "duration": 4062,
    "start_time": "2021-07-24T15:30:54.472Z"
   },
   {
    "duration": 4,
    "start_time": "2021-07-24T15:30:58.537Z"
   },
   {
    "duration": 34,
    "start_time": "2021-07-24T15:44:01.475Z"
   },
   {
    "duration": 28,
    "start_time": "2021-07-24T15:44:01.483Z"
   },
   {
    "duration": 24,
    "start_time": "2021-07-24T15:44:01.488Z"
   },
   {
    "duration": 10,
    "start_time": "2021-07-24T15:44:01.510Z"
   },
   {
    "duration": 10933,
    "start_time": "2021-07-24T15:44:07.040Z"
   },
   {
    "duration": 704511,
    "start_time": "2021-07-24T15:44:51.613Z"
   },
   {
    "duration": 19,
    "start_time": "2021-07-24T15:56:40.943Z"
   },
   {
    "duration": 12,
    "start_time": "2021-07-24T15:56:41.514Z"
   },
   {
    "duration": 5297,
    "start_time": "2021-07-24T15:56:42.058Z"
   },
   {
    "duration": 309,
    "start_time": "2021-07-24T15:56:47.358Z"
   },
   {
    "duration": 5,
    "start_time": "2021-07-24T15:56:47.671Z"
   },
   {
    "duration": 12,
    "start_time": "2021-07-24T15:56:47.679Z"
   },
   {
    "duration": 8,
    "start_time": "2021-07-24T15:56:47.694Z"
   },
   {
    "duration": 232374,
    "start_time": "2021-07-24T15:56:47.704Z"
   },
   {
    "duration": 93,
    "start_time": "2021-07-24T16:00:40.080Z"
   },
   {
    "duration": 9,
    "start_time": "2021-07-24T16:00:40.177Z"
   },
   {
    "duration": 3344,
    "start_time": "2021-07-24T16:30:59.085Z"
   },
   {
    "duration": 3237,
    "start_time": "2021-07-24T16:31:02.432Z"
   },
   {
    "duration": 6028,
    "start_time": "2021-07-24T16:31:05.676Z"
   },
   {
    "duration": 62,
    "start_time": "2021-07-24T16:31:11.707Z"
   },
   {
    "duration": 3100,
    "start_time": "2021-07-24T16:31:11.771Z"
   },
   {
    "duration": 3,
    "start_time": "2021-07-24T16:31:14.874Z"
   },
   {
    "duration": 48145,
    "start_time": "2021-07-24T16:31:14.881Z"
   },
   {
    "duration": 747,
    "start_time": "2021-07-24T16:32:03.029Z"
   },
   {
    "duration": 11839,
    "start_time": "2021-07-24T16:32:03.779Z"
   },
   {
    "duration": 6275,
    "start_time": "2021-07-24T16:32:15.620Z"
   },
   {
    "duration": 54929,
    "start_time": "2021-07-24T16:32:21.897Z"
   },
   {
    "duration": 183701,
    "start_time": "2021-07-24T16:33:16.829Z"
   },
   {
    "duration": 34569,
    "start_time": "2021-07-24T16:36:20.533Z"
   },
   {
    "duration": 124,
    "start_time": "2021-07-24T16:36:55.104Z"
   },
   {
    "duration": 96,
    "start_time": "2021-07-24T16:36:55.230Z"
   },
   {
    "duration": 120,
    "start_time": "2021-07-24T16:36:55.329Z"
   },
   {
    "duration": 3708,
    "start_time": "2021-07-24T16:36:55.452Z"
   },
   {
    "duration": 4,
    "start_time": "2021-07-24T16:36:59.166Z"
   },
   {
    "duration": 10998,
    "start_time": "2021-07-24T16:36:59.172Z"
   },
   {
    "duration": 18,
    "start_time": "2021-07-24T16:37:10.172Z"
   },
   {
    "duration": 12,
    "start_time": "2021-07-24T16:37:10.192Z"
   },
   {
    "duration": 5312,
    "start_time": "2021-07-24T16:37:10.209Z"
   },
   {
    "duration": 106,
    "start_time": "2021-07-24T16:37:15.524Z"
   },
   {
    "duration": 5,
    "start_time": "2021-07-24T16:37:15.632Z"
   },
   {
    "duration": 9,
    "start_time": "2021-07-24T16:37:15.639Z"
   },
   {
    "duration": 7,
    "start_time": "2021-07-24T16:37:15.650Z"
   },
   {
    "duration": 195908,
    "start_time": "2021-07-24T16:37:15.660Z"
   },
   {
    "duration": 20,
    "start_time": "2021-07-24T16:40:31.571Z"
   },
   {
    "duration": 9,
    "start_time": "2021-07-24T16:40:31.593Z"
   },
   {
    "duration": 84,
    "start_time": "2021-07-24T16:40:31.605Z"
   },
   {
    "duration": 5668,
    "start_time": "2021-07-24T16:40:31.692Z"
   },
   {
    "duration": 3265,
    "start_time": "2021-07-24T17:09:07.715Z"
   },
   {
    "duration": 971,
    "start_time": "2021-07-24T17:09:45.367Z"
   },
   {
    "duration": 162979,
    "start_time": "2021-07-24T17:10:04.299Z"
   },
   {
    "duration": 146,
    "start_time": "2021-07-24T17:12:55.159Z"
   },
   {
    "duration": 104,
    "start_time": "2021-07-24T17:12:55.947Z"
   },
   {
    "duration": 125,
    "start_time": "2021-07-24T17:12:57.330Z"
   },
   {
    "duration": 4765,
    "start_time": "2021-07-24T17:12:58.394Z"
   },
   {
    "duration": 3,
    "start_time": "2021-07-24T17:13:04.747Z"
   },
   {
    "duration": 10878,
    "start_time": "2021-07-24T17:13:05.194Z"
   },
   {
    "duration": 6428,
    "start_time": "2021-07-24T17:13:16.075Z"
   },
   {
    "duration": 867,
    "start_time": "2021-07-24T17:15:30.328Z"
   },
   {
    "duration": 96,
    "start_time": "2021-07-24T17:15:33.015Z"
   },
   {
    "duration": 113,
    "start_time": "2021-07-24T17:15:33.543Z"
   },
   {
    "duration": 3927,
    "start_time": "2021-07-24T17:15:34.943Z"
   },
   {
    "duration": 3,
    "start_time": "2021-07-24T17:15:38.873Z"
   },
   {
    "duration": 15902,
    "start_time": "2021-07-24T17:15:38.878Z"
   },
   {
    "duration": 7243,
    "start_time": "2021-07-24T17:16:09.255Z"
   },
   {
    "duration": 6,
    "start_time": "2021-07-24T17:16:18.095Z"
   },
   {
    "duration": 8,
    "start_time": "2021-07-24T17:16:24.223Z"
   },
   {
    "duration": 5,
    "start_time": "2021-07-24T17:16:32.174Z"
   },
   {
    "duration": 4,
    "start_time": "2021-07-24T17:17:50.364Z"
   },
   {
    "duration": 11037,
    "start_time": "2021-07-24T17:17:50.836Z"
   },
   {
    "duration": 5422,
    "start_time": "2021-07-24T17:18:01.876Z"
   },
   {
    "duration": 4,
    "start_time": "2021-07-24T17:19:01.179Z"
   },
   {
    "duration": 426,
    "start_time": "2021-07-24T17:19:04.324Z"
   },
   {
    "duration": 48,
    "start_time": "2021-07-24T17:19:09.530Z"
   },
   {
    "duration": 93,
    "start_time": "2021-07-24T17:19:09.842Z"
   },
   {
    "duration": 3,
    "start_time": "2021-07-24T17:19:10.250Z"
   },
   {
    "duration": 9663,
    "start_time": "2021-07-24T17:19:11.789Z"
   },
   {
    "duration": 3,
    "start_time": "2021-07-24T17:19:21.455Z"
   },
   {
    "duration": 8900,
    "start_time": "2021-07-24T17:19:21.467Z"
   },
   {
    "duration": 4,
    "start_time": "2021-07-24T17:21:40.223Z"
   },
   {
    "duration": 8844,
    "start_time": "2021-07-24T17:21:42.711Z"
   },
   {
    "duration": 96,
    "start_time": "2021-07-24T17:23:51.612Z"
   },
   {
    "duration": 340,
    "start_time": "2021-07-24T17:23:54.669Z"
   },
   {
    "duration": 12,
    "start_time": "2021-07-24T17:23:58.844Z"
   },
   {
    "duration": 669,
    "start_time": "2021-07-24T17:24:02.564Z"
   },
   {
    "duration": 109,
    "start_time": "2021-07-24T17:24:08.627Z"
   },
   {
    "duration": 48,
    "start_time": "2021-07-24T17:24:10.267Z"
   },
   {
    "duration": 150,
    "start_time": "2021-07-24T17:24:10.483Z"
   },
   {
    "duration": 696,
    "start_time": "2021-07-24T17:24:12.163Z"
   },
   {
    "duration": 279,
    "start_time": "2021-07-24T17:24:41.180Z"
   },
   {
    "duration": 3771,
    "start_time": "2021-07-24T17:24:46.202Z"
   },
   {
    "duration": 462,
    "start_time": "2021-07-24T17:24:51.506Z"
   },
   {
    "duration": 415,
    "start_time": "2021-07-24T17:24:53.043Z"
   },
   {
    "duration": 165,
    "start_time": "2021-07-24T17:24:57.483Z"
   },
   {
    "duration": 819,
    "start_time": "2021-07-24T17:24:59.057Z"
   },
   {
    "duration": 213,
    "start_time": "2021-07-24T17:25:04.179Z"
   },
   {
    "duration": 1064,
    "start_time": "2021-07-24T17:25:35.010Z"
   },
   {
    "duration": 303,
    "start_time": "2021-07-24T17:25:39.124Z"
   },
   {
    "duration": 281,
    "start_time": "2021-07-24T17:25:39.149Z"
   },
   {
    "duration": 326,
    "start_time": "2021-07-24T17:25:39.497Z"
   },
   {
    "duration": 277,
    "start_time": "2021-07-24T17:25:39.548Z"
   },
   {
    "duration": 332,
    "start_time": "2021-07-24T17:25:39.875Z"
   },
   {
    "duration": 271,
    "start_time": "2021-07-24T17:25:39.939Z"
   },
   {
    "duration": 6589,
    "start_time": "2021-07-24T17:25:47.145Z"
   },
   {
    "duration": 18,
    "start_time": "2021-07-24T17:25:53.736Z"
   },
   {
    "duration": 2966,
    "start_time": "2021-07-24T17:25:53.756Z"
   },
   {
    "duration": 11813,
    "start_time": "2021-07-24T17:25:56.725Z"
   },
   {
    "duration": 6468,
    "start_time": "2021-07-24T17:26:08.542Z"
   },
   {
    "duration": 55190,
    "start_time": "2021-07-24T17:26:15.014Z"
   },
   {
    "duration": 8125,
    "start_time": "2021-07-24T17:27:10.207Z"
   },
   {
    "duration": 274,
    "start_time": "2021-07-24T17:27:18.061Z"
   },
   {
    "duration": 272,
    "start_time": "2021-07-24T17:27:18.064Z"
   },
   {
    "duration": 39035,
    "start_time": "2021-07-24T17:27:59.084Z"
   },
   {
    "duration": 116,
    "start_time": "2021-07-24T17:28:38.121Z"
   },
   {
    "duration": 91,
    "start_time": "2021-07-24T17:28:38.240Z"
   },
   {
    "duration": 1958,
    "start_time": "2021-07-24T17:28:38.334Z"
   },
   {
    "duration": 235,
    "start_time": "2021-07-24T17:31:23.321Z"
   },
   {
    "duration": 1492,
    "start_time": "2021-07-24T17:31:24.922Z"
   },
   {
    "duration": 16811,
    "start_time": "2021-07-24T17:31:32.464Z"
   },
   {
    "duration": 35,
    "start_time": "2021-07-24T17:31:49.277Z"
   },
   {
    "duration": 1409,
    "start_time": "2021-07-24T17:31:49.315Z"
   },
   {
    "duration": 37,
    "start_time": "2021-07-24T18:27:22.337Z"
   },
   {
    "duration": 100,
    "start_time": "2021-07-24T18:27:22.855Z"
   },
   {
    "duration": 211,
    "start_time": "2021-07-24T18:27:24.706Z"
   },
   {
    "duration": 116,
    "start_time": "2021-07-24T18:27:33.739Z"
   },
   {
    "duration": 223,
    "start_time": "2021-07-24T18:27:36.094Z"
   },
   {
    "duration": 39,
    "start_time": "2021-07-24T18:27:42.887Z"
   },
   {
    "duration": 111,
    "start_time": "2021-07-24T18:27:43.318Z"
   },
   {
    "duration": 260,
    "start_time": "2021-07-24T18:27:46.379Z"
   },
   {
    "duration": 120,
    "start_time": "2021-07-24T18:27:51.598Z"
   },
   {
    "duration": 272,
    "start_time": "2021-07-24T18:27:53.462Z"
   },
   {
    "duration": 117,
    "start_time": "2021-07-24T18:27:58.331Z"
   },
   {
    "duration": 277,
    "start_time": "2021-07-24T18:27:59.614Z"
   },
   {
    "duration": 115,
    "start_time": "2021-07-24T18:28:04.982Z"
   },
   {
    "duration": 263,
    "start_time": "2021-07-24T18:28:07.398Z"
   },
   {
    "duration": 121,
    "start_time": "2021-07-24T18:28:16.293Z"
   },
   {
    "duration": 680,
    "start_time": "2021-07-24T18:28:16.743Z"
   },
   {
    "duration": 245,
    "start_time": "2021-07-24T18:28:26.429Z"
   },
   {
    "duration": 1696,
    "start_time": "2021-07-24T18:28:31.005Z"
   },
   {
    "duration": 235,
    "start_time": "2021-07-24T18:28:34.189Z"
   },
   {
    "duration": 259,
    "start_time": "2021-07-24T18:28:34.533Z"
   },
   {
    "duration": 118,
    "start_time": "2021-07-24T18:28:39.318Z"
   },
   {
    "duration": 252,
    "start_time": "2021-07-24T18:28:39.679Z"
   },
   {
    "duration": 37,
    "start_time": "2021-07-24T18:29:36.700Z"
   },
   {
    "duration": 114,
    "start_time": "2021-07-24T18:29:37.239Z"
   },
   {
    "duration": 236,
    "start_time": "2021-07-24T18:29:38.059Z"
   },
   {
    "duration": 37,
    "start_time": "2021-07-24T18:29:52.004Z"
   },
   {
    "duration": 101,
    "start_time": "2021-07-24T18:29:52.348Z"
   },
   {
    "duration": 245,
    "start_time": "2021-07-24T18:29:52.667Z"
   },
   {
    "duration": 13597,
    "start_time": "2021-07-24T18:29:53.691Z"
   },
   {
    "duration": 35,
    "start_time": "2021-07-24T18:31:26.946Z"
   },
   {
    "duration": 75,
    "start_time": "2021-07-24T18:31:27.313Z"
   },
   {
    "duration": 206,
    "start_time": "2021-07-24T18:31:27.865Z"
   },
   {
    "duration": 13960,
    "start_time": "2021-07-24T18:31:30.046Z"
   },
   {
    "duration": 4,
    "start_time": "2021-07-24T18:31:44.009Z"
   },
   {
    "duration": 296,
    "start_time": "2021-07-24T18:31:44.015Z"
   },
   {
    "duration": 169,
    "start_time": "2021-07-24T18:31:44.145Z"
   },
   {
    "duration": 75,
    "start_time": "2021-07-24T18:32:52.113Z"
   },
   {
    "duration": 215,
    "start_time": "2021-07-24T18:32:52.552Z"
   },
   {
    "duration": 14021,
    "start_time": "2021-07-24T18:32:54.559Z"
   },
   {
    "duration": 4,
    "start_time": "2021-07-24T18:33:08.583Z"
   },
   {
    "duration": 339,
    "start_time": "2021-07-24T18:33:08.589Z"
   },
   {
    "duration": 182,
    "start_time": "2021-07-24T18:33:08.749Z"
   },
   {
    "duration": 39933,
    "start_time": "2021-07-24T18:33:51.966Z"
   },
   {
    "duration": 18632,
    "start_time": "2021-07-24T18:34:31.901Z"
   },
   {
    "duration": 18608,
    "start_time": "2021-07-24T18:35:16.918Z"
   },
   {
    "duration": 4,
    "start_time": "2021-07-24T18:44:24.645Z"
   },
   {
    "duration": 333,
    "start_time": "2021-07-24T18:44:25.169Z"
   },
   {
    "duration": 105,
    "start_time": "2021-07-24T18:44:37.255Z"
   },
   {
    "duration": 329,
    "start_time": "2021-07-24T18:44:51.393Z"
   },
   {
    "duration": 310,
    "start_time": "2021-07-24T18:45:03.925Z"
   },
   {
    "duration": 262,
    "start_time": "2021-07-24T18:45:31.150Z"
   },
   {
    "duration": 948336,
    "start_time": "2021-07-24T18:45:37.558Z"
   },
   {
    "duration": 36229,
    "start_time": "2021-07-24T19:01:25.899Z"
   },
   {
    "duration": 77220,
    "start_time": "2021-07-24T19:03:02.885Z"
   },
   {
    "duration": 9,
    "start_time": "2021-07-24T19:04:20.107Z"
   },
   {
    "duration": 3,
    "start_time": "2021-07-24T19:09:04.948Z"
   },
   {
    "duration": 39960,
    "start_time": "2021-07-24T19:09:05.244Z"
   },
   {
    "duration": 78009,
    "start_time": "2021-07-24T19:11:19.592Z"
   },
   {
    "duration": 36320,
    "start_time": "2021-07-24T19:17:04.398Z"
   },
   {
    "duration": 108,
    "start_time": "2021-07-24T19:25:22.867Z"
   },
   {
    "duration": 102,
    "start_time": "2021-07-24T19:25:31.130Z"
   },
   {
    "duration": 105,
    "start_time": "2021-07-24T19:25:35.988Z"
   },
   {
    "duration": 101,
    "start_time": "2021-07-24T19:25:39.932Z"
   },
   {
    "duration": 105,
    "start_time": "2021-07-24T19:25:43.356Z"
   },
   {
    "duration": 108,
    "start_time": "2021-07-24T19:25:46.516Z"
   },
   {
    "duration": 110,
    "start_time": "2021-07-24T19:25:51.300Z"
   },
   {
    "duration": 101,
    "start_time": "2021-07-24T19:25:54.508Z"
   },
   {
    "duration": 109,
    "start_time": "2021-07-24T19:25:57.972Z"
   },
   {
    "duration": 104,
    "start_time": "2021-07-24T19:28:05.937Z"
   },
   {
    "duration": 6,
    "start_time": "2021-07-24T19:28:06.536Z"
   },
   {
    "duration": 304,
    "start_time": "2021-07-24T19:28:07.192Z"
   },
   {
    "duration": 4,
    "start_time": "2021-07-24T19:28:16.265Z"
   },
   {
    "duration": 5312,
    "start_time": "2021-07-24T19:28:19.648Z"
   },
   {
    "duration": 99,
    "start_time": "2021-07-24T19:28:28.376Z"
   },
   {
    "duration": 102,
    "start_time": "2021-07-24T19:28:37.839Z"
   },
   {
    "duration": 5,
    "start_time": "2021-07-24T19:28:41.320Z"
   },
   {
    "duration": 7,
    "start_time": "2021-07-24T19:28:43.551Z"
   },
   {
    "duration": 5,
    "start_time": "2021-07-24T19:28:46.472Z"
   },
   {
    "duration": 234160,
    "start_time": "2021-07-24T19:28:47.424Z"
   },
   {
    "duration": 5,
    "start_time": "2021-07-24T19:34:00.813Z"
   },
   {
    "duration": 6,
    "start_time": "2021-07-24T19:34:01.272Z"
   },
   {
    "duration": 3,
    "start_time": "2021-07-24T19:34:02.232Z"
   },
   {
    "duration": 6,
    "start_time": "2021-07-24T19:34:12.879Z"
   },
   {
    "duration": 8,
    "start_time": "2021-07-24T19:34:22.887Z"
   },
   {
    "duration": 8406,
    "start_time": "2021-07-24T19:34:27.366Z"
   },
   {
    "duration": 203,
    "start_time": "2021-07-24T19:34:35.776Z"
   },
   {
    "duration": 307,
    "start_time": "2021-07-24T19:35:58.659Z"
   },
   {
    "duration": 6,
    "start_time": "2021-07-24T19:37:33.587Z"
   },
   {
    "duration": 350,
    "start_time": "2021-07-24T19:38:00.089Z"
   },
   {
    "duration": 343,
    "start_time": "2021-07-24T19:39:18.065Z"
   },
   {
    "duration": 15,
    "start_time": "2021-07-24T19:40:30.071Z"
   },
   {
    "duration": 18,
    "start_time": "2021-07-24T19:40:35.086Z"
   },
   {
    "duration": 15,
    "start_time": "2021-07-24T19:40:39.038Z"
   },
   {
    "duration": 35702,
    "start_time": "2021-07-24T19:41:08.710Z"
   },
   {
    "duration": 377,
    "start_time": "2021-07-24T19:41:44.415Z"
   },
   {
    "duration": 16,
    "start_time": "2021-07-24T19:42:10.964Z"
   },
   {
    "duration": 354,
    "start_time": "2021-07-24T19:42:14.604Z"
   },
   {
    "duration": 36,
    "start_time": "2021-07-24T19:52:38.717Z"
   },
   {
    "duration": 93,
    "start_time": "2021-07-24T19:52:39.333Z"
   },
   {
    "duration": 435,
    "start_time": "2021-07-24T20:02:50.608Z"
   },
   {
    "duration": 685,
    "start_time": "2021-07-24T20:02:56.086Z"
   },
   {
    "duration": 693,
    "start_time": "2021-07-24T20:04:16.773Z"
   },
   {
    "duration": 647,
    "start_time": "2021-07-24T20:08:14.128Z"
   },
   {
    "duration": 656,
    "start_time": "2021-07-24T20:08:22.622Z"
   },
   {
    "duration": 643,
    "start_time": "2021-07-24T20:08:52.624Z"
   },
   {
    "duration": 651,
    "start_time": "2021-07-24T20:09:00.719Z"
   },
   {
    "duration": 925,
    "start_time": "2021-07-24T20:45:27.126Z"
   },
   {
    "duration": 824,
    "start_time": "2021-07-24T20:45:40.930Z"
   },
   {
    "duration": 985,
    "start_time": "2021-07-24T20:46:03.818Z"
   },
   {
    "duration": 1252,
    "start_time": "2021-07-24T20:46:52.362Z"
   },
   {
    "duration": 957,
    "start_time": "2021-07-24T20:47:12.695Z"
   },
   {
    "duration": 35676,
    "start_time": "2021-07-24T20:47:35.710Z"
   },
   {
    "duration": 35,
    "start_time": "2021-07-24T20:48:37.709Z"
   },
   {
    "duration": 91,
    "start_time": "2021-07-24T20:48:38.788Z"
   },
   {
    "duration": 204,
    "start_time": "2021-07-24T20:48:39.653Z"
   },
   {
    "duration": 13844,
    "start_time": "2021-07-24T20:48:40.877Z"
   },
   {
    "duration": 4,
    "start_time": "2021-07-24T20:48:54.724Z"
   },
   {
    "duration": 945469,
    "start_time": "2021-07-24T20:48:54.731Z"
   },
   {
    "duration": 78088,
    "start_time": "2021-07-24T21:04:40.206Z"
   },
   {
    "duration": 35627,
    "start_time": "2021-07-24T21:06:24.397Z"
   },
   {
    "duration": 746,
    "start_time": "2021-07-24T21:07:00.027Z"
   },
   {
    "duration": 955,
    "start_time": "2021-07-24T21:08:18.362Z"
   },
   {
    "duration": 766,
    "start_time": "2021-07-24T21:08:33.266Z"
   },
   {
    "duration": 507,
    "start_time": "2021-07-24T21:09:31.290Z"
   },
   {
    "duration": 161,
    "start_time": "2021-07-24T21:10:22.087Z"
   },
   {
    "duration": 512,
    "start_time": "2021-07-24T21:10:24.224Z"
   },
   {
    "duration": 3401,
    "start_time": "2021-07-25T09:22:55.074Z"
   },
   {
    "duration": 3438,
    "start_time": "2021-07-25T09:22:58.479Z"
   },
   {
    "duration": 6414,
    "start_time": "2021-07-25T09:23:01.921Z"
   },
   {
    "duration": 17,
    "start_time": "2021-07-25T09:23:08.338Z"
   },
   {
    "duration": 4953,
    "start_time": "2021-07-25T09:23:08.357Z"
   },
   {
    "duration": 47466,
    "start_time": "2021-07-25T09:23:13.312Z"
   },
   {
    "duration": 2304,
    "start_time": "2021-07-25T09:24:00.782Z"
   },
   {
    "duration": 11478,
    "start_time": "2021-07-25T09:24:03.089Z"
   },
   {
    "duration": 6034,
    "start_time": "2021-07-25T09:24:14.569Z"
   },
   {
    "duration": 52892,
    "start_time": "2021-07-25T09:24:20.605Z"
   },
   {
    "duration": 36779,
    "start_time": "2021-07-25T09:25:13.499Z"
   },
   {
    "duration": 105,
    "start_time": "2021-07-25T09:25:50.280Z"
   },
   {
    "duration": 84,
    "start_time": "2021-07-25T09:25:50.387Z"
   },
   {
    "duration": 234,
    "start_time": "2021-07-25T09:25:50.473Z"
   },
   {
    "duration": 13837,
    "start_time": "2021-07-25T09:25:50.709Z"
   },
   {
    "duration": 3,
    "start_time": "2021-07-25T09:26:04.549Z"
   },
   {
    "duration": 950826,
    "start_time": "2021-07-25T09:26:04.554Z"
   },
   {
    "duration": 77506,
    "start_time": "2021-07-25T09:41:55.382Z"
   },
   {
    "duration": 111,
    "start_time": "2021-07-25T09:43:12.891Z"
   },
   {
    "duration": 6,
    "start_time": "2021-07-25T09:43:13.005Z"
   },
   {
    "duration": 5142,
    "start_time": "2021-07-25T09:43:13.013Z"
   },
   {
    "duration": 171,
    "start_time": "2021-07-25T09:43:18.157Z"
   },
   {
    "duration": 6,
    "start_time": "2021-07-25T09:43:18.334Z"
   },
   {
    "duration": 25,
    "start_time": "2021-07-25T09:43:18.343Z"
   },
   {
    "duration": 6,
    "start_time": "2021-07-25T09:43:18.370Z"
   },
   {
    "duration": 230602,
    "start_time": "2021-07-25T09:43:18.379Z"
   },
   {
    "duration": 4,
    "start_time": "2021-07-25T09:47:09.068Z"
   },
   {
    "duration": 8,
    "start_time": "2021-07-25T09:47:09.075Z"
   },
   {
    "duration": 9,
    "start_time": "2021-07-25T09:47:09.086Z"
   },
   {
    "duration": 8979,
    "start_time": "2021-07-25T09:47:09.097Z"
   },
   {
    "duration": 116,
    "start_time": "2021-07-25T09:47:18.169Z"
   },
   {
    "duration": 33496,
    "start_time": "2021-07-25T09:47:18.288Z"
   },
   {
    "duration": 17,
    "start_time": "2021-07-25T09:47:51.787Z"
   },
   {
    "duration": 172,
    "start_time": "2021-07-25T09:47:51.807Z"
   },
   {
    "duration": 489,
    "start_time": "2021-07-25T09:47:51.982Z"
   },
   {
    "duration": 97,
    "start_time": "2021-07-25T10:04:28.500Z"
   },
   {
    "duration": 7,
    "start_time": "2021-07-25T10:04:29.164Z"
   },
   {
    "duration": 5118,
    "start_time": "2021-07-25T10:04:30.204Z"
   },
   {
    "duration": 9,
    "start_time": "2021-07-25T10:04:38.172Z"
   },
   {
    "duration": 108,
    "start_time": "2021-07-25T10:04:43.910Z"
   },
   {
    "duration": 8,
    "start_time": "2021-07-25T10:04:44.020Z"
   },
   {
    "duration": 5163,
    "start_time": "2021-07-25T10:04:44.031Z"
   },
   {
    "duration": 2628,
    "start_time": "2021-07-25T10:04:49.196Z"
   },
   {
    "duration": 5,
    "start_time": "2021-07-25T10:04:51.827Z"
   },
   {
    "duration": 78,
    "start_time": "2021-07-25T10:04:51.835Z"
   },
   {
    "duration": 8,
    "start_time": "2021-07-25T10:04:51.916Z"
   },
   {
    "duration": 375,
    "start_time": "2021-07-25T10:45:40.978Z"
   },
   {
    "duration": 90,
    "start_time": "2021-07-25T10:45:41.265Z"
   },
   {
    "duration": 84,
    "start_time": "2021-07-25T10:45:41.272Z"
   },
   {
    "duration": 316,
    "start_time": "2021-07-25T10:45:41.533Z"
   },
   {
    "duration": 86,
    "start_time": "2021-07-25T10:45:41.765Z"
   },
   {
    "duration": 420,
    "start_time": "2021-07-25T10:45:41.916Z"
   },
   {
    "duration": 67,
    "start_time": "2021-07-25T10:45:42.273Z"
   },
   {
    "duration": 3265,
    "start_time": "2021-07-25T10:45:50.461Z"
   },
   {
    "duration": 3266,
    "start_time": "2021-07-25T10:45:53.729Z"
   },
   {
    "duration": 6335,
    "start_time": "2021-07-25T10:45:56.998Z"
   },
   {
    "duration": 93,
    "start_time": "2021-07-25T10:46:03.335Z"
   },
   {
    "duration": 13,
    "start_time": "2021-07-25T10:46:03.430Z"
   },
   {
    "duration": 6959,
    "start_time": "2021-07-25T10:46:03.446Z"
   },
   {
    "duration": 48054,
    "start_time": "2021-07-25T10:46:10.408Z"
   },
   {
    "duration": 1780,
    "start_time": "2021-07-25T10:46:58.469Z"
   },
   {
    "duration": 11540,
    "start_time": "2021-07-25T10:47:00.252Z"
   },
   {
    "duration": 5943,
    "start_time": "2021-07-25T10:47:11.794Z"
   },
   {
    "duration": 53576,
    "start_time": "2021-07-25T10:47:17.740Z"
   },
   {
    "duration": 42328,
    "start_time": "2021-07-25T10:48:11.319Z"
   },
   {
    "duration": 97,
    "start_time": "2021-07-25T10:48:53.649Z"
   },
   {
    "duration": 97,
    "start_time": "2021-07-25T10:48:53.748Z"
   },
   {
    "duration": 263,
    "start_time": "2021-07-25T10:48:53.847Z"
   },
   {
    "duration": 13596,
    "start_time": "2021-07-25T10:48:54.113Z"
   },
   {
    "duration": 3,
    "start_time": "2021-07-25T10:49:07.712Z"
   },
   {
    "duration": 960063,
    "start_time": "2021-07-25T10:49:07.717Z"
   },
   {
    "duration": 78315,
    "start_time": "2021-07-25T11:05:07.783Z"
   },
   {
    "duration": 109,
    "start_time": "2021-07-25T11:06:26.101Z"
   },
   {
    "duration": 8,
    "start_time": "2021-07-25T11:06:26.212Z"
   },
   {
    "duration": 5268,
    "start_time": "2021-07-25T11:06:26.222Z"
   },
   {
    "duration": 1295,
    "start_time": "2021-07-25T11:06:31.495Z"
   },
   {
    "duration": 5,
    "start_time": "2021-07-25T11:06:32.793Z"
   },
   {
    "duration": 40,
    "start_time": "2021-07-25T11:06:32.800Z"
   },
   {
    "duration": 28,
    "start_time": "2021-07-25T11:06:32.842Z"
   },
   {
    "duration": 383,
    "start_time": "2021-07-25T11:47:01.177Z"
   },
   {
    "duration": -18,
    "start_time": "2021-07-25T11:47:01.580Z"
   },
   {
    "duration": -21,
    "start_time": "2021-07-25T11:47:01.586Z"
   },
   {
    "duration": 285,
    "start_time": "2021-07-25T11:47:01.711Z"
   },
   {
    "duration": -14,
    "start_time": "2021-07-25T11:47:02.013Z"
   },
   {
    "duration": 301,
    "start_time": "2021-07-25T11:47:02.066Z"
   },
   {
    "duration": 3363,
    "start_time": "2021-07-25T11:47:07.150Z"
   },
   {
    "duration": 3254,
    "start_time": "2021-07-25T11:47:10.516Z"
   },
   {
    "duration": 6981,
    "start_time": "2021-07-25T11:47:13.774Z"
   },
   {
    "duration": 149,
    "start_time": "2021-07-25T11:47:20.758Z"
   },
   {
    "duration": 18,
    "start_time": "2021-07-25T11:47:20.910Z"
   },
   {
    "duration": 4143,
    "start_time": "2021-07-25T11:47:20.931Z"
   },
   {
    "duration": 51297,
    "start_time": "2021-07-25T11:47:25.077Z"
   },
   {
    "duration": 1753,
    "start_time": "2021-07-25T11:48:16.377Z"
   },
   {
    "duration": 11850,
    "start_time": "2021-07-25T11:48:18.133Z"
   },
   {
    "duration": 6276,
    "start_time": "2021-07-25T11:48:29.985Z"
   },
   {
    "duration": 53482,
    "start_time": "2021-07-25T11:48:36.267Z"
   },
   {
    "duration": 55400,
    "start_time": "2021-07-25T11:49:29.752Z"
   },
   {
    "duration": 93,
    "start_time": "2021-07-25T11:50:25.155Z"
   },
   {
    "duration": 84,
    "start_time": "2021-07-25T11:50:25.250Z"
   },
   {
    "duration": 244,
    "start_time": "2021-07-25T11:50:25.337Z"
   },
   {
    "duration": 14297,
    "start_time": "2021-07-25T11:50:25.584Z"
   },
   {
    "duration": 3,
    "start_time": "2021-07-25T11:50:39.884Z"
   },
   {
    "duration": 948096,
    "start_time": "2021-07-25T11:50:39.889Z"
   },
   {
    "duration": 77897,
    "start_time": "2021-07-25T12:06:27.988Z"
   },
   {
    "duration": 119,
    "start_time": "2021-07-25T12:07:45.887Z"
   },
   {
    "duration": 7,
    "start_time": "2021-07-25T12:07:46.008Z"
   },
   {
    "duration": 5377,
    "start_time": "2021-07-25T12:07:46.017Z"
   },
   {
    "duration": 231,
    "start_time": "2021-07-25T12:07:51.398Z"
   },
   {
    "duration": 6,
    "start_time": "2021-07-25T12:07:51.632Z"
   },
   {
    "duration": 31,
    "start_time": "2021-07-25T12:07:51.640Z"
   },
   {
    "duration": 9,
    "start_time": "2021-07-25T12:07:51.673Z"
   },
   {
    "duration": 465193,
    "start_time": "2021-07-25T12:07:51.685Z"
   },
   {
    "duration": 4,
    "start_time": "2021-07-25T12:15:36.880Z"
   },
   {
    "duration": 84,
    "start_time": "2021-07-25T12:15:36.886Z"
   },
   {
    "duration": 4,
    "start_time": "2021-07-25T12:15:36.973Z"
   },
   {
    "duration": 10587,
    "start_time": "2021-07-25T12:15:36.980Z"
   },
   {
    "duration": 303,
    "start_time": "2021-07-25T12:15:47.572Z"
   },
   {
    "duration": 33626,
    "start_time": "2021-07-25T12:15:47.879Z"
   },
   {
    "duration": 63,
    "start_time": "2021-07-25T12:16:21.508Z"
   },
   {
    "duration": 612,
    "start_time": "2021-07-25T12:16:21.573Z"
   },
   {
    "duration": 3245,
    "start_time": "2021-07-25T12:50:13.385Z"
   },
   {
    "duration": 3332,
    "start_time": "2021-07-25T12:50:16.633Z"
   },
   {
    "duration": 6223,
    "start_time": "2021-07-25T12:50:19.971Z"
   },
   {
    "duration": 107,
    "start_time": "2021-07-25T12:50:26.196Z"
   },
   {
    "duration": 12,
    "start_time": "2021-07-25T12:50:26.306Z"
   },
   {
    "duration": 3009,
    "start_time": "2021-07-25T12:50:26.321Z"
   },
   {
    "duration": 49313,
    "start_time": "2021-07-25T12:50:29.333Z"
   },
   {
    "duration": 737,
    "start_time": "2021-07-25T12:51:18.649Z"
   },
   {
    "duration": 11680,
    "start_time": "2021-07-25T12:51:19.388Z"
   },
   {
    "duration": 6031,
    "start_time": "2021-07-25T12:51:31.070Z"
   },
   {
    "duration": 53001,
    "start_time": "2021-07-25T12:51:37.103Z"
   },
   {
    "duration": 37960,
    "start_time": "2021-07-25T12:52:30.107Z"
   },
   {
    "duration": 102,
    "start_time": "2021-07-25T12:53:08.069Z"
   },
   {
    "duration": 75,
    "start_time": "2021-07-25T12:53:08.174Z"
   },
   {
    "duration": 258,
    "start_time": "2021-07-25T12:53:08.252Z"
   },
   {
    "duration": 13657,
    "start_time": "2021-07-25T12:53:08.513Z"
   },
   {
    "duration": 4,
    "start_time": "2021-07-25T12:53:22.173Z"
   },
   {
    "duration": 957003,
    "start_time": "2021-07-25T12:53:22.180Z"
   },
   {
    "duration": 77204,
    "start_time": "2021-07-25T13:09:19.185Z"
   },
   {
    "duration": 108,
    "start_time": "2021-07-25T13:10:36.392Z"
   },
   {
    "duration": 7,
    "start_time": "2021-07-25T13:10:36.502Z"
   },
   {
    "duration": 964063,
    "start_time": "2021-07-25T13:10:36.514Z"
   },
   {
    "duration": 262,
    "start_time": "2021-07-25T13:26:40.669Z"
   },
   {
    "duration": 6,
    "start_time": "2021-07-25T13:26:40.933Z"
   },
   {
    "duration": 26,
    "start_time": "2021-07-25T13:26:40.941Z"
   },
   {
    "duration": 5,
    "start_time": "2021-07-25T13:26:40.970Z"
   },
   {
    "duration": 225296,
    "start_time": "2021-07-25T13:26:40.977Z"
   },
   {
    "duration": 3,
    "start_time": "2021-07-25T13:30:26.276Z"
   },
   {
    "duration": 10,
    "start_time": "2021-07-25T13:30:26.282Z"
   },
   {
    "duration": 4,
    "start_time": "2021-07-25T13:30:26.294Z"
   },
   {
    "duration": 9209,
    "start_time": "2021-07-25T13:30:26.368Z"
   },
   {
    "duration": 304,
    "start_time": "2021-07-25T13:30:35.669Z"
   },
   {
    "duration": 33522,
    "start_time": "2021-07-25T13:30:35.976Z"
   },
   {
    "duration": 22,
    "start_time": "2021-07-25T13:31:09.501Z"
   },
   {
    "duration": 609,
    "start_time": "2021-07-25T13:31:09.569Z"
   },
   {
    "duration": 32766,
    "start_time": "2021-07-25T19:51:04.838Z"
   },
   {
    "duration": 33160,
    "start_time": "2021-07-25T19:51:55.228Z"
   },
   {
    "duration": 33597,
    "start_time": "2021-07-25T19:52:56.707Z"
   },
   {
    "duration": 33107,
    "start_time": "2021-07-25T19:54:38.194Z"
   },
   {
    "duration": 63,
    "start_time": "2021-07-25T19:55:11.304Z"
   },
   {
    "duration": 75545,
    "start_time": "2021-07-25T20:02:07.332Z"
   },
   {
    "duration": 159,
    "start_time": "2021-07-25T20:29:54.710Z"
   },
   {
    "duration": 25454,
    "start_time": "2021-07-25T20:30:13.765Z"
   },
   {
    "duration": 47,
    "start_time": "2021-07-25T20:30:39.222Z"
   },
   {
    "duration": 601,
    "start_time": "2021-07-25T20:30:39.274Z"
   },
   {
    "duration": 3392,
    "start_time": "2021-07-25T20:45:19.270Z"
   },
   {
    "duration": 3177,
    "start_time": "2021-07-25T20:45:22.665Z"
   },
   {
    "duration": 6241,
    "start_time": "2021-07-25T20:45:25.846Z"
   },
   {
    "duration": 98,
    "start_time": "2021-07-25T20:45:32.091Z"
   },
   {
    "duration": 11,
    "start_time": "2021-07-25T20:45:32.192Z"
   },
   {
    "duration": 3432,
    "start_time": "2021-07-25T20:45:32.206Z"
   },
   {
    "duration": 48292,
    "start_time": "2021-07-25T20:45:35.640Z"
   },
   {
    "duration": 751,
    "start_time": "2021-07-25T20:46:23.935Z"
   },
   {
    "duration": 11751,
    "start_time": "2021-07-25T20:46:24.690Z"
   },
   {
    "duration": 6147,
    "start_time": "2021-07-25T20:46:36.445Z"
   },
   {
    "duration": 53448,
    "start_time": "2021-07-25T20:46:42.594Z"
   },
   {
    "duration": 37044,
    "start_time": "2021-07-25T20:47:36.045Z"
   },
   {
    "duration": 105,
    "start_time": "2021-07-25T20:48:13.092Z"
   },
   {
    "duration": 88,
    "start_time": "2021-07-25T20:48:13.199Z"
   },
   {
    "duration": 239,
    "start_time": "2021-07-25T20:48:13.290Z"
   },
   {
    "duration": 13558,
    "start_time": "2021-07-25T20:48:13.532Z"
   },
   {
    "duration": 3,
    "start_time": "2021-07-25T20:48:27.093Z"
   },
   {
    "duration": 940584,
    "start_time": "2021-07-25T20:48:27.099Z"
   },
   {
    "duration": 76705,
    "start_time": "2021-07-25T21:04:07.686Z"
   },
   {
    "duration": 110,
    "start_time": "2021-07-25T21:05:24.394Z"
   },
   {
    "duration": 4,
    "start_time": "2021-07-25T21:05:24.507Z"
   },
   {
    "duration": 3661,
    "start_time": "2021-07-25T21:05:24.514Z"
   },
   {
    "duration": 74146,
    "start_time": "2021-07-25T21:05:28.178Z"
   },
   {
    "duration": 12,
    "start_time": "2021-07-25T21:06:42.327Z"
   },
   {
    "duration": 2084,
    "start_time": "2021-07-25T21:06:42.342Z"
   },
   {
    "duration": 105,
    "start_time": "2021-07-25T21:06:44.428Z"
   },
   {
    "duration": 3354,
    "start_time": "2021-07-25T21:20:53.203Z"
   },
   {
    "duration": 3286,
    "start_time": "2021-07-25T21:20:56.560Z"
   },
   {
    "duration": 6614,
    "start_time": "2021-07-25T21:20:59.850Z"
   },
   {
    "duration": 114,
    "start_time": "2021-07-25T21:21:06.466Z"
   },
   {
    "duration": 11,
    "start_time": "2021-07-25T21:21:06.582Z"
   },
   {
    "duration": 5110,
    "start_time": "2021-07-25T21:21:06.596Z"
   },
   {
    "duration": 48164,
    "start_time": "2021-07-25T21:21:11.709Z"
   },
   {
    "duration": 2212,
    "start_time": "2021-07-25T21:21:59.876Z"
   },
   {
    "duration": 11676,
    "start_time": "2021-07-25T21:22:02.092Z"
   },
   {
    "duration": 6015,
    "start_time": "2021-07-25T21:22:13.772Z"
   },
   {
    "duration": 52508,
    "start_time": "2021-07-25T21:22:19.789Z"
   },
   {
    "duration": 37699,
    "start_time": "2021-07-25T21:23:12.300Z"
   },
   {
    "duration": 107,
    "start_time": "2021-07-25T21:23:50.001Z"
   },
   {
    "duration": 91,
    "start_time": "2021-07-25T21:23:50.110Z"
   },
   {
    "duration": 247,
    "start_time": "2021-07-25T21:23:50.203Z"
   },
   {
    "duration": 13543,
    "start_time": "2021-07-25T21:23:50.453Z"
   },
   {
    "duration": 3,
    "start_time": "2021-07-25T21:24:03.999Z"
   },
   {
    "duration": 939785,
    "start_time": "2021-07-25T21:24:04.004Z"
   },
   {
    "duration": 77405,
    "start_time": "2021-07-25T21:39:43.792Z"
   },
   {
    "duration": 110,
    "start_time": "2021-07-25T21:41:01.199Z"
   },
   {
    "duration": 7,
    "start_time": "2021-07-25T21:41:01.312Z"
   },
   {
    "duration": 12255,
    "start_time": "2021-07-25T21:41:01.321Z"
   },
   {
    "duration": 255,
    "start_time": "2021-07-25T21:41:13.579Z"
   },
   {
    "duration": 7,
    "start_time": "2021-07-25T21:41:13.836Z"
   },
   {
    "duration": 29,
    "start_time": "2021-07-25T21:41:13.846Z"
   },
   {
    "duration": 17,
    "start_time": "2021-07-25T21:41:13.878Z"
   },
   {
    "duration": 221274,
    "start_time": "2021-07-25T21:41:13.900Z"
   },
   {
    "duration": 4,
    "start_time": "2021-07-25T21:44:55.176Z"
   },
   {
    "duration": 12,
    "start_time": "2021-07-25T21:44:55.182Z"
   },
   {
    "duration": 6,
    "start_time": "2021-07-25T21:44:55.196Z"
   },
   {
    "duration": 9567,
    "start_time": "2021-07-25T21:44:55.204Z"
   },
   {
    "duration": 393,
    "start_time": "2021-07-25T21:45:04.774Z"
   },
   {
    "duration": 34138,
    "start_time": "2021-07-25T21:45:05.172Z"
   },
   {
    "duration": 55,
    "start_time": "2021-07-25T21:45:39.312Z"
   },
   {
    "duration": 621,
    "start_time": "2021-07-25T21:45:39.371Z"
   },
   {
    "duration": 3512,
    "start_time": "2021-07-26T08:35:26.181Z"
   },
   {
    "duration": 12081,
    "start_time": "2021-07-26T08:35:29.695Z"
   },
   {
    "duration": 4646,
    "start_time": "2021-07-26T08:35:41.778Z"
   },
   {
    "duration": 100,
    "start_time": "2021-07-26T08:35:46.426Z"
   },
   {
    "duration": 7,
    "start_time": "2021-07-26T08:35:46.528Z"
   },
   {
    "duration": 4929,
    "start_time": "2021-07-26T08:35:46.536Z"
   },
   {
    "duration": 29414,
    "start_time": "2021-07-26T08:35:51.467Z"
   },
   {
    "duration": 1594,
    "start_time": "2021-07-26T08:36:20.884Z"
   },
   {
    "duration": 6904,
    "start_time": "2021-07-26T08:36:22.481Z"
   },
   {
    "duration": 3900,
    "start_time": "2021-07-26T08:36:29.386Z"
   },
   {
    "duration": 27067,
    "start_time": "2021-07-26T08:36:33.287Z"
   },
   {
    "duration": 18952,
    "start_time": "2021-07-26T08:37:00.356Z"
   },
   {
    "duration": 77,
    "start_time": "2021-07-26T08:37:19.309Z"
   },
   {
    "duration": 69,
    "start_time": "2021-07-26T08:37:19.387Z"
   },
   {
    "duration": 193,
    "start_time": "2021-07-26T08:37:19.458Z"
   },
   {
    "duration": 8102,
    "start_time": "2021-07-26T08:37:19.653Z"
   },
   {
    "duration": 2,
    "start_time": "2021-07-26T08:37:27.757Z"
   },
   {
    "duration": 829157,
    "start_time": "2021-07-26T08:37:27.761Z"
   },
   {
    "duration": 76824,
    "start_time": "2021-07-26T08:51:16.920Z"
   },
   {
    "duration": 2,
    "start_time": "2021-07-26T08:52:33.746Z"
   },
   {
    "duration": 680,
    "start_time": "2021-07-26T08:52:33.749Z"
   },
   {
    "duration": -90,
    "start_time": "2021-07-26T08:52:34.521Z"
   },
   {
    "duration": -93,
    "start_time": "2021-07-26T08:52:34.525Z"
   },
   {
    "duration": -95,
    "start_time": "2021-07-26T08:52:34.528Z"
   },
   {
    "duration": -97,
    "start_time": "2021-07-26T08:52:34.531Z"
   },
   {
    "duration": -100,
    "start_time": "2021-07-26T08:52:34.535Z"
   },
   {
    "duration": -102,
    "start_time": "2021-07-26T08:52:34.538Z"
   },
   {
    "duration": -104,
    "start_time": "2021-07-26T08:52:34.541Z"
   },
   {
    "duration": -109,
    "start_time": "2021-07-26T08:52:34.548Z"
   },
   {
    "duration": -112,
    "start_time": "2021-07-26T08:52:34.551Z"
   },
   {
    "duration": -113,
    "start_time": "2021-07-26T08:52:34.553Z"
   },
   {
    "duration": -114,
    "start_time": "2021-07-26T08:52:34.555Z"
   },
   {
    "duration": -116,
    "start_time": "2021-07-26T08:52:34.558Z"
   },
   {
    "duration": -117,
    "start_time": "2021-07-26T08:52:34.560Z"
   },
   {
    "duration": -118,
    "start_time": "2021-07-26T08:52:34.562Z"
   },
   {
    "duration": -119,
    "start_time": "2021-07-26T08:52:34.564Z"
   },
   {
    "duration": -120,
    "start_time": "2021-07-26T08:52:34.566Z"
   },
   {
    "duration": 320,
    "start_time": "2021-07-26T09:01:00.305Z"
   },
   {
    "duration": 7,
    "start_time": "2021-07-26T09:01:15.334Z"
   },
   {
    "duration": 2,
    "start_time": "2021-07-26T09:01:16.747Z"
   },
   {
    "duration": 190433,
    "start_time": "2021-07-26T09:01:16.912Z"
   },
   {
    "duration": 121,
    "start_time": "2021-07-26T09:04:27.347Z"
   },
   {
    "duration": 3,
    "start_time": "2021-07-26T09:04:27.470Z"
   },
   {
    "duration": 7,
    "start_time": "2021-07-26T09:04:27.475Z"
   },
   {
    "duration": 7,
    "start_time": "2021-07-26T09:04:27.484Z"
   },
   {
    "duration": 101151,
    "start_time": "2021-07-26T09:04:27.493Z"
   },
   {
    "duration": 3,
    "start_time": "2021-07-26T09:06:08.646Z"
   },
   {
    "duration": 7,
    "start_time": "2021-07-26T09:06:08.652Z"
   },
   {
    "duration": 664,
    "start_time": "2021-07-26T09:06:08.661Z"
   },
   {
    "duration": -95,
    "start_time": "2021-07-26T09:06:09.422Z"
   },
   {
    "duration": -96,
    "start_time": "2021-07-26T09:06:09.424Z"
   },
   {
    "duration": -97,
    "start_time": "2021-07-26T09:06:09.426Z"
   },
   {
    "duration": -98,
    "start_time": "2021-07-26T09:06:09.429Z"
   },
   {
    "duration": -99,
    "start_time": "2021-07-26T09:06:09.431Z"
   },
   {
    "duration": -101,
    "start_time": "2021-07-26T09:06:09.434Z"
   },
   {
    "duration": 4,
    "start_time": "2021-07-26T09:11:39.411Z"
   },
   {
    "duration": 4,
    "start_time": "2021-07-26T09:11:47.484Z"
   },
   {
    "duration": 5,
    "start_time": "2021-07-26T09:12:02.789Z"
   },
   {
    "duration": 5,
    "start_time": "2021-07-26T09:12:05.905Z"
   },
   {
    "duration": 566,
    "start_time": "2021-07-26T09:12:34.450Z"
   },
   {
    "duration": 637,
    "start_time": "2021-07-26T09:12:49.625Z"
   },
   {
    "duration": 774,
    "start_time": "2021-07-26T09:12:56.322Z"
   },
   {
    "duration": 5,
    "start_time": "2021-07-26T09:13:15.382Z"
   },
   {
    "duration": 5,
    "start_time": "2021-07-26T09:13:24.221Z"
   },
   {
    "duration": 2,
    "start_time": "2021-07-26T09:15:33.049Z"
   },
   {
    "duration": 3575,
    "start_time": "2021-07-26T09:15:33.170Z"
   },
   {
    "duration": 200,
    "start_time": "2021-07-26T09:15:36.748Z"
   },
   {
    "duration": 28498,
    "start_time": "2021-07-26T09:15:36.951Z"
   },
   {
    "duration": 8,
    "start_time": "2021-07-26T09:16:05.451Z"
   },
   {
    "duration": 441,
    "start_time": "2021-07-26T09:16:05.461Z"
   },
   {
    "duration": 4,
    "start_time": "2021-07-26T13:39:23.184Z"
   },
   {
    "duration": 3,
    "start_time": "2021-07-26T13:40:02.546Z"
   },
   {
    "duration": 44,
    "start_time": "2021-07-26T13:40:03.288Z"
   },
   {
    "duration": 76,
    "start_time": "2021-07-26T13:40:54.851Z"
   },
   {
    "duration": 296,
    "start_time": "2021-07-26T13:41:31.432Z"
   },
   {
    "duration": 5,
    "start_time": "2021-07-26T13:42:36.148Z"
   },
   {
    "duration": 29,
    "start_time": "2021-07-26T13:42:43.173Z"
   },
   {
    "duration": 3,
    "start_time": "2021-07-26T13:42:51.508Z"
   },
   {
    "duration": 4,
    "start_time": "2021-07-26T13:42:52.133Z"
   },
   {
    "duration": 4,
    "start_time": "2021-07-26T13:42:52.667Z"
   },
   {
    "duration": 4,
    "start_time": "2021-07-26T13:43:21.058Z"
   },
   {
    "duration": 6,
    "start_time": "2021-07-26T13:43:22.049Z"
   },
   {
    "duration": 29,
    "start_time": "2021-07-26T13:43:23.186Z"
   },
   {
    "duration": 11,
    "start_time": "2021-07-26T13:44:30.499Z"
   },
   {
    "duration": 2215,
    "start_time": "2021-07-26T13:47:02.962Z"
   },
   {
    "duration": 2122,
    "start_time": "2021-07-26T13:47:05.179Z"
   },
   {
    "duration": 4801,
    "start_time": "2021-07-26T13:47:07.303Z"
   },
   {
    "duration": 97,
    "start_time": "2021-07-26T13:47:12.106Z"
   },
   {
    "duration": 7,
    "start_time": "2021-07-26T13:47:12.205Z"
   },
   {
    "duration": 3108,
    "start_time": "2021-07-26T13:47:12.214Z"
   },
   {
    "duration": 27551,
    "start_time": "2021-07-26T13:47:15.323Z"
   },
   {
    "duration": 509,
    "start_time": "2021-07-26T13:47:42.877Z"
   },
   {
    "duration": 6013,
    "start_time": "2021-07-26T13:47:43.389Z"
   },
   {
    "duration": 3824,
    "start_time": "2021-07-26T13:47:49.404Z"
   },
   {
    "duration": 27453,
    "start_time": "2021-07-26T13:47:53.230Z"
   },
   {
    "duration": 18880,
    "start_time": "2021-07-26T13:48:20.685Z"
   },
   {
    "duration": 76,
    "start_time": "2021-07-26T13:48:39.567Z"
   },
   {
    "duration": 64,
    "start_time": "2021-07-26T13:48:39.644Z"
   },
   {
    "duration": 268,
    "start_time": "2021-07-26T13:48:39.709Z"
   },
   {
    "duration": 8491,
    "start_time": "2021-07-26T13:48:39.979Z"
   },
   {
    "duration": 4,
    "start_time": "2021-07-26T13:48:48.472Z"
   },
   {
    "duration": 831545,
    "start_time": "2021-07-26T13:48:48.478Z"
   },
   {
    "duration": 77117,
    "start_time": "2021-07-26T14:02:40.025Z"
   },
   {
    "duration": 2,
    "start_time": "2021-07-26T14:03:57.144Z"
   },
   {
    "duration": 16,
    "start_time": "2021-07-26T14:03:57.148Z"
   },
   {
    "duration": 7,
    "start_time": "2021-07-26T14:03:57.165Z"
   },
   {
    "duration": 3075,
    "start_time": "2021-07-26T14:03:57.175Z"
   },
   {
    "duration": 63,
    "start_time": "2021-07-26T14:04:00.341Z"
   },
   {
    "duration": 6,
    "start_time": "2021-07-26T14:04:00.406Z"
   },
   {
    "duration": 16,
    "start_time": "2021-07-26T14:04:00.414Z"
   },
   {
    "duration": 9,
    "start_time": "2021-07-26T14:04:00.440Z"
   },
   {
    "duration": 87995,
    "start_time": "2021-07-26T14:04:00.451Z"
   },
   {
    "duration": 3,
    "start_time": "2021-07-26T14:05:28.447Z"
   },
   {
    "duration": 6,
    "start_time": "2021-07-26T14:05:28.452Z"
   },
   {
    "duration": 11,
    "start_time": "2021-07-26T14:05:28.459Z"
   },
   {
    "duration": 13,
    "start_time": "2021-07-26T14:05:28.472Z"
   },
   {
    "duration": 2,
    "start_time": "2021-07-26T14:05:28.486Z"
   },
   {
    "duration": 218,
    "start_time": "2021-07-26T14:05:28.490Z"
   },
   {
    "duration": 16,
    "start_time": "2021-07-26T14:05:28.710Z"
   },
   {
    "duration": 28528,
    "start_time": "2021-07-26T14:05:28.727Z"
   },
   {
    "duration": 670,
    "start_time": "2021-07-26T14:05:57.256Z"
   },
   {
    "duration": -96,
    "start_time": "2021-07-26T14:05:58.024Z"
   },
   {
    "duration": 93,
    "start_time": "2021-07-26T21:26:25.730Z"
   },
   {
    "duration": 3570,
    "start_time": "2021-07-26T21:27:25.537Z"
   },
   {
    "duration": 3318,
    "start_time": "2021-07-26T21:27:36.065Z"
   }
  ],
  "kernelspec": {
   "display_name": "Python 3 (ipykernel)",
   "language": "python",
   "name": "python3"
  },
  "language_info": {
   "codemirror_mode": {
    "name": "ipython",
    "version": 3
   },
   "file_extension": ".py",
   "mimetype": "text/x-python",
   "name": "python",
   "nbconvert_exporter": "python",
   "pygments_lexer": "ipython3",
   "version": "3.7.0"
  },
  "toc": {
   "base_numbering": 1,
   "nav_menu": {},
   "number_sections": true,
   "sideBar": true,
   "skip_h1_title": true,
   "title_cell": "Содержание",
   "title_sidebar": "Contents",
   "toc_cell": true,
   "toc_position": {
    "height": "calc(100% - 180px)",
    "left": "10px",
    "top": "150px",
    "width": "302.391px"
   },
   "toc_section_display": true,
   "toc_window_display": false
  }
 },
 "nbformat": 4,
 "nbformat_minor": 2
}
