{
 "cells": [
  {
   "cell_type": "markdown",
   "metadata": {},
   "source": [
    "<div style=\"background: #cceeaa; padding: 5px; border: 1px solid green; border-radius: 5px;\">\n",
    "    <font color='green'> <b><u>КОММЕНТАРИЙ РЕВЬЮЕРА</u></b>\n",
    "\n",
    "Евгений, доброго дня! рад приветствовать тебя) <br />\n",
    "<br />\n",
    "Меня зовут Николай Шавлюго. <br />И на этом этапе твоего движения к новой профессии от меня будут комментарии по написанному коду. <br />Чтобы меньше \"мусорить эфир\" и чтобы максимально наглядно отделяться от основного кода, есть предложение условиться в некоторых обозначениях:<br /> <br />\n",
    "<u><b>ТАКОЙ ШРИФТ</b></u> - всегда начало комментария <br />\n",
    "<font color='green'>такой шрифт</font> - комментарии о том, что всё ОК <br/>\n",
    "<font color='orange'>такой шрифт</font> - комментарии о том, что всё ОК по результату,<br> однако есть на что обратить внимание в плане применения техник, или есть способы сделать более короткий или быстрый код <br/>\n",
    "<font color='red'>такой шрифт</font> - комментарии о том, что есть критичный момент, влияющий на бизнес-результат проекта.<br/>\n",
    "</font><br /><br />\n",
    "<font color='green'>Моей целью является не \"уличить\" в не знании, а просто высказать сверху твоих знаний - свой опыт, что бы ты мог использовать его для своего дальнейшего успеха) И очень здорово будет, если тебе удастся задавать вопросы, да и вообще - всячески доставать меня, если я по каким-то причинам не приму проект:) При этом, из своего опыта скажу, хорошо и важно, когда переписка ревьюера и студента - сохраняется на следующие проекты и даже на будущую практическую деятельность.<br>\n",
    "<br> Я сразу же начал общаться на ты:) но если это не очень удобно, то дай знать)) <BR> В ПУТЬ!<br>"
   ]
  },
  {
   "cell_type": "markdown",
   "metadata": {},
   "source": [
    "# Выбор локации для скважины"
   ]
  },
  {
   "cell_type": "markdown",
   "metadata": {},
   "source": [
    "Допустим, вы работаете в добывающей компании «ГлавРосГосНефть». Нужно решить, где бурить новую скважину.\n",
    "\n",
    "Вам предоставлены пробы нефти в трёх регионах: в каждом 10 000 месторождений, где измерили качество нефти и объём её запасов. Постройте модель машинного обучения, которая поможет определить регион, где добыча принесёт наибольшую прибыль. Проанализируйте возможную прибыль и риски техникой *Bootstrap.*\n",
    "\n",
    "Шаги для выбора локации:\n",
    "\n",
    "- В избранном регионе ищут месторождения, для каждого определяют значения признаков;\n",
    "- Строят модель и оценивают объём запасов;\n",
    "- Выбирают месторождения с самым высокими оценками значений. Количество месторождений зависит от бюджета компании и стоимости разработки одной скважины;\n",
    "- Прибыль равна суммарной прибыли отобранных месторождений."
   ]
  },
  {
   "cell_type": "markdown",
   "metadata": {
    "toc": true
   },
   "source": [
    "<h1>Содержание<span class=\"tocSkip\"></span></h1>\n",
    "<div class=\"toc\"><ul class=\"toc-item\"><li><span><a href=\"#Описание-данных\" data-toc-modified-id=\"Описание-данных-1\"><span class=\"toc-item-num\">1&nbsp;&nbsp;</span>Описание данных</a></span></li><li><span><a href=\"#Загрузка-и-подготовка-данных\" data-toc-modified-id=\"Загрузка-и-подготовка-данных-2\"><span class=\"toc-item-num\">2&nbsp;&nbsp;</span>Загрузка и подготовка данных</a></span></li><li><span><a href=\"#Обучение-и-проверка-модели\" data-toc-modified-id=\"Обучение-и-проверка-модели-3\"><span class=\"toc-item-num\">3&nbsp;&nbsp;</span>Обучение и проверка модели</a></span></li><li><span><a href=\"#Подготовка-к-расчёту-прибыли\" data-toc-modified-id=\"Подготовка-к-расчёту-прибыли-4\"><span class=\"toc-item-num\">4&nbsp;&nbsp;</span>Подготовка к расчёту прибыли</a></span></li><li><span><a href=\"#Расчёт-прибыли-и-рисков\" data-toc-modified-id=\"Расчёт-прибыли-и-рисков-5\"><span class=\"toc-item-num\">5&nbsp;&nbsp;</span>Расчёт прибыли и рисков</a></span></li><li><span><a href=\"#Вывод\" data-toc-modified-id=\"Вывод-6\"><span class=\"toc-item-num\">6&nbsp;&nbsp;</span>Вывод</a></span></li><li><span><a href=\"#Чек-лист-готовности-проекта\" data-toc-modified-id=\"Чек-лист-готовности-проекта-7\"><span class=\"toc-item-num\">7&nbsp;&nbsp;</span>Чек-лист готовности проекта</a></span></li></ul></div>"
   ]
  },
  {
   "cell_type": "markdown",
   "metadata": {},
   "source": [
    "## Описание данных\n",
    "Данные геологоразведки трёх регионов находятся в файлах:\n",
    "* `id` — уникальный идентификатор скважины;\n",
    "* `f0, f1, f2` — три признака точек (неважно, что они означают, но сами признаки значимы);\n",
    "* `product` — объём запасов в скважине (тыс. баррелей).\n",
    "\n",
    "**Условия задачи:**\n",
    "* Для обучения модели подходит только линейная регрессия (остальные — недостаточно предсказуемые).\n",
    "* При разведке региона исследуют 500 точек, из которых с помощью машинного обучения выбирают 200 лучших для разработки.\n",
    "* Бюджет на разработку скважин в регионе — 10 млрд рублей.\n",
    "* При нынешних ценах один баррель сырья приносит 450 рублей дохода. Доход с каждой единицы продукта составляет 450 тыс. рублей, поскольку объём указан в тысячах баррелей.\n",
    "* После оценки рисков нужно оставить лишь те регионы, в которых вероятность убытков меньше 2.5%. Среди них выбирают регион с наибольшей средней прибылью."
   ]
  },
  {
   "cell_type": "code",
   "execution_count": 1,
   "metadata": {},
   "outputs": [],
   "source": [
    "import pandas as pd\n",
    "import numpy as np\n",
    "import matplotlib.pyplot as plt\n",
    "import seaborn as sns\n",
    "from sklearn.model_selection import train_test_split\n",
    "from sklearn.metrics import mean_absolute_error, mean_squared_error\n",
    "from sklearn.linear_model import LinearRegression"
   ]
  },
  {
   "cell_type": "markdown",
   "metadata": {},
   "source": [
    "## Загрузка и подготовка данных"
   ]
  },
  {
   "cell_type": "code",
   "execution_count": 2,
   "metadata": {},
   "outputs": [],
   "source": [
    "df_0 = pd.read_csv('/datasets/geo_data_0.csv')\n",
    "df_1 = pd.read_csv('/datasets/geo_data_1.csv')\n",
    "df_2 = pd.read_csv('/datasets/geo_data_2.csv')"
   ]
  },
  {
   "cell_type": "code",
   "execution_count": 3,
   "metadata": {},
   "outputs": [],
   "source": [
    "df_list = [df_0, df_1, df_2]"
   ]
  },
  {
   "cell_type": "code",
   "execution_count": 4,
   "metadata": {},
   "outputs": [],
   "source": [
    "df_0.name = 'Данные геологоразведки первого региона'\n",
    "df_1.name = 'Данные геологоразведки второго региона'\n",
    "df_2.name = 'Данные геологоразведки третьего региона'"
   ]
  },
  {
   "cell_type": "code",
   "execution_count": 5,
   "metadata": {},
   "outputs": [],
   "source": [
    "def information():\n",
    "    for x in df_list:\n",
    "        print('------{}------'.format((x.name)))\n",
    "        print('')\n",
    "        print(x.info())\n",
    "        print('')\n",
    "        print(x.head(10))\n",
    "        print()"
   ]
  },
  {
   "cell_type": "code",
   "execution_count": 6,
   "metadata": {
    "scrolled": false
   },
   "outputs": [
    {
     "name": "stdout",
     "output_type": "stream",
     "text": [
      "------Данные геологоразведки первого региона------\n",
      "\n",
      "<class 'pandas.core.frame.DataFrame'>\n",
      "RangeIndex: 100000 entries, 0 to 99999\n",
      "Data columns (total 5 columns):\n",
      "id         100000 non-null object\n",
      "f0         100000 non-null float64\n",
      "f1         100000 non-null float64\n",
      "f2         100000 non-null float64\n",
      "product    100000 non-null float64\n",
      "dtypes: float64(4), object(1)\n",
      "memory usage: 3.8+ MB\n",
      "None\n",
      "\n",
      "      id        f0        f1        f2     product\n",
      "0  txEyH  0.705745 -0.497823  1.221170  105.280062\n",
      "1  2acmU  1.334711 -0.340164  4.365080   73.037750\n",
      "2  409Wp  1.022732  0.151990  1.419926   85.265647\n",
      "3  iJLyR -0.032172  0.139033  2.978566  168.620776\n",
      "4  Xdl7t  1.988431  0.155413  4.751769  154.036647\n",
      "5  wX4Hy  0.969570  0.489775 -0.735383   64.741541\n",
      "6  tL6pL  0.645075  0.530656  1.780266   49.055285\n",
      "7  BYPU6 -0.400648  0.808337 -5.624670   72.943292\n",
      "8  j9Oui  0.643105 -0.551583  2.372141  113.356160\n",
      "9  OLuZU  2.173381  0.563698  9.441852  127.910945\n",
      "\n",
      "------Данные геологоразведки второго региона------\n",
      "\n",
      "<class 'pandas.core.frame.DataFrame'>\n",
      "RangeIndex: 100000 entries, 0 to 99999\n",
      "Data columns (total 5 columns):\n",
      "id         100000 non-null object\n",
      "f0         100000 non-null float64\n",
      "f1         100000 non-null float64\n",
      "f2         100000 non-null float64\n",
      "product    100000 non-null float64\n",
      "dtypes: float64(4), object(1)\n",
      "memory usage: 3.8+ MB\n",
      "None\n",
      "\n",
      "      id         f0         f1        f2     product\n",
      "0  kBEdx -15.001348  -8.276000 -0.005876    3.179103\n",
      "1  62mP7  14.272088  -3.475083  0.999183   26.953261\n",
      "2  vyE1P   6.263187  -5.948386  5.001160  134.766305\n",
      "3  KcrkZ -13.081196 -11.506057  4.999415  137.945408\n",
      "4  AHL4O  12.702195  -8.147433  5.004363  134.766305\n",
      "5  HHckp  -3.327590  -2.205276  3.003647   84.038886\n",
      "6  h5Ujo -11.142655 -10.133399  4.002382  110.992147\n",
      "7  muH9x   4.234715  -0.001354  2.004588   53.906522\n",
      "8  YiRkx  13.355129  -0.332068  4.998647  134.766305\n",
      "9  jG6Gi   1.069227 -11.025667  4.997844  137.945408\n",
      "\n",
      "------Данные геологоразведки третьего региона------\n",
      "\n",
      "<class 'pandas.core.frame.DataFrame'>\n",
      "RangeIndex: 100000 entries, 0 to 99999\n",
      "Data columns (total 5 columns):\n",
      "id         100000 non-null object\n",
      "f0         100000 non-null float64\n",
      "f1         100000 non-null float64\n",
      "f2         100000 non-null float64\n",
      "product    100000 non-null float64\n",
      "dtypes: float64(4), object(1)\n",
      "memory usage: 3.8+ MB\n",
      "None\n",
      "\n",
      "      id        f0        f1        f2     product\n",
      "0  fwXo0 -1.146987  0.963328 -0.828965   27.758673\n",
      "1  WJtFt  0.262778  0.269839 -2.530187   56.069697\n",
      "2  ovLUW  0.194587  0.289035 -5.586433   62.871910\n",
      "3  q6cA6  2.236060 -0.553760  0.930038  114.572842\n",
      "4  WPMUX -0.515993  1.716266  5.899011  149.600746\n",
      "5  LzZXx -0.758092  0.710691  2.585887   90.222465\n",
      "6  WBHRv -0.574891  0.317727  1.773745   45.641478\n",
      "7  XO8fn -1.906649 -2.458350 -0.177097   72.480640\n",
      "8  ybmQ5  1.776292 -0.279356  3.004156  106.616832\n",
      "9  OilcN -1.214452 -0.439314  5.922514   52.954532\n",
      "\n"
     ]
    }
   ],
   "source": [
    "information()"
   ]
  },
  {
   "cell_type": "code",
   "execution_count": 7,
   "metadata": {},
   "outputs": [
    {
     "name": "stdout",
     "output_type": "stream",
     "text": [
      "Число дубликатов в таблице \"Данные геологоразведки первого региона\": 0\n",
      "Число дубликатов в таблице \"Данные геологоразведки второго региона\": 0\n",
      "Число дубликатов в таблице \"Данные геологоразведки третьего региона\": 0\n"
     ]
    }
   ],
   "source": [
    "for table in df_list:\n",
    "    print('Число дубликатов в таблице \"{}\": {}'.format(table.name, table.duplicated().sum()))"
   ]
  },
  {
   "cell_type": "code",
   "execution_count": 8,
   "metadata": {},
   "outputs": [
    {
     "data": {
      "image/png": "[encoded data removed]",
      "text/plain": [
       "<Figure size 864x216 with 6 Axes>"
      ]
     },
     "metadata": {
      "needs_background": "light"
     },
     "output_type": "display_data"
    }
   ],
   "source": [
    "fig, ax = plt.subplots(1,3, figsize=(12,3))\n",
    "for i in range(len(df_list)):\n",
    "    ax[i] = sns.heatmap(df_list[i].corr(), annot=True, fmt='.2f', ax=ax[i])\n",
    "    ax[i].title.set_text(df_list[i].name)\n",
    "fig.tight_layout()\n",
    "plt.show()"
   ]
  },
  {
   "cell_type": "code",
   "execution_count": 9,
   "metadata": {},
   "outputs": [
    {
     "data": {
      "image/png": "[encoded data removed]",
      "text/plain": [
       "<Figure size 864x216 with 3 Axes>"
      ]
     },
     "metadata": {
      "needs_background": "light"
     },
     "output_type": "display_data"
    }
   ],
   "source": [
    "fig, ax = plt.subplots(1,3, figsize=(12,3))\n",
    "for i in range(len(df_list)):\n",
    "    ax[i] = sns.distplot(df_list[i]['product'], ax=ax[i])\n",
    "    ax[i].title.set_text(df_list[i].name)\n",
    "fig.tight_layout()\n",
    "plt.show()"
   ]
  },
  {
   "cell_type": "code",
   "execution_count": 10,
   "metadata": {},
   "outputs": [
    {
     "data": {
      "text/plain": [
       "0.000000      8235\n",
       "3.179103      8337\n",
       "26.953261     8468\n",
       "30.132364     8306\n",
       "53.906522     8472\n",
       "57.085625     8390\n",
       "80.859783     8320\n",
       "84.038886     8431\n",
       "107.813044    8201\n",
       "110.992147    8303\n",
       "134.766305    8304\n",
       "137.945408    8233\n",
       "Name: product, dtype: int64"
      ]
     },
     "execution_count": 10,
     "metadata": {},
     "output_type": "execute_result"
    }
   ],
   "source": [
    "df_1['product'].value_counts().sort_index()"
   ]
  },
  {
   "cell_type": "code",
   "execution_count": 11,
   "metadata": {},
   "outputs": [
    {
     "data": {
      "text/plain": [
       "AGS9W    2\n",
       "QcMuo    2\n",
       "TtcGQ    2\n",
       "fiKDv    2\n",
       "A5aEY    2\n",
       "Tdehs    2\n",
       "bsk9y    2\n",
       "bxg6G    2\n",
       "HZww2    2\n",
       "74z30    2\n",
       "QtilL    1\n",
       "nJAZY    1\n",
       "7ejGo    1\n",
       "3ODLW    1\n",
       "5al3I    1\n",
       "pzfxw    1\n",
       "zp60Q    1\n",
       "woCDI    1\n",
       "Bm48N    1\n",
       "vGUTf    1\n",
       "Name: id, dtype: int64"
      ]
     },
     "execution_count": 11,
     "metadata": {},
     "output_type": "execute_result"
    }
   ],
   "source": [
    "df_0['id'].value_counts().head(20)"
   ]
  },
  {
   "cell_type": "markdown",
   "metadata": {},
   "source": [
    "**Вывод**\n",
    "* Данные полностью готовы для обучения модели - не содержат пропусков и дубликатов, типы данных верные, количество наблюдений достаточное.\n",
    "* Признак **f2** во всех данных коррелирует со столбцом **product**.\n",
    "* Данные для региона 2 отличаются. Имеется наивысшая корреляция признака **f2** и стообца **product**.  Кроме этого, в столбце **product** всего 12 уникальных значений, при этом данные имеют не нормальное распределение. Этот факт не позволяет нам убрать сильно кореллируемый признак перед обучением модели. \n",
    "* Во всех данных имеется незначительное количество повторов для одной скважены, однако они уникальны.\n",
    "* В регионах 1 и 3 данные имеют практически нормальное распределение."
   ]
  },
  {
   "cell_type": "markdown",
   "metadata": {},
   "source": [
    "<div style=\"background: #cceeaa; padding: 5px; border: 1px solid green; border-radius: 5px;\">\n",
    "    <font color='green'> <b><u>КОММЕНТАРИЙ РЕВЬЮЕРА</u></b>\n",
    "</font>\n",
    "<font color='green'><br>Данные на базе) Хорошо, что есть культура проводить первчиную аналитику данных. Про высокую корреляцию - верно подмечено) Это может повлиять на моделирование)"
   ]
  },
  {
   "cell_type": "markdown",
   "metadata": {},
   "source": [
    "## Обучение и проверка модели"
   ]
  },
  {
   "cell_type": "code",
   "execution_count": 12,
   "metadata": {},
   "outputs": [
    {
     "name": "stdout",
     "output_type": "stream",
     "text": [
      "Данные геологоразведки первого региона\n",
      "predict: 92.59\n",
      "real: 92.50\n",
      "RMSE: 37.58\n",
      "MAE: 30.92\n",
      "SCORE: 0.27\n",
      "\n",
      "Данные геологоразведки второго региона\n",
      "predict: 68.73\n",
      "real: 68.83\n",
      "RMSE: 0.89\n",
      "MAE: 0.72\n",
      "SCORE: 1.00\n",
      "\n",
      "Данные геологоразведки третьего региона\n",
      "predict: 94.97\n",
      "real: 95.00\n",
      "RMSE: 40.03\n",
      "MAE: 32.79\n",
      "SCORE: 0.20\n",
      "\n"
     ]
    }
   ],
   "source": [
    "real_df = pd.DataFrame()\n",
    "predict_df = pd.DataFrame()\n",
    "\n",
    "for i,j in zip(df_list,range(3)):\n",
    "    features = i.drop(['product','id'], axis=1)\n",
    "    target = i['product']\n",
    "    features_train, features_valid, target_train, target_valid = train_test_split(\n",
    "        features, target, random_state=12345, test_size=0.25) \n",
    "    \n",
    "    model = LinearRegression().fit(features_train, target_train)\n",
    "    predictions = model.predict(features_valid)\n",
    "    \n",
    "    rmse = mean_squared_error(target_valid, predictions) ** (1/2)\n",
    "    mae = mean_absolute_error(predictions, target_valid)\n",
    "    score = model.score(features_train, target_train)\n",
    "    target_mean = i['product'].mean()\n",
    "    \n",
    "    print(i.name)\n",
    "    print(\"predict: {0:.2f}\".format(predictions.mean()))\n",
    "    print(\"real: {0:.2f}\".format(target_mean))\n",
    "    print(\"RMSE: {0:.2f}\".format(rmse))\n",
    "    print(\"MAE: {0:.2f}\".format(mae))\n",
    "    print(\"SCORE: {0:.2f}\".format(score))\n",
    "    print(\"\")\n",
    "    \n",
    "    real_df[j] = target_valid.reset_index(drop=True)\n",
    "    predict_df[j] = predictions"
   ]
  },
  {
   "cell_type": "markdown",
   "metadata": {},
   "source": [
    "**Вывод**\n",
    "* Модель хорошо предсказала среднее значение сырья в скважине.\n",
    "* Для регионов 1 и 3 модель имеет высокие ошибки предсказания. Однако данные для региона, несмотря на меньшие ошибки, нельзя считать доставерными."
   ]
  },
  {
   "cell_type": "markdown",
   "metadata": {},
   "source": [
    "<div style=\"background: #cceeaa; padding: 5px; border: 1px solid green; border-radius: 5px;\">\n",
    "    <font color='green'> <b><u>КОММЕНТАРИЙ РЕВЬЮЕРА</u></b>\n",
    "</font>\n",
    "<font color='green'><br>Отлично, согласен с расчётами) Вот, как раз низкая ошибка у второго по счёту региона - как раз следствие высокоррелированности f2."
   ]
  },
  {
   "cell_type": "markdown",
   "metadata": {},
   "source": [
    "## Подготовка к расчёту прибыли"
   ]
  },
  {
   "cell_type": "code",
   "execution_count": 13,
   "metadata": {},
   "outputs": [],
   "source": [
    "wells = 500\n",
    "profit_wells = 200\n",
    "budget = 10000000000\n",
    "barrel = 450000"
   ]
  },
  {
   "cell_type": "code",
   "execution_count": 14,
   "metadata": {},
   "outputs": [
    {
     "name": "stdout",
     "output_type": "stream",
     "text": [
      "Средняя стоимость одной скважины: 50000000 рублей\n"
     ]
    }
   ],
   "source": [
    "well_price = budget / profit_wells\n",
    "print('Средняя стоимость одной скважины: {0:.0f} рублей'.format(well_price))"
   ]
  },
  {
   "cell_type": "code",
   "execution_count": 15,
   "metadata": {},
   "outputs": [
    {
     "name": "stdout",
     "output_type": "stream",
     "text": [
      "Средний объем нефти на скважину: 111 тыс. баррелей\n"
     ]
    }
   ],
   "source": [
    "min_product = well_price / barrel\n",
    "print('Средний объем нефти на скважину: {0:.0f} тыс. баррелей'.format(min_product))"
   ]
  },
  {
   "cell_type": "code",
   "execution_count": 16,
   "metadata": {},
   "outputs": [],
   "source": [
    "def profit_calculation(target, predictions, count):\n",
    "    probs_sorted = predictions.sort_values(ascending=False)[:count]\n",
    "    top_target = target[probs_sorted.index]\n",
    "    return barrel * top_target.sum() - budget"
   ]
  },
  {
   "cell_type": "markdown",
   "metadata": {},
   "source": [
    "**Вывод**\n",
    "* Для окупаемости средний объем нефти в одной скважине должен быть выше 111 тыс. баррелей.\n",
    "* Среднее значение нефти в регионах 1 и 3 около 93 тыс. баррелей, а вот в регионе 2 всего 69.\n",
    "* Риски разработки региона 2 на каждом этапе исследования возрастают."
   ]
  },
  {
   "cell_type": "markdown",
   "metadata": {},
   "source": [
    "<div style=\"background: #cceeaa; padding: 5px; border: 1px solid green; border-radius: 5px;\">\n",
    "<font color='green'> \n",
    "    <b><u>КОММЕНТАРИЙ РЕВЬЮЕРА</u></b>\n",
    "<font color='green'><br>\n",
    "есть точка безубыточности) И верно, ни один регион не дотягивает.. Видно, что нужны DS-специалисты нефтянке:)"
   ]
  },
  {
   "cell_type": "markdown",
   "metadata": {},
   "source": [
    "## Расчёт прибыли и рисков "
   ]
  },
  {
   "cell_type": "code",
   "execution_count": 17,
   "metadata": {},
   "outputs": [],
   "source": [
    "state = np.random.RandomState(12345)"
   ]
  },
  {
   "cell_type": "code",
   "execution_count": 18,
   "metadata": {},
   "outputs": [],
   "source": [
    "def bootstrap(target, predict):\n",
    "    values=[]\n",
    "    lost = 0\n",
    "    for i in range(1000):\n",
    "        target_sample = target.sample(replace=True, random_state=state, n=wells)\n",
    "        probs_sample = predict[target_sample.index]\n",
    "        profit = profit_calculation(target, probs_sample, profit_wells)\n",
    "        if profit < 0:\n",
    "            lost +=1\n",
    "        values.append(profit)\n",
    "    \n",
    "    values = pd.Series(values)\n",
    "    lower = values.quantile(0.025)\n",
    "    upper = values.quantile(0.975)\n",
    "    average = values.mean()\n",
    "    risk = lost / 1000\n",
    "    return average, lower, upper, risk"
   ]
  },
  {
   "cell_type": "code",
   "execution_count": 19,
   "metadata": {},
   "outputs": [
    {
     "name": "stdout",
     "output_type": "stream",
     "text": [
      "Данные геологоразведки первого региона\n",
      "Средняя прибыль по региону: 396164984.80 тыс.руб.\n",
      "95% доверительный интервал: (-111215545.89 - 909766941.55) тыс.руб.\n",
      "Процент риска: 6.90%\n",
      "\n",
      "Данные геологоразведки второго региона\n",
      "Средняя прибыль по региону: 461155817.28 тыс.руб.\n",
      "95% доверительный интервал: (78050810.75 - 862952060.26) тыс.руб.\n",
      "Процент риска: 0.70%\n",
      "\n",
      "Данные геологоразведки третьего региона\n",
      "Средняя прибыль по региону: 392950475.17 тыс.руб.\n",
      "95% доверительный интервал: (-112227625.38 - 934562914.55) тыс.руб.\n",
      "Процент риска: 6.50%\n",
      "\n"
     ]
    }
   ],
   "source": [
    "for i in range(len(df_list)):\n",
    "    average, lower, upper, risk = bootstrap(real_df[i], predict_df[i])\n",
    "    print(df_list[i].name)\n",
    "    print('Средняя прибыль по региону: {:.2f} тыс.руб.'.format(average))\n",
    "    print('95% доверительный интервал: ({:.2f} - {:.2f}) тыс.руб.'.format(lower, upper))\n",
    "    print('Процент риска: {:.2%}'.format(risk))\n",
    "    print('')"
   ]
  },
  {
   "cell_type": "markdown",
   "metadata": {},
   "source": [
    "**Вывод**\n",
    "* Регионы 1 и 3 по прежнему крайне похожи и имеют приблизительно одинаковые вероятности окупаемости. Риски составляют 6,9 и 6,5% для региона 1 и 3 соотвественно.\n",
    "* Ввиду отличия данных для региона 2 (всего 12 категорий, с преобладающими крайними значениями) выбор его в качестве лучшего сомнителен, даже несмотря на низкий процет риска полученный с помощью **bootstrap**.\n",
    "* Удаление признака **f2** из региона 2 приводит к недостаточному обучению модели и к 100% риску. Попытки обучить модель на регионах 1 и 3 и заполнить столбец **product** не привели к положительным результатам. Возможно, есть какой-то еще подход, который поможет использовать данные для региона 2?"
   ]
  },
  {
   "cell_type": "markdown",
   "metadata": {},
   "source": [
    "## Вывод"
   ]
  },
  {
   "cell_type": "markdown",
   "metadata": {},
   "source": [
    "Однозначной рекомендации по выбору региона для бурения сделать нельзя. Несмотря на то что по критерию (риск <2.5%) подходит регион 2, здравый смысл не позволяет рекомендавать его ввиду особенности исходных данных. В случае, если данные для региона 2 верны, он будет предпочтительным для бурения, однако, если уточнить этот вопрос не представляется возможным, лучше всего выбрать регионы 1 или 3."
   ]
  },
  {
   "cell_type": "markdown",
   "metadata": {},
   "source": [
    "<div style=\"background: #cceeaa; padding: 5px; border: 1px solid green; border-radius: 5px;\">\n",
    "<font color='green'> \n",
    "    <b><u>КОММЕНТАРИЙ РЕВЬЮЕРА</u></b>\n",
    "</font><br>\n",
    "<font color='green'><br>\n",
    "Евгений, всё по теме и в точку у тебя получилось)<BR> \n",
    "Результ, выводы и даже доверительный интервал - тот, что нужен, именно для прогноза.<br>\n",
    "Только значения 1000 и 500 в бутстрепе - лучше выносить в глобальные переменные)<br>\n",
    "    \n",
    "Данный проект не простой. И не только тем, что задание с первого раза может показатья не понятным.\n",
    "Но и потому, что его цель не просто построить прогноз по модели или прогноз продаж. А научиться выбирать лучшее управленческое решение на основе метода моделирования ситуации. Т.е. нужно было уйти чуть в сторону от классического моделирования как такового.<br><br>\n",
    "О подходах) Бутсреп - он близок к методам управленческого моделирования монте-карло.\n",
    "В этом ключе и есть смысл его рассматривать. Есть ещё одно направление в этой теме. Его продвигает российская компания - AnyLogic. И у неё есть хороший продукт с одноимённым названием. Мне приходилось как-то смотреть его... интересно. Можешь ролик из инета глянуть по какому-нибудь примеру с её использованием. Тогда тема управленческого моделирования и вообще моделирование с целью найти оптимальное решение - может по-другому \"зайти\"... <br>\n",
    "    \n",
    "Спасибо) УСПЕШНОГО ДАЛЬНЕЙШЕГО ОБУЧЕНИЯ!"
   ]
  },
  {
   "cell_type": "markdown",
   "metadata": {},
   "source": [
    "## Чек-лист готовности проекта"
   ]
  },
  {
   "cell_type": "markdown",
   "metadata": {},
   "source": [
    "Поставьте 'x' в выполненных пунктах. Далее нажмите Shift+Enter."
   ]
  },
  {
   "cell_type": "markdown",
   "metadata": {},
   "source": [
    "- [x]  Jupyter Notebook открыт\n",
    "- [x]  Весь код выполняется без ошибок\n",
    "- [x]  Ячейки с кодом расположены в порядке исполнения\n",
    "- [x]  Выполнен шаг 1: данные подготовлены\n",
    "- [x]  Выполнен шаг 2: модели обучены и проверены\n",
    "    - [x]  Данные корректно разбиты на обучающую и валидационную выборки\n",
    "    - [x]  Модели обучены, предсказания сделаны\n",
    "    - [x]  Предсказания и правильные ответы на валидационной выборке сохранены\n",
    "    - [x]  На экране напечатаны результаты\n",
    "    - [x]  Сделаны выводы\n",
    "- [x]  Выполнен шаг 3: проведена подготовка к расчёту прибыли\n",
    "    - [x]  Для всех ключевых значений созданы константы Python\n",
    "    - [x]  Посчитано минимальное среднее количество продукта в месторождениях региона, достаточное для разработки\n",
    "    - [x]  По предыдущему пункту сделаны выводы\n",
    "    - [x]  Написана функция расчёта прибыли\n",
    "- [x]  Выполнен шаг 4: посчитаны риски и прибыль\n",
    "    - [x]  Проведена процедура *Bootstrap*\n",
    "    - [x]  Все параметры бутстрепа соответствуют условию\n",
    "    - [x]  Найдены все нужные величины\n",
    "    - [x]  Предложен регион для разработки месторождения\n",
    "    - [x]  Выбор региона обоснован"
   ]
  }
 ],
 "metadata": {
  "kernelspec": {
   "display_name": "Python 3 (ipykernel)",
   "language": "python",
   "name": "python3"
  },
  "language_info": {
   "codemirror_mode": {
    "name": "ipython",
    "version": 3
   },
   "file_extension": ".py",
   "mimetype": "text/x-python",
   "name": "python",
   "nbconvert_exporter": "python",
   "pygments_lexer": "ipython3",
   "version": "3.9.5"
  },
  "toc": {
   "base_numbering": 1,
   "nav_menu": {},
   "number_sections": true,
   "sideBar": true,
   "skip_h1_title": true,
   "title_cell": "Содержание",
   "title_sidebar": "Contents",
   "toc_cell": true,
   "toc_position": {},
   "toc_section_display": true,
   "toc_window_display": false
  }
 },
 "nbformat": 4,
 "nbformat_minor": 2
}
