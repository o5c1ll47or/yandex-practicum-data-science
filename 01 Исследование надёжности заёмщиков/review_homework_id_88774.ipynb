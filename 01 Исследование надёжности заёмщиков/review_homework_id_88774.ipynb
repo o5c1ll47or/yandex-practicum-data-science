{
 "cells": [
  {
   "cell_type": "markdown",
   "metadata": {},
   "source": [
    "Привет, меня зовут Гребенюк Артём. Сегодня я буду делать ревью твоего проекта!\\\n",
    "В Практикуме принято общаться на \"ты\", однако если это неудобно - дай знать, и можем перейти на более официальное общение.\n",
    "\n",
    "Ниже ты найдешь мои комментарии - пожалуйста, не перемещай, не изменяй и не удаляй их. Я буду использовать цветовую разметку: \n",
    "\n",
    "<div class=\"alert alert-block alert-success\">\n",
    "<b>Success:</b> Если все сделано хорошо. </div>\n",
    "\n",
    "<div class=\"alert alert-block alert-warning\">\n",
    "<b>Remarks:</b> Некритичное замечание; если таких замечаний меньше трех — проект может быть принят без их отработки.</div>\n",
    "\n",
    "<div class=\"alert alert-block alert-danger\">\n",
    "<b>Needs fixing:</b> Грубая ошибка, необходимо исправить, иначе проект не будет принят.\n",
    "</div>\n",
    "\n",
    "Давай работать над проектом в диалоге: если ты что-то меняешь в проекте или отвечаешь на мои комменатри — пиши об этом. Мне будет легче отследить изменения, если ты выделишь свои комментарии:\n",
    "Например так:\n",
    "<div class=\"alert alert-block alert-info\">\n",
    "<b>Fixed:</b> \n",
    "Hello World!\n",
    "</div>\n",
    "\n",
    "Или можешь использовать эту галочку ✔ в моих комментариях, если писать особо нечего.\n",
    "\n",
    "<div class=\"alert alert-block alert-warning\">\n",
    "<b>Общее впечатление:</b> \n",
    "    \n",
    "- Спасибо за работу :)\n",
    "- Определенно могу сказать, что справился ты очень хорошо\n",
    "- У меня есть пара ремарок, которые помогут тебе сделать проект еще лучше.\n",
    "- Пробегись по моим комментариям, исправь недочёты и всё будет отлично :)\n",
    "    \n",
    "</div>\n",
    "\n",
    "<div class=\"alert alert-block alert-info\">\n",
    "✔ Артем, привет! Спасибо за проделанную работу!\n",
    "</div>"
   ]
  },
  {
   "cell_type": "markdown",
   "metadata": {},
   "source": [
    "<div class=\"alert alert-block alert-success\">\n",
    "Привет! Мы отлично поработали - шагнули ненмого в бигадту, привели окд к индустриалньым стандартам и в целом и без того хороший проект сделали еще лучше :) Отличная работа, проект принят, удачи в дальнейшем обучении!"
   ]
  },
  {
   "cell_type": "markdown",
   "metadata": {},
   "source": [
    "<h1> Исследование надёжности заёмщиков </h1>\n",
    "\n",
    "Заказчик — кредитный отдел банка. Нужно разобраться, влияет ли семейное положение и количество детей клиента на факт погашения кредита в срок. Входные данные от банка — статистика о платёжеспособности клиентов.\n",
    "\n",
    "Результаты исследования будут учтены при построении модели **кредитного скоринга** — специальной системы, которая оценивает способность потенциального заёмщика вернуть кредит банку.\n",
    "\n",
    "**Содержание**\n",
    "\n",
    "- [1   Шаг 1. Откройте файл с данными и изучите общую информацию](#a)\n",
    "- [2   Шаг 2. Предобработка данных](#b)\n",
    "    - [2.1   Обработка пропусков](#c)\n",
    "    - [2.2   Замена типа данных ](#d)\n",
    "    - [2.3   Обработка дубликатов](#e)\n",
    "    - [2.4   Лемматизация](#f)\n",
    "    - [2.5   Категоризация данных](#g)\n",
    "        - [2.5.1   Категоризация количества детей в семье](#h)\n",
    "        - [2.5.2   Категоризация общего трудового стажа в днях](#i)\n",
    "        - [2.5.3   Категоризация возраста клиента в годах](#j)\n",
    "        - [2.5.4   Категоризация ежемесячного дохода](#k)\n",
    "        - [2.5.5   Категоризация цели получения кредита](#l)\n",
    "- [3   Шаг 3. Ответьте на вопросы](#m)\n",
    "    - [3.1   Есть ли зависимость между наличием детей и возвратом кредита в срок?](#n)\n",
    "    - [3.2   Есть ли зависимость между семейным положением и возвратом кредита в срок?](#o)\n",
    "    - [3.3   Есть ли зависимость между уровнем дохода и возвратом кредита в срок?](#p)\n",
    "    - [3.4   Как разные цели кредита влияют на его возврат в срок?](#q)\n",
    "    - [3.5   Проверим выдвинутую нами гипотезу о том, что наиболее кредитоспособный возраст лежит в диапазоне 21-50 лет.](#r)\n",
    "- [4   Шаг 4. Общий вывод](#s)\n",
    "- [5   Чек-лист готовности проекта](#t)"
   ]
  },
  {
   "cell_type": "markdown",
   "metadata": {},
   "source": [
    "<div class=\"alert alert-block alert-warning\">\n",
    "<b>Remarks:</b> \n",
    "    \n",
    "Отлично, что у проекта есть введение. Однако стоит задуматься, как еще его можно дополнить, чтобы сделать более ценным для читателя. В студенческом ноушене (если нет доступа, спроси куратора) есть статья о том, как мы оформляем работы.\n",
    "    \n",
    "Также советую тебе взглянуть на <a href=\"https://www.kaggle.com/notebooks/\">работы</a> профессиональных аналитиков, чтобы оценить, как другие люди оформляют и проводят исследования. </div>\n",
    "\n",
    "<div class=\"alert alert-block alert-info\">\n",
    "✔ Подход, описанный в ноушене, не сработал, если # используются для заголовков, метки не работают. Добавил содержание из примеров на kaggle.com.\n",
    "</div>"
   ]
  },
  {
   "cell_type": "markdown",
   "metadata": {},
   "source": [
    "<h2> Шаг 1. Откройте файл с данными и изучите общую информацию  </h2><a id=a></a>"
   ]
  },
  {
   "cell_type": "markdown",
   "metadata": {},
   "source": [
    "Импортируем библиотеки:"
   ]
  },
  {
   "cell_type": "code",
   "execution_count": 1,
   "metadata": {},
   "outputs": [],
   "source": [
    "import pandas as pd\n",
    "from pymystem3 import Mystem\n",
    "from collections import Counter\n",
    "m = Mystem()"
   ]
  },
  {
   "cell_type": "markdown",
   "metadata": {},
   "source": [
    "<div class=\"alert alert-block alert-success\">\n",
    "<b>Success:</b> превосходное оформление импортов"
   ]
  },
  {
   "cell_type": "markdown",
   "metadata": {},
   "source": [
    "Импортируем данные:"
   ]
  },
  {
   "cell_type": "code",
   "execution_count": 2,
   "metadata": {
    "scrolled": false
   },
   "outputs": [],
   "source": [
    "data = pd.read_csv('/datasets/data.csv')"
   ]
  },
  {
   "cell_type": "markdown",
   "metadata": {},
   "source": [
    "Воспользуемся `.info()`, `.head()` и `.describe()` для анализа данных."
   ]
  },
  {
   "cell_type": "code",
   "execution_count": 3,
   "metadata": {},
   "outputs": [
    {
     "name": "stdout",
     "output_type": "stream",
     "text": [
      "<class 'pandas.core.frame.DataFrame'>\n",
      "RangeIndex: 21525 entries, 0 to 21524\n",
      "Data columns (total 12 columns):\n",
      "children            21525 non-null int64\n",
      "days_employed       19351 non-null float64\n",
      "dob_years           21525 non-null int64\n",
      "education           21525 non-null object\n",
      "education_id        21525 non-null int64\n",
      "family_status       21525 non-null object\n",
      "family_status_id    21525 non-null int64\n",
      "gender              21525 non-null object\n",
      "income_type         21525 non-null object\n",
      "debt                21525 non-null int64\n",
      "total_income        19351 non-null float64\n",
      "purpose             21525 non-null object\n",
      "dtypes: float64(2), int64(5), object(5)\n",
      "memory usage: 2.0+ MB\n"
     ]
    }
   ],
   "source": [
    "data.info()"
   ]
  },
  {
   "cell_type": "code",
   "execution_count": 4,
   "metadata": {},
   "outputs": [
    {
     "data": {
      "text/html": [
       "<div>\n",
       "<style scoped>\n",
       "    .dataframe tbody tr th:only-of-type {\n",
       "        vertical-align: middle;\n",
       "    }\n",
       "\n",
       "    .dataframe tbody tr th {\n",
       "        vertical-align: top;\n",
       "    }\n",
       "\n",
       "    .dataframe thead th {\n",
       "        text-align: right;\n",
       "    }\n",
       "</style>\n",
       "<table border=\"1\" class=\"dataframe\">\n",
       "  <thead>\n",
       "    <tr style=\"text-align: right;\">\n",
       "      <th></th>\n",
       "      <th>children</th>\n",
       "      <th>days_employed</th>\n",
       "      <th>dob_years</th>\n",
       "      <th>education</th>\n",
       "      <th>education_id</th>\n",
       "      <th>family_status</th>\n",
       "      <th>family_status_id</th>\n",
       "      <th>gender</th>\n",
       "      <th>income_type</th>\n",
       "      <th>debt</th>\n",
       "      <th>total_income</th>\n",
       "      <th>purpose</th>\n",
       "    </tr>\n",
       "  </thead>\n",
       "  <tbody>\n",
       "    <tr>\n",
       "      <td>0</td>\n",
       "      <td>1</td>\n",
       "      <td>-8437.673028</td>\n",
       "      <td>42</td>\n",
       "      <td>высшее</td>\n",
       "      <td>0</td>\n",
       "      <td>женат / замужем</td>\n",
       "      <td>0</td>\n",
       "      <td>F</td>\n",
       "      <td>сотрудник</td>\n",
       "      <td>0</td>\n",
       "      <td>253875.639453</td>\n",
       "      <td>покупка жилья</td>\n",
       "    </tr>\n",
       "    <tr>\n",
       "      <td>1</td>\n",
       "      <td>1</td>\n",
       "      <td>-4024.803754</td>\n",
       "      <td>36</td>\n",
       "      <td>среднее</td>\n",
       "      <td>1</td>\n",
       "      <td>женат / замужем</td>\n",
       "      <td>0</td>\n",
       "      <td>F</td>\n",
       "      <td>сотрудник</td>\n",
       "      <td>0</td>\n",
       "      <td>112080.014102</td>\n",
       "      <td>приобретение автомобиля</td>\n",
       "    </tr>\n",
       "    <tr>\n",
       "      <td>2</td>\n",
       "      <td>0</td>\n",
       "      <td>-5623.422610</td>\n",
       "      <td>33</td>\n",
       "      <td>Среднее</td>\n",
       "      <td>1</td>\n",
       "      <td>женат / замужем</td>\n",
       "      <td>0</td>\n",
       "      <td>M</td>\n",
       "      <td>сотрудник</td>\n",
       "      <td>0</td>\n",
       "      <td>145885.952297</td>\n",
       "      <td>покупка жилья</td>\n",
       "    </tr>\n",
       "    <tr>\n",
       "      <td>3</td>\n",
       "      <td>3</td>\n",
       "      <td>-4124.747207</td>\n",
       "      <td>32</td>\n",
       "      <td>среднее</td>\n",
       "      <td>1</td>\n",
       "      <td>женат / замужем</td>\n",
       "      <td>0</td>\n",
       "      <td>M</td>\n",
       "      <td>сотрудник</td>\n",
       "      <td>0</td>\n",
       "      <td>267628.550329</td>\n",
       "      <td>дополнительное образование</td>\n",
       "    </tr>\n",
       "    <tr>\n",
       "      <td>4</td>\n",
       "      <td>0</td>\n",
       "      <td>340266.072047</td>\n",
       "      <td>53</td>\n",
       "      <td>среднее</td>\n",
       "      <td>1</td>\n",
       "      <td>гражданский брак</td>\n",
       "      <td>1</td>\n",
       "      <td>F</td>\n",
       "      <td>пенсионер</td>\n",
       "      <td>0</td>\n",
       "      <td>158616.077870</td>\n",
       "      <td>сыграть свадьбу</td>\n",
       "    </tr>\n",
       "    <tr>\n",
       "      <td>5</td>\n",
       "      <td>0</td>\n",
       "      <td>-926.185831</td>\n",
       "      <td>27</td>\n",
       "      <td>высшее</td>\n",
       "      <td>0</td>\n",
       "      <td>гражданский брак</td>\n",
       "      <td>1</td>\n",
       "      <td>M</td>\n",
       "      <td>компаньон</td>\n",
       "      <td>0</td>\n",
       "      <td>255763.565419</td>\n",
       "      <td>покупка жилья</td>\n",
       "    </tr>\n",
       "    <tr>\n",
       "      <td>6</td>\n",
       "      <td>0</td>\n",
       "      <td>-2879.202052</td>\n",
       "      <td>43</td>\n",
       "      <td>высшее</td>\n",
       "      <td>0</td>\n",
       "      <td>женат / замужем</td>\n",
       "      <td>0</td>\n",
       "      <td>F</td>\n",
       "      <td>компаньон</td>\n",
       "      <td>0</td>\n",
       "      <td>240525.971920</td>\n",
       "      <td>операции с жильем</td>\n",
       "    </tr>\n",
       "    <tr>\n",
       "      <td>7</td>\n",
       "      <td>0</td>\n",
       "      <td>-152.779569</td>\n",
       "      <td>50</td>\n",
       "      <td>СРЕДНЕЕ</td>\n",
       "      <td>1</td>\n",
       "      <td>женат / замужем</td>\n",
       "      <td>0</td>\n",
       "      <td>M</td>\n",
       "      <td>сотрудник</td>\n",
       "      <td>0</td>\n",
       "      <td>135823.934197</td>\n",
       "      <td>образование</td>\n",
       "    </tr>\n",
       "    <tr>\n",
       "      <td>8</td>\n",
       "      <td>2</td>\n",
       "      <td>-6929.865299</td>\n",
       "      <td>35</td>\n",
       "      <td>ВЫСШЕЕ</td>\n",
       "      <td>0</td>\n",
       "      <td>гражданский брак</td>\n",
       "      <td>1</td>\n",
       "      <td>F</td>\n",
       "      <td>сотрудник</td>\n",
       "      <td>0</td>\n",
       "      <td>95856.832424</td>\n",
       "      <td>на проведение свадьбы</td>\n",
       "    </tr>\n",
       "    <tr>\n",
       "      <td>9</td>\n",
       "      <td>0</td>\n",
       "      <td>-2188.756445</td>\n",
       "      <td>41</td>\n",
       "      <td>среднее</td>\n",
       "      <td>1</td>\n",
       "      <td>женат / замужем</td>\n",
       "      <td>0</td>\n",
       "      <td>M</td>\n",
       "      <td>сотрудник</td>\n",
       "      <td>0</td>\n",
       "      <td>144425.938277</td>\n",
       "      <td>покупка жилья для семьи</td>\n",
       "    </tr>\n",
       "    <tr>\n",
       "      <td>10</td>\n",
       "      <td>2</td>\n",
       "      <td>-4171.483647</td>\n",
       "      <td>36</td>\n",
       "      <td>высшее</td>\n",
       "      <td>0</td>\n",
       "      <td>женат / замужем</td>\n",
       "      <td>0</td>\n",
       "      <td>M</td>\n",
       "      <td>компаньон</td>\n",
       "      <td>0</td>\n",
       "      <td>113943.491460</td>\n",
       "      <td>покупка недвижимости</td>\n",
       "    </tr>\n",
       "    <tr>\n",
       "      <td>11</td>\n",
       "      <td>0</td>\n",
       "      <td>-792.701887</td>\n",
       "      <td>40</td>\n",
       "      <td>среднее</td>\n",
       "      <td>1</td>\n",
       "      <td>женат / замужем</td>\n",
       "      <td>0</td>\n",
       "      <td>F</td>\n",
       "      <td>сотрудник</td>\n",
       "      <td>0</td>\n",
       "      <td>77069.234271</td>\n",
       "      <td>покупка коммерческой недвижимости</td>\n",
       "    </tr>\n",
       "    <tr>\n",
       "      <td>12</td>\n",
       "      <td>0</td>\n",
       "      <td>NaN</td>\n",
       "      <td>65</td>\n",
       "      <td>среднее</td>\n",
       "      <td>1</td>\n",
       "      <td>гражданский брак</td>\n",
       "      <td>1</td>\n",
       "      <td>M</td>\n",
       "      <td>пенсионер</td>\n",
       "      <td>0</td>\n",
       "      <td>NaN</td>\n",
       "      <td>сыграть свадьбу</td>\n",
       "    </tr>\n",
       "    <tr>\n",
       "      <td>13</td>\n",
       "      <td>0</td>\n",
       "      <td>-1846.641941</td>\n",
       "      <td>54</td>\n",
       "      <td>неоконченное высшее</td>\n",
       "      <td>2</td>\n",
       "      <td>женат / замужем</td>\n",
       "      <td>0</td>\n",
       "      <td>F</td>\n",
       "      <td>сотрудник</td>\n",
       "      <td>0</td>\n",
       "      <td>130458.228857</td>\n",
       "      <td>приобретение автомобиля</td>\n",
       "    </tr>\n",
       "    <tr>\n",
       "      <td>14</td>\n",
       "      <td>0</td>\n",
       "      <td>-1844.956182</td>\n",
       "      <td>56</td>\n",
       "      <td>высшее</td>\n",
       "      <td>0</td>\n",
       "      <td>гражданский брак</td>\n",
       "      <td>1</td>\n",
       "      <td>F</td>\n",
       "      <td>компаньон</td>\n",
       "      <td>1</td>\n",
       "      <td>165127.911772</td>\n",
       "      <td>покупка жилой недвижимости</td>\n",
       "    </tr>\n",
       "  </tbody>\n",
       "</table>\n",
       "</div>"
      ],
      "text/plain": [
       "    children  days_employed  dob_years            education  education_id  \\\n",
       "0          1   -8437.673028         42               высшее             0   \n",
       "1          1   -4024.803754         36              среднее             1   \n",
       "2          0   -5623.422610         33              Среднее             1   \n",
       "3          3   -4124.747207         32              среднее             1   \n",
       "4          0  340266.072047         53              среднее             1   \n",
       "5          0    -926.185831         27               высшее             0   \n",
       "6          0   -2879.202052         43               высшее             0   \n",
       "7          0    -152.779569         50              СРЕДНЕЕ             1   \n",
       "8          2   -6929.865299         35               ВЫСШЕЕ             0   \n",
       "9          0   -2188.756445         41              среднее             1   \n",
       "10         2   -4171.483647         36               высшее             0   \n",
       "11         0    -792.701887         40              среднее             1   \n",
       "12         0            NaN         65              среднее             1   \n",
       "13         0   -1846.641941         54  неоконченное высшее             2   \n",
       "14         0   -1844.956182         56               высшее             0   \n",
       "\n",
       "       family_status  family_status_id gender income_type  debt  \\\n",
       "0    женат / замужем                 0      F   сотрудник     0   \n",
       "1    женат / замужем                 0      F   сотрудник     0   \n",
       "2    женат / замужем                 0      M   сотрудник     0   \n",
       "3    женат / замужем                 0      M   сотрудник     0   \n",
       "4   гражданский брак                 1      F   пенсионер     0   \n",
       "5   гражданский брак                 1      M   компаньон     0   \n",
       "6    женат / замужем                 0      F   компаньон     0   \n",
       "7    женат / замужем                 0      M   сотрудник     0   \n",
       "8   гражданский брак                 1      F   сотрудник     0   \n",
       "9    женат / замужем                 0      M   сотрудник     0   \n",
       "10   женат / замужем                 0      M   компаньон     0   \n",
       "11   женат / замужем                 0      F   сотрудник     0   \n",
       "12  гражданский брак                 1      M   пенсионер     0   \n",
       "13   женат / замужем                 0      F   сотрудник     0   \n",
       "14  гражданский брак                 1      F   компаньон     1   \n",
       "\n",
       "     total_income                            purpose  \n",
       "0   253875.639453                      покупка жилья  \n",
       "1   112080.014102            приобретение автомобиля  \n",
       "2   145885.952297                      покупка жилья  \n",
       "3   267628.550329         дополнительное образование  \n",
       "4   158616.077870                    сыграть свадьбу  \n",
       "5   255763.565419                      покупка жилья  \n",
       "6   240525.971920                  операции с жильем  \n",
       "7   135823.934197                        образование  \n",
       "8    95856.832424              на проведение свадьбы  \n",
       "9   144425.938277            покупка жилья для семьи  \n",
       "10  113943.491460               покупка недвижимости  \n",
       "11   77069.234271  покупка коммерческой недвижимости  \n",
       "12            NaN                    сыграть свадьбу  \n",
       "13  130458.228857            приобретение автомобиля  \n",
       "14  165127.911772         покупка жилой недвижимости  "
      ]
     },
     "execution_count": 4,
     "metadata": {},
     "output_type": "execute_result"
    }
   ],
   "source": [
    "data.head(15)"
   ]
  },
  {
   "cell_type": "code",
   "execution_count": 5,
   "metadata": {
    "scrolled": true
   },
   "outputs": [
    {
     "data": {
      "text/html": [
       "<div>\n",
       "<style scoped>\n",
       "    .dataframe tbody tr th:only-of-type {\n",
       "        vertical-align: middle;\n",
       "    }\n",
       "\n",
       "    .dataframe tbody tr th {\n",
       "        vertical-align: top;\n",
       "    }\n",
       "\n",
       "    .dataframe thead th {\n",
       "        text-align: right;\n",
       "    }\n",
       "</style>\n",
       "<table border=\"1\" class=\"dataframe\">\n",
       "  <thead>\n",
       "    <tr style=\"text-align: right;\">\n",
       "      <th></th>\n",
       "      <th>count</th>\n",
       "      <th>mean</th>\n",
       "      <th>std</th>\n",
       "      <th>min</th>\n",
       "      <th>25%</th>\n",
       "      <th>50%</th>\n",
       "      <th>75%</th>\n",
       "      <th>max</th>\n",
       "    </tr>\n",
       "  </thead>\n",
       "  <tbody>\n",
       "    <tr>\n",
       "      <td>children</td>\n",
       "      <td>21525.0</td>\n",
       "      <td>0.538908</td>\n",
       "      <td>1.381587</td>\n",
       "      <td>-1.000000</td>\n",
       "      <td>0.000000</td>\n",
       "      <td>0.000000</td>\n",
       "      <td>1.000000</td>\n",
       "      <td>2.000000e+01</td>\n",
       "    </tr>\n",
       "    <tr>\n",
       "      <td>days_employed</td>\n",
       "      <td>19351.0</td>\n",
       "      <td>63046.497661</td>\n",
       "      <td>140827.311974</td>\n",
       "      <td>-18388.949901</td>\n",
       "      <td>-2747.423625</td>\n",
       "      <td>-1203.369529</td>\n",
       "      <td>-291.095954</td>\n",
       "      <td>4.017554e+05</td>\n",
       "    </tr>\n",
       "    <tr>\n",
       "      <td>dob_years</td>\n",
       "      <td>21525.0</td>\n",
       "      <td>43.293380</td>\n",
       "      <td>12.574584</td>\n",
       "      <td>0.000000</td>\n",
       "      <td>33.000000</td>\n",
       "      <td>42.000000</td>\n",
       "      <td>53.000000</td>\n",
       "      <td>7.500000e+01</td>\n",
       "    </tr>\n",
       "    <tr>\n",
       "      <td>education_id</td>\n",
       "      <td>21525.0</td>\n",
       "      <td>0.817236</td>\n",
       "      <td>0.548138</td>\n",
       "      <td>0.000000</td>\n",
       "      <td>1.000000</td>\n",
       "      <td>1.000000</td>\n",
       "      <td>1.000000</td>\n",
       "      <td>4.000000e+00</td>\n",
       "    </tr>\n",
       "    <tr>\n",
       "      <td>family_status_id</td>\n",
       "      <td>21525.0</td>\n",
       "      <td>0.972544</td>\n",
       "      <td>1.420324</td>\n",
       "      <td>0.000000</td>\n",
       "      <td>0.000000</td>\n",
       "      <td>0.000000</td>\n",
       "      <td>1.000000</td>\n",
       "      <td>4.000000e+00</td>\n",
       "    </tr>\n",
       "    <tr>\n",
       "      <td>debt</td>\n",
       "      <td>21525.0</td>\n",
       "      <td>0.080883</td>\n",
       "      <td>0.272661</td>\n",
       "      <td>0.000000</td>\n",
       "      <td>0.000000</td>\n",
       "      <td>0.000000</td>\n",
       "      <td>0.000000</td>\n",
       "      <td>1.000000e+00</td>\n",
       "    </tr>\n",
       "    <tr>\n",
       "      <td>total_income</td>\n",
       "      <td>19351.0</td>\n",
       "      <td>167422.302208</td>\n",
       "      <td>102971.566448</td>\n",
       "      <td>20667.263793</td>\n",
       "      <td>103053.152913</td>\n",
       "      <td>145017.937533</td>\n",
       "      <td>203435.067663</td>\n",
       "      <td>2.265604e+06</td>\n",
       "    </tr>\n",
       "  </tbody>\n",
       "</table>\n",
       "</div>"
      ],
      "text/plain": [
       "                    count           mean            std           min  \\\n",
       "children          21525.0       0.538908       1.381587     -1.000000   \n",
       "days_employed     19351.0   63046.497661  140827.311974 -18388.949901   \n",
       "dob_years         21525.0      43.293380      12.574584      0.000000   \n",
       "education_id      21525.0       0.817236       0.548138      0.000000   \n",
       "family_status_id  21525.0       0.972544       1.420324      0.000000   \n",
       "debt              21525.0       0.080883       0.272661      0.000000   \n",
       "total_income      19351.0  167422.302208  102971.566448  20667.263793   \n",
       "\n",
       "                            25%            50%            75%           max  \n",
       "children               0.000000       0.000000       1.000000  2.000000e+01  \n",
       "days_employed      -2747.423625   -1203.369529    -291.095954  4.017554e+05  \n",
       "dob_years             33.000000      42.000000      53.000000  7.500000e+01  \n",
       "education_id           1.000000       1.000000       1.000000  4.000000e+00  \n",
       "family_status_id       0.000000       0.000000       1.000000  4.000000e+00  \n",
       "debt                   0.000000       0.000000       0.000000  1.000000e+00  \n",
       "total_income      103053.152913  145017.937533  203435.067663  2.265604e+06  "
      ]
     },
     "execution_count": 5,
     "metadata": {},
     "output_type": "execute_result"
    }
   ],
   "source": [
    "#data.describe()\n",
    "data.describe().T"
   ]
  },
  {
   "cell_type": "markdown",
   "metadata": {},
   "source": [
    "<div class=\"alert alert-block alert-warning\">\n",
    "<b>Remarks:</b> \n",
    "\n",
    "Кстати этот аутпут можно развернуть для лучшего восприятия `df.describe().T`\n",
    "</div>\n",
    "\n",
    "<div class=\"alert alert-block alert-info\">\n",
    "<b>Fixed:</b> \n",
    "\n",
    "✔\n",
    "</div>\n"
   ]
  },
  {
   "cell_type": "markdown",
   "metadata": {},
   "source": [
    "Результаты первичного анализа:\n",
    "1. Столбцы `days_employed` и `total_income` имеют пропуски.\n",
    "2. Столбцы `days_employed` и `total_income` имеют тип float64, хотя по условию данные целочисленные.\n",
    "3. Столбец `education` имеет разный регистр.\n",
    "4. В столбцах `children` и `days_employed` наблюдаются сомнительные максимальное значения.\n",
    "5. В столбцах `children`, `days_employed` и `dob_years` наблюдаются сомнительные минимальные значения.\n",
    "6. Столбец `days_employed` отличается еще тем, что имеет основную часть отрицательных значений и какую-то незначительную часть весьма большах значений, которая сильно влияет на среднее значение."
   ]
  },
  {
   "cell_type": "markdown",
   "metadata": {},
   "source": [
    "Проведем более детальный анализ наблюдений. В начале для удобства переименуем столбцы:\n",
    "    `debt` переименуем в `credit_debt` — имел ли задолженность по возврату кредитов;\n",
    "    `total_income` переименуем `monthly_income` — ежемесячный доход."
   ]
  },
  {
   "cell_type": "code",
   "execution_count": 6,
   "metadata": {},
   "outputs": [
    {
     "data": {
      "text/html": [
       "<div>\n",
       "<style scoped>\n",
       "    .dataframe tbody tr th:only-of-type {\n",
       "        vertical-align: middle;\n",
       "    }\n",
       "\n",
       "    .dataframe tbody tr th {\n",
       "        vertical-align: top;\n",
       "    }\n",
       "\n",
       "    .dataframe thead th {\n",
       "        text-align: right;\n",
       "    }\n",
       "</style>\n",
       "<table border=\"1\" class=\"dataframe\">\n",
       "  <thead>\n",
       "    <tr style=\"text-align: right;\">\n",
       "      <th></th>\n",
       "      <th>children</th>\n",
       "      <th>days_employed</th>\n",
       "      <th>dob_years</th>\n",
       "      <th>education</th>\n",
       "      <th>education_id</th>\n",
       "      <th>family_status</th>\n",
       "      <th>family_status_id</th>\n",
       "      <th>gender</th>\n",
       "      <th>income_type</th>\n",
       "      <th>credit_debt</th>\n",
       "      <th>monthly_income</th>\n",
       "      <th>purpose</th>\n",
       "    </tr>\n",
       "  </thead>\n",
       "  <tbody>\n",
       "    <tr>\n",
       "      <td>0</td>\n",
       "      <td>1</td>\n",
       "      <td>-8437.673028</td>\n",
       "      <td>42</td>\n",
       "      <td>высшее</td>\n",
       "      <td>0</td>\n",
       "      <td>женат / замужем</td>\n",
       "      <td>0</td>\n",
       "      <td>F</td>\n",
       "      <td>сотрудник</td>\n",
       "      <td>0</td>\n",
       "      <td>253875.639453</td>\n",
       "      <td>покупка жилья</td>\n",
       "    </tr>\n",
       "    <tr>\n",
       "      <td>1</td>\n",
       "      <td>1</td>\n",
       "      <td>-4024.803754</td>\n",
       "      <td>36</td>\n",
       "      <td>среднее</td>\n",
       "      <td>1</td>\n",
       "      <td>женат / замужем</td>\n",
       "      <td>0</td>\n",
       "      <td>F</td>\n",
       "      <td>сотрудник</td>\n",
       "      <td>0</td>\n",
       "      <td>112080.014102</td>\n",
       "      <td>приобретение автомобиля</td>\n",
       "    </tr>\n",
       "    <tr>\n",
       "      <td>2</td>\n",
       "      <td>0</td>\n",
       "      <td>-5623.422610</td>\n",
       "      <td>33</td>\n",
       "      <td>Среднее</td>\n",
       "      <td>1</td>\n",
       "      <td>женат / замужем</td>\n",
       "      <td>0</td>\n",
       "      <td>M</td>\n",
       "      <td>сотрудник</td>\n",
       "      <td>0</td>\n",
       "      <td>145885.952297</td>\n",
       "      <td>покупка жилья</td>\n",
       "    </tr>\n",
       "  </tbody>\n",
       "</table>\n",
       "</div>"
      ],
      "text/plain": [
       "   children  days_employed  dob_years education  education_id  \\\n",
       "0         1   -8437.673028         42    высшее             0   \n",
       "1         1   -4024.803754         36   среднее             1   \n",
       "2         0   -5623.422610         33   Среднее             1   \n",
       "\n",
       "     family_status  family_status_id gender income_type  credit_debt  \\\n",
       "0  женат / замужем                 0      F   сотрудник            0   \n",
       "1  женат / замужем                 0      F   сотрудник            0   \n",
       "2  женат / замужем                 0      M   сотрудник            0   \n",
       "\n",
       "   monthly_income                  purpose  \n",
       "0   253875.639453            покупка жилья  \n",
       "1   112080.014102  приобретение автомобиля  \n",
       "2   145885.952297            покупка жилья  "
      ]
     },
     "execution_count": 6,
     "metadata": {},
     "output_type": "execute_result"
    }
   ],
   "source": [
    "data = data.rename(columns={'debt':'credit_debt', 'total_income':'monthly_income'})\n",
    "data.head(3)"
   ]
  },
  {
   "cell_type": "code",
   "execution_count": 7,
   "metadata": {
    "scrolled": true
   },
   "outputs": [
    {
     "data": {
      "text/plain": [
       " 0     14149\n",
       " 1      4818\n",
       " 2      2055\n",
       " 3       330\n",
       " 20       76\n",
       "-1        47\n",
       " 4        41\n",
       " 5         9\n",
       "Name: children, dtype: int64"
      ]
     },
     "execution_count": 7,
     "metadata": {},
     "output_type": "execute_result"
    }
   ],
   "source": [
    "data['children'].value_counts()"
   ]
  },
  {
   "cell_type": "markdown",
   "metadata": {},
   "source": [
    "В дальнейшем необходимо обработать значения `-1` и `20`."
   ]
  },
  {
   "cell_type": "code",
   "execution_count": 8,
   "metadata": {
    "scrolled": false
   },
   "outputs": [
    {
     "data": {
      "text/html": [
       "<div>\n",
       "<style scoped>\n",
       "    .dataframe tbody tr th:only-of-type {\n",
       "        vertical-align: middle;\n",
       "    }\n",
       "\n",
       "    .dataframe tbody tr th {\n",
       "        vertical-align: top;\n",
       "    }\n",
       "\n",
       "    .dataframe thead th {\n",
       "        text-align: right;\n",
       "    }\n",
       "</style>\n",
       "<table border=\"1\" class=\"dataframe\">\n",
       "  <thead>\n",
       "    <tr style=\"text-align: right;\">\n",
       "      <th></th>\n",
       "      <th>children</th>\n",
       "      <th>days_employed</th>\n",
       "      <th>dob_years</th>\n",
       "      <th>education</th>\n",
       "      <th>education_id</th>\n",
       "      <th>family_status</th>\n",
       "      <th>family_status_id</th>\n",
       "      <th>gender</th>\n",
       "      <th>income_type</th>\n",
       "      <th>credit_debt</th>\n",
       "      <th>monthly_income</th>\n",
       "      <th>purpose</th>\n",
       "    </tr>\n",
       "  </thead>\n",
       "  <tbody>\n",
       "    <tr>\n",
       "      <td>12</td>\n",
       "      <td>0</td>\n",
       "      <td>NaN</td>\n",
       "      <td>65</td>\n",
       "      <td>среднее</td>\n",
       "      <td>1</td>\n",
       "      <td>гражданский брак</td>\n",
       "      <td>1</td>\n",
       "      <td>M</td>\n",
       "      <td>пенсионер</td>\n",
       "      <td>0</td>\n",
       "      <td>NaN</td>\n",
       "      <td>сыграть свадьбу</td>\n",
       "    </tr>\n",
       "    <tr>\n",
       "      <td>26</td>\n",
       "      <td>0</td>\n",
       "      <td>NaN</td>\n",
       "      <td>41</td>\n",
       "      <td>среднее</td>\n",
       "      <td>1</td>\n",
       "      <td>женат / замужем</td>\n",
       "      <td>0</td>\n",
       "      <td>M</td>\n",
       "      <td>госслужащий</td>\n",
       "      <td>0</td>\n",
       "      <td>NaN</td>\n",
       "      <td>образование</td>\n",
       "    </tr>\n",
       "    <tr>\n",
       "      <td>29</td>\n",
       "      <td>0</td>\n",
       "      <td>NaN</td>\n",
       "      <td>63</td>\n",
       "      <td>среднее</td>\n",
       "      <td>1</td>\n",
       "      <td>Не женат / не замужем</td>\n",
       "      <td>4</td>\n",
       "      <td>F</td>\n",
       "      <td>пенсионер</td>\n",
       "      <td>0</td>\n",
       "      <td>NaN</td>\n",
       "      <td>строительство жилой недвижимости</td>\n",
       "    </tr>\n",
       "    <tr>\n",
       "      <td>41</td>\n",
       "      <td>0</td>\n",
       "      <td>NaN</td>\n",
       "      <td>50</td>\n",
       "      <td>среднее</td>\n",
       "      <td>1</td>\n",
       "      <td>женат / замужем</td>\n",
       "      <td>0</td>\n",
       "      <td>F</td>\n",
       "      <td>госслужащий</td>\n",
       "      <td>0</td>\n",
       "      <td>NaN</td>\n",
       "      <td>сделка с подержанным автомобилем</td>\n",
       "    </tr>\n",
       "    <tr>\n",
       "      <td>55</td>\n",
       "      <td>0</td>\n",
       "      <td>NaN</td>\n",
       "      <td>54</td>\n",
       "      <td>среднее</td>\n",
       "      <td>1</td>\n",
       "      <td>гражданский брак</td>\n",
       "      <td>1</td>\n",
       "      <td>F</td>\n",
       "      <td>пенсионер</td>\n",
       "      <td>1</td>\n",
       "      <td>NaN</td>\n",
       "      <td>сыграть свадьбу</td>\n",
       "    </tr>\n",
       "  </tbody>\n",
       "</table>\n",
       "</div>"
      ],
      "text/plain": [
       "    children  days_employed  dob_years education  education_id  \\\n",
       "12         0            NaN         65   среднее             1   \n",
       "26         0            NaN         41   среднее             1   \n",
       "29         0            NaN         63   среднее             1   \n",
       "41         0            NaN         50   среднее             1   \n",
       "55         0            NaN         54   среднее             1   \n",
       "\n",
       "            family_status  family_status_id gender  income_type  credit_debt  \\\n",
       "12       гражданский брак                 1      M    пенсионер            0   \n",
       "26        женат / замужем                 0      M  госслужащий            0   \n",
       "29  Не женат / не замужем                 4      F    пенсионер            0   \n",
       "41        женат / замужем                 0      F  госслужащий            0   \n",
       "55       гражданский брак                 1      F    пенсионер            1   \n",
       "\n",
       "    monthly_income                           purpose  \n",
       "12             NaN                   сыграть свадьбу  \n",
       "26             NaN                       образование  \n",
       "29             NaN  строительство жилой недвижимости  \n",
       "41             NaN  сделка с подержанным автомобилем  \n",
       "55             NaN                   сыграть свадьбу  "
      ]
     },
     "execution_count": 8,
     "metadata": {},
     "output_type": "execute_result"
    }
   ],
   "source": [
    "data[data['days_employed'].isnull()].head()"
   ]
  },
  {
   "cell_type": "markdown",
   "metadata": {},
   "source": [
    "Пропуски в столбцах `days_employed` и `total_income` находятся в одних строках."
   ]
  },
  {
   "cell_type": "code",
   "execution_count": 9,
   "metadata": {},
   "outputs": [
    {
     "data": {
      "text/plain": [
       "сотрудник          1105\n",
       "компаньон           508\n",
       "пенсионер           413\n",
       "госслужащий         147\n",
       "предприниматель       1\n",
       "Name: income_type, dtype: int64"
      ]
     },
     "execution_count": 9,
     "metadata": {},
     "output_type": "execute_result"
    }
   ],
   "source": [
    "data[(data['monthly_income'].isnull() == True) & (data['days_employed'].isnull() == True)]['income_type'].value_counts()"
   ]
  },
  {
   "cell_type": "markdown",
   "metadata": {},
   "source": [
    "Отсутствующие значения в `monthly_income` и `days_employed` наблюдаются во всех категориях `income_type`. Значит, они не безработные."
   ]
  },
  {
   "cell_type": "markdown",
   "metadata": {},
   "source": [
    "Сравним **средний** и **медианный** трудовой стаж, возьмем значения по модулю и округлим до целых:"
   ]
  },
  {
   "cell_type": "code",
   "execution_count": 10,
   "metadata": {},
   "outputs": [
    {
     "name": "stdout",
     "output_type": "stream",
     "text": [
      "Средний трудовой стаж: 66914 дней\n",
      "Медианный трудовой стаж: 2194 дней\n"
     ]
    }
   ],
   "source": [
    "print('Средний трудовой стаж:', (data['days_employed'].abs().mean().astype('int')), 'дней')\n",
    "print('Медианный трудовой стаж:', data['days_employed'].abs().median().astype('int'), 'дней')"
   ]
  },
  {
   "cell_type": "markdown",
   "metadata": {},
   "source": [
    "Проверим, какая категория из `income_type` имеет положительное значение стажа:"
   ]
  },
  {
   "cell_type": "code",
   "execution_count": 11,
   "metadata": {},
   "outputs": [
    {
     "data": {
      "text/plain": [
       "сотрудник          10014\n",
       "компаньон           4577\n",
       "госслужащий         1312\n",
       "студент                1\n",
       "в декрете              1\n",
       "предприниматель        1\n",
       "Name: income_type, dtype: int64"
      ]
     },
     "execution_count": 11,
     "metadata": {},
     "output_type": "execute_result"
    }
   ],
   "source": [
    "data[(data['days_employed'] < 0)]['income_type'].value_counts()"
   ]
  },
  {
   "cell_type": "markdown",
   "metadata": {},
   "source": [
    "Наблюдаются все категории, кроме `пенсионер` и `безработный`.\n",
    "\n",
    "Проверим какая категория из `income_type` имеет более 20000 дней стажа:"
   ]
  },
  {
   "cell_type": "code",
   "execution_count": 12,
   "metadata": {},
   "outputs": [
    {
     "data": {
      "text/plain": [
       "пенсионер      3443\n",
       "безработный       2\n",
       "Name: income_type, dtype: int64"
      ]
     },
     "execution_count": 12,
     "metadata": {},
     "output_type": "execute_result"
    }
   ],
   "source": [
    "data[(data['days_employed'] > 20000)]['income_type'].value_counts()"
   ]
  },
  {
   "cell_type": "markdown",
   "metadata": {},
   "source": [
    "Интересное наблюдение, эта категория включает классы `пенсионер` и `безработный`, которые отсутвовали в предыдущем исследовании."
   ]
  },
  {
   "cell_type": "code",
   "execution_count": 13,
   "metadata": {},
   "outputs": [
    {
     "data": {
      "text/plain": [
       "сотрудник      55\n",
       "компаньон      20\n",
       "пенсионер      20\n",
       "госслужащий     6\n",
       "Name: income_type, dtype: int64"
      ]
     },
     "execution_count": 13,
     "metadata": {},
     "output_type": "execute_result"
    }
   ],
   "source": [
    "data[data['dob_years'] == float(0)]['income_type'].value_counts()"
   ]
  },
  {
   "cell_type": "markdown",
   "metadata": {},
   "source": [
    "Значения 0, указанные в возрасте, встречаются в различных группах `income_type`. Следовательно его можно заполнить средними значениями."
   ]
  },
  {
   "cell_type": "code",
   "execution_count": 14,
   "metadata": {
    "scrolled": true
   },
   "outputs": [
    {
     "data": {
      "text/plain": [
       "среднее                13750\n",
       "высшее                  4718\n",
       "СРЕДНЕЕ                  772\n",
       "Среднее                  711\n",
       "неоконченное высшее      668\n",
       "ВЫСШЕЕ                   274\n",
       "Высшее                   268\n",
       "начальное                250\n",
       "Неоконченное высшее       47\n",
       "НЕОКОНЧЕННОЕ ВЫСШЕЕ       29\n",
       "НАЧАЛЬНОЕ                 17\n",
       "Начальное                 15\n",
       "ученая степень             4\n",
       "Ученая степень             1\n",
       "УЧЕНАЯ СТЕПЕНЬ             1\n",
       "Name: education, dtype: int64"
      ]
     },
     "execution_count": 14,
     "metadata": {},
     "output_type": "execute_result"
    }
   ],
   "source": [
    "data['education'].value_counts()"
   ]
  },
  {
   "cell_type": "markdown",
   "metadata": {},
   "source": [
    "Столбец `education` необходимо привести к единому регистру."
   ]
  },
  {
   "cell_type": "code",
   "execution_count": 15,
   "metadata": {},
   "outputs": [
    {
     "data": {
      "text/plain": [
       "женат / замужем          12380\n",
       "гражданский брак          4177\n",
       "Не женат / не замужем     2813\n",
       "в разводе                 1195\n",
       "вдовец / вдова             960\n",
       "Name: family_status, dtype: int64"
      ]
     },
     "execution_count": 15,
     "metadata": {},
     "output_type": "execute_result"
    }
   ],
   "source": [
    "data['family_status'].value_counts()"
   ]
  },
  {
   "cell_type": "markdown",
   "metadata": {},
   "source": [
    "`Не женат / не замужем` имеет иной регистр, хорошо бы все элементы привести к единому стилю."
   ]
  },
  {
   "cell_type": "code",
   "execution_count": 16,
   "metadata": {},
   "outputs": [
    {
     "data": {
      "text/plain": [
       "F      14236\n",
       "M       7288\n",
       "XNA        1\n",
       "Name: gender, dtype: int64"
      ]
     },
     "execution_count": 16,
     "metadata": {},
     "output_type": "execute_result"
    }
   ],
   "source": [
    "data['gender'].value_counts()"
   ]
  },
  {
   "cell_type": "markdown",
   "metadata": {},
   "source": [
    "Наблюдаем аномалию XNA в столбце `gender`."
   ]
  },
  {
   "cell_type": "code",
   "execution_count": 17,
   "metadata": {},
   "outputs": [
    {
     "data": {
      "text/html": [
       "<div>\n",
       "<style scoped>\n",
       "    .dataframe tbody tr th:only-of-type {\n",
       "        vertical-align: middle;\n",
       "    }\n",
       "\n",
       "    .dataframe tbody tr th {\n",
       "        vertical-align: top;\n",
       "    }\n",
       "\n",
       "    .dataframe thead th {\n",
       "        text-align: right;\n",
       "    }\n",
       "</style>\n",
       "<table border=\"1\" class=\"dataframe\">\n",
       "  <thead>\n",
       "    <tr style=\"text-align: right;\">\n",
       "      <th></th>\n",
       "      <th>children</th>\n",
       "      <th>days_employed</th>\n",
       "      <th>dob_years</th>\n",
       "      <th>education</th>\n",
       "      <th>education_id</th>\n",
       "      <th>family_status</th>\n",
       "      <th>family_status_id</th>\n",
       "      <th>gender</th>\n",
       "      <th>income_type</th>\n",
       "      <th>credit_debt</th>\n",
       "      <th>monthly_income</th>\n",
       "      <th>purpose</th>\n",
       "    </tr>\n",
       "  </thead>\n",
       "  <tbody>\n",
       "    <tr>\n",
       "      <td>10701</td>\n",
       "      <td>0</td>\n",
       "      <td>-2358.600502</td>\n",
       "      <td>24</td>\n",
       "      <td>неоконченное высшее</td>\n",
       "      <td>2</td>\n",
       "      <td>гражданский брак</td>\n",
       "      <td>1</td>\n",
       "      <td>XNA</td>\n",
       "      <td>компаньон</td>\n",
       "      <td>0</td>\n",
       "      <td>203905.157261</td>\n",
       "      <td>покупка недвижимости</td>\n",
       "    </tr>\n",
       "  </tbody>\n",
       "</table>\n",
       "</div>"
      ],
      "text/plain": [
       "       children  days_employed  dob_years            education  education_id  \\\n",
       "10701         0   -2358.600502         24  неоконченное высшее             2   \n",
       "\n",
       "          family_status  family_status_id gender income_type  credit_debt  \\\n",
       "10701  гражданский брак                 1    XNA   компаньон            0   \n",
       "\n",
       "       monthly_income               purpose  \n",
       "10701   203905.157261  покупка недвижимости  "
      ]
     },
     "execution_count": 17,
     "metadata": {},
     "output_type": "execute_result"
    }
   ],
   "source": [
    "data.loc[data['gender'] == 'XNA']"
   ]
  },
  {
   "cell_type": "markdown",
   "metadata": {},
   "source": [
    "Проанализируем: детей нет, в гражданском браке, собирается приобретать недвижимость, вероятно, это мужчина, но, поскольку такая строка всего одна, ее можно удалить."
   ]
  },
  {
   "cell_type": "markdown",
   "metadata": {},
   "source": [
    "<div class=\"alert alert-block alert-warning\">\n",
    "<b>Remarks:</b> Почему мужчина?) в датасете женщин почти в два раза больше\n",
    "</div>\n",
    "\n",
    "<div class=\"alert alert-block alert-info\">\n",
    "<b>Fixed:</b> \n",
    "\n",
    "Хм, человеку 24 года, при этом стаж 6 лет и оклад 200 000 р, если бы не гражданский брак, конечно можно было предположить, что это женщина, возможно и женщина, мы же занимаемся исключительно анализом данных)\n",
    "</div>"
   ]
  },
  {
   "cell_type": "code",
   "execution_count": 18,
   "metadata": {},
   "outputs": [
    {
     "data": {
      "text/plain": [
       "сотрудник          11119\n",
       "компаньон           5085\n",
       "пенсионер           3856\n",
       "госслужащий         1459\n",
       "безработный            2\n",
       "предприниматель        2\n",
       "студент                1\n",
       "в декрете              1\n",
       "Name: income_type, dtype: int64"
      ]
     },
     "execution_count": 18,
     "metadata": {},
     "output_type": "execute_result"
    }
   ],
   "source": [
    "data['income_type'].value_counts()"
   ]
  },
  {
   "cell_type": "markdown",
   "metadata": {},
   "source": [
    "В столбце `income_type` аномалий не наблюдаем."
   ]
  },
  {
   "cell_type": "code",
   "execution_count": 19,
   "metadata": {},
   "outputs": [
    {
     "data": {
      "text/plain": [
       "свадьба                                   797\n",
       "на проведение свадьбы                     777\n",
       "сыграть свадьбу                           774\n",
       "операции с недвижимостью                  676\n",
       "покупка коммерческой недвижимости         664\n",
       "покупка жилья для сдачи                   653\n",
       "операции с жильем                         653\n",
       "операции с коммерческой недвижимостью     651\n",
       "жилье                                     647\n",
       "покупка жилья                             647\n",
       "покупка жилья для семьи                   641\n",
       "строительство собственной недвижимости    635\n",
       "недвижимость                              634\n",
       "операции со своей недвижимостью           630\n",
       "строительство жилой недвижимости          626\n",
       "покупка недвижимости                      624\n",
       "покупка своего жилья                      620\n",
       "строительство недвижимости                620\n",
       "ремонт жилью                              612\n",
       "покупка жилой недвижимости                607\n",
       "на покупку своего автомобиля              505\n",
       "заняться высшим образованием              496\n",
       "автомобиль                                495\n",
       "сделка с подержанным автомобилем          489\n",
       "свой автомобиль                           480\n",
       "на покупку подержанного автомобиля        479\n",
       "автомобили                                478\n",
       "на покупку автомобиля                     472\n",
       "приобретение автомобиля                   462\n",
       "дополнительное образование                462\n",
       "сделка с автомобилем                      455\n",
       "высшее образование                        453\n",
       "получение дополнительного образования     447\n",
       "образование                               447\n",
       "получение образования                     443\n",
       "профильное образование                    436\n",
       "получение высшего образования             426\n",
       "заняться образованием                     412\n",
       "Name: purpose, dtype: int64"
      ]
     },
     "execution_count": 19,
     "metadata": {},
     "output_type": "execute_result"
    }
   ],
   "source": [
    "data['purpose'].value_counts()"
   ]
  },
  {
   "cell_type": "markdown",
   "metadata": {},
   "source": [
    "Аномалий не наблюдается, но необходима лемманизация."
   ]
  },
  {
   "cell_type": "markdown",
   "metadata": {},
   "source": [
    "**Вывод**"
   ]
  },
  {
   "cell_type": "markdown",
   "metadata": {},
   "source": [
    "1. В столбце `children` наблюдаются *две аномалии* -1 и 20, предположительно, соотвествующие значениям 1 и 2.\n",
    "2. В столбце `days_employed` наблюдаются *отрицательные и вещественные значения*, их необходимо привести к целым положительным значениям. Отрицательные значения, вероятно, обусловлены тем, что *дата устройства на работу* вычиталась из *даты окончания трудовых отношений*. Также наблюдаются *пропуски*, которые полностью коррелируют со столбцом `monthly_income`, значения можно заполнить средними в соотвествии с возрастом. Отрицательные значения имеют адекватное значение дней стажа, тогда как положительные значения сильно завышены и при этом принадлежат только двум группам `income_type` - `пенсионер` и `безработный`. Вероятно, для них стаж указан в часах.\n",
    "3. В столбце `dob_years` необходимо устранить *нулевые значения*, можно средними значениями исходя из данных `days_employed`.\n",
    "4. В столбце `education` данные необходимо привести к *единому регистру*, чтобы не возникло проблем с *дубликатами*.\n",
    "5. В столбце `gender` наблюдаемую *анамалию XNA* оставим без внимания, вероятно она случайна, удалим строку.\n",
    "6. В столбце `monthly_income` наблюдаются пропуски, которые можно заполнить по средним значениям из `dob_years`.\n",
    "7. В столбце `purpose` аномалий не наблюдается, однако необходим более детальный анализ и группировка представленных данных."
   ]
  },
  {
   "cell_type": "markdown",
   "metadata": {},
   "source": [
    "<div class=\"alert alert-block alert-success\">\n",
    "<b>Success:</b> Отличный первый взгляд на данные!"
   ]
  },
  {
   "cell_type": "markdown",
   "metadata": {},
   "source": [
    "<h2> Шаг 2. Предобработка данных </h2><a id=b></a>"
   ]
  },
  {
   "cell_type": "markdown",
   "metadata": {},
   "source": [
    "<h3> Обработка пропусков </h3><a id=c></a>"
   ]
  },
  {
   "cell_type": "markdown",
   "metadata": {},
   "source": [
    "С помощью `.replace()` заменяем количество детей: -1 на 1 и 20 на 2:"
   ]
  },
  {
   "cell_type": "code",
   "execution_count": 20,
   "metadata": {
    "scrolled": true
   },
   "outputs": [
    {
     "data": {
      "text/plain": [
       "0    14149\n",
       "1     4865\n",
       "2     2131\n",
       "3      330\n",
       "4       41\n",
       "5        9\n",
       "Name: children, dtype: int64"
      ]
     },
     "execution_count": 20,
     "metadata": {},
     "output_type": "execute_result"
    }
   ],
   "source": [
    "#data['children'] = data['children'].replace(-1, 1)\n",
    "data['children'] = data['children'].abs()\n",
    "data['children'] = data['children'].replace(20, 2)\n",
    "data['children'].value_counts()"
   ]
  },
  {
   "cell_type": "markdown",
   "metadata": {},
   "source": [
    "<div class=\"alert alert-block alert-warning\">\n",
    "<b>Remarks:</b> не очень расширяемое решениея - в следующем датасете появятся -2 и -3 ребенка и придется дописывать еще два реплейса. Тоже самое с слишком большим окличеством. Давай попробуем написать универсальную функцию (подсказка - для отрицательных значений очень хорошо подойдет abs())\n",
    "</div>\n",
    "\n",
    "<div class=\"alert alert-block alert-info\">\n",
    "<b>Fixed:</b>\n",
    "\n",
    "✔ Применил .ads(). Для 20 не стал писать, так как не понятно, какого рода могут быть еще ошибки, если всегда лишний 0, то влияет с какой стороны и т.д.\n",
    "</div>"
   ]
  },
  {
   "cell_type": "markdown",
   "metadata": {},
   "source": [
    "Удалим строку с полом `XNA`:"
   ]
  },
  {
   "cell_type": "code",
   "execution_count": 21,
   "metadata": {},
   "outputs": [],
   "source": [
    "data = data.drop(data[data['gender'] == 'XNA'].index)"
   ]
  },
  {
   "cell_type": "markdown",
   "metadata": {},
   "source": [
    "Переведем для **пенсионеров** и **безработных** стаж из часов в дни."
   ]
  },
  {
   "cell_type": "code",
   "execution_count": 22,
   "metadata": {},
   "outputs": [],
   "source": [
    "def days_employed_norm(data):\n",
    "    if data > 0:\n",
    "        return (data/24)\n",
    "    #else:\n",
    "        #return data\n",
    "    return data\n",
    "\n",
    "data['days_employed'] = data['days_employed'].apply(days_employed_norm)"
   ]
  },
  {
   "cell_type": "markdown",
   "metadata": {},
   "source": [
    "<div class=\"alert alert-block alert-warning\">\n",
    "<b>Remarks:</b> \n",
    "    \n",
    "Можно в этой функции избавиться от последнего `else` и сразу выйти в return\n",
    "    \n",
    "https://medium.com/lemon-code/guard-clauses-3bc0cd96a2d3\n",
    "\n",
    "</div>\n",
    "<div class=\"alert alert-block alert-info\">\n",
    "<b>Fixed:</b>\n",
    "\n",
    "✔ Спасибо за интересную информацию!\n",
    "</div>"
   ]
  },
  {
   "cell_type": "markdown",
   "metadata": {},
   "source": [
    "Обработаем пропуски в столбцах `days_employed`, `monthly_income` и `dob_years`. Заполним их медианными значениями исходя из столбца `income_type`. Для `days_employed`, `monthly_income` используем `.fillna()`, а для `dob_years` `.replace()`."
   ]
  },
  {
   "cell_type": "code",
   "execution_count": 23,
   "metadata": {
    "scrolled": true
   },
   "outputs": [],
   "source": [
    "data['days_employed'] = data.groupby('income_type')['days_employed'].transform(lambda x: x.fillna(x.median()))\n",
    "data['monthly_income'] = data.groupby('income_type')['monthly_income'].transform(lambda x: x.fillna(x.median()))\n",
    "data['dob_years'] = data.groupby('income_type')['dob_years'].transform(lambda x: x.replace(0, int(x.median())))"
   ]
  },
  {
   "cell_type": "markdown",
   "metadata": {},
   "source": [
    "Проверим заполненные ячейки на наличие \"молодых\" пенсионеров с высоким стажем:"
   ]
  },
  {
   "cell_type": "code",
   "execution_count": 24,
   "metadata": {
    "scrolled": false
   },
   "outputs": [
    {
     "data": {
      "text/html": [
       "<div>\n",
       "<style scoped>\n",
       "    .dataframe tbody tr th:only-of-type {\n",
       "        vertical-align: middle;\n",
       "    }\n",
       "\n",
       "    .dataframe tbody tr th {\n",
       "        vertical-align: top;\n",
       "    }\n",
       "\n",
       "    .dataframe thead th {\n",
       "        text-align: right;\n",
       "    }\n",
       "</style>\n",
       "<table border=\"1\" class=\"dataframe\">\n",
       "  <thead>\n",
       "    <tr style=\"text-align: right;\">\n",
       "      <th></th>\n",
       "      <th>children</th>\n",
       "      <th>days_employed</th>\n",
       "      <th>dob_years</th>\n",
       "      <th>education</th>\n",
       "      <th>education_id</th>\n",
       "      <th>family_status</th>\n",
       "      <th>family_status_id</th>\n",
       "      <th>gender</th>\n",
       "      <th>income_type</th>\n",
       "      <th>credit_debt</th>\n",
       "      <th>monthly_income</th>\n",
       "      <th>purpose</th>\n",
       "    </tr>\n",
       "  </thead>\n",
       "  <tbody>\n",
       "    <tr>\n",
       "      <td>1242</td>\n",
       "      <td>0</td>\n",
       "      <td>13948.510826</td>\n",
       "      <td>22</td>\n",
       "      <td>Среднее</td>\n",
       "      <td>1</td>\n",
       "      <td>Не женат / не замужем</td>\n",
       "      <td>4</td>\n",
       "      <td>F</td>\n",
       "      <td>пенсионер</td>\n",
       "      <td>0</td>\n",
       "      <td>89368.600062</td>\n",
       "      <td>получение высшего образования</td>\n",
       "    </tr>\n",
       "    <tr>\n",
       "      <td>3619</td>\n",
       "      <td>0</td>\n",
       "      <td>15217.221094</td>\n",
       "      <td>24</td>\n",
       "      <td>среднее</td>\n",
       "      <td>1</td>\n",
       "      <td>женат / замужем</td>\n",
       "      <td>0</td>\n",
       "      <td>F</td>\n",
       "      <td>пенсионер</td>\n",
       "      <td>0</td>\n",
       "      <td>118514.486412</td>\n",
       "      <td>покупка своего жилья</td>\n",
       "    </tr>\n",
       "    <tr>\n",
       "      <td>12507</td>\n",
       "      <td>0</td>\n",
       "      <td>15812.170938</td>\n",
       "      <td>27</td>\n",
       "      <td>среднее</td>\n",
       "      <td>1</td>\n",
       "      <td>Не женат / не замужем</td>\n",
       "      <td>4</td>\n",
       "      <td>F</td>\n",
       "      <td>пенсионер</td>\n",
       "      <td>0</td>\n",
       "      <td>50969.340462</td>\n",
       "      <td>сделка с автомобилем</td>\n",
       "    </tr>\n",
       "    <tr>\n",
       "      <td>12753</td>\n",
       "      <td>1</td>\n",
       "      <td>13740.904375</td>\n",
       "      <td>27</td>\n",
       "      <td>среднее</td>\n",
       "      <td>1</td>\n",
       "      <td>женат / замужем</td>\n",
       "      <td>0</td>\n",
       "      <td>F</td>\n",
       "      <td>пенсионер</td>\n",
       "      <td>0</td>\n",
       "      <td>65198.102341</td>\n",
       "      <td>получение образования</td>\n",
       "    </tr>\n",
       "    <tr>\n",
       "      <td>13953</td>\n",
       "      <td>0</td>\n",
       "      <td>15701.024409</td>\n",
       "      <td>27</td>\n",
       "      <td>среднее</td>\n",
       "      <td>1</td>\n",
       "      <td>в разводе</td>\n",
       "      <td>3</td>\n",
       "      <td>M</td>\n",
       "      <td>пенсионер</td>\n",
       "      <td>0</td>\n",
       "      <td>97961.993557</td>\n",
       "      <td>операции с жильем</td>\n",
       "    </tr>\n",
       "  </tbody>\n",
       "</table>\n",
       "</div>"
      ],
      "text/plain": [
       "       children  days_employed  dob_years education  education_id  \\\n",
       "1242          0   13948.510826         22   Среднее             1   \n",
       "3619          0   15217.221094         24   среднее             1   \n",
       "12507         0   15812.170938         27   среднее             1   \n",
       "12753         1   13740.904375         27   среднее             1   \n",
       "13953         0   15701.024409         27   среднее             1   \n",
       "\n",
       "               family_status  family_status_id gender income_type  \\\n",
       "1242   Не женат / не замужем                 4      F   пенсионер   \n",
       "3619         женат / замужем                 0      F   пенсионер   \n",
       "12507  Не женат / не замужем                 4      F   пенсионер   \n",
       "12753        женат / замужем                 0      F   пенсионер   \n",
       "13953              в разводе                 3      M   пенсионер   \n",
       "\n",
       "       credit_debt  monthly_income                        purpose  \n",
       "1242             0    89368.600062  получение высшего образования  \n",
       "3619             0   118514.486412           покупка своего жилья  \n",
       "12507            0    50969.340462           сделка с автомобилем  \n",
       "12753            0    65198.102341          получение образования  \n",
       "13953            0    97961.993557              операции с жильем  "
      ]
     },
     "execution_count": 24,
     "metadata": {},
     "output_type": "execute_result"
    }
   ],
   "source": [
    "data[(data['income_type'] == 'пенсионер') & (data['dob_years'] < 30)].head()"
   ]
  },
  {
   "cell_type": "markdown",
   "metadata": {},
   "source": [
    "Можно сделать вывод, что столбец `dob_years` изначально имел ошибочные данные, следовательно, мы не могли использовать медианные данные возраста по категории `пенсионер` для заполнения возраста.\n",
    "\n",
    "Проверим гипотезу, что значения в столбцах `days_employed` и `dob_years` перепутаны для `пенсионер` и `безработный`:"
   ]
  },
  {
   "cell_type": "code",
   "execution_count": 25,
   "metadata": {},
   "outputs": [
    {
     "data": {
      "text/html": [
       "<div>\n",
       "<style scoped>\n",
       "    .dataframe tbody tr th:only-of-type {\n",
       "        vertical-align: middle;\n",
       "    }\n",
       "\n",
       "    .dataframe tbody tr th {\n",
       "        vertical-align: top;\n",
       "    }\n",
       "\n",
       "    .dataframe thead th {\n",
       "        text-align: right;\n",
       "    }\n",
       "</style>\n",
       "<table border=\"1\" class=\"dataframe\">\n",
       "  <thead>\n",
       "    <tr style=\"text-align: right;\">\n",
       "      <th></th>\n",
       "      <th>children</th>\n",
       "      <th>days_employed</th>\n",
       "      <th>dob_years</th>\n",
       "      <th>education</th>\n",
       "      <th>education_id</th>\n",
       "      <th>family_status</th>\n",
       "      <th>family_status_id</th>\n",
       "      <th>gender</th>\n",
       "      <th>income_type</th>\n",
       "      <th>credit_debt</th>\n",
       "      <th>monthly_income</th>\n",
       "      <th>purpose</th>\n",
       "    </tr>\n",
       "  </thead>\n",
       "  <tbody>\n",
       "    <tr>\n",
       "      <td>0</td>\n",
       "      <td>1</td>\n",
       "      <td>-8437.673028</td>\n",
       "      <td>42</td>\n",
       "      <td>высшее</td>\n",
       "      <td>0</td>\n",
       "      <td>женат / замужем</td>\n",
       "      <td>0</td>\n",
       "      <td>F</td>\n",
       "      <td>сотрудник</td>\n",
       "      <td>0</td>\n",
       "      <td>253875.639453</td>\n",
       "      <td>покупка жилья</td>\n",
       "    </tr>\n",
       "    <tr>\n",
       "      <td>1</td>\n",
       "      <td>1</td>\n",
       "      <td>-4024.803754</td>\n",
       "      <td>36</td>\n",
       "      <td>среднее</td>\n",
       "      <td>1</td>\n",
       "      <td>женат / замужем</td>\n",
       "      <td>0</td>\n",
       "      <td>F</td>\n",
       "      <td>сотрудник</td>\n",
       "      <td>0</td>\n",
       "      <td>112080.014102</td>\n",
       "      <td>приобретение автомобиля</td>\n",
       "    </tr>\n",
       "    <tr>\n",
       "      <td>2</td>\n",
       "      <td>0</td>\n",
       "      <td>-5623.422610</td>\n",
       "      <td>33</td>\n",
       "      <td>Среднее</td>\n",
       "      <td>1</td>\n",
       "      <td>женат / замужем</td>\n",
       "      <td>0</td>\n",
       "      <td>M</td>\n",
       "      <td>сотрудник</td>\n",
       "      <td>0</td>\n",
       "      <td>145885.952297</td>\n",
       "      <td>покупка жилья</td>\n",
       "    </tr>\n",
       "    <tr>\n",
       "      <td>3</td>\n",
       "      <td>3</td>\n",
       "      <td>-4124.747207</td>\n",
       "      <td>32</td>\n",
       "      <td>среднее</td>\n",
       "      <td>1</td>\n",
       "      <td>женат / замужем</td>\n",
       "      <td>0</td>\n",
       "      <td>M</td>\n",
       "      <td>сотрудник</td>\n",
       "      <td>0</td>\n",
       "      <td>267628.550329</td>\n",
       "      <td>дополнительное образование</td>\n",
       "    </tr>\n",
       "    <tr>\n",
       "      <td>4</td>\n",
       "      <td>0</td>\n",
       "      <td>14177.753002</td>\n",
       "      <td>53</td>\n",
       "      <td>среднее</td>\n",
       "      <td>1</td>\n",
       "      <td>гражданский брак</td>\n",
       "      <td>1</td>\n",
       "      <td>F</td>\n",
       "      <td>пенсионер</td>\n",
       "      <td>0</td>\n",
       "      <td>158616.077870</td>\n",
       "      <td>сыграть свадьбу</td>\n",
       "    </tr>\n",
       "  </tbody>\n",
       "</table>\n",
       "</div>"
      ],
      "text/plain": [
       "   children  days_employed  dob_years education  education_id  \\\n",
       "0         1   -8437.673028         42    высшее             0   \n",
       "1         1   -4024.803754         36   среднее             1   \n",
       "2         0   -5623.422610         33   Среднее             1   \n",
       "3         3   -4124.747207         32   среднее             1   \n",
       "4         0   14177.753002         53   среднее             1   \n",
       "\n",
       "      family_status  family_status_id gender income_type  credit_debt  \\\n",
       "0   женат / замужем                 0      F   сотрудник            0   \n",
       "1   женат / замужем                 0      F   сотрудник            0   \n",
       "2   женат / замужем                 0      M   сотрудник            0   \n",
       "3   женат / замужем                 0      M   сотрудник            0   \n",
       "4  гражданский брак                 1      F   пенсионер            0   \n",
       "\n",
       "   monthly_income                     purpose  \n",
       "0   253875.639453               покупка жилья  \n",
       "1   112080.014102     приобретение автомобиля  \n",
       "2   145885.952297               покупка жилья  \n",
       "3   267628.550329  дополнительное образование  \n",
       "4   158616.077870             сыграть свадьбу  "
      ]
     },
     "execution_count": 25,
     "metadata": {},
     "output_type": "execute_result"
    }
   ],
   "source": [
    "data[data['days_employed']/356 < data['dob_years']].head()"
   ]
  },
  {
   "cell_type": "markdown",
   "metadata": {},
   "source": [
    "Выведем данные, чтобы убедиться, что замена прошла успешно."
   ]
  },
  {
   "cell_type": "code",
   "execution_count": 26,
   "metadata": {},
   "outputs": [
    {
     "data": {
      "text/html": [
       "<div>\n",
       "<style scoped>\n",
       "    .dataframe tbody tr th:only-of-type {\n",
       "        vertical-align: middle;\n",
       "    }\n",
       "\n",
       "    .dataframe tbody tr th {\n",
       "        vertical-align: top;\n",
       "    }\n",
       "\n",
       "    .dataframe thead th {\n",
       "        text-align: right;\n",
       "    }\n",
       "</style>\n",
       "<table border=\"1\" class=\"dataframe\">\n",
       "  <thead>\n",
       "    <tr style=\"text-align: right;\">\n",
       "      <th></th>\n",
       "      <th>children</th>\n",
       "      <th>days_employed</th>\n",
       "      <th>dob_years</th>\n",
       "      <th>gender</th>\n",
       "      <th>monthly_income</th>\n",
       "    </tr>\n",
       "  </thead>\n",
       "  <tbody>\n",
       "    <tr>\n",
       "      <td>0</td>\n",
       "      <td>1</td>\n",
       "      <td>-8437.673028</td>\n",
       "      <td>42</td>\n",
       "      <td>F</td>\n",
       "      <td>253875.639453</td>\n",
       "    </tr>\n",
       "    <tr>\n",
       "      <td>1</td>\n",
       "      <td>1</td>\n",
       "      <td>-4024.803754</td>\n",
       "      <td>36</td>\n",
       "      <td>F</td>\n",
       "      <td>112080.014102</td>\n",
       "    </tr>\n",
       "    <tr>\n",
       "      <td>2</td>\n",
       "      <td>0</td>\n",
       "      <td>-5623.422610</td>\n",
       "      <td>33</td>\n",
       "      <td>M</td>\n",
       "      <td>145885.952297</td>\n",
       "    </tr>\n",
       "    <tr>\n",
       "      <td>3</td>\n",
       "      <td>3</td>\n",
       "      <td>-4124.747207</td>\n",
       "      <td>32</td>\n",
       "      <td>M</td>\n",
       "      <td>267628.550329</td>\n",
       "    </tr>\n",
       "    <tr>\n",
       "      <td>4</td>\n",
       "      <td>0</td>\n",
       "      <td>14177.753002</td>\n",
       "      <td>53</td>\n",
       "      <td>F</td>\n",
       "      <td>158616.077870</td>\n",
       "    </tr>\n",
       "    <tr>\n",
       "      <td>5</td>\n",
       "      <td>0</td>\n",
       "      <td>-926.185831</td>\n",
       "      <td>27</td>\n",
       "      <td>M</td>\n",
       "      <td>255763.565419</td>\n",
       "    </tr>\n",
       "    <tr>\n",
       "      <td>6</td>\n",
       "      <td>0</td>\n",
       "      <td>-2879.202052</td>\n",
       "      <td>43</td>\n",
       "      <td>F</td>\n",
       "      <td>240525.971920</td>\n",
       "    </tr>\n",
       "    <tr>\n",
       "      <td>7</td>\n",
       "      <td>0</td>\n",
       "      <td>-152.779569</td>\n",
       "      <td>50</td>\n",
       "      <td>M</td>\n",
       "      <td>135823.934197</td>\n",
       "    </tr>\n",
       "    <tr>\n",
       "      <td>8</td>\n",
       "      <td>2</td>\n",
       "      <td>-6929.865299</td>\n",
       "      <td>35</td>\n",
       "      <td>F</td>\n",
       "      <td>95856.832424</td>\n",
       "    </tr>\n",
       "    <tr>\n",
       "      <td>9</td>\n",
       "      <td>0</td>\n",
       "      <td>-2188.756445</td>\n",
       "      <td>41</td>\n",
       "      <td>M</td>\n",
       "      <td>144425.938277</td>\n",
       "    </tr>\n",
       "    <tr>\n",
       "      <td>10</td>\n",
       "      <td>2</td>\n",
       "      <td>-4171.483647</td>\n",
       "      <td>36</td>\n",
       "      <td>M</td>\n",
       "      <td>113943.491460</td>\n",
       "    </tr>\n",
       "    <tr>\n",
       "      <td>11</td>\n",
       "      <td>0</td>\n",
       "      <td>-792.701887</td>\n",
       "      <td>40</td>\n",
       "      <td>F</td>\n",
       "      <td>77069.234271</td>\n",
       "    </tr>\n",
       "    <tr>\n",
       "      <td>12</td>\n",
       "      <td>0</td>\n",
       "      <td>15217.221094</td>\n",
       "      <td>65</td>\n",
       "      <td>M</td>\n",
       "      <td>118514.486412</td>\n",
       "    </tr>\n",
       "    <tr>\n",
       "      <td>13</td>\n",
       "      <td>0</td>\n",
       "      <td>-1846.641941</td>\n",
       "      <td>54</td>\n",
       "      <td>F</td>\n",
       "      <td>130458.228857</td>\n",
       "    </tr>\n",
       "    <tr>\n",
       "      <td>14</td>\n",
       "      <td>0</td>\n",
       "      <td>-1844.956182</td>\n",
       "      <td>56</td>\n",
       "      <td>F</td>\n",
       "      <td>165127.911772</td>\n",
       "    </tr>\n",
       "  </tbody>\n",
       "</table>\n",
       "</div>"
      ],
      "text/plain": [
       "    children  days_employed  dob_years gender  monthly_income\n",
       "0          1   -8437.673028         42      F   253875.639453\n",
       "1          1   -4024.803754         36      F   112080.014102\n",
       "2          0   -5623.422610         33      M   145885.952297\n",
       "3          3   -4124.747207         32      M   267628.550329\n",
       "4          0   14177.753002         53      F   158616.077870\n",
       "5          0    -926.185831         27      M   255763.565419\n",
       "6          0   -2879.202052         43      F   240525.971920\n",
       "7          0    -152.779569         50      M   135823.934197\n",
       "8          2   -6929.865299         35      F    95856.832424\n",
       "9          0   -2188.756445         41      M   144425.938277\n",
       "10         2   -4171.483647         36      M   113943.491460\n",
       "11         0    -792.701887         40      F    77069.234271\n",
       "12         0   15217.221094         65      M   118514.486412\n",
       "13         0   -1846.641941         54      F   130458.228857\n",
       "14         0   -1844.956182         56      F   165127.911772"
      ]
     },
     "execution_count": 26,
     "metadata": {},
     "output_type": "execute_result"
    }
   ],
   "source": [
    "data[['children','days_employed','dob_years','gender','monthly_income',]].head(15)"
   ]
  },
  {
   "cell_type": "markdown",
   "metadata": {},
   "source": [
    " **Вывод**"
   ]
  },
  {
   "cell_type": "markdown",
   "metadata": {},
   "source": [
    "Устранены проблемы с пропусками и ошибками в данных. Ошибки с столбцах `children`, `gender` и `dob_years` носят случайный характер и, вероятно, связаны с невнимательностью. Тогда как в столбцах `days_employed` и `monthly_income` систематический, и скорее всего целенаправленный характер, однако никакой закономерности с данными из других столбцов выявлено не было, в связи с этим пропуски заполнены из медианных значений. Отрицательные значения `days_employed` удалены, а завышенные переведены из часов в дни."
   ]
  },
  {
   "cell_type": "markdown",
   "metadata": {},
   "source": [
    "<h3> Замена типа данных </h3><a id=d></a>"
   ]
  },
  {
   "cell_type": "markdown",
   "metadata": {},
   "source": [
    "</div>\n",
    "<div class=\"alert alert-block alert-info\">\n",
    "Используем <a href=\"https://habr.com/ru/company/ruvds/blog/442516/\">функцию</a> для определения потребления памяти:\n",
    "\n",
    "</div>"
   ]
  },
  {
   "cell_type": "code",
   "execution_count": 27,
   "metadata": {},
   "outputs": [],
   "source": [
    "def mem_usage(pandas_obj):\n",
    "    if isinstance(pandas_obj,pd.DataFrame):\n",
    "        usage_b = pandas_obj.memory_usage(deep=True).sum()\n",
    "    else: # исходим из предположения о том, что если это не DataFrame, то это Series\n",
    "        usage_b = pandas_obj.memory_usage(deep=True)\n",
    "    usage_mb = usage_b / 1024 ** 2 # преобразуем байты в мегабайты\n",
    "    return \"Потребления памяти: {:03.2f} MB\".format(usage_mb)"
   ]
  },
  {
   "cell_type": "markdown",
   "metadata": {},
   "source": [
    "Проанализируем еще раз тип данных:"
   ]
  },
  {
   "cell_type": "code",
   "execution_count": 28,
   "metadata": {
    "scrolled": true
   },
   "outputs": [
    {
     "name": "stdout",
     "output_type": "stream",
     "text": [
      "<class 'pandas.core.frame.DataFrame'>\n",
      "Int64Index: 21524 entries, 0 to 21524\n",
      "Data columns (total 12 columns):\n",
      "children            21524 non-null int64\n",
      "days_employed       21524 non-null float64\n",
      "dob_years           21524 non-null int64\n",
      "education           21524 non-null object\n",
      "education_id        21524 non-null int64\n",
      "family_status       21524 non-null object\n",
      "family_status_id    21524 non-null int64\n",
      "gender              21524 non-null object\n",
      "income_type         21524 non-null object\n",
      "credit_debt         21524 non-null int64\n",
      "monthly_income      21524 non-null float64\n",
      "purpose             21524 non-null object\n",
      "dtypes: float64(2), int64(5), object(5)\n",
      "memory usage: 2.1+ MB\n",
      "Потребления памяти: 11.84 MB\n"
     ]
    }
   ],
   "source": [
    "data.info()\n",
    "print(mem_usage(data))"
   ]
  },
  {
   "cell_type": "markdown",
   "metadata": {},
   "source": [
    "Столбцы `days_employed` и `dob_years` необходимо перевести в целочисленные:"
   ]
  },
  {
   "cell_type": "code",
   "execution_count": 29,
   "metadata": {
    "scrolled": true
   },
   "outputs": [],
   "source": [
    "#data['days_employed'] = data['days_employed'].abs().astype('int')\n",
    "##data['monthly_income'] = data['monthly_income'].astype('int')\n",
    "data[['dob_years','children','education_id','family_status_id']] = data[['dob_years','children','education_id','family_status_id']].astype('uint8')\n",
    "data['days_employed'] = data['days_employed'].astype('uint16')\n",
    "data.loc[data['gender'] == 'M', 'gender'] = 0\n",
    "data.loc[data['gender'] == 'F', 'gender'] = 1\n",
    "data[['credit_debt', 'gender']] = data[['credit_debt', 'gender']].astype('bool_')\n",
    "data['monthly_income'] = data['monthly_income'].astype('uint32')"
   ]
  },
  {
   "cell_type": "markdown",
   "metadata": {},
   "source": [
    "Проверяем, что все верно:"
   ]
  },
  {
   "cell_type": "code",
   "execution_count": 30,
   "metadata": {
    "scrolled": true
   },
   "outputs": [
    {
     "name": "stdout",
     "output_type": "stream",
     "text": [
      "<class 'pandas.core.frame.DataFrame'>\n",
      "Int64Index: 21524 entries, 0 to 21524\n",
      "Data columns (total 12 columns):\n",
      "children            21524 non-null uint8\n",
      "days_employed       21524 non-null uint16\n",
      "dob_years           21524 non-null uint8\n",
      "education           21524 non-null object\n",
      "education_id        21524 non-null uint8\n",
      "family_status       21524 non-null object\n",
      "family_status_id    21524 non-null uint8\n",
      "gender              21524 non-null bool\n",
      "income_type         21524 non-null object\n",
      "credit_debt         21524 non-null bool\n",
      "monthly_income      21524 non-null uint32\n",
      "purpose             21524 non-null object\n",
      "dtypes: bool(2), object(4), uint16(1), uint32(1), uint8(4)\n",
      "memory usage: 1.1+ MB\n",
      "Потребления памяти: 9.75 MB\n"
     ]
    }
   ],
   "source": [
    "data.info()\n",
    "print(mem_usage(data))"
   ]
  },
  {
   "cell_type": "markdown",
   "metadata": {},
   "source": [
    "<div class=\"alert alert-block alert-warning\">\n",
    "<b>Remarks:</b> \n",
    "    \n",
    "Потенциал для эффективного изменения типов тут гораздо шире.\n",
    "    \n",
    "Давай я дам тебе две классные статьи, а ты попробуешь изменить типы данных на еще более подходящие и замеришь, сколько памяти в % ты сэкономишь:\n",
    "    \n",
    "https://pyprog.pro/data_types.html\n",
    "    \n",
    "https://habr.com/ru/company/ruvds/blog/442516/\n",
    "    \n",
    "</div>\n",
    "<div class=\"alert alert-block alert-info\">\n",
    "<b>Fixed:</b>\n",
    "    \n",
    "✔ Изменил больше типов данных на оптимальные. Некоторые столбцы (дети, возраст и тд) не могут превышать определенные значения. Заменил тип для столбцов `gender` и `credit_debt` на <b>bool</b>.\n",
    "</div>"
   ]
  },
  {
   "cell_type": "markdown",
   "metadata": {},
   "source": [
    "**Вывод**"
   ]
  },
  {
   "cell_type": "markdown",
   "metadata": {},
   "source": [
    "Типы данных изменены, это возможно поможет нам в дальшейшем анализе данных."
   ]
  },
  {
   "cell_type": "markdown",
   "metadata": {},
   "source": [
    "<h3> Обработка дубликатов </h3><a id=e></a>"
   ]
  },
  {
   "cell_type": "markdown",
   "metadata": {},
   "source": [
    "Приведем к нижнему регистру столбец `education` используя `.lower()`:"
   ]
  },
  {
   "cell_type": "code",
   "execution_count": 31,
   "metadata": {
    "scrolled": false
   },
   "outputs": [
    {
     "data": {
      "text/html": [
       "<div>\n",
       "<style scoped>\n",
       "    .dataframe tbody tr th:only-of-type {\n",
       "        vertical-align: middle;\n",
       "    }\n",
       "\n",
       "    .dataframe tbody tr th {\n",
       "        vertical-align: top;\n",
       "    }\n",
       "\n",
       "    .dataframe thead th {\n",
       "        text-align: right;\n",
       "    }\n",
       "</style>\n",
       "<table border=\"1\" class=\"dataframe\">\n",
       "  <thead>\n",
       "    <tr style=\"text-align: right;\">\n",
       "      <th></th>\n",
       "      <th>education</th>\n",
       "      <th>education_id</th>\n",
       "      <th>count</th>\n",
       "    </tr>\n",
       "  </thead>\n",
       "  <tbody>\n",
       "    <tr>\n",
       "      <td>0</td>\n",
       "      <td>среднее</td>\n",
       "      <td>1</td>\n",
       "      <td>15233</td>\n",
       "    </tr>\n",
       "    <tr>\n",
       "      <td>1</td>\n",
       "      <td>высшее</td>\n",
       "      <td>0</td>\n",
       "      <td>5260</td>\n",
       "    </tr>\n",
       "    <tr>\n",
       "      <td>2</td>\n",
       "      <td>неоконченное высшее</td>\n",
       "      <td>2</td>\n",
       "      <td>743</td>\n",
       "    </tr>\n",
       "    <tr>\n",
       "      <td>3</td>\n",
       "      <td>начальное</td>\n",
       "      <td>3</td>\n",
       "      <td>282</td>\n",
       "    </tr>\n",
       "    <tr>\n",
       "      <td>4</td>\n",
       "      <td>ученая степень</td>\n",
       "      <td>4</td>\n",
       "      <td>6</td>\n",
       "    </tr>\n",
       "  </tbody>\n",
       "</table>\n",
       "</div>"
      ],
      "text/plain": [
       "             education  education_id  count\n",
       "0              среднее             1  15233\n",
       "1               высшее             0   5260\n",
       "2  неоконченное высшее             2    743\n",
       "3            начальное             3    282\n",
       "4       ученая степень             4      6"
      ]
     },
     "execution_count": 31,
     "metadata": {},
     "output_type": "execute_result"
    }
   ],
   "source": [
    "data['education'] = data['education'].str.lower()\n",
    "data.groupby(['education', 'education_id']).size().to_frame('count').sort_values('count', ascending=False).reset_index()"
   ]
  },
  {
   "cell_type": "markdown",
   "metadata": {},
   "source": [
    "и столбец `family_status` тоже:"
   ]
  },
  {
   "cell_type": "code",
   "execution_count": 32,
   "metadata": {
    "scrolled": true
   },
   "outputs": [
    {
     "data": {
      "text/html": [
       "<div>\n",
       "<style scoped>\n",
       "    .dataframe tbody tr th:only-of-type {\n",
       "        vertical-align: middle;\n",
       "    }\n",
       "\n",
       "    .dataframe tbody tr th {\n",
       "        vertical-align: top;\n",
       "    }\n",
       "\n",
       "    .dataframe thead th {\n",
       "        text-align: right;\n",
       "    }\n",
       "</style>\n",
       "<table border=\"1\" class=\"dataframe\">\n",
       "  <thead>\n",
       "    <tr style=\"text-align: right;\">\n",
       "      <th></th>\n",
       "      <th>family_status</th>\n",
       "      <th>family_status_id</th>\n",
       "      <th>count</th>\n",
       "    </tr>\n",
       "  </thead>\n",
       "  <tbody>\n",
       "    <tr>\n",
       "      <td>0</td>\n",
       "      <td>женат / замужем</td>\n",
       "      <td>0</td>\n",
       "      <td>12380</td>\n",
       "    </tr>\n",
       "    <tr>\n",
       "      <td>1</td>\n",
       "      <td>гражданский брак</td>\n",
       "      <td>1</td>\n",
       "      <td>4176</td>\n",
       "    </tr>\n",
       "    <tr>\n",
       "      <td>2</td>\n",
       "      <td>не женат / не замужем</td>\n",
       "      <td>4</td>\n",
       "      <td>2813</td>\n",
       "    </tr>\n",
       "    <tr>\n",
       "      <td>3</td>\n",
       "      <td>в разводе</td>\n",
       "      <td>3</td>\n",
       "      <td>1195</td>\n",
       "    </tr>\n",
       "    <tr>\n",
       "      <td>4</td>\n",
       "      <td>вдовец / вдова</td>\n",
       "      <td>2</td>\n",
       "      <td>960</td>\n",
       "    </tr>\n",
       "  </tbody>\n",
       "</table>\n",
       "</div>"
      ],
      "text/plain": [
       "           family_status  family_status_id  count\n",
       "0        женат / замужем                 0  12380\n",
       "1       гражданский брак                 1   4176\n",
       "2  не женат / не замужем                 4   2813\n",
       "3              в разводе                 3   1195\n",
       "4         вдовец / вдова                 2    960"
      ]
     },
     "execution_count": 32,
     "metadata": {},
     "output_type": "execute_result"
    }
   ],
   "source": [
    "data['family_status'] = data['family_status'].str.lower()\n",
    "data.groupby(['family_status', 'family_status_id']).size().to_frame('count').sort_values('count', ascending=False).reset_index()"
   ]
  },
  {
   "cell_type": "markdown",
   "metadata": {},
   "source": [
    "Проверим общее число и долю дубликатов в данных используя `.duplicated()`:"
   ]
  },
  {
   "cell_type": "code",
   "execution_count": 33,
   "metadata": {},
   "outputs": [
    {
     "name": "stdout",
     "output_type": "stream",
     "text": [
      "Число дубликатов: 71\n"
     ]
    }
   ],
   "source": [
    "print('Число дубликатов:', data.duplicated().sum())"
   ]
  },
  {
   "cell_type": "code",
   "execution_count": 34,
   "metadata": {},
   "outputs": [
    {
     "name": "stdout",
     "output_type": "stream",
     "text": [
      "Доля дубликатов: 0.33%\n"
     ]
    }
   ],
   "source": [
    "print('Доля дубликатов: {:.2%}'.format(data.duplicated().sum() / len(data)))"
   ]
  },
  {
   "cell_type": "markdown",
   "metadata": {},
   "source": [
    "Данные дубликаты мы можем без каких-либо дополнительных проверок удалить используя `.drop_duplicates()`"
   ]
  },
  {
   "cell_type": "code",
   "execution_count": 35,
   "metadata": {},
   "outputs": [],
   "source": [
    "data = data.drop_duplicates().reset_index(drop = True)"
   ]
  },
  {
   "cell_type": "markdown",
   "metadata": {},
   "source": [
    "Проверим еще раз наличие дубликатов:"
   ]
  },
  {
   "cell_type": "code",
   "execution_count": 36,
   "metadata": {},
   "outputs": [
    {
     "name": "stdout",
     "output_type": "stream",
     "text": [
      "Число дубликатов: 0\n"
     ]
    }
   ],
   "source": [
    "print('Число дубликатов:', data.duplicated().sum())"
   ]
  },
  {
   "cell_type": "markdown",
   "metadata": {},
   "source": [
    "**Вывод**"
   ]
  },
  {
   "cell_type": "markdown",
   "metadata": {},
   "source": [
    "Регистр данных исправлен, дубликаты найдены и удалены. Данные готовы к анализу."
   ]
  },
  {
   "cell_type": "markdown",
   "metadata": {},
   "source": [
    "<h3> Лемматизация </h3><a id=f></a>"
   ]
  },
  {
   "cell_type": "markdown",
   "metadata": {},
   "source": [
    "Проведем лемматизацию столбца `purpose`, поскольку он содержит множество разрозненных данных, имеющих общие слова, используем `.lemmatize()` внутри функции `lemma_categories`, результаты сохраним в новый dataframe `categories`."
   ]
  },
  {
   "cell_type": "code",
   "execution_count": 37,
   "metadata": {},
   "outputs": [],
   "source": [
    "categories = []\n",
    "def lemma_categories(data):\n",
    "    for element in data:\n",
    "        lemma = m.lemmatize(element)\n",
    "        categories.extend(lemma)\n",
    "    return categories\n",
    "\n",
    "categories = lemma_categories(data['purpose'])"
   ]
  },
  {
   "cell_type": "markdown",
   "metadata": {},
   "source": [
    "Удалим элементы, встречающиеся менее одного раза:"
   ]
  },
  {
   "cell_type": "code",
   "execution_count": 38,
   "metadata": {},
   "outputs": [],
   "source": [
    "lemmas = Counter(categories)"
   ]
  },
  {
   "cell_type": "markdown",
   "metadata": {},
   "source": [
    "Отсортируем по частоте встречаемости и удалим слова короче 4 символов:"
   ]
  },
  {
   "cell_type": "code",
   "execution_count": 39,
   "metadata": {},
   "outputs": [
    {
     "name": "stdout",
     "output_type": "stream",
     "text": [
      "['недвижимость', 'покупка', 'жилье', 'автомобиль', 'образование', 'операция', 'свадьба', 'строительство']\n"
     ]
    }
   ],
   "source": [
    "lemmas_purposes = [k for k in sorted(lemmas, key=lemmas.get, reverse=True) if len(k) > 4 if k != ' ' if k != '\\n'][0:8]\n",
    "print(lemmas_purposes)"
   ]
  },
  {
   "cell_type": "markdown",
   "metadata": {},
   "source": [
    "Оставим в списке только существительные, используем `.remove`:"
   ]
  },
  {
   "cell_type": "code",
   "execution_count": 40,
   "metadata": {},
   "outputs": [
    {
     "data": {
      "text/plain": [
       "['недвижимость', 'жилье', 'автомобиль', 'образование', 'операция', 'свадьба']"
      ]
     },
     "execution_count": 40,
     "metadata": {},
     "output_type": "execute_result"
    }
   ],
   "source": [
    "lemmas_purposes.remove('покупка')\n",
    "lemmas_purposes.remove('строительство')\n",
    "lemmas_purposes"
   ]
  },
  {
   "cell_type": "markdown",
   "metadata": {},
   "source": [
    "**Вывод**"
   ]
  },
  {
   "cell_type": "markdown",
   "metadata": {},
   "source": [
    "Проведя лемматизацию мы сформировали лист с наиболее часто встречающимися существительными, фигурирующими в целях получения кредита. В дальнейшем будем их использовать при категоризации."
   ]
  },
  {
   "cell_type": "markdown",
   "metadata": {},
   "source": [
    "\n",
    "<div class=\"alert alert-block alert-success\">\n",
    "<b>Success:</b> лемматизация выполнена корректно!"
   ]
  },
  {
   "cell_type": "markdown",
   "metadata": {},
   "source": [
    "<h3> Категоризация данных </h3><a id=g></a>"
   ]
  },
  {
   "cell_type": "markdown",
   "metadata": {},
   "source": [
    "<h4> Категоризация количества детей в семье </h4><a id=h></a>"
   ]
  },
  {
   "cell_type": "markdown",
   "metadata": {},
   "source": [
    "Разделим данные на три группы:\n",
    "1. Нет детей.\n",
    "2. Один ребенок.\n",
    "1. Несколько детей.\n",
    "\n",
    "Это позволит в дальшейшем проанализировать влияние наличия детей и их количества.\n",
    "Используем функцию `children_group`, данные сохраним в новый столбец `children_group`:"
   ]
  },
  {
   "cell_type": "code",
   "execution_count": 41,
   "metadata": {},
   "outputs": [
    {
     "data": {
      "text/plain": [
       "нет детей          14090\n",
       "один ребенок        4855\n",
       "несколько детей     2508\n",
       "Name: children_group, dtype: int64"
      ]
     },
     "execution_count": 41,
     "metadata": {},
     "output_type": "execute_result"
    }
   ],
   "source": [
    "def children_group(data):\n",
    "    if data == 1:\n",
    "        return 'один ребенок'\n",
    "    if data > 1:\n",
    "        return 'несколько детей'\n",
    "    else:\n",
    "        return 'нет детей'\n",
    "\n",
    "data['children_group'] = data['children'].apply(children_group)\n",
    "data['children_group'].value_counts()"
   ]
  },
  {
   "cell_type": "markdown",
   "metadata": {},
   "source": [
    "\n",
    "<div class=\"alert alert-block alert-success\">\n",
    "<b>Success:</b> Отличная категоризация! Здорово, что выделили многодетных заемщиков в отдельную категорию"
   ]
  },
  {
   "cell_type": "markdown",
   "metadata": {},
   "source": [
    "Из результатов видно, что детей не имеют 2/3 клиентов."
   ]
  },
  {
   "cell_type": "markdown",
   "metadata": {},
   "source": [
    "<h4> Категоризация общего трудового стажа в днях </h4><a id=i></a>"
   ]
  },
  {
   "cell_type": "markdown",
   "metadata": {},
   "source": [
    "Проверим, что после предобработки данных отсутствуют строки, где стаж больше чем возраст."
   ]
  },
  {
   "cell_type": "code",
   "execution_count": 42,
   "metadata": {},
   "outputs": [
    {
     "data": {
      "text/plain": [
       "больше 65 лет    17622\n",
       "25-45 лет         3463\n",
       "45-65 лет          368\n",
       "Name: days_employed_group, dtype: int64"
      ]
     },
     "execution_count": 42,
     "metadata": {},
     "output_type": "execute_result"
    }
   ],
   "source": [
    "def days_employed_group(data):\n",
    "    if data == 0:   \n",
    "        return 'отсутсвует'\n",
    "    elif (data/365) <= 5:  \n",
    "        return 'меньше 5 лет'\n",
    "    elif 5 < (data/365) <= 25:\n",
    "        return '5-25 лет'\n",
    "    elif 25 < (data/365) <= 45:\n",
    "        return '25-45 лет'\n",
    "    elif 45 < (data/365) <= 65:\n",
    "        return '45-65 лет'\n",
    "    else:\n",
    "        return 'больше 65 лет'\n",
    "\n",
    "data['days_employed_group'] = data['days_employed'].apply(days_employed_group)\n",
    "data['days_employed_group'].value_counts()"
   ]
  },
  {
   "cell_type": "markdown",
   "metadata": {},
   "source": [
    "Проверим, в какую группу отсортировались `пенсионер` после деления стажа на **24**:"
   ]
  },
  {
   "cell_type": "code",
   "execution_count": 43,
   "metadata": {},
   "outputs": [
    {
     "data": {
      "text/plain": [
       "25-45 лет    3462\n",
       "45-65 лет     367\n",
       "Name: days_employed_group, dtype: int64"
      ]
     },
     "execution_count": 43,
     "metadata": {},
     "output_type": "execute_result"
    }
   ],
   "source": [
    "data.loc[data['income_type'] == 'пенсионер']['days_employed_group'].value_counts()"
   ]
  },
  {
   "cell_type": "markdown",
   "metadata": {},
   "source": [
    "Результаты кажутся логичными, следовательно, предположение о том, что значения были в часах, верно."
   ]
  },
  {
   "cell_type": "markdown",
   "metadata": {},
   "source": [
    "<h4> Категоризация возраста клиента в годах </h4><a id=j></a>"
   ]
  },
  {
   "cell_type": "markdown",
   "metadata": {},
   "source": [
    "Выполним категоризацию данных по `dob_years` на 7 групп:\n",
    "1. моложе 18 лет - дети и подростки. *Не имеют собственного дохода*.\n",
    "2. от 18 до 21 года - студенты и малоопытные специалисты со средним образованием. *Низкий нестабильный доход*.\n",
    "3. от 21 до 35 лет - начинающие специалисты. *Группа риска, могут иметь как высокий, так и невысокий доход*.\n",
    "4. от 35 до 50 лет - состоявшиеся специалисты. *Состоявшиеся люди со стабильным доходом*.\n",
    "5. от 50 до 61.5 для мужчин и от 50 до 56.5 для женщин - люди предпенсионного возраста. *Велика вероятность сокращения*.\n",
    "6. старше 61.5 для мужчин и старше 56.5 для женщин - пенсионеры. *Имеют невысокий, но стабильный доход*."
   ]
  },
  {
   "cell_type": "code",
   "execution_count": 44,
   "metadata": {},
   "outputs": [
    {
     "data": {
      "text/plain": [
       "35-50            8310\n",
       "21-35            5901\n",
       "50-56.5(61.5)    3810\n",
       "пенсионеры       3367\n",
       "18-21              65\n",
       "Name: age_group, dtype: int64"
      ]
     },
     "execution_count": 44,
     "metadata": {},
     "output_type": "execute_result"
    }
   ],
   "source": [
    "def age_group(age, gender):\n",
    "    if age < 18:\n",
    "        return 'дети и подростки'\n",
    "    if 18 <= age < 21:  \n",
    "        return '18-21'\n",
    "    elif 21 <= age < 35:  \n",
    "        return '21-35 '\n",
    "    elif 35 <= age < 50: \n",
    "        return '35-50'\n",
    "    elif age > 61.5 and gender == False:\n",
    "        return 'пенсионеры'\n",
    "    elif age > 56.5 and gender == True:\n",
    "        return 'пенсионеры'\n",
    "    else:\n",
    "        return '50-56.5(61.5)'\n",
    "\n",
    "data['age_group'] = data.apply(lambda x: age_group(x['dob_years'], x['gender']), axis=1)\n",
    "data['age_group'].value_counts()"
   ]
  },
  {
   "cell_type": "markdown",
   "metadata": {},
   "source": [
    "</div>\n",
    "<div class=\"alert alert-block alert-info\">\n",
    "Заменил в условии M на False и F на True. \n",
    "\n",
    "</div>"
   ]
  },
  {
   "cell_type": "markdown",
   "metadata": {},
   "source": [
    "Можно наблюдать, что 39% людей в возрасте 35-50 лет, которые, вероятно, имеют стабильный доход."
   ]
  },
  {
   "cell_type": "markdown",
   "metadata": {},
   "source": [
    "<h4> Категоризация ежемесячного дохода </h4><a id=k></a>"
   ]
  },
  {
   "cell_type": "markdown",
   "metadata": {},
   "source": [
    "Выполним категоризацию данных по `monthly_income` на 4 группы исходя из результатов `.describe()`"
   ]
  },
  {
   "cell_type": "code",
   "execution_count": 45,
   "metadata": {},
   "outputs": [
    {
     "data": {
      "text/plain": [
       "25%    107620.0\n",
       "50%    142594.0\n",
       "75%    195818.0\n",
       "Name: monthly_income, dtype: float64"
      ]
     },
     "execution_count": 45,
     "metadata": {},
     "output_type": "execute_result"
    }
   ],
   "source": [
    "stat_monthly_incomes = data['monthly_income'].describe()\n",
    "stat_monthly_incomes[4:7]"
   ]
  },
  {
   "cell_type": "markdown",
   "metadata": {},
   "source": [
    "Далее используем функцию с применением сортировки по квантилям 25%, 50% и 75%."
   ]
  },
  {
   "cell_type": "markdown",
   "metadata": {},
   "source": [
    "\n",
    "<div class=\"alert alert-block alert-success\">\n",
    "<b>Success:</b> Очень хорошо, что граничные значения взяты из характеристик датасета!"
   ]
  },
  {
   "cell_type": "code",
   "execution_count": 46,
   "metadata": {},
   "outputs": [
    {
     "data": {
      "text/plain": [
       "ниже среднего    5479\n",
       "низкий           5364\n",
       "высокий          5363\n",
       "выше среднего    5247\n",
       "Name: income_group, dtype: int64"
      ]
     },
     "execution_count": 46,
     "metadata": {},
     "output_type": "execute_result"
    }
   ],
   "source": [
    "def income_group (date):\n",
    "    if date <= stat_monthly_incomes[4]:\n",
    "        return 'низкий'\n",
    "    elif stat_monthly_incomes[4] < date <= stat_monthly_incomes[5]:\n",
    "        return 'ниже среднего'\n",
    "    elif stat_monthly_incomes[5] < date <= stat_monthly_incomes[6]:\n",
    "        return 'выше среднего'\n",
    "    else:\n",
    "        return 'высокий'\n",
    "\n",
    "data['income_group'] = data['monthly_income'].apply(income_group)\n",
    "data['income_group'].value_counts()"
   ]
  },
  {
   "cell_type": "markdown",
   "metadata": {},
   "source": [
    "Можно наблюдать, что люди равномерно распределены по группам уровня дохода."
   ]
  },
  {
   "cell_type": "markdown",
   "metadata": {},
   "source": [
    "<h4> Категоризация цели получения кредита </h4><a id=l></a>"
   ]
  },
  {
   "cell_type": "markdown",
   "metadata": {},
   "source": [
    "Список групп, полученный после лемматизации `lemmas_purposes`, используем в функции для категоризации данных по столбцу `purpose`."
   ]
  },
  {
   "cell_type": "code",
   "execution_count": 47,
   "metadata": {},
   "outputs": [
    {
     "data": {
      "text/plain": [
       "недвижимость    6350\n",
       "жилье           4460\n",
       "автомобиль      4306\n",
       "образование     4013\n",
       "свадьба         2324\n",
       "Name: purpose_group, dtype: int64"
      ]
     },
     "execution_count": 47,
     "metadata": {},
     "output_type": "execute_result"
    }
   ],
   "source": [
    "def lemmatize(data):\n",
    "    lemma = m.lemmatize(data)\n",
    "    for element in lemmas_purposes:\n",
    "        if element in lemma:\n",
    "            lemma = element\n",
    "    return lemma\n",
    "\n",
    "data['purpose_group'] = data['purpose'].apply(lemmatize)        \n",
    "data['purpose_group'].value_counts()"
   ]
  },
  {
   "cell_type": "markdown",
   "metadata": {},
   "source": [
    "Основную долю 50% занимает в той или иной мере недвижимость. Объединять *недвижимость* и *жилье* не будем, так как недвижимость могут приобретать для бизнеса."
   ]
  },
  {
   "cell_type": "markdown",
   "metadata": {},
   "source": [
    "**Вывод**"
   ]
  },
  {
   "cell_type": "markdown",
   "metadata": {},
   "source": [
    "Несмотря на то, что мы провели только категоризацию, уже можно сделать некоторые выводы:\n",
    "1. Почти 50% людей имеют опыт работы меньше 5 лет.\n",
    "2. 39% людей находятся в возрастной группе 35-50 лет.\n",
    "3. Уровень дохода между всеми группами людей распределен равномерно.\n",
    "4. Основная часть кредитов берется для приобретения недвижимости."
   ]
  },
  {
   "cell_type": "markdown",
   "metadata": {},
   "source": [
    "<h2> Шаг 3. Ответьте на вопросы </h2><a id=m></a>"
   ]
  },
  {
   "cell_type": "markdown",
   "metadata": {},
   "source": [
    "Постановка вопросов и предподготовка данных позволяет использовать функцию.\n",
    "Сгруппируем по интересующему параметру и рассчитаем среднее для каждой группы."
   ]
  },
  {
   "cell_type": "code",
   "execution_count": 48,
   "metadata": {},
   "outputs": [],
   "source": [
    "def statistics(df):\n",
    "    statistics = data.groupby(df)['credit_debt'].mean().to_frame().sort_values('credit_debt').reset_index()\n",
    "    print('------------------------------------------------')\n",
    "    for index, row in statistics.iterrows():\n",
    "        print('{: <23} | {: >14.1%}'.format(row[0], 1-row[1]))"
   ]
  },
  {
   "cell_type": "markdown",
   "metadata": {},
   "source": [
    "<h3> Есть ли зависимость между наличием детей и возвратом кредита в срок? </h3><a id=n></a>"
   ]
  },
  {
   "cell_type": "markdown",
   "metadata": {},
   "source": [
    "Применим функцию `statistics` к столбцу `children_group`:"
   ]
  },
  {
   "cell_type": "code",
   "execution_count": 49,
   "metadata": {
    "scrolled": true
   },
   "outputs": [
    {
     "name": "stdout",
     "output_type": "stream",
     "text": [
      "Наличие детей           | Возврат кредита в срок\n",
      "------------------------------------------------\n",
      "нет детей               |          92.5%\n",
      "один ребенок            |          90.8%\n",
      "несколько детей         |          90.7%\n"
     ]
    }
   ],
   "source": [
    "print('Наличие детей           | Возврат кредита в срок')\n",
    "statistics('children_group')"
   ]
  },
  {
   "cell_type": "markdown",
   "metadata": {},
   "source": [
    "\n",
    "<div class=\"alert alert-block alert-success\">\n",
    "<b>Success:</b> Отличное оформление!"
   ]
  },
  {
   "cell_type": "code",
   "execution_count": 50,
   "metadata": {
    "scrolled": true
   },
   "outputs": [
    {
     "data": {
      "text/plain": [
       "18-21              54\n",
       "21-35            3012\n",
       "пенсионеры       3134\n",
       "50-56.5(61.5)    3276\n",
       "35-50            4614\n",
       "Name: age_group, dtype: int64"
      ]
     },
     "execution_count": 50,
     "metadata": {},
     "output_type": "execute_result"
    }
   ],
   "source": [
    "data[data['children_group'] =='нет детей']['age_group'].value_counts(ascending=True)"
   ]
  },
  {
   "cell_type": "markdown",
   "metadata": {},
   "source": [
    "**Вывод**"
   ]
  },
  {
   "cell_type": "markdown",
   "metadata": {},
   "source": [
    "Наличие даже одного ребенка увеличивает вероятность задолженности по кредиту. Наличие детей увеличивает общую финансовую нагрузку, люди жертвуют выплатами в банк, а не снижением трат на ребенка, что весьма логично. Анализ наличия детей в различных возрастных группах показал, что меньше всего детей в группах 18-35 лет."
   ]
  },
  {
   "cell_type": "markdown",
   "metadata": {},
   "source": [
    "<h3> Есть ли зависимость между семейным положением и возвратом кредита в срок? </h3><a id=o></a>"
   ]
  },
  {
   "cell_type": "markdown",
   "metadata": {},
   "source": [
    "Применим функцию `statistics` к столбцу `family_status`:"
   ]
  },
  {
   "cell_type": "code",
   "execution_count": 51,
   "metadata": {},
   "outputs": [
    {
     "name": "stdout",
     "output_type": "stream",
     "text": [
      "Семейное положение      | Возврат кредита в срок\n",
      "------------------------------------------------\n",
      "вдовец / вдова          |          93.4%\n",
      "в разводе               |          92.9%\n",
      "женат / замужем         |          92.5%\n",
      "гражданский брак        |          90.7%\n",
      "не женат / не замужем   |          90.2%\n"
     ]
    }
   ],
   "source": [
    "print('Семейное положение      | Возврат кредита в срок')\n",
    "statistics('family_status')"
   ]
  },
  {
   "cell_type": "markdown",
   "metadata": {},
   "source": [
    "Проанализируем две наименее надежные группы `гражданский брак` и `не женат / не замужем`."
   ]
  },
  {
   "cell_type": "code",
   "execution_count": 52,
   "metadata": {},
   "outputs": [
    {
     "data": {
      "text/plain": [
       "свадьба         2324\n",
       "недвижимость     585\n",
       "автомобиль       434\n",
       "образование      404\n",
       "жилье            403\n",
       "Name: purpose_group, dtype: int64"
      ]
     },
     "execution_count": 52,
     "metadata": {},
     "output_type": "execute_result"
    }
   ],
   "source": [
    "data[data['family_status'] == 'гражданский брак']['purpose_group'].value_counts()"
   ]
  },
  {
   "cell_type": "markdown",
   "metadata": {},
   "source": [
    "Как видно, люди из группы `гражданский брак` в большинстве берут кредит на свадьбу. Возможно, после нее они перейдут в группу `женат / замужем` и станут более надежными клиентами."
   ]
  },
  {
   "cell_type": "code",
   "execution_count": 53,
   "metadata": {},
   "outputs": [
    {
     "data": {
      "text/plain": [
       "недвижимость    937\n",
       "жилье           659\n",
       "автомобиль      637\n",
       "образование     577\n",
       "Name: purpose_group, dtype: int64"
      ]
     },
     "execution_count": 53,
     "metadata": {},
     "output_type": "execute_result"
    }
   ],
   "source": [
    "data[data['family_status'] == 'не женат / не замужем']['purpose_group'].value_counts()"
   ]
  },
  {
   "cell_type": "markdown",
   "metadata": {},
   "source": [
    "В данном случае сделать какие-то однозначные выводы сложно."
   ]
  },
  {
   "cell_type": "markdown",
   "metadata": {},
   "source": [
    "**Вывод**"
   ]
  },
  {
   "cell_type": "markdown",
   "metadata": {},
   "source": [
    "Зависимость действительно есть. Люди, которые *состоят* или *состояли в браке* более надежные клиенты. Люди из категории в `гражданском браке`, хотя и менее надежны, но чаще всего берут кредит на *свадьбу*. Люди из группы `не женат / не замужем` являются *наименее привлекательными* для банка исходя из этих данных."
   ]
  },
  {
   "cell_type": "markdown",
   "metadata": {},
   "source": [
    "<h3> Есть ли зависимость между уровнем дохода и возвратом кредита в срок? </h3><a id=p></a>"
   ]
  },
  {
   "cell_type": "markdown",
   "metadata": {},
   "source": [
    "Применим функцию `statistics` к столбцу `income_group`:"
   ]
  },
  {
   "cell_type": "code",
   "execution_count": 54,
   "metadata": {},
   "outputs": [
    {
     "name": "stdout",
     "output_type": "stream",
     "text": [
      "Уровень дохода          | Возврат кредита в срок\n",
      "------------------------------------------------\n",
      "высокий                 |          92.9%\n",
      "низкий                  |          92.0%\n",
      "выше среднего           |          91.5%\n",
      "ниже среднего           |          91.2%\n"
     ]
    }
   ],
   "source": [
    "print('Уровень дохода          | Возврат кредита в срок')\n",
    "statistics('income_group')"
   ]
  },
  {
   "cell_type": "markdown",
   "metadata": {},
   "source": [
    "Удивительно, что люди крайних групп оказались наиболее надежными клиентами, в отличие от \"среднего класса\". Проанализируем две крайние группы на предмет цели кредита:"
   ]
  },
  {
   "cell_type": "code",
   "execution_count": 55,
   "metadata": {},
   "outputs": [
    {
     "data": {
      "text/plain": [
       "недвижимость    1633\n",
       "автомобиль      1155\n",
       "жилье           1079\n",
       "образование     1024\n",
       "свадьба          588\n",
       "Name: purpose_group, dtype: int64"
      ]
     },
     "execution_count": 55,
     "metadata": {},
     "output_type": "execute_result"
    }
   ],
   "source": [
    "data[data['income_group'] == 'ниже среднего']['purpose_group'].value_counts()"
   ]
  },
  {
   "cell_type": "code",
   "execution_count": 56,
   "metadata": {},
   "outputs": [
    {
     "data": {
      "text/plain": [
       "недвижимость    1607\n",
       "жилье           1147\n",
       "автомобиль      1089\n",
       "образование      944\n",
       "свадьба          576\n",
       "Name: purpose_group, dtype: int64"
      ]
     },
     "execution_count": 56,
     "metadata": {},
     "output_type": "execute_result"
    }
   ],
   "source": [
    "data[data['income_group'] == 'высокий']['purpose_group'].value_counts()"
   ]
  },
  {
   "cell_type": "markdown",
   "metadata": {},
   "source": [
    "По результатам можно сделать выводы, что цели кредитов в группе с `высоким` и `низким` заработком практически одинаковые."
   ]
  },
  {
   "cell_type": "markdown",
   "metadata": {},
   "source": [
    "**Вывод**"
   ]
  },
  {
   "cell_type": "markdown",
   "metadata": {},
   "source": [
    "Наилучшими клиентами для банка являются люди либо с высоким, либо с низким доходом. Цели их кредитов в целом тоже идентичны. Люди со *средним* доходом менее надежны."
   ]
  },
  {
   "cell_type": "markdown",
   "metadata": {},
   "source": [
    "<h3> Как разные цели кредита влияют на его возврат в срок? </h3><a id=q></a>"
   ]
  },
  {
   "cell_type": "markdown",
   "metadata": {},
   "source": [
    "Применим функцию `statistics` к столбцу `purpose_group`:"
   ]
  },
  {
   "cell_type": "code",
   "execution_count": 57,
   "metadata": {},
   "outputs": [
    {
     "name": "stdout",
     "output_type": "stream",
     "text": [
      "Цель кредита            | Возврат кредита в срок\n",
      "------------------------------------------------\n",
      "жилье                   |          93.1%\n",
      "недвижимость            |          92.5%\n",
      "свадьба                 |          92.0%\n",
      "образование             |          90.8%\n",
      "автомобиль              |          90.6%\n"
     ]
    }
   ],
   "source": [
    "print('Цель кредита            | Возврат кредита в срок')\n",
    "statistics('purpose_group')"
   ]
  },
  {
   "cell_type": "markdown",
   "metadata": {},
   "source": [
    "**Вывод**"
   ]
  },
  {
   "cell_type": "markdown",
   "metadata": {},
   "source": [
    "Особых аномалий не наблюдается. Выше возврат кредита при покупке *недвижимости/жилья*, далее идет *свадьба*, люди из этой группы фигурировали в предыдущих выводах. Необходимо больше данных для более глубокого изучения этой группы людей."
   ]
  },
  {
   "cell_type": "markdown",
   "metadata": {},
   "source": [
    "<h3> Проверим выдвинутую нами гипотезу о том, что наиболее кредитоспособный возраст лежит в диапазоне 21-50 лет. </h3><a id=r></a>"
   ]
  },
  {
   "cell_type": "code",
   "execution_count": 58,
   "metadata": {
    "scrolled": true
   },
   "outputs": [
    {
     "name": "stdout",
     "output_type": "stream",
     "text": [
      "Возрастная группа       | Возврат кредита в срок\n",
      "------------------------------------------------\n",
      "пенсионеры              |          95.0%\n",
      "50-56.5(61.5)           |          93.2%\n",
      "18-21                   |          92.3%\n",
      "35-50                   |          92.0%\n",
      "21-35                   |          89.1%\n"
     ]
    }
   ],
   "source": [
    "print('Возрастная группа       | Возврат кредита в срок')\n",
    "statistics('age_group')"
   ]
  },
  {
   "cell_type": "markdown",
   "metadata": {},
   "source": [
    "Очень неожиданно, но эта гипотеза не подтвердилась. Однако можно наблюдать, что пенсионеры являются лучшей группой по отсутствию задолженностей. Посмотрим цели получения кредита."
   ]
  },
  {
   "cell_type": "code",
   "execution_count": 59,
   "metadata": {
    "scrolled": true
   },
   "outputs": [
    {
     "data": {
      "text/plain": [
       "недвижимость    981\n",
       "автомобиль      700\n",
       "образование     666\n",
       "жилье           655\n",
       "свадьба         365\n",
       "Name: purpose_group, dtype: int64"
      ]
     },
     "execution_count": 59,
     "metadata": {},
     "output_type": "execute_result"
    }
   ],
   "source": [
    "data[data['age_group'] =='пенсионеры']['purpose_group'].value_counts()"
   ]
  },
  {
   "cell_type": "code",
   "execution_count": 60,
   "metadata": {},
   "outputs": [
    {
     "data": {
      "text/plain": [
       "недвижимость    981\n",
       "автомобиль      700\n",
       "образование     666\n",
       "жилье           655\n",
       "свадьба         365\n",
       "Name: purpose_group, dtype: int64"
      ]
     },
     "execution_count": 60,
     "metadata": {},
     "output_type": "execute_result"
    }
   ],
   "source": [
    "data[data['age_group'] =='пенсионеры']['purpose_group'].value_counts()"
   ]
  },
  {
   "cell_type": "markdown",
   "metadata": {},
   "source": [
    "Интересным наблюдением можно считать, что в данном случае *жилье* находится не после недвижимости, как в предыдущих случаях. *Недвижимость* и *свадьба* находятся на краях со значительным отрывом."
   ]
  },
  {
   "cell_type": "markdown",
   "metadata": {},
   "source": [
    "<h2> Шаг 4. Общий вывод </h2><a id=s></a>"
   ]
  },
  {
   "cell_type": "markdown",
   "metadata": {},
   "source": [
    "Используя `pivot_table` мы можем одновременно проследить влияние **наличия детей** и **семейного положения** на возврат кредита в срок:"
   ]
  },
  {
   "cell_type": "code",
   "execution_count": 61,
   "metadata": {
    "scrolled": true
   },
   "outputs": [
    {
     "data": {
      "text/html": [
       "<div>\n",
       "<style scoped>\n",
       "    .dataframe tbody tr th:only-of-type {\n",
       "        vertical-align: middle;\n",
       "    }\n",
       "\n",
       "    .dataframe tbody tr th {\n",
       "        vertical-align: top;\n",
       "    }\n",
       "\n",
       "    .dataframe thead th {\n",
       "        text-align: right;\n",
       "    }\n",
       "</style>\n",
       "<table border=\"1\" class=\"dataframe\">\n",
       "  <thead>\n",
       "    <tr style=\"text-align: right;\">\n",
       "      <th>children_group</th>\n",
       "      <th>несколько детей</th>\n",
       "      <th>нет детей</th>\n",
       "      <th>один ребенок</th>\n",
       "    </tr>\n",
       "    <tr>\n",
       "      <th>family_status</th>\n",
       "      <th></th>\n",
       "      <th></th>\n",
       "      <th></th>\n",
       "    </tr>\n",
       "  </thead>\n",
       "  <tbody>\n",
       "    <tr>\n",
       "      <td>в разводе</td>\n",
       "      <td>0.094737</td>\n",
       "      <td>0.070153</td>\n",
       "      <td>0.066456</td>\n",
       "    </tr>\n",
       "    <tr>\n",
       "      <td>вдовец / вдова</td>\n",
       "      <td>0.096774</td>\n",
       "      <td>0.062574</td>\n",
       "      <td>0.086420</td>\n",
       "    </tr>\n",
       "    <tr>\n",
       "      <td>гражданский брак</td>\n",
       "      <td>0.097387</td>\n",
       "      <td>0.083914</td>\n",
       "      <td>0.118000</td>\n",
       "    </tr>\n",
       "    <tr>\n",
       "      <td>женат / замужем</td>\n",
       "      <td>0.089984</td>\n",
       "      <td>0.069095</td>\n",
       "      <td>0.082224</td>\n",
       "    </tr>\n",
       "    <tr>\n",
       "      <td>не женат / не замужем</td>\n",
       "      <td>0.127660</td>\n",
       "      <td>0.092838</td>\n",
       "      <td>0.114537</td>\n",
       "    </tr>\n",
       "  </tbody>\n",
       "</table>\n",
       "</div>"
      ],
      "text/plain": [
       "children_group         несколько детей  нет детей  один ребенок\n",
       "family_status                                                  \n",
       "в разводе                     0.094737   0.070153      0.066456\n",
       "вдовец / вдова                0.096774   0.062574      0.086420\n",
       "гражданский брак              0.097387   0.083914      0.118000\n",
       "женат / замужем               0.089984   0.069095      0.082224\n",
       "не женат / не замужем         0.127660   0.092838      0.114537"
      ]
     },
     "execution_count": 61,
     "metadata": {},
     "output_type": "execute_result"
    }
   ],
   "source": [
    "data.pivot_table(index=['family_status'],columns='children_group',values='credit_debt',aggfunc='mean')"
   ]
  },
  {
   "cell_type": "markdown",
   "metadata": {},
   "source": [
    "а также **уровня дохода** и **цели кредита**:"
   ]
  },
  {
   "cell_type": "code",
   "execution_count": 62,
   "metadata": {},
   "outputs": [
    {
     "data": {
      "text/html": [
       "<div>\n",
       "<style scoped>\n",
       "    .dataframe tbody tr th:only-of-type {\n",
       "        vertical-align: middle;\n",
       "    }\n",
       "\n",
       "    .dataframe tbody tr th {\n",
       "        vertical-align: top;\n",
       "    }\n",
       "\n",
       "    .dataframe thead th {\n",
       "        text-align: right;\n",
       "    }\n",
       "</style>\n",
       "<table border=\"1\" class=\"dataframe\">\n",
       "  <thead>\n",
       "    <tr style=\"text-align: right;\">\n",
       "      <th>purpose_group</th>\n",
       "      <th>автомобиль</th>\n",
       "      <th>жилье</th>\n",
       "      <th>недвижимость</th>\n",
       "      <th>образование</th>\n",
       "      <th>свадьба</th>\n",
       "    </tr>\n",
       "    <tr>\n",
       "      <th>income_group</th>\n",
       "      <th></th>\n",
       "      <th></th>\n",
       "      <th></th>\n",
       "      <th></th>\n",
       "      <th></th>\n",
       "    </tr>\n",
       "  </thead>\n",
       "  <tbody>\n",
       "    <tr>\n",
       "      <td>высокий</td>\n",
       "      <td>0.085399</td>\n",
       "      <td>0.057541</td>\n",
       "      <td>0.074673</td>\n",
       "      <td>0.079449</td>\n",
       "      <td>0.050347</td>\n",
       "    </tr>\n",
       "    <tr>\n",
       "      <td>выше среднего</td>\n",
       "      <td>0.103143</td>\n",
       "      <td>0.074640</td>\n",
       "      <td>0.076478</td>\n",
       "      <td>0.093719</td>\n",
       "      <td>0.084229</td>\n",
       "    </tr>\n",
       "    <tr>\n",
       "      <td>ниже среднего</td>\n",
       "      <td>0.090043</td>\n",
       "      <td>0.081557</td>\n",
       "      <td>0.076546</td>\n",
       "      <td>0.107422</td>\n",
       "      <td>0.095238</td>\n",
       "    </tr>\n",
       "    <tr>\n",
       "      <td>низкий</td>\n",
       "      <td>0.096743</td>\n",
       "      <td>0.063280</td>\n",
       "      <td>0.070785</td>\n",
       "      <td>0.087332</td>\n",
       "      <td>0.089701</td>\n",
       "    </tr>\n",
       "  </tbody>\n",
       "</table>\n",
       "</div>"
      ],
      "text/plain": [
       "purpose_group  автомобиль     жилье  недвижимость  образование   свадьба\n",
       "income_group                                                            \n",
       "высокий          0.085399  0.057541      0.074673     0.079449  0.050347\n",
       "выше среднего    0.103143  0.074640      0.076478     0.093719  0.084229\n",
       "ниже среднего    0.090043  0.081557      0.076546     0.107422  0.095238\n",
       "низкий           0.096743  0.063280      0.070785     0.087332  0.089701"
      ]
     },
     "execution_count": 62,
     "metadata": {},
     "output_type": "execute_result"
    }
   ],
   "source": [
    "data.pivot_table(index=['income_group'],columns='purpose_group',values='credit_debt',aggfunc='mean')"
   ]
  },
  {
   "cell_type": "markdown",
   "metadata": {},
   "source": [
    "Анализируя сводные данные можно сделать вывод, что идеальный клиент это ***вдовец/вдова с высоким достатком не имеющий детей и планирующий свадьбу.*** Однако нельзя делать вывод исходя только из этих данных, поэтому:"
   ]
  },
  {
   "cell_type": "markdown",
   "metadata": {},
   "source": [
    "**Суммируем выводы:**\n",
    "\n",
    "***Идеальный клиент***: состоит или состоял в браке, не имеет детей, планирует приобретать недвижимость, имеет высокий доход.\n",
    "\n",
    "Вполне закономерный вывод, человек в отношениях без детей, стремящийся приобрести недвижимость, чувствует ответственность и рационально распределяет доход. Однако люди, берущие кредит на свадьбу, но удовлетворяющие остальным критериям, являются хорошими клиентами. Анализ показал также, что люди удовлетворяющие критериям, но имеющие низкий доход, также являются хорошими клиентами, однако они находятся в зоне риска, особенно люди предпенсионного возраста.\n",
    "\n",
    "\n",
    "***Нежелательный клиент***: не имеет постоянных отношений, имеет одного и более детей, планирует приобретать автомобиль, имеет средний доход.\n"
   ]
  },
  {
   "cell_type": "markdown",
   "metadata": {},
   "source": [
    "\n",
    "<div class=\"alert alert-block alert-success\">\n",
    "<b>Success:</b> хороший, очень содержатеьный общий вывод! Отличная работа :)"
   ]
  },
  {
   "cell_type": "markdown",
   "metadata": {},
   "source": [
    "<h2> Чек-лист готовности проекта </h2><a id=t></a>\n",
    "\n",
    "Поставьте 'x' в выполненных пунктах. Далее нажмите Shift+Enter."
   ]
  },
  {
   "cell_type": "markdown",
   "metadata": {},
   "source": [
    "- [x]  открыт файл;\n",
    "- [x]  файл изучен;\n",
    "- [x]  определены пропущенные значения;\n",
    "- [x]  заполнены пропущенные значения;\n",
    "- [x]  есть пояснение, какие пропущенные значения обнаружены;\n",
    "- [x]  описаны возможные причины появления пропусков в данных;\n",
    "- [x]  объяснено, по какому принципу заполнены пропуски;\n",
    "- [x]  заменен вещественный тип данных на целочисленный;\n",
    "- [x]  есть пояснение, какой метод используется для изменения типа данных и почему;\n",
    "- [x]  удалены дубликаты;\n",
    "- [x]  есть пояснение, какой метод используется для поиска и удаления дубликатов;\n",
    "- [x]  описаны возможные причины появления дубликатов в данных;\n",
    "- [x]  выделены леммы в значениях столбца с целями получения кредита;\n",
    "- [x]  описан процесс лемматизации;\n",
    "- [x]  данные категоризированы;\n",
    "- [x]  есть объяснение принципа категоризации данных;\n",
    "- [x]  есть ответ на вопрос: \"Есть ли зависимость между наличием детей и возвратом кредита в срок?\";\n",
    "- [x]  есть ответ на вопрос: \"Есть ли зависимость между семейным положением и возвратом кредита в срок?\";\n",
    "- [x]  есть ответ на вопрос: \"Есть ли зависимость между уровнем дохода и возвратом кредита в срок?\";\n",
    "- [x]  есть ответ на вопрос: \"Как разные цели кредита влияют на его возврат в срок?\";\n",
    "- [x]  в каждом этапе есть выводы;\n",
    "- [x]  есть общий вывод."
   ]
  }
 ],
 "metadata": {
  "kernelspec": {
   "display_name": "Python 3 (ipykernel)",
   "language": "python",
   "name": "python3"
  },
  "language_info": {
   "codemirror_mode": {
    "name": "ipython",
    "version": 3
   },
   "file_extension": ".py",
   "mimetype": "text/x-python",
   "name": "python",
   "nbconvert_exporter": "python",
   "pygments_lexer": "ipython3",
   "version": "3.9.5"
  },
  "toc": {
   "base_numbering": 1,
   "nav_menu": {},
   "number_sections": true,
   "sideBar": true,
   "skip_h1_title": true,
   "title_cell": "Table of Contents",
   "title_sidebar": "Contents",
   "toc_cell": false,
   "toc_position": {},
   "toc_section_display": true,
   "toc_window_display": false
  }
 },
 "nbformat": 4,
 "nbformat_minor": 2
}
