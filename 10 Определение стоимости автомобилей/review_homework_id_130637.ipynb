{
 "cells": [
  {
   "cell_type": "markdown",
   "metadata": {},
   "source": [
    "# Определение стоимости автомобилей"
   ]
  },
  {
   "cell_type": "markdown",
   "metadata": {},
   "source": [
    "Сервис по продаже автомобилей с пробегом «Не бит, не крашен» разрабатывает приложение для привлечения новых клиентов. В нём можно быстро узнать рыночную стоимость своего автомобиля. В вашем распоряжении исторические данные: технические характеристики, комплектации и цены автомобилей. Вам нужно построить модель для определения стоимости. \n",
    "\n",
    "Заказчику важны:\n",
    "\n",
    "- качество предсказания;\n",
    "- скорость предсказания;\n",
    "- время обучения."
   ]
  },
  {
   "cell_type": "markdown",
   "metadata": {
    "toc": true
   },
   "source": [
    "<h1>Содержание<span class=\"tocSkip\"></span></h1>\n",
    "<div class=\"toc\"><ul class=\"toc-item\"><li><span><a href=\"#Подготовка-данных\" data-toc-modified-id=\"Подготовка-данных-1\"><span class=\"toc-item-num\">1&nbsp;&nbsp;</span>Подготовка данных</a></span></li><li><span><a href=\"#Обучение-моделей\" data-toc-modified-id=\"Обучение-моделей-2\"><span class=\"toc-item-num\">2&nbsp;&nbsp;</span>Обучение моделей</a></span><ul class=\"toc-item\"><li><span><a href=\"#Модели-с-базовыми-гиперпараметрами\" data-toc-modified-id=\"Модели-с-базовыми-гиперпараметрами-2.1\"><span class=\"toc-item-num\">2.1&nbsp;&nbsp;</span>Модели с базовыми гиперпараметрами</a></span><ul class=\"toc-item\"><li><span><a href=\"#CatBoostRegressor\" data-toc-modified-id=\"CatBoostRegressor-2.1.1\"><span class=\"toc-item-num\">2.1.1&nbsp;&nbsp;</span>CatBoostRegressor</a></span></li><li><span><a href=\"#LGBMRegressor\" data-toc-modified-id=\"LGBMRegressor-2.1.2\"><span class=\"toc-item-num\">2.1.2&nbsp;&nbsp;</span>LGBMRegressor</a></span></li><li><span><a href=\"#LinearRegression\" data-toc-modified-id=\"LinearRegression-2.1.3\"><span class=\"toc-item-num\">2.1.3&nbsp;&nbsp;</span>LinearRegression</a></span></li></ul></li><li><span><a href=\"#Модели-с-подбраными-гиперпараметрами\" data-toc-modified-id=\"Модели-с-подбраными-гиперпараметрами-2.2\"><span class=\"toc-item-num\">2.2&nbsp;&nbsp;</span>Модели с подбраными гиперпараметрами</a></span><ul class=\"toc-item\"><li><span><a href=\"#CatBoostRegressor\" data-toc-modified-id=\"CatBoostRegressor-2.2.1\"><span class=\"toc-item-num\">2.2.1&nbsp;&nbsp;</span>CatBoostRegressor</a></span></li><li><span><a href=\"#LGBMRegressor\" data-toc-modified-id=\"LGBMRegressor-2.2.2\"><span class=\"toc-item-num\">2.2.2&nbsp;&nbsp;</span>LGBMRegressor</a></span></li></ul></li></ul></li><li><span><a href=\"#Анализ-моделей\" data-toc-modified-id=\"Анализ-моделей-3\"><span class=\"toc-item-num\">3&nbsp;&nbsp;</span>Анализ моделей</a></span></li><li><span><a href=\"#Чек-лист-проверки\" data-toc-modified-id=\"Чек-лист-проверки-4\"><span class=\"toc-item-num\">4&nbsp;&nbsp;</span>Чек-лист проверки</a></span></li></ul></div>"
   ]
  },
  {
   "cell_type": "markdown",
   "metadata": {},
   "source": [
    "# Описание данных\n",
    "\n",
    "**Признаки**\n",
    "\n",
    "* *`DateCrawled`* — дата скачивания анкеты из базы\n",
    "\n",
    "* *`VehicleType`* — тип автомобильного кузова\n",
    "\n",
    "* *`RegistrationYear`* — год регистрации автомобиля\n",
    "\n",
    "* *`Gearbox`* — тип коробки передач\n",
    "\n",
    "* *`Power`* — мощность (л. с.)\n",
    "\n",
    "* *`Model`* — модель автомобиля\n",
    "\n",
    "* *`Kilometer`* — пробег (км)\n",
    "\n",
    "* *`RegistrationMonth`* — месяц регистрации автомобиля\n",
    "\n",
    "* *`FuelType`* — тип топлива\n",
    "\n",
    "* *`Brand`* — марка автомобиля\n",
    "\n",
    "* *`NotRepaired`* — была машина в ремонте или нет\n",
    "\n",
    "* *`DateCreated`* — дата создания анкеты\n",
    "\n",
    "* *`NumberOfPictures`* — количество фотографий автомобиля\n",
    "\n",
    "* *`PostalCode`* — почтовый индекс владельца анкеты (пользователя)\n",
    "\n",
    "* *`LastSeen`* — дата последней активности пользователя\n",
    "\n",
    "**Целевой признак**\n",
    "\n",
    "* *`Price`* — цена (евро)"
   ]
  },
  {
   "cell_type": "markdown",
   "metadata": {},
   "source": [
    "## Подготовка данных"
   ]
  },
  {
   "cell_type": "code",
   "execution_count": null,
   "metadata": {},
   "outputs": [],
   "source": [
    "import pandas as pd\n",
    "import numpy as np\n",
    "import time\n",
    "from sklearn.linear_model import LinearRegression\n",
    "from catboost import CatBoostRegressor\n",
    "import lightgbm as lgb\n",
    "from sklearn.pipeline import Pipeline\n",
    "from sklearn.metrics import mean_squared_error\n",
    "from sklearn.model_selection import train_test_split\n",
    "from sklearn.model_selection import KFold, GridSearchCV\n",
    "from sklearn.model_selection import StratifiedKFold\n",
    "from sklearn.preprocessing import StandardScaler, OrdinalEncoder\n",
    "import plotly.graph_objs as go\n",
    "from plotly.offline import iplot\n",
    "import matplotlib.pyplot as plt\n",
    "import seaborn as sns"
   ]
  },
  {
   "cell_type": "code",
   "execution_count": null,
   "metadata": {},
   "outputs": [],
   "source": [
    "df = pd.read_csv('/datasets/autos.csv')"
   ]
  },
  {
   "cell_type": "code",
   "execution_count": null,
   "metadata": {},
   "outputs": [],
   "source": [
    "df.head(5)"
   ]
  },
  {
   "cell_type": "code",
   "execution_count": null,
   "metadata": {},
   "outputs": [],
   "source": [
    "df.info()"
   ]
  },
  {
   "cell_type": "code",
   "execution_count": null,
   "metadata": {},
   "outputs": [],
   "source": [
    "df.describe()"
   ]
  },
  {
   "cell_type": "code",
   "execution_count": null,
   "metadata": {},
   "outputs": [],
   "source": [
    "df.isna().sum()"
   ]
  },
  {
   "cell_type": "code",
   "execution_count": null,
   "metadata": {},
   "outputs": [],
   "source": [
    "df.duplicated().sum()"
   ]
  },
  {
   "cell_type": "markdown",
   "metadata": {},
   "source": [
    "Удалим дубликаты:"
   ]
  },
  {
   "cell_type": "code",
   "execution_count": null,
   "metadata": {},
   "outputs": [],
   "source": [
    "df.drop_duplicates(inplace = True)"
   ]
  },
  {
   "cell_type": "markdown",
   "metadata": {},
   "source": [
    "Удалим столбцы с датами:"
   ]
  },
  {
   "cell_type": "code",
   "execution_count": null,
   "metadata": {},
   "outputs": [],
   "source": [
    "df = df.drop(['DateCrawled', 'DateCreated', 'LastSeen'], axis = 1)"
   ]
  },
  {
   "cell_type": "markdown",
   "metadata": {},
   "source": [
    "Создадим список со столбцами с количественными значениями:"
   ]
  },
  {
   "cell_type": "code",
   "execution_count": null,
   "metadata": {},
   "outputs": [],
   "source": [
    "int_feat = ['Price', 'RegistrationYear', 'Power', 'Kilometer', 'RegistrationMonth']"
   ]
  },
  {
   "cell_type": "markdown",
   "metadata": {},
   "source": [
    "Посмотрим категории в категориальных столбцах:"
   ]
  },
  {
   "cell_type": "code",
   "execution_count": null,
   "metadata": {},
   "outputs": [],
   "source": [
    "for col in df.columns:\n",
    "    if col not in int_feat:\n",
    "        print(col)\n",
    "        print(df[col].value_counts())\n",
    "        print()"
   ]
  },
  {
   "cell_type": "markdown",
   "metadata": {},
   "source": [
    "Напишем функцию для просмотра распределений количественных столбцов:"
   ]
  },
  {
   "cell_type": "code",
   "execution_count": null,
   "metadata": {},
   "outputs": [],
   "source": [
    "def hist_plotly(df, hist_type):\n",
    "    traces = []\n",
    "    for feat in int_feat:\n",
    "        traces.append(\n",
    "            hist_type(x = df[feat],\n",
    "                   name = feat,\n",
    "                   visible=(feat == 'Price')\n",
    "                        )\n",
    "        )\n",
    "    \n",
    "    layout = go.Layout(\n",
    "        title='Распределение событий',\n",
    "        template='plotly_white',\n",
    "        legend=dict(\n",
    "            orientation=\"h\"),\n",
    "        updatemenus=list([\n",
    "            dict(\n",
    "                type=\"buttons\",\n",
    "                x=-0.05,\n",
    "                y=1.05,\n",
    "                direction=\"right\",\n",
    "                showactive=True,\n",
    "                xanchor=\"left\",\n",
    "                buttons=list([\n",
    "                    dict(\n",
    "                        args=['visible', [True]*1 + [False]*6],\n",
    "                        label=int_feat[0],\n",
    "                        method='restyle'\n",
    "                    ),\n",
    "                    dict(\n",
    "                        args=['visible', [False]*1 + [True]*1 + [False]*5],\n",
    "                        label=int_feat[1],\n",
    "                        method='restyle'\n",
    "                    ),\n",
    "                    dict(\n",
    "                        args=['visible', [False]*2 + [True]*1 + [False]*4],\n",
    "                        label=int_feat[2],\n",
    "                        method='restyle'\n",
    "                    ),\n",
    "                    dict(\n",
    "                        args=['visible', [False]*3 + [True]*1 + [False]*3],\n",
    "                        label=int_feat[3],\n",
    "                        method='restyle'\n",
    "                    ),\n",
    "                    dict(\n",
    "                        args=['visible', [False]*4 + [True]*1 + [False]*2],\n",
    "                        label=int_feat[4],\n",
    "                        method='restyle'\n",
    "                    )\n",
    "                ]),\n",
    "            )\n",
    "        ]),\n",
    "    )\n",
    "\n",
    "    fig = {'data': traces, 'layout': layout}\n",
    "    iplot(fig, show_link=False)"
   ]
  },
  {
   "cell_type": "markdown",
   "metadata": {},
   "source": [
    "Посмотрим распределение в исходных данных:"
   ]
  },
  {
   "cell_type": "code",
   "execution_count": null,
   "metadata": {},
   "outputs": [],
   "source": [
    "hist_plotly(df, go.Box) # go.Box, go.Histogram"
   ]
  },
  {
   "cell_type": "markdown",
   "metadata": {},
   "source": [
    "Напишем функцию для очистки данных по квантилям:"
   ]
  },
  {
   "cell_type": "code",
   "execution_count": null,
   "metadata": {},
   "outputs": [],
   "source": [
    "def filter_data(df, column):\n",
    "    stat = df[column].describe()\n",
    "    iqr = stat[6] - stat[4] \n",
    "    left_whisker = round(stat[4] - 1.5 * iqr, 2)\n",
    "    right_whisker = round(stat[6] + 1.5 * iqr, 2)\n",
    "    if left_whisker < stat[3]: left_whisker = stat[3] \n",
    "    if right_whisker > stat[7]: right_whisker = stat[7]\n",
    "    return [left_whisker, right_whisker]"
   ]
  },
  {
   "cell_type": "markdown",
   "metadata": {},
   "source": [
    "Применим функцию к нашим данным, результаты сохраним в переменной *`train_df_clear`*:"
   ]
  },
  {
   "cell_type": "code",
   "execution_count": null,
   "metadata": {},
   "outputs": [],
   "source": [
    "train_df_clear = pd.DataFrame()\n",
    "for row in df:\n",
    "    try:\n",
    "        train_df_clear[row] = df.loc[(df[row] >= filter_data(df, row)[0]) & (df[row] <= filter_data(df, row)[1])][row]\n",
    "    except:\n",
    "        train_df_clear[row] = df[row]"
   ]
  },
  {
   "cell_type": "markdown",
   "metadata": {},
   "source": [
    "Присвоим категориальным данным тип *`category`*:"
   ]
  },
  {
   "cell_type": "code",
   "execution_count": null,
   "metadata": {},
   "outputs": [],
   "source": [
    "train_df_clear[['VehicleType','Gearbox','Model','FuelType','Brand','NotRepaired']] = train_df_clear[['VehicleType','Gearbox','Model','FuelType','Brand','NotRepaired']].astype('category')"
   ]
  },
  {
   "cell_type": "code",
   "execution_count": null,
   "metadata": {},
   "outputs": [],
   "source": [
    "train_df_clear.dropna(inplace=True)\n",
    "train_df_clear.head(5)"
   ]
  },
  {
   "cell_type": "markdown",
   "metadata": {},
   "source": [
    "Построим гистограммы распределения для подготовленных данных:"
   ]
  },
  {
   "cell_type": "code",
   "execution_count": null,
   "metadata": {},
   "outputs": [],
   "source": [
    "hist_plotly(train_df_clear, go.Box) # go.Box, go.Histogram"
   ]
  },
  {
   "cell_type": "code",
   "execution_count": null,
   "metadata": {},
   "outputs": [],
   "source": [
    "plt.figure(figsize=(15,10))\n",
    "sns.heatmap(train_df_clear.corr(), annot=True, fmt='.2f')\n",
    "plt.show()"
   ]
  },
  {
   "cell_type": "markdown",
   "metadata": {},
   "source": [
    "**Выводы:**\n",
    "\n",
    "1. Категориальные данные не содержат ошибок, но содержат пропуски. Объем данных позволят нам удалить их.\n",
    "2. Количественные данные имеют много выбросов, мы удалили их по квантилям.\n",
    "3. В данных всего несколько дубликатов.\n",
    "4. Существует небольшая корреляция в данных между годом регистрации/ценой, мощностью/ценой и брендом/моделью. Корреляция незначительная и не должна повлиять на качество обучения моделей. "
   ]
  },
  {
   "cell_type": "markdown",
   "metadata": {},
   "source": [
    "## Обучение моделей"
   ]
  },
  {
   "cell_type": "markdown",
   "metadata": {},
   "source": [
    "### Модели с базовыми гиперпараметрами"
   ]
  },
  {
   "cell_type": "markdown",
   "metadata": {},
   "source": [
    "Выделим из данных целевой признак:"
   ]
  },
  {
   "cell_type": "code",
   "execution_count": null,
   "metadata": {},
   "outputs": [],
   "source": [
    "features = train_df_clear.drop(['Price'], axis = 1)\n",
    "target = train_df_clear['Price']"
   ]
  },
  {
   "cell_type": "markdown",
   "metadata": {},
   "source": [
    "Разделим данные на обучающую и тестовую выборки:"
   ]
  },
  {
   "cell_type": "code",
   "execution_count": null,
   "metadata": {},
   "outputs": [],
   "source": [
    "features_train, features_test, target_train, target_test = train_test_split(\n",
    "    features, \n",
    "    target, \n",
    "    test_size = 0.25, \n",
    "    random_state = 12345)"
   ]
  },
  {
   "cell_type": "markdown",
   "metadata": {},
   "source": [
    "Сформируем список категориальных столбцов:"
   ]
  },
  {
   "cell_type": "code",
   "execution_count": null,
   "metadata": {},
   "outputs": [],
   "source": [
    "category_feat = features.select_dtypes('category').columns.tolist()"
   ]
  },
  {
   "cell_type": "markdown",
   "metadata": {},
   "source": [
    "#### CatBoostRegressor"
   ]
  },
  {
   "cell_type": "markdown",
   "metadata": {},
   "source": [
    "Исследуем модель **CatBoostRegressor** без подбора гиперпараметров:"
   ]
  },
  {
   "cell_type": "code",
   "execution_count": null,
   "metadata": {},
   "outputs": [],
   "source": [
    "model_cat = CatBoostRegressor(loss_function='RMSE', random_state=12345)\n",
    "\n",
    "start = time.time()\n",
    "\n",
    "cat = model_cat.fit(features_train,\n",
    "                    target_train,\n",
    "                    cat_features = category_feat,\n",
    "                    verbose=False\n",
    "                   )\n",
    "\n",
    "finish = time.time()\n",
    "time_cat = finish - start\n",
    "\n",
    "predict_cat = model_cat.predict(features_test)\n",
    "rmse_cat = np.sqrt(mean_squared_error(predict_cat, target_test))\n",
    "\n",
    "print('RMSE: ', rmse_cat)\n",
    "print('Time: ', time_cat)"
   ]
  },
  {
   "cell_type": "markdown",
   "metadata": {},
   "source": [
    "#### LGBMRegressor"
   ]
  },
  {
   "cell_type": "markdown",
   "metadata": {},
   "source": [
    "Исследуем модель **LGBMRegressorr** без подбора гиперпараметров:"
   ]
  },
  {
   "cell_type": "code",
   "execution_count": null,
   "metadata": {},
   "outputs": [],
   "source": [
    "model_lgb = lgb.LGBMRegressor(random_state=12345)\n",
    "\n",
    "start = time.time()\n",
    "\n",
    "lgb = model_lgb.fit(features_train,\n",
    "                    target_train,\n",
    "                    eval_metric = 'RMSE',\n",
    "                    categorical_feature = category_feat)\n",
    "\n",
    "finish = time.time()\n",
    "time_lgb = finish - start\n",
    "\n",
    "predict_lgb = model_lgb.predict(features_test, num_iteration = model_lgb.best_iteration_)\n",
    "rmse_lgb = np.sqrt(mean_squared_error(predict_lgb, target_test))\n",
    "\n",
    "print('RMSE: ', rmse_lgb)\n",
    "print('Time: ', time_lgb)"
   ]
  },
  {
   "cell_type": "markdown",
   "metadata": {},
   "source": [
    "Появляется ошибка:\n",
    "\n",
    "*categorical_feature in Dataset is overridden.\n",
    "New categorical_feature is ['Brand', 'FuelType', 'Gearbox', 'Model', 'NotRepaired', 'VehicleType']*\n",
    "\n",
    "но я не нашел пути ее решения и не обнаружил ее влияния на обучение."
   ]
  },
  {
   "cell_type": "markdown",
   "metadata": {},
   "source": [
    "#### LinearRegression"
   ]
  },
  {
   "cell_type": "markdown",
   "metadata": {},
   "source": [
    "Закодируем категориальные столбцы с помощью *`OrdinalEncoder()`*. Пропуски заменим на **None**."
   ]
  },
  {
   "cell_type": "code",
   "execution_count": null,
   "metadata": {},
   "outputs": [],
   "source": [
    "df_encoder = train_df_clear\n",
    "df_encoder[category_feat] = df_encoder[category_feat].replace(np.nan, 'None')\n",
    "df_encoder[category_feat] = pd.DataFrame(OrdinalEncoder().fit_transform(train_df_clear[category_feat]), columns=category_feat)\n",
    "df_encoder.dropna(inplace=True)\n",
    "df_encoder.head(5)"
   ]
  },
  {
   "cell_type": "markdown",
   "metadata": {},
   "source": [
    "Выделим целевой признак и разделим данные на выборки:"
   ]
  },
  {
   "cell_type": "code",
   "execution_count": null,
   "metadata": {},
   "outputs": [],
   "source": [
    "features_encoder = df_encoder.drop(['Price'], axis = 1)\n",
    "target_encoder = df_encoder['Price']"
   ]
  },
  {
   "cell_type": "code",
   "execution_count": null,
   "metadata": {},
   "outputs": [],
   "source": [
    "features_train_encoder, features_test_encoder, target_train_encoder, target_test_encoder = train_test_split(\n",
    "    features_encoder, target_encoder, test_size = 0.25, random_state = 12345)"
   ]
  },
  {
   "cell_type": "markdown",
   "metadata": {},
   "source": [
    "Исследуем модель **LinearRegression**:"
   ]
  },
  {
   "cell_type": "code",
   "execution_count": null,
   "metadata": {},
   "outputs": [],
   "source": [
    "model_lr = LinearRegression()\n",
    "scaller = StandardScaler()\n",
    "pipeline = Pipeline([(\"standard_scaller\", scaller), (\"linear_regression\", model_lr)])\n",
    "\n",
    "start = time.time()\n",
    "\n",
    "pipeline.fit(features_train_encoder, target_train_encoder)\n",
    "\n",
    "finish = time.time()\n",
    "time_lr = finish - start\n",
    "\n",
    "predict_lr = pipeline.predict(features_test_encoder)\n",
    "rmse_lr = np.sqrt(mean_squared_error(predict_lr, target_test_encoder))\n",
    "\n",
    "print('RMSE: ', rmse_lr)\n",
    "print('Time: ', time_lr)"
   ]
  },
  {
   "cell_type": "markdown",
   "metadata": {},
   "source": [
    "**Вывод**\n",
    "\n",
    "Модели **CatBoostRegressor** и **LGBMRegressor** показывают практически идентичные результаты без подбора гиперпараметров - RMSE 1298 и 1266 соответвенно за приблизительно одинаковое время. Модель **LinearRegression** обучается значительно быстрее, но показывает скромные RMSE 2154."
   ]
  },
  {
   "cell_type": "markdown",
   "metadata": {},
   "source": [
    "### Модели с подбраными гиперпараметрами"
   ]
  },
  {
   "cell_type": "markdown",
   "metadata": {},
   "source": [
    "#### CatBoostRegressor"
   ]
  },
  {
   "cell_type": "markdown",
   "metadata": {},
   "source": [
    "Исследуем модель **CatBoostRegressor** с подобором гиперпараметров (исследованные диапазоны параметров вынесены за #):"
   ]
  },
  {
   "cell_type": "code",
   "execution_count": null,
   "metadata": {},
   "outputs": [],
   "source": [
    "param_cat = {\n",
    "    'learning_rate': [0.08], # 0.01-1\n",
    "    'iterations': [1000], # 100-1000\n",
    "    'depth': [12] # 10-20\n",
    "}\n",
    "\n",
    "cv_cat = KFold(n_splits=3,\n",
    "               shuffle=False)\n",
    "\n",
    "clf_cat = GridSearchCV(model_cat, \n",
    "                        param_cat,\n",
    "                        cv=cv_cat,\n",
    "                        scoring='neg_mean_squared_error')"
   ]
  },
  {
   "cell_type": "code",
   "execution_count": null,
   "metadata": {},
   "outputs": [],
   "source": [
    "clf_cat.fit(features_train,\n",
    "            target_train,\n",
    "            cat_features = category_feat,\n",
    "            verbose=False)\n",
    "\n",
    "print('Best Params:', clf_cat.best_params_)"
   ]
  },
  {
   "cell_type": "code",
   "execution_count": null,
   "metadata": {},
   "outputs": [],
   "source": [
    "clf_cat_best = clf_cat.best_estimator_\n",
    "\n",
    "start = time.time()\n",
    "\n",
    "clf_cat_best.fit(features_train,\n",
    "                 target_train,\n",
    "                 cat_features = category_feat,\n",
    "                 verbose=False)\n",
    "\n",
    "finish = time.time()\n",
    "time_clf_cat = finish - start\n",
    "\n",
    "predict_clf_cat = clf_cat_best.predict(features_test)\n",
    "rmse_clf_cat = np.sqrt(mean_squared_error(predict_clf_cat, target_test))\n",
    "\n",
    "print('RMSE: ', rmse_clf_cat)\n",
    "print('Time: ', time_clf_cat)"
   ]
  },
  {
   "cell_type": "markdown",
   "metadata": {},
   "source": [
    "#### LGBMRegressor"
   ]
  },
  {
   "cell_type": "markdown",
   "metadata": {},
   "source": [
    "Исследуем модель **LGBMRegressor** с подобором гиперпараметров:"
   ]
  },
  {
   "cell_type": "code",
   "execution_count": null,
   "metadata": {},
   "outputs": [],
   "source": [
    "param_lgb = {\n",
    "    'learning_rate': [0.08], #0.01-1\n",
    "    'n_estimators': [1000], # 10-1000\n",
    "    'max_depth': [12], # 1-20\n",
    "}\n",
    "\n",
    "cv_lgb = KFold(n_splits=3,\n",
    "               shuffle=False)\n",
    "\n",
    "clf_lgb = GridSearchCV(model_lgb, \n",
    "                        param_lgb,\n",
    "                        cv = cv_lgb,\n",
    "                        scoring = 'neg_mean_squared_error')"
   ]
  },
  {
   "cell_type": "code",
   "execution_count": null,
   "metadata": {},
   "outputs": [],
   "source": [
    "clf_lgb.fit(features_train,\n",
    "             target_train,\n",
    "             eval_metric = 'RMSE',\n",
    "             categorical_feature = category_feat)\n",
    "\n",
    "print('Best Params:', clf_lgb.best_params_)"
   ]
  },
  {
   "cell_type": "code",
   "execution_count": null,
   "metadata": {},
   "outputs": [],
   "source": [
    "clf_lgb_best = clf_lgb.best_estimator_\n",
    "\n",
    "start = time.time()\n",
    "\n",
    "clf_lgb_best.fit(features_train,\n",
    "                  target_train,\n",
    "                  eval_metric='RMSE')\n",
    "\n",
    "finish = time.time()\n",
    "time_clf_lgb = finish - start\n",
    "\n",
    "predict_clf_lgb = clf_lgb_best.predict(features_test)\n",
    "rmse_clf_lgb = np.sqrt(mean_squared_error(predict_clf_lgb, target_test))\n",
    "\n",
    "print('RMSE: ', rmse_clf_lgb)\n",
    "print('Time: ', time_clf_lgb)"
   ]
  },
  {
   "cell_type": "markdown",
   "metadata": {},
   "source": [
    "**Вывод**\n",
    "\n",
    "Благодаря подбору гиперпараметров удалось значительно снизить время обучения, при сохранении значений RMSE."
   ]
  },
  {
   "cell_type": "markdown",
   "metadata": {},
   "source": [
    "## Анализ моделей"
   ]
  },
  {
   "cell_type": "code",
   "execution_count": null,
   "metadata": {},
   "outputs": [],
   "source": [
    "index = ['LinearRegression', 'CatBoostRegressor', 'LGBMRegressor', 'CatBoostRegressor optimized', 'LGBMRegressor optimized']\n",
    "data = {'RMSE, евро':[rmse_lr, rmse_cat, rmse_lgb, rmse_clf_cat, rmse_clf_lgb],\n",
    "        'Время обучения, сек':[time_lr, time_cat, time_lgb, time_clf_cat, time_clf_lgb,]}\n",
    "scores_data = pd.DataFrame(data = data, index = index)\n",
    "scores_data"
   ]
  },
  {
   "cell_type": "markdown",
   "metadata": {},
   "source": [
    "**Вывод**\n",
    "\n",
    "Подбирая гиперпараметры, мы смогли немного улучшить значение RMSE, но при этом скорость обучения выросла приблизительно в 5 раз."
   ]
  },
  {
   "cell_type": "markdown",
   "metadata": {},
   "source": [
    "## Чек-лист проверки"
   ]
  },
  {
   "cell_type": "markdown",
   "metadata": {},
   "source": [
    "Поставьте 'x' в выполненных пунктах. Далее нажмите Shift+Enter."
   ]
  },
  {
   "cell_type": "markdown",
   "metadata": {},
   "source": [
    "- [x]  Jupyter Notebook открыт\n",
    "- [x]  Весь код выполняется без ошибок\n",
    "- [x]  Ячейки с кодом расположены в порядке исполнения\n",
    "- [x]  Выполнена загрузка и подготовка данных\n",
    "- [x]  Выполнено обучение моделей\n",
    "- [x]  Есть анализ скорости работы и качества моделей"
   ]
  }
 ],
 "metadata": {
  "ExecuteTimeLog": [
   {
    "duration": 730,
    "start_time": "2021-07-01T17:26:43.418Z"
   },
   {
    "duration": 1081,
    "start_time": "2021-07-01T17:26:44.151Z"
   },
   {
    "duration": 48,
    "start_time": "2021-07-01T17:26:45.235Z"
   },
   {
    "duration": 394,
    "start_time": "2021-07-01T17:27:36.214Z"
   },
   {
    "duration": 260,
    "start_time": "2021-07-01T17:27:42.694Z"
   },
   {
    "duration": 7,
    "start_time": "2021-07-01T17:27:48.373Z"
   },
   {
    "duration": 46,
    "start_time": "2021-07-01T17:28:28.804Z"
   },
   {
    "duration": 46,
    "start_time": "2021-07-01T17:28:53.476Z"
   },
   {
    "duration": 45,
    "start_time": "2021-07-01T17:29:19.460Z"
   },
   {
    "duration": 36,
    "start_time": "2021-07-01T17:32:46.862Z"
   },
   {
    "duration": 44,
    "start_time": "2021-07-01T17:33:53.477Z"
   },
   {
    "duration": 13,
    "start_time": "2021-07-01T17:34:17.780Z"
   },
   {
    "duration": 178,
    "start_time": "2021-07-01T17:39:37.269Z"
   },
   {
    "duration": 499,
    "start_time": "2021-07-01T17:39:53.261Z"
   },
   {
    "duration": 1015,
    "start_time": "2021-07-01T17:41:34.170Z"
   },
   {
    "duration": 184,
    "start_time": "2021-07-01T17:41:46.090Z"
   },
   {
    "duration": 168,
    "start_time": "2021-07-01T17:43:19.624Z"
   },
   {
    "duration": 53,
    "start_time": "2021-07-01T17:51:50.345Z"
   },
   {
    "duration": 9,
    "start_time": "2021-07-01T17:52:19.459Z"
   },
   {
    "duration": 526,
    "start_time": "2021-07-01T17:52:32.820Z"
   },
   {
    "duration": 604,
    "start_time": "2021-07-01T17:52:52.424Z"
   },
   {
    "duration": 1078,
    "start_time": "2021-07-01T17:52:58.858Z"
   },
   {
    "duration": 70,
    "start_time": "2021-07-01T18:38:33.978Z"
   },
   {
    "duration": 6,
    "start_time": "2021-07-01T18:38:40.178Z"
   },
   {
    "duration": 1047,
    "start_time": "2021-07-01T18:38:41.075Z"
   },
   {
    "duration": 52,
    "start_time": "2021-07-01T18:40:13.112Z"
   },
   {
    "duration": 6,
    "start_time": "2021-07-01T18:40:13.561Z"
   },
   {
    "duration": 950,
    "start_time": "2021-07-01T18:40:14.216Z"
   },
   {
    "duration": 273,
    "start_time": "2021-07-01T18:43:16.203Z"
   },
   {
    "duration": 4,
    "start_time": "2021-07-01T18:43:43.153Z"
   },
   {
    "duration": 302,
    "start_time": "2021-07-01T18:43:43.659Z"
   },
   {
    "duration": 219,
    "start_time": "2021-07-01T18:44:09.299Z"
   },
   {
    "duration": 756,
    "start_time": "2021-07-01T18:44:11.779Z"
   },
   {
    "duration": 4,
    "start_time": "2021-07-01T18:45:39.032Z"
   },
   {
    "duration": 34,
    "start_time": "2021-07-01T18:45:39.393Z"
   },
   {
    "duration": 154,
    "start_time": "2021-07-01T18:45:39.809Z"
   },
   {
    "duration": 383,
    "start_time": "2021-07-01T18:45:40.393Z"
   },
   {
    "duration": 159,
    "start_time": "2021-07-01T18:46:53.991Z"
   },
   {
    "duration": 279,
    "start_time": "2021-07-01T18:47:50.382Z"
   },
   {
    "duration": 154,
    "start_time": "2021-07-01T18:47:50.813Z"
   },
   {
    "duration": 44,
    "start_time": "2021-07-01T18:50:27.994Z"
   },
   {
    "duration": 5,
    "start_time": "2021-07-01T18:50:28.570Z"
   },
   {
    "duration": 5,
    "start_time": "2021-07-01T18:50:29.370Z"
   },
   {
    "duration": 861,
    "start_time": "2021-07-01T18:50:31.322Z"
   },
   {
    "duration": 159,
    "start_time": "2021-07-01T18:54:31.493Z"
   },
   {
    "duration": 350,
    "start_time": "2021-07-01T18:54:31.948Z"
   },
   {
    "duration": 144,
    "start_time": "2021-07-01T18:55:35.876Z"
   },
   {
    "duration": 239,
    "start_time": "2021-07-01T18:55:47.491Z"
   },
   {
    "duration": 30,
    "start_time": "2021-07-01T18:56:00.275Z"
   },
   {
    "duration": 684,
    "start_time": "2021-07-01T18:57:24.169Z"
   },
   {
    "duration": 912,
    "start_time": "2021-07-01T18:58:06.880Z"
   },
   {
    "duration": 165,
    "start_time": "2021-07-01T18:59:20.983Z"
   },
   {
    "duration": 391,
    "start_time": "2021-07-01T18:59:23.446Z"
   },
   {
    "duration": 1120,
    "start_time": "2021-07-01T18:59:29.038Z"
   },
   {
    "duration": 66,
    "start_time": "2021-07-01T18:59:34.101Z"
   },
   {
    "duration": 31,
    "start_time": "2021-07-01T18:59:35.443Z"
   },
   {
    "duration": 214,
    "start_time": "2021-07-01T18:59:35.901Z"
   },
   {
    "duration": 1325,
    "start_time": "2021-07-01T18:59:36.526Z"
   },
   {
    "duration": 28,
    "start_time": "2021-07-01T18:59:41.285Z"
   },
   {
    "duration": 7,
    "start_time": "2021-07-01T18:59:44.358Z"
   },
   {
    "duration": 9,
    "start_time": "2021-07-01T18:59:44.950Z"
   },
   {
    "duration": 1368,
    "start_time": "2021-07-01T19:00:06.133Z"
   },
   {
    "duration": 1391,
    "start_time": "2021-07-01T19:00:12.260Z"
   },
   {
    "duration": 26,
    "start_time": "2021-07-01T19:00:20.436Z"
   },
   {
    "duration": 7,
    "start_time": "2021-07-01T19:00:22.757Z"
   },
   {
    "duration": 8,
    "start_time": "2021-07-01T19:00:23.308Z"
   },
   {
    "duration": 205632,
    "start_time": "2021-07-01T19:00:23.821Z"
   },
   {
    "duration": 5,
    "start_time": "2021-07-01T19:07:25.583Z"
   },
   {
    "duration": 330,
    "start_time": "2021-07-01T19:07:27.282Z"
   },
   {
    "duration": 2045,
    "start_time": "2021-07-01T19:07:58.450Z"
   },
   {
    "duration": 33,
    "start_time": "2021-07-01T19:08:23.383Z"
   },
   {
    "duration": 100,
    "start_time": "2021-07-01T19:09:38.664Z"
   },
   {
    "duration": 2016,
    "start_time": "2021-07-01T19:09:52.886Z"
   },
   {
    "duration": 95,
    "start_time": "2021-07-01T19:09:54.905Z"
   },
   {
    "duration": 1102,
    "start_time": "2021-07-01T19:11:20.884Z"
   },
   {
    "duration": 57,
    "start_time": "2021-07-01T19:11:27.069Z"
   },
   {
    "duration": 5,
    "start_time": "2021-07-01T19:11:27.869Z"
   },
   {
    "duration": 1054,
    "start_time": "2021-07-01T19:11:28.629Z"
   },
   {
    "duration": 56,
    "start_time": "2021-07-01T19:11:29.686Z"
   },
   {
    "duration": 1217,
    "start_time": "2021-07-01T19:13:12.202Z"
   },
   {
    "duration": 236,
    "start_time": "2021-07-01T19:13:14.314Z"
   },
   {
    "duration": 1150,
    "start_time": "2021-07-01T19:13:29.034Z"
   },
   {
    "duration": 2315,
    "start_time": "2021-07-01T19:13:33.409Z"
   },
   {
    "duration": 467,
    "start_time": "2021-07-01T19:13:35.727Z"
   },
   {
    "duration": 323,
    "start_time": "2021-07-01T19:13:59.577Z"
   },
   {
    "duration": 3109,
    "start_time": "2021-07-01T19:14:02.217Z"
   },
   {
    "duration": 21,
    "start_time": "2021-07-01T19:14:10.625Z"
   },
   {
    "duration": 6,
    "start_time": "2021-07-01T19:14:13.304Z"
   },
   {
    "duration": 210391,
    "start_time": "2021-07-01T19:14:13.857Z"
   },
   {
    "duration": 99,
    "start_time": "2021-07-01T19:22:08.469Z"
   },
   {
    "duration": 6,
    "start_time": "2021-07-01T19:22:20.278Z"
   },
   {
    "duration": 212240,
    "start_time": "2021-07-01T19:22:25.014Z"
   },
   {
    "duration": 6,
    "start_time": "2021-07-01T19:28:22.640Z"
   },
   {
    "duration": 7,
    "start_time": "2021-07-01T19:37:29.341Z"
   },
   {
    "duration": 742,
    "start_time": "2021-07-01T19:37:33.057Z"
   },
   {
    "duration": 4,
    "start_time": "2021-07-01T19:37:57.160Z"
   },
   {
    "duration": 4,
    "start_time": "2021-07-01T19:44:05.642Z"
   },
   {
    "duration": 8,
    "start_time": "2021-07-01T19:44:08.294Z"
   },
   {
    "duration": 656,
    "start_time": "2021-07-01T19:44:09.574Z"
   },
   {
    "duration": 4,
    "start_time": "2021-07-01T19:46:12.572Z"
   },
   {
    "duration": 5,
    "start_time": "2021-07-01T19:46:17.307Z"
   },
   {
    "duration": 10,
    "start_time": "2021-07-01T19:46:18.524Z"
   },
   {
    "duration": 12906,
    "start_time": "2021-07-01T19:46:19.851Z"
   },
   {
    "duration": 322,
    "start_time": "2021-07-01T19:49:04.808Z"
   },
   {
    "duration": 305,
    "start_time": "2021-07-01T19:49:24.719Z"
   },
   {
    "duration": 4,
    "start_time": "2021-07-01T19:49:31.199Z"
   },
   {
    "duration": 5,
    "start_time": "2021-07-01T19:49:32.143Z"
   },
   {
    "duration": 7,
    "start_time": "2021-07-01T19:49:32.687Z"
   },
   {
    "duration": 13554,
    "start_time": "2021-07-01T19:49:34.047Z"
   },
   {
    "duration": 283,
    "start_time": "2021-07-01T19:50:15.534Z"
   },
   {
    "duration": 6,
    "start_time": "2021-07-01T19:50:26.629Z"
   },
   {
    "duration": 4,
    "start_time": "2021-07-01T19:50:27.085Z"
   },
   {
    "duration": 6,
    "start_time": "2021-07-01T19:50:48.925Z"
   },
   {
    "duration": 8,
    "start_time": "2021-07-01T19:50:54.068Z"
   },
   {
    "duration": 13217,
    "start_time": "2021-07-01T19:50:54.661Z"
   },
   {
    "duration": 4,
    "start_time": "2021-07-01T19:57:27.716Z"
   },
   {
    "duration": 4,
    "start_time": "2021-07-01T19:57:28.147Z"
   },
   {
    "duration": 1151,
    "start_time": "2021-07-01T19:57:28.491Z"
   },
   {
    "duration": 37,
    "start_time": "2021-07-01T19:57:29.645Z"
   },
   {
    "duration": 32,
    "start_time": "2021-07-01T19:57:33.355Z"
   },
   {
    "duration": 7,
    "start_time": "2021-07-01T19:57:33.708Z"
   },
   {
    "duration": 1386,
    "start_time": "2021-07-01T19:57:34.140Z"
   },
   {
    "duration": 258,
    "start_time": "2021-07-01T19:57:35.711Z"
   },
   {
    "duration": 87,
    "start_time": "2021-07-01T19:57:54.580Z"
   },
   {
    "duration": 106,
    "start_time": "2021-07-01T19:57:58.083Z"
   },
   {
    "duration": 117,
    "start_time": "2021-07-01T19:58:13.803Z"
   },
   {
    "duration": 144,
    "start_time": "2021-07-01T19:58:28.874Z"
   },
   {
    "duration": 125,
    "start_time": "2021-07-01T19:58:42.386Z"
   },
   {
    "duration": 370,
    "start_time": "2021-07-01T19:59:35.690Z"
   },
   {
    "duration": 34,
    "start_time": "2021-07-01T19:59:50.784Z"
   },
   {
    "duration": 236,
    "start_time": "2021-07-01T20:00:53.071Z"
   },
   {
    "duration": 199,
    "start_time": "2021-07-01T20:00:54.431Z"
   },
   {
    "duration": 128,
    "start_time": "2021-07-01T20:01:22.342Z"
   },
   {
    "duration": 223,
    "start_time": "2021-07-01T20:01:28.246Z"
   },
   {
    "duration": 227,
    "start_time": "2021-07-01T20:03:24.211Z"
   },
   {
    "duration": 6261,
    "start_time": "2021-07-01T20:03:26.620Z"
   },
   {
    "duration": 175,
    "start_time": "2021-07-01T20:03:50.763Z"
   },
   {
    "duration": 5899,
    "start_time": "2021-07-01T20:03:54.068Z"
   },
   {
    "duration": 6,
    "start_time": "2021-07-01T20:04:06.354Z"
   },
   {
    "duration": 1214,
    "start_time": "2021-07-01T20:04:06.714Z"
   },
   {
    "duration": 430,
    "start_time": "2021-07-01T20:04:07.930Z"
   },
   {
    "duration": 152,
    "start_time": "2021-07-01T20:04:21.682Z"
   },
   {
    "duration": 244,
    "start_time": "2021-07-01T20:04:27.977Z"
   },
   {
    "duration": 83,
    "start_time": "2021-07-01T20:04:56.689Z"
   },
   {
    "duration": 250,
    "start_time": "2021-07-01T20:05:00.817Z"
   },
   {
    "duration": 84,
    "start_time": "2021-07-01T20:05:07.089Z"
   },
   {
    "duration": 106,
    "start_time": "2021-07-01T20:05:10.256Z"
   },
   {
    "duration": 19,
    "start_time": "2021-07-01T20:05:30.153Z"
   },
   {
    "duration": 84,
    "start_time": "2021-07-01T20:05:38.392Z"
   },
   {
    "duration": 6695,
    "start_time": "2021-07-01T20:05:42.080Z"
   },
   {
    "duration": 20,
    "start_time": "2021-07-01T20:06:27.864Z"
   },
   {
    "duration": 51,
    "start_time": "2021-07-01T20:07:12.470Z"
   },
   {
    "duration": 150,
    "start_time": "2021-07-01T20:07:47.037Z"
   },
   {
    "duration": 773,
    "start_time": "2021-07-01T20:08:39.133Z"
   },
   {
    "duration": 722,
    "start_time": "2021-07-01T20:08:47.588Z"
   },
   {
    "duration": 10,
    "start_time": "2021-07-01T20:09:13.540Z"
   },
   {
    "duration": 721,
    "start_time": "2021-07-01T20:09:30.427Z"
   },
   {
    "duration": 74,
    "start_time": "2021-07-01T20:09:43.819Z"
   },
   {
    "duration": 403,
    "start_time": "2021-07-01T20:09:49.851Z"
   },
   {
    "duration": 366,
    "start_time": "2021-07-01T20:09:56.178Z"
   },
   {
    "duration": 74,
    "start_time": "2021-07-01T20:10:05.818Z"
   },
   {
    "duration": 833,
    "start_time": "2021-07-01T20:10:09.530Z"
   },
   {
    "duration": 72,
    "start_time": "2021-07-01T20:10:14.641Z"
   },
   {
    "duration": 266841,
    "start_time": "2021-07-01T20:10:17.115Z"
   },
   {
    "duration": 730909,
    "start_time": "2021-07-01T20:14:50.124Z"
   },
   {
    "duration": 1365,
    "start_time": "2021-07-02T17:17:51.226Z"
   },
   {
    "duration": 4,
    "start_time": "2021-07-02T17:17:52.593Z"
   },
   {
    "duration": 1046,
    "start_time": "2021-07-02T17:17:52.600Z"
   },
   {
    "duration": 48,
    "start_time": "2021-07-02T17:17:53.649Z"
   },
   {
    "duration": 61,
    "start_time": "2021-07-02T17:17:57.346Z"
   },
   {
    "duration": 42,
    "start_time": "2021-07-02T17:17:57.881Z"
   },
   {
    "duration": 8,
    "start_time": "2021-07-02T17:18:00.019Z"
   },
   {
    "duration": 1151,
    "start_time": "2021-07-02T17:18:03.058Z"
   },
   {
    "duration": 331,
    "start_time": "2021-07-02T17:18:04.212Z"
   },
   {
    "duration": 54,
    "start_time": "2021-07-02T17:18:12.978Z"
   },
   {
    "duration": 393762,
    "start_time": "2021-07-02T17:18:14.626Z"
   },
   {
    "duration": 248090,
    "start_time": "2021-07-02T17:43:59.277Z"
   },
   {
    "duration": 251536,
    "start_time": "2021-07-02T17:50:24.925Z"
   },
   {
    "duration": 64,
    "start_time": "2021-07-02T20:14:10.788Z"
   },
   {
    "duration": 247240,
    "start_time": "2021-07-02T20:14:16.372Z"
   },
   {
    "duration": 15,
    "start_time": "2021-07-02T20:20:12.288Z"
   },
   {
    "duration": 40,
    "start_time": "2021-07-02T20:20:13.108Z"
   },
   {
    "duration": 4,
    "start_time": "2021-07-02T20:20:13.579Z"
   },
   {
    "duration": 13,
    "start_time": "2021-07-02T20:23:46.598Z"
   },
   {
    "duration": 233,
    "start_time": "2021-07-02T20:24:02.030Z"
   },
   {
    "duration": 145,
    "start_time": "2021-07-02T20:24:06.461Z"
   },
   {
    "duration": 2,
    "start_time": "2021-07-02T20:24:15.063Z"
   },
   {
    "duration": 163,
    "start_time": "2021-07-02T20:24:15.485Z"
   },
   {
    "duration": 157,
    "start_time": "2021-07-02T20:24:29.749Z"
   },
   {
    "duration": 245,
    "start_time": "2021-07-02T20:29:52.206Z"
   },
   {
    "duration": 2,
    "start_time": "2021-07-02T20:30:04.511Z"
   },
   {
    "duration": 160,
    "start_time": "2021-07-02T20:30:34.364Z"
   },
   {
    "duration": 197,
    "start_time": "2021-07-02T20:30:52.532Z"
   },
   {
    "duration": 5,
    "start_time": "2021-07-02T20:32:44.209Z"
   },
   {
    "duration": 6,
    "start_time": "2021-07-02T20:32:53.585Z"
   },
   {
    "duration": 4,
    "start_time": "2021-07-02T20:33:04.752Z"
   },
   {
    "duration": 158,
    "start_time": "2021-07-02T20:33:13.457Z"
   },
   {
    "duration": 153,
    "start_time": "2021-07-02T20:34:43.415Z"
   },
   {
    "duration": 158,
    "start_time": "2021-07-02T20:35:03.330Z"
   },
   {
    "duration": 154,
    "start_time": "2021-07-02T20:35:09.982Z"
   },
   {
    "duration": 153,
    "start_time": "2021-07-02T20:35:51.594Z"
   },
   {
    "duration": 3,
    "start_time": "2021-07-02T20:42:09.268Z"
   },
   {
    "duration": 229,
    "start_time": "2021-07-02T20:43:43.922Z"
   },
   {
    "duration": 217,
    "start_time": "2021-07-02T20:43:49.840Z"
   },
   {
    "duration": 228,
    "start_time": "2021-07-02T20:44:13.321Z"
   },
   {
    "duration": 4,
    "start_time": "2021-07-02T20:44:35.225Z"
   },
   {
    "duration": 222,
    "start_time": "2021-07-02T20:44:35.793Z"
   },
   {
    "duration": 228,
    "start_time": "2021-07-02T20:44:43.400Z"
   },
   {
    "duration": 236,
    "start_time": "2021-07-02T20:44:51.889Z"
   },
   {
    "duration": 2,
    "start_time": "2021-07-02T20:45:59.247Z"
   },
   {
    "duration": 1639,
    "start_time": "2021-07-02T20:47:00.854Z"
   },
   {
    "duration": 262,
    "start_time": "2021-07-02T20:48:24.227Z"
   },
   {
    "duration": 97,
    "start_time": "2021-07-02T20:48:37.195Z"
   },
   {
    "duration": 1674,
    "start_time": "2021-07-02T20:48:57.219Z"
   },
   {
    "duration": 234,
    "start_time": "2021-07-02T20:51:31.351Z"
   },
   {
    "duration": 27198,
    "start_time": "2021-07-02T20:51:48.894Z"
   },
   {
    "duration": 46918,
    "start_time": "2021-07-02T20:53:15.781Z"
   },
   {
    "duration": 47622,
    "start_time": "2021-07-02T20:54:28.979Z"
   },
   {
    "duration": 4,
    "start_time": "2021-07-02T20:56:47.152Z"
   },
   {
    "duration": 2099,
    "start_time": "2021-07-02T20:57:01.295Z"
   },
   {
    "duration": 2054,
    "start_time": "2021-07-02T20:58:14.238Z"
   },
   {
    "duration": 2174,
    "start_time": "2021-07-02T20:59:07.068Z"
   },
   {
    "duration": 2940,
    "start_time": "2021-07-02T20:59:20.181Z"
   },
   {
    "duration": 17588,
    "start_time": "2021-07-02T20:59:31.046Z"
   },
   {
    "duration": 2874,
    "start_time": "2021-07-02T20:59:45.762Z"
   },
   {
    "duration": 49682,
    "start_time": "2021-07-02T20:59:55.110Z"
   },
   {
    "duration": 2435,
    "start_time": "2021-07-02T21:00:54.666Z"
   },
   {
    "duration": 76,
    "start_time": "2021-07-02T21:01:22.105Z"
   },
   {
    "duration": 4,
    "start_time": "2021-07-02T21:01:35.849Z"
   },
   {
    "duration": 47030,
    "start_time": "2021-07-02T21:01:36.873Z"
   },
   {
    "duration": 3,
    "start_time": "2021-07-02T21:03:46.742Z"
   },
   {
    "duration": 4,
    "start_time": "2021-07-02T21:03:47.109Z"
   },
   {
    "duration": 46836,
    "start_time": "2021-07-02T21:03:47.461Z"
   },
   {
    "duration": 2393,
    "start_time": "2021-07-02T21:04:34.299Z"
   },
   {
    "duration": 261,
    "start_time": "2021-07-02T21:04:36.694Z"
   },
   {
    "duration": 49895,
    "start_time": "2021-07-02T21:05:11.508Z"
   },
   {
    "duration": 4,
    "start_time": "2021-07-02T21:09:27.961Z"
   },
   {
    "duration": 100729,
    "start_time": "2021-07-02T21:09:28.469Z"
   },
   {
    "duration": 3474,
    "start_time": "2021-07-02T21:11:53.819Z"
   },
   {
    "duration": 77,
    "start_time": "2021-07-02T21:15:14.141Z"
   },
   {
    "duration": 3,
    "start_time": "2021-07-02T21:15:30.029Z"
   },
   {
    "duration": 182,
    "start_time": "2021-07-02T21:15:31.533Z"
   },
   {
    "duration": 3,
    "start_time": "2021-07-02T21:19:16.408Z"
   },
   {
    "duration": 90990,
    "start_time": "2021-07-02T21:19:17.112Z"
   },
   {
    "duration": 4,
    "start_time": "2021-07-02T21:23:59.873Z"
   },
   {
    "duration": 98851,
    "start_time": "2021-07-02T21:24:00.649Z"
   },
   {
    "duration": 234,
    "start_time": "2021-07-02T21:26:29.869Z"
   },
   {
    "duration": 44867,
    "start_time": "2021-07-02T21:26:30.286Z"
   },
   {
    "duration": 237,
    "start_time": "2021-07-02T21:27:15.154Z"
   },
   {
    "duration": 216,
    "start_time": "2021-07-02T21:27:16.497Z"
   },
   {
    "duration": 237,
    "start_time": "2021-07-02T21:27:42.648Z"
   },
   {
    "duration": 241,
    "start_time": "2021-07-02T21:27:45.717Z"
   },
   {
    "duration": 229,
    "start_time": "2021-07-02T21:28:14.283Z"
   },
   {
    "duration": 232,
    "start_time": "2021-07-02T21:28:32.995Z"
   },
   {
    "duration": 73,
    "start_time": "2021-07-02T21:31:09.599Z"
   },
   {
    "duration": 77,
    "start_time": "2021-07-02T21:31:32.535Z"
   },
   {
    "duration": 242,
    "start_time": "2021-07-02T21:31:37.407Z"
   },
   {
    "duration": 230,
    "start_time": "2021-07-02T21:33:45.995Z"
   },
   {
    "duration": 79,
    "start_time": "2021-07-02T21:34:15.179Z"
   },
   {
    "duration": 4,
    "start_time": "2021-07-02T21:34:19.035Z"
   },
   {
    "duration": 2689,
    "start_time": "2021-07-02T21:34:22.275Z"
   },
   {
    "duration": 4,
    "start_time": "2021-07-02T21:36:58.087Z"
   },
   {
    "duration": 119752,
    "start_time": "2021-07-02T21:36:59.143Z"
   },
   {
    "duration": 7205,
    "start_time": "2021-07-02T21:38:58.897Z"
   },
   {
    "duration": 3,
    "start_time": "2021-07-02T21:39:36.695Z"
   },
   {
    "duration": 580537,
    "start_time": "2021-07-02T21:39:37.364Z"
   },
   {
    "duration": 30822,
    "start_time": "2021-07-02T21:49:17.904Z"
   },
   {
    "duration": 248261,
    "start_time": "2021-07-02T21:50:57.835Z"
   },
   {
    "duration": 79,
    "start_time": "2021-07-02T21:55:31.061Z"
   },
   {
    "duration": 4,
    "start_time": "2021-07-02T21:55:38.956Z"
   },
   {
    "duration": 671965,
    "start_time": "2021-07-02T21:55:39.828Z"
   },
   {
    "duration": 3707,
    "start_time": "2021-07-02T22:06:51.795Z"
   },
   {
    "duration": 3,
    "start_time": "2021-07-02T22:08:45.290Z"
   },
   {
    "duration": 534209,
    "start_time": "2021-07-02T22:08:45.746Z"
   },
   {
    "duration": 2784,
    "start_time": "2021-07-02T22:17:37.173Z"
   },
   {
    "duration": 4,
    "start_time": "2021-07-02T22:19:19.594Z"
   },
   {
    "duration": 297,
    "start_time": "2021-07-02T22:19:21.292Z"
   },
   {
    "duration": 4,
    "start_time": "2021-07-02T22:19:37.227Z"
   },
   {
    "duration": 634707,
    "start_time": "2021-07-02T22:19:38.387Z"
   },
   {
    "duration": 7509,
    "start_time": "2021-07-02T22:30:13.096Z"
   },
   {
    "duration": 1471,
    "start_time": "2021-07-03T08:28:03.977Z"
   },
   {
    "duration": 6,
    "start_time": "2021-07-03T08:28:05.450Z"
   },
   {
    "duration": 1036,
    "start_time": "2021-07-03T08:28:07.379Z"
   },
   {
    "duration": 50,
    "start_time": "2021-07-03T08:28:08.418Z"
   },
   {
    "duration": 150,
    "start_time": "2021-07-03T08:28:10.963Z"
   },
   {
    "duration": 24,
    "start_time": "2021-07-03T08:28:15.139Z"
   },
   {
    "duration": 41,
    "start_time": "2021-07-03T08:28:16.747Z"
   },
   {
    "duration": 5,
    "start_time": "2021-07-03T08:28:17.803Z"
   },
   {
    "duration": 1098,
    "start_time": "2021-07-03T08:28:18.508Z"
   },
   {
    "duration": 339,
    "start_time": "2021-07-03T08:28:20.730Z"
   },
   {
    "duration": 10,
    "start_time": "2021-07-03T08:28:34.967Z"
   },
   {
    "duration": 43,
    "start_time": "2021-07-03T08:28:34.979Z"
   },
   {
    "duration": 4,
    "start_time": "2021-07-03T08:28:35.025Z"
   },
   {
    "duration": 386186,
    "start_time": "2021-07-03T08:28:39.587Z"
   },
   {
    "duration": 19,
    "start_time": "2021-07-03T08:35:05.776Z"
   },
   {
    "duration": 5,
    "start_time": "2021-07-03T08:35:05.798Z"
   },
   {
    "duration": 768210,
    "start_time": "2021-07-03T08:35:05.857Z"
   },
   {
    "duration": 13103,
    "start_time": "2021-07-03T08:47:54.070Z"
   },
   {
    "duration": 431,
    "start_time": "2021-07-03T08:51:24.176Z"
   },
   {
    "duration": 5,
    "start_time": "2021-07-03T08:51:47.355Z"
   },
   {
    "duration": 13038,
    "start_time": "2021-07-03T08:51:57.219Z"
   },
   {
    "duration": 545941,
    "start_time": "2021-07-03T08:59:06.569Z"
   },
   {
    "duration": 12633,
    "start_time": "2021-07-03T09:08:36.735Z"
   },
   {
    "duration": 260,
    "start_time": "2021-07-03T09:09:18.474Z"
   },
   {
    "duration": 5,
    "start_time": "2021-07-03T09:09:23.882Z"
   },
   {
    "duration": 328991,
    "start_time": "2021-07-03T09:09:27.186Z"
   },
   {
    "duration": 3243,
    "start_time": "2021-07-03T09:14:52.937Z"
   },
   {
    "duration": 14,
    "start_time": "2021-07-03T09:14:59.402Z"
   },
   {
    "duration": 285,
    "start_time": "2021-07-03T09:15:01.314Z"
   },
   {
    "duration": 3238,
    "start_time": "2021-07-03T09:16:13.354Z"
   },
   {
    "duration": 6512709,
    "start_time": "2021-07-03T09:17:39.151Z"
   },
   {
    "duration": -151,
    "start_time": "2021-07-03T11:06:12.013Z"
   },
   {
    "duration": 5,
    "start_time": "2021-07-03T11:06:13.247Z"
   },
   {
    "duration": 553003,
    "start_time": "2021-07-03T11:06:13.890Z"
   },
   {
    "duration": 6,
    "start_time": "2021-07-03T11:15:39.401Z"
   },
   {
    "duration": 439248,
    "start_time": "2021-07-03T11:15:40.210Z"
   },
   {
    "duration": -162,
    "start_time": "2021-07-03T11:22:59.623Z"
   },
   {
    "duration": -161,
    "start_time": "2021-07-03T11:22:59.624Z"
   },
   {
    "duration": 5,
    "start_time": "2021-07-03T11:23:17.623Z"
   },
   {
    "duration": 255,
    "start_time": "2021-07-03T11:23:18.119Z"
   },
   {
    "duration": 5,
    "start_time": "2021-07-03T11:23:28.295Z"
   },
   {
    "duration": 5,
    "start_time": "2021-07-03T11:23:28.679Z"
   },
   {
    "duration": 388805,
    "start_time": "2021-07-03T11:23:29.103Z"
   },
   {
    "duration": 257,
    "start_time": "2021-07-03T11:36:25.633Z"
   },
   {
    "duration": 414355,
    "start_time": "2021-07-03T11:36:36.547Z"
   },
   {
    "duration": 412436,
    "start_time": "2021-07-03T11:44:25.586Z"
   },
   {
    "duration": 416880,
    "start_time": "2021-07-03T11:53:49.314Z"
   },
   {
    "duration": 411390,
    "start_time": "2021-07-03T12:01:46.687Z"
   },
   {
    "duration": 259,
    "start_time": "2021-07-03T12:08:50.716Z"
   },
   {
    "duration": 251,
    "start_time": "2021-07-03T12:09:55.060Z"
   },
   {
    "duration": 85,
    "start_time": "2021-07-03T12:10:21.246Z"
   },
   {
    "duration": 269,
    "start_time": "2021-07-03T12:10:34.837Z"
   },
   {
    "duration": 268,
    "start_time": "2021-07-03T12:10:49.804Z"
   },
   {
    "duration": 300,
    "start_time": "2021-07-03T12:11:49.100Z"
   },
   {
    "duration": 4,
    "start_time": "2021-07-03T12:11:59.259Z"
   },
   {
    "duration": 259,
    "start_time": "2021-07-03T12:12:04.402Z"
   },
   {
    "duration": 5,
    "start_time": "2021-07-03T12:12:17.242Z"
   },
   {
    "duration": 267,
    "start_time": "2021-07-03T12:12:19.123Z"
   },
   {
    "duration": 305,
    "start_time": "2021-07-03T12:12:31.091Z"
   },
   {
    "duration": 259,
    "start_time": "2021-07-03T12:12:41.251Z"
   },
   {
    "duration": 7,
    "start_time": "2021-07-03T12:12:48.090Z"
   },
   {
    "duration": 5,
    "start_time": "2021-07-03T12:12:52.346Z"
   },
   {
    "duration": 151,
    "start_time": "2021-07-03T12:13:04.633Z"
   },
   {
    "duration": 83,
    "start_time": "2021-07-03T12:13:17.425Z"
   },
   {
    "duration": 10,
    "start_time": "2021-07-03T12:13:20.409Z"
   },
   {
    "duration": 45,
    "start_time": "2021-07-03T12:13:20.888Z"
   },
   {
    "duration": 4,
    "start_time": "2021-07-03T12:13:22.041Z"
   },
   {
    "duration": 8,
    "start_time": "2021-07-03T12:13:25.512Z"
   },
   {
    "duration": 266,
    "start_time": "2021-07-03T12:13:28.025Z"
   },
   {
    "duration": 586,
    "start_time": "2021-07-03T12:20:46.583Z"
   },
   {
    "duration": 314,
    "start_time": "2021-07-03T12:31:09.569Z"
   },
   {
    "duration": 331,
    "start_time": "2021-07-03T12:32:41.310Z"
   },
   {
    "duration": 8125,
    "start_time": "2021-07-03T12:32:47.806Z"
   },
   {
    "duration": 1216,
    "start_time": "2021-07-03T12:34:12.460Z"
   },
   {
    "duration": 290291,
    "start_time": "2021-07-03T12:34:31.548Z"
   },
   {
    "duration": -250,
    "start_time": "2021-07-03T12:39:22.093Z"
   },
   {
    "duration": 8,
    "start_time": "2021-07-03T12:39:57.051Z"
   },
   {
    "duration": 317,
    "start_time": "2021-07-03T12:40:03.700Z"
   },
   {
    "duration": 423,
    "start_time": "2021-07-03T12:40:16.940Z"
   },
   {
    "duration": 216,
    "start_time": "2021-07-03T12:46:48.329Z"
   },
   {
    "duration": 260,
    "start_time": "2021-07-03T12:46:51.234Z"
   },
   {
    "duration": 100,
    "start_time": "2021-07-03T12:47:27.697Z"
   },
   {
    "duration": 99,
    "start_time": "2021-07-03T12:47:30.961Z"
   },
   {
    "duration": 263,
    "start_time": "2021-07-03T12:47:34.009Z"
   },
   {
    "duration": 346,
    "start_time": "2021-07-03T12:47:45.391Z"
   },
   {
    "duration": 238,
    "start_time": "2021-07-03T12:47:54.672Z"
   },
   {
    "duration": 256,
    "start_time": "2021-07-03T12:47:58.985Z"
   },
   {
    "duration": 2327,
    "start_time": "2021-07-03T12:49:48.142Z"
   },
   {
    "duration": 159,
    "start_time": "2021-07-03T12:50:02.357Z"
   },
   {
    "duration": 486,
    "start_time": "2021-07-03T12:50:04.965Z"
   },
   {
    "duration": 99,
    "start_time": "2021-07-03T12:50:17.189Z"
   },
   {
    "duration": 1384,
    "start_time": "2021-07-03T12:51:49.299Z"
   },
   {
    "duration": 37,
    "start_time": "2021-07-03T12:51:50.686Z"
   },
   {
    "duration": 160,
    "start_time": "2021-07-03T12:51:51.211Z"
   },
   {
    "duration": 30,
    "start_time": "2021-07-03T12:51:54.395Z"
   },
   {
    "duration": 5,
    "start_time": "2021-07-03T12:51:56.019Z"
   },
   {
    "duration": 1207,
    "start_time": "2021-07-03T12:51:57.187Z"
   },
   {
    "duration": 564,
    "start_time": "2021-07-03T12:52:00.683Z"
   },
   {
    "duration": 14,
    "start_time": "2021-07-03T12:52:04.955Z"
   },
   {
    "duration": 48,
    "start_time": "2021-07-03T12:52:05.562Z"
   },
   {
    "duration": 12,
    "start_time": "2021-07-03T12:52:11.475Z"
   },
   {
    "duration": 8971,
    "start_time": "2021-07-03T12:52:13.418Z"
   },
   {
    "duration": 266,
    "start_time": "2021-07-03T12:52:25.243Z"
   },
   {
    "duration": 17,
    "start_time": "2021-07-03T12:58:13.962Z"
   },
   {
    "duration": 21220,
    "start_time": "2021-07-03T12:58:18.650Z"
   },
   {
    "duration": 13,
    "start_time": "2021-07-03T12:58:46.689Z"
   },
   {
    "duration": 13,
    "start_time": "2021-07-03T12:58:58.704Z"
   },
   {
    "duration": 488890,
    "start_time": "2021-07-03T12:59:00.890Z"
   },
   {
    "duration": 298,
    "start_time": "2021-07-03T13:11:16.132Z"
   },
   {
    "duration": 254,
    "start_time": "2021-07-03T13:11:21.857Z"
   },
   {
    "duration": 6,
    "start_time": "2021-07-03T13:11:34.431Z"
   },
   {
    "duration": 84337,
    "start_time": "2021-07-03T13:11:38.391Z"
   },
   {
    "duration": 397,
    "start_time": "2021-07-03T13:13:08.566Z"
   },
   {
    "duration": 260,
    "start_time": "2021-07-03T13:14:46.730Z"
   },
   {
    "duration": 16464,
    "start_time": "2021-07-03T13:14:58.962Z"
   },
   {
    "duration": 258,
    "start_time": "2021-07-03T13:16:20.890Z"
   },
   {
    "duration": 258,
    "start_time": "2021-07-03T13:16:26.512Z"
   },
   {
    "duration": 45761,
    "start_time": "2021-07-03T13:17:41.703Z"
   },
   {
    "duration": 424672,
    "start_time": "2021-07-03T13:18:30.304Z"
   },
   {
    "duration": 20357,
    "start_time": "2021-07-03T13:25:51.979Z"
   },
   {
    "duration": -321,
    "start_time": "2021-07-03T13:27:56.590Z"
   },
   {
    "duration": 1729,
    "start_time": "2021-07-03T13:29:17.465Z"
   },
   {
    "duration": 5,
    "start_time": "2021-07-03T13:29:20.435Z"
   },
   {
    "duration": 1299,
    "start_time": "2021-07-03T13:29:21.427Z"
   },
   {
    "duration": 64,
    "start_time": "2021-07-03T13:29:22.729Z"
   },
   {
    "duration": 41,
    "start_time": "2021-07-03T13:29:26.001Z"
   },
   {
    "duration": 7,
    "start_time": "2021-07-03T13:29:26.045Z"
   },
   {
    "duration": 1359,
    "start_time": "2021-07-03T13:29:26.387Z"
   },
   {
    "duration": 444,
    "start_time": "2021-07-03T13:29:27.749Z"
   },
   {
    "duration": 17,
    "start_time": "2021-07-03T13:29:30.365Z"
   },
   {
    "duration": 68,
    "start_time": "2021-07-03T13:29:30.955Z"
   },
   {
    "duration": 10,
    "start_time": "2021-07-03T13:29:31.715Z"
   },
   {
    "duration": -337,
    "start_time": "2021-07-03T13:32:39.017Z"
   },
   {
    "duration": 1799,
    "start_time": "2021-07-03T13:32:44.005Z"
   },
   {
    "duration": 6,
    "start_time": "2021-07-03T13:32:46.709Z"
   },
   {
    "duration": 1327,
    "start_time": "2021-07-03T13:32:47.075Z"
   },
   {
    "duration": 61,
    "start_time": "2021-07-03T13:32:48.404Z"
   },
   {
    "duration": 52,
    "start_time": "2021-07-03T13:32:52.652Z"
   },
   {
    "duration": 8,
    "start_time": "2021-07-03T13:32:53.020Z"
   },
   {
    "duration": 1875,
    "start_time": "2021-07-03T13:32:53.549Z"
   },
   {
    "duration": 428,
    "start_time": "2021-07-03T13:32:55.718Z"
   },
   {
    "duration": 11,
    "start_time": "2021-07-03T13:32:59.323Z"
   },
   {
    "duration": 46,
    "start_time": "2021-07-03T13:32:59.803Z"
   },
   {
    "duration": 10,
    "start_time": "2021-07-03T13:33:00.887Z"
   },
   {
    "duration": -330,
    "start_time": "2021-07-03T13:33:28.143Z"
   },
   {
    "duration": 113003,
    "start_time": "2021-07-03T13:33:30.171Z"
   },
   {
    "duration": 297,
    "start_time": "2021-07-03T13:35:32.729Z"
   },
   {
    "duration": 11,
    "start_time": "2021-07-03T13:35:40.296Z"
   },
   {
    "duration": -459,
    "start_time": "2021-07-03T13:35:57.096Z"
   },
   {
    "duration": 430447,
    "start_time": "2021-07-03T13:38:10.445Z"
   },
   {
    "duration": 517993,
    "start_time": "2021-07-03T13:48:58.695Z"
   },
   {
    "duration": 566,
    "start_time": "2021-07-03T13:59:32.405Z"
   },
   {
    "duration": 103,
    "start_time": "2021-07-03T13:59:52.508Z"
   },
   {
    "duration": 457,
    "start_time": "2021-07-03T14:00:21.774Z"
   },
   {
    "duration": 46,
    "start_time": "2021-07-03T14:01:50.547Z"
   },
   {
    "duration": 332,
    "start_time": "2021-07-03T14:02:49.889Z"
   },
   {
    "duration": 1076,
    "start_time": "2021-07-03T14:03:58.097Z"
   },
   {
    "duration": 627,
    "start_time": "2021-07-03T14:04:05.998Z"
   },
   {
    "duration": 407,
    "start_time": "2021-07-03T14:07:18.482Z"
   },
   {
    "duration": 547,
    "start_time": "2021-07-03T14:07:38.763Z"
   },
   {
    "duration": 251,
    "start_time": "2021-07-03T14:08:04.275Z"
   },
   {
    "duration": 515,
    "start_time": "2021-07-03T14:08:09.978Z"
   },
   {
    "duration": 538,
    "start_time": "2021-07-03T14:08:31.347Z"
   },
   {
    "duration": 532,
    "start_time": "2021-07-03T14:08:48.409Z"
   },
   {
    "duration": 271,
    "start_time": "2021-07-03T14:09:02.913Z"
   },
   {
    "duration": 1249,
    "start_time": "2021-07-03T14:09:08.457Z"
   },
   {
    "duration": 60,
    "start_time": "2021-07-03T14:09:12.649Z"
   },
   {
    "duration": 8,
    "start_time": "2021-07-03T14:09:15.105Z"
   },
   {
    "duration": 1165,
    "start_time": "2021-07-03T14:09:15.569Z"
   },
   {
    "duration": 358,
    "start_time": "2021-07-03T14:09:16.762Z"
   },
   {
    "duration": 1054,
    "start_time": "2021-07-03T14:09:22.489Z"
   },
   {
    "duration": 590,
    "start_time": "2021-07-03T14:09:32.920Z"
   },
   {
    "duration": 1609,
    "start_time": "2021-07-03T14:09:48.561Z"
   },
   {
    "duration": 1180,
    "start_time": "2021-07-03T14:10:04.296Z"
   },
   {
    "duration": 68,
    "start_time": "2021-07-03T14:10:07.160Z"
   },
   {
    "duration": 6,
    "start_time": "2021-07-03T14:10:08.695Z"
   },
   {
    "duration": 1187,
    "start_time": "2021-07-03T14:10:09.160Z"
   },
   {
    "duration": 357,
    "start_time": "2021-07-03T14:10:11.352Z"
   },
   {
    "duration": 577,
    "start_time": "2021-07-03T14:10:15.935Z"
   },
   {
    "duration": 21,
    "start_time": "2021-07-03T14:10:36.278Z"
   },
   {
    "duration": 13,
    "start_time": "2021-07-03T14:10:49.407Z"
   },
   {
    "duration": 68,
    "start_time": "2021-07-03T14:11:44.230Z"
   },
   {
    "duration": 439,
    "start_time": "2021-07-03T14:11:44.877Z"
   },
   {
    "duration": 43,
    "start_time": "2021-07-03T14:14:08.682Z"
   },
   {
    "duration": 9,
    "start_time": "2021-07-03T14:14:18.266Z"
   },
   {
    "duration": 38,
    "start_time": "2021-07-03T14:14:18.936Z"
   },
   {
    "duration": 229,
    "start_time": "2021-07-03T14:14:19.946Z"
   },
   {
    "duration": 94,
    "start_time": "2021-07-03T14:17:32.571Z"
   },
   {
    "duration": 175,
    "start_time": "2021-07-03T14:18:03.484Z"
   },
   {
    "duration": 268,
    "start_time": "2021-07-03T14:18:34.164Z"
   },
   {
    "duration": 1045,
    "start_time": "2021-07-03T14:18:37.411Z"
   },
   {
    "duration": 36,
    "start_time": "2021-07-03T14:18:38.459Z"
   },
   {
    "duration": 30,
    "start_time": "2021-07-03T14:18:42.140Z"
   },
   {
    "duration": 6,
    "start_time": "2021-07-03T14:18:42.923Z"
   },
   {
    "duration": 1616,
    "start_time": "2021-07-03T14:18:44.140Z"
   },
   {
    "duration": 499,
    "start_time": "2021-07-03T14:18:45.759Z"
   },
   {
    "duration": 870,
    "start_time": "2021-07-03T14:18:53.564Z"
   },
   {
    "duration": 10,
    "start_time": "2021-07-03T14:19:02.837Z"
   },
   {
    "duration": 8,
    "start_time": "2021-07-03T14:19:45.242Z"
   },
   {
    "duration": 28,
    "start_time": "2021-07-03T14:19:45.794Z"
   },
   {
    "duration": 166,
    "start_time": "2021-07-03T14:19:46.402Z"
   },
   {
    "duration": 1188,
    "start_time": "2021-07-03T14:29:16.277Z"
   },
   {
    "duration": 41,
    "start_time": "2021-07-03T14:29:17.468Z"
   },
   {
    "duration": 30,
    "start_time": "2021-07-03T14:29:24.878Z"
   },
   {
    "duration": 184,
    "start_time": "2021-07-03T14:29:28.948Z"
   },
   {
    "duration": 30,
    "start_time": "2021-07-03T14:29:35.244Z"
   },
   {
    "duration": 6,
    "start_time": "2021-07-03T14:29:37.884Z"
   },
   {
    "duration": 1366,
    "start_time": "2021-07-03T14:29:38.540Z"
   },
   {
    "duration": 183,
    "start_time": "2021-07-03T14:29:40.372Z"
   },
   {
    "duration": 114,
    "start_time": "2021-07-03T14:29:43.068Z"
   },
   {
    "duration": 303,
    "start_time": "2021-07-03T14:30:30.139Z"
   },
   {
    "duration": 35,
    "start_time": "2021-07-03T14:30:50.100Z"
   },
   {
    "duration": 6,
    "start_time": "2021-07-03T14:34:57.037Z"
   },
   {
    "duration": 6,
    "start_time": "2021-07-03T14:34:57.301Z"
   },
   {
    "duration": 1421,
    "start_time": "2021-07-03T14:34:57.566Z"
   },
   {
    "duration": 21,
    "start_time": "2021-07-03T14:34:58.989Z"
   },
   {
    "duration": 31,
    "start_time": "2021-07-03T14:37:27.098Z"
   },
   {
    "duration": 5,
    "start_time": "2021-07-03T14:37:28.427Z"
   },
   {
    "duration": 12,
    "start_time": "2021-07-03T14:37:28.874Z"
   },
   {
    "duration": 1190,
    "start_time": "2021-07-03T14:37:29.410Z"
   },
   {
    "duration": 169,
    "start_time": "2021-07-03T14:37:30.643Z"
   },
   {
    "duration": 120,
    "start_time": "2021-07-03T14:37:34.394Z"
   },
   {
    "duration": 135,
    "start_time": "2021-07-03T14:37:37.946Z"
   },
   {
    "duration": 114,
    "start_time": "2021-07-03T14:37:41.609Z"
   },
   {
    "duration": 68,
    "start_time": "2021-07-03T14:37:43.905Z"
   },
   {
    "duration": 7050,
    "start_time": "2021-07-03T14:38:10.521Z"
   },
   {
    "duration": -429,
    "start_time": "2021-07-03T14:38:18.012Z"
   },
   {
    "duration": 655,
    "start_time": "2021-07-03T14:38:22.545Z"
   },
   {
    "duration": 8,
    "start_time": "2021-07-03T14:38:30.793Z"
   },
   {
    "duration": 25,
    "start_time": "2021-07-03T14:38:31.616Z"
   },
   {
    "duration": 243,
    "start_time": "2021-07-03T14:38:32.312Z"
   },
   {
    "duration": 6,
    "start_time": "2021-07-03T14:45:50.806Z"
   },
   {
    "duration": 6114,
    "start_time": "2021-07-03T14:45:59.078Z"
   },
   {
    "duration": 9702,
    "start_time": "2021-07-03T14:47:08.677Z"
   },
   {
    "duration": 7,
    "start_time": "2021-07-03T14:47:32.820Z"
   },
   {
    "duration": 5533,
    "start_time": "2021-07-03T14:47:37.916Z"
   },
   {
    "duration": 6145,
    "start_time": "2021-07-03T14:48:45.659Z"
   },
   {
    "duration": 39,
    "start_time": "2021-07-03T14:48:56.738Z"
   },
   {
    "duration": 6312,
    "start_time": "2021-07-03T14:49:08.755Z"
   },
   {
    "duration": 10,
    "start_time": "2021-07-03T14:49:31.561Z"
   },
   {
    "duration": 27,
    "start_time": "2021-07-03T14:49:31.993Z"
   },
   {
    "duration": 6247,
    "start_time": "2021-07-03T14:49:43.353Z"
   },
   {
    "duration": 16,
    "start_time": "2021-07-03T14:52:40.773Z"
   },
   {
    "duration": 1067,
    "start_time": "2021-07-03T14:52:57.716Z"
   },
   {
    "duration": 20,
    "start_time": "2021-07-03T14:52:58.785Z"
   },
   {
    "duration": 36,
    "start_time": "2021-07-03T14:53:03.660Z"
   },
   {
    "duration": 12,
    "start_time": "2021-07-03T14:53:04.388Z"
   },
   {
    "duration": 6,
    "start_time": "2021-07-03T14:53:05.204Z"
   },
   {
    "duration": 1172,
    "start_time": "2021-07-03T14:53:05.916Z"
   },
   {
    "duration": 235,
    "start_time": "2021-07-03T14:53:07.091Z"
   },
   {
    "duration": 24,
    "start_time": "2021-07-03T14:53:13.460Z"
   },
   {
    "duration": 119,
    "start_time": "2021-07-03T14:53:14.716Z"
   },
   {
    "duration": 10,
    "start_time": "2021-07-03T14:53:15.164Z"
   },
   {
    "duration": 5,
    "start_time": "2021-07-03T14:53:21.483Z"
   },
   {
    "duration": 7789,
    "start_time": "2021-07-03T14:53:22.549Z"
   },
   {
    "duration": 57,
    "start_time": "2021-07-03T14:54:08.546Z"
   },
   {
    "duration": 129,
    "start_time": "2021-07-03T14:54:18.138Z"
   },
   {
    "duration": 14,
    "start_time": "2021-07-03T14:54:24.986Z"
   },
   {
    "duration": 46,
    "start_time": "2021-07-03T14:54:25.298Z"
   },
   {
    "duration": 10,
    "start_time": "2021-07-03T14:54:25.834Z"
   },
   {
    "duration": 15,
    "start_time": "2021-07-03T14:54:31.714Z"
   },
   {
    "duration": 824987,
    "start_time": "2021-07-03T14:54:34.123Z"
   },
   {
    "duration": 258,
    "start_time": "2021-07-03T15:11:15.683Z"
   },
   {
    "duration": 136608,
    "start_time": "2021-07-03T15:12:07.591Z"
   },
   {
    "duration": 136085,
    "start_time": "2021-07-03T15:15:22.441Z"
   },
   {
    "duration": 136608,
    "start_time": "2021-07-03T15:18:09.176Z"
   },
   {
    "duration": 438971,
    "start_time": "2021-07-03T15:21:44.596Z"
   },
   {
    "duration": 532704,
    "start_time": "2021-07-03T15:29:03.570Z"
   },
   {
    "duration": 5,
    "start_time": "2021-07-03T15:43:49.289Z"
   },
   {
    "duration": 7,
    "start_time": "2021-07-03T15:43:59.603Z"
   },
   {
    "duration": 2887237,
    "start_time": "2021-07-03T15:44:00.524Z"
   },
   {
    "duration": 455998,
    "start_time": "2021-07-03T16:32:07.764Z"
   },
   {
    "duration": 354511,
    "start_time": "2021-07-03T17:24:17.596Z"
   },
   {
    "duration": 5,
    "start_time": "2021-07-03T17:50:44.460Z"
   },
   {
    "duration": 240,
    "start_time": "2021-07-03T17:52:37.828Z"
   },
   {
    "duration": 5,
    "start_time": "2021-07-03T17:52:56.906Z"
   },
   {
    "duration": 272,
    "start_time": "2021-07-03T17:52:57.540Z"
   },
   {
    "duration": 4,
    "start_time": "2021-07-03T17:55:27.448Z"
   },
   {
    "duration": 5,
    "start_time": "2021-07-03T17:55:28.176Z"
   },
   {
    "duration": 262,
    "start_time": "2021-07-03T17:55:28.992Z"
   },
   {
    "duration": 5,
    "start_time": "2021-07-03T18:07:08.440Z"
   },
   {
    "duration": 471159,
    "start_time": "2021-07-03T18:07:09.600Z"
   },
   {
    "duration": 131337,
    "start_time": "2021-07-03T18:15:00.762Z"
   },
   {
    "duration": 5,
    "start_time": "2021-07-03T18:19:12.606Z"
   },
   {
    "duration": 3315044,
    "start_time": "2021-07-03T18:19:13.134Z"
   },
   {
    "duration": 245311,
    "start_time": "2021-07-03T19:14:28.258Z"
   },
   {
    "duration": 1359,
    "start_time": "2021-07-04T09:43:36.938Z"
   },
   {
    "duration": 3,
    "start_time": "2021-07-04T09:43:38.299Z"
   },
   {
    "duration": 688,
    "start_time": "2021-07-04T09:43:38.304Z"
   },
   {
    "duration": 17,
    "start_time": "2021-07-04T09:43:38.993Z"
   },
   {
    "duration": 194,
    "start_time": "2021-07-04T09:43:39.018Z"
   },
   {
    "duration": 414,
    "start_time": "2021-07-04T09:43:39.995Z"
   },
   {
    "duration": 374,
    "start_time": "2021-07-04T09:44:40.760Z"
   },
   {
    "duration": 282,
    "start_time": "2021-07-04T09:45:49.209Z"
   },
   {
    "duration": 268,
    "start_time": "2021-07-04T09:46:11.616Z"
   },
   {
    "duration": 109,
    "start_time": "2021-07-04T09:49:38.283Z"
   },
   {
    "duration": 18,
    "start_time": "2021-07-04T09:50:58.881Z"
   },
   {
    "duration": 15,
    "start_time": "2021-07-04T09:51:05.464Z"
   },
   {
    "duration": 295,
    "start_time": "2021-07-04T09:53:20.172Z"
   },
   {
    "duration": 959,
    "start_time": "2021-07-04T09:53:23.667Z"
   },
   {
    "duration": 2,
    "start_time": "2021-07-04T09:53:33.709Z"
   },
   {
    "duration": 5491,
    "start_time": "2021-07-04T09:53:35.149Z"
   },
   {
    "duration": 5083,
    "start_time": "2021-07-04T09:56:47.485Z"
   },
   {
    "duration": 5632,
    "start_time": "2021-07-04T09:58:18.040Z"
   },
   {
    "duration": 5265,
    "start_time": "2021-07-04T09:58:29.110Z"
   },
   {
    "duration": 84,
    "start_time": "2021-07-04T10:00:20.922Z"
   },
   {
    "duration": 5225,
    "start_time": "2021-07-04T10:00:40.044Z"
   },
   {
    "duration": 242,
    "start_time": "2021-07-04T10:09:20.773Z"
   },
   {
    "duration": 8,
    "start_time": "2021-07-04T10:09:44.444Z"
   },
   {
    "duration": 240,
    "start_time": "2021-07-04T10:09:48.311Z"
   },
   {
    "duration": 230,
    "start_time": "2021-07-04T10:09:59.175Z"
   },
   {
    "duration": 78,
    "start_time": "2021-07-04T10:10:13.083Z"
   },
   {
    "duration": 9927,
    "start_time": "2021-07-04T10:10:32.158Z"
   },
   {
    "duration": 72472,
    "start_time": "2021-07-04T10:16:39.653Z"
   },
   {
    "duration": 229,
    "start_time": "2021-07-04T10:18:13.501Z"
   },
   {
    "duration": 226,
    "start_time": "2021-07-04T10:18:35.650Z"
   },
   {
    "duration": 277,
    "start_time": "2021-07-04T10:18:52.955Z"
   },
   {
    "duration": 234,
    "start_time": "2021-07-04T10:19:25.859Z"
   },
   {
    "duration": 76,
    "start_time": "2021-07-04T10:19:37.033Z"
   },
   {
    "duration": 72,
    "start_time": "2021-07-04T10:19:49.840Z"
   },
   {
    "duration": 245,
    "start_time": "2021-07-04T10:19:56.052Z"
   },
   {
    "duration": 10366,
    "start_time": "2021-07-04T10:24:47.809Z"
   },
   {
    "duration": 5391,
    "start_time": "2021-07-04T10:26:56.559Z"
   },
   {
    "duration": 5838,
    "start_time": "2021-07-04T10:28:47.413Z"
   },
   {
    "duration": 5053,
    "start_time": "2021-07-04T10:37:01.106Z"
   },
   {
    "duration": 4,
    "start_time": "2021-07-04T10:40:29.106Z"
   },
   {
    "duration": 1386,
    "start_time": "2021-07-04T10:40:29.587Z"
   },
   {
    "duration": 340,
    "start_time": "2021-07-04T10:40:32.178Z"
   },
   {
    "duration": 88,
    "start_time": "2021-07-04T10:40:42.153Z"
   },
   {
    "duration": 3792,
    "start_time": "2021-07-04T10:41:00.611Z"
   },
   {
    "duration": 7,
    "start_time": "2021-07-04T10:43:30.633Z"
   },
   {
    "duration": 8,
    "start_time": "2021-07-04T10:43:52.719Z"
   },
   {
    "duration": 5323,
    "start_time": "2021-07-04T10:44:03.197Z"
   },
   {
    "duration": 69,
    "start_time": "2021-07-04T10:44:21.748Z"
   },
   {
    "duration": 3930,
    "start_time": "2021-07-04T10:44:24.836Z"
   },
   {
    "duration": 7,
    "start_time": "2021-07-04T10:46:42.881Z"
   },
   {
    "duration": 7,
    "start_time": "2021-07-04T10:47:41.817Z"
   },
   {
    "duration": 260,
    "start_time": "2021-07-04T10:47:42.642Z"
   },
   {
    "duration": 6,
    "start_time": "2021-07-04T10:47:50.313Z"
   },
   {
    "duration": 245,
    "start_time": "2021-07-04T10:47:51.040Z"
   },
   {
    "duration": 7,
    "start_time": "2021-07-04T10:48:57.127Z"
   },
   {
    "duration": 5338,
    "start_time": "2021-07-04T10:48:58.718Z"
   },
   {
    "duration": 5580,
    "start_time": "2021-07-04T10:49:29.854Z"
   },
   {
    "duration": 2,
    "start_time": "2021-07-04T10:50:42.861Z"
   },
   {
    "duration": 480,
    "start_time": "2021-07-04T10:50:51.625Z"
   },
   {
    "duration": 6,
    "start_time": "2021-07-04T10:51:03.644Z"
   },
   {
    "duration": 3917,
    "start_time": "2021-07-04T10:51:05.539Z"
   },
   {
    "duration": 6,
    "start_time": "2021-07-04T10:52:06.315Z"
   },
   {
    "duration": 3844,
    "start_time": "2021-07-04T10:52:06.874Z"
   },
   {
    "duration": 80,
    "start_time": "2021-07-04T10:58:41.920Z"
   },
   {
    "duration": 85,
    "start_time": "2021-07-04T10:59:20.193Z"
   },
   {
    "duration": 6,
    "start_time": "2021-07-04T10:59:28.904Z"
   },
   {
    "duration": 3999,
    "start_time": "2021-07-04T10:59:30.687Z"
   },
   {
    "duration": 3882,
    "start_time": "2021-07-04T11:00:08.591Z"
   },
   {
    "duration": 7,
    "start_time": "2021-07-04T11:00:35.159Z"
   },
   {
    "duration": 3826,
    "start_time": "2021-07-04T11:00:36.356Z"
   },
   {
    "duration": 3001,
    "start_time": "2021-07-04T11:02:40.616Z"
   },
   {
    "duration": 76,
    "start_time": "2021-07-04T11:22:56.424Z"
   },
   {
    "duration": 337,
    "start_time": "2021-07-04T11:22:58.967Z"
   },
   {
    "duration": 226,
    "start_time": "2021-07-04T11:24:43.116Z"
   },
   {
    "duration": 115,
    "start_time": "2021-07-04T11:24:55.696Z"
   },
   {
    "duration": 553,
    "start_time": "2021-07-04T11:26:51.291Z"
   },
   {
    "duration": 317,
    "start_time": "2021-07-04T11:26:58.363Z"
   },
   {
    "duration": 944,
    "start_time": "2021-07-04T11:28:36.920Z"
   },
   {
    "duration": 1045,
    "start_time": "2021-07-04T11:29:30.951Z"
   },
   {
    "duration": 30,
    "start_time": "2021-07-04T11:30:19.918Z"
   },
   {
    "duration": 19,
    "start_time": "2021-07-04T11:33:55.999Z"
   },
   {
    "duration": 73,
    "start_time": "2021-07-04T11:34:34.862Z"
   },
   {
    "duration": 75,
    "start_time": "2021-07-04T11:35:14.958Z"
   },
   {
    "duration": 96,
    "start_time": "2021-07-04T11:35:21.223Z"
   },
   {
    "duration": 169,
    "start_time": "2021-07-04T11:35:24.766Z"
   },
   {
    "duration": 207,
    "start_time": "2021-07-04T11:35:42.182Z"
   },
   {
    "duration": 235,
    "start_time": "2021-07-04T11:44:38.939Z"
   },
   {
    "duration": 1331,
    "start_time": "2021-07-04T11:45:04.380Z"
   },
   {
    "duration": 666,
    "start_time": "2021-07-04T11:45:05.713Z"
   },
   {
    "duration": 18,
    "start_time": "2021-07-04T11:45:06.381Z"
   },
   {
    "duration": 119,
    "start_time": "2021-07-04T11:45:06.400Z"
   },
   {
    "duration": 91,
    "start_time": "2021-07-04T11:45:06.520Z"
   },
   {
    "duration": 107,
    "start_time": "2021-07-04T11:45:06.612Z"
   },
   {
    "duration": 354,
    "start_time": "2021-07-04T11:45:06.720Z"
   },
   {
    "duration": 377,
    "start_time": "2021-07-04T11:45:07.078Z"
   },
   {
    "duration": 46,
    "start_time": "2021-07-04T11:45:07.458Z"
   },
   {
    "duration": 2,
    "start_time": "2021-07-04T11:45:07.506Z"
   },
   {
    "duration": 173,
    "start_time": "2021-07-04T11:45:07.509Z"
   },
   {
    "duration": 33,
    "start_time": "2021-07-04T11:45:07.684Z"
   },
   {
    "duration": 6,
    "start_time": "2021-07-04T11:45:07.719Z"
   },
   {
    "duration": 4347,
    "start_time": "2021-07-04T11:45:07.726Z"
   },
   {
    "duration": 16,
    "start_time": "2021-07-04T11:45:12.075Z"
   },
   {
    "duration": 1434,
    "start_time": "2021-07-04T11:45:12.094Z"
   },
   {
    "duration": 283,
    "start_time": "2021-07-04T11:45:13.529Z"
   },
   {
    "duration": 34,
    "start_time": "2021-07-04T11:45:13.814Z"
   },
   {
    "duration": 3003,
    "start_time": "2021-07-04T11:45:13.849Z"
   },
   {
    "duration": 8,
    "start_time": "2021-07-04T11:45:16.854Z"
   },
   {
    "duration": 55,
    "start_time": "2021-07-04T11:45:16.864Z"
   },
   {
    "duration": 5,
    "start_time": "2021-07-04T11:45:16.921Z"
   },
   {
    "duration": 263690,
    "start_time": "2021-07-04T11:45:16.929Z"
   },
   {
    "duration": 364,
    "start_time": "2021-07-04T11:49:40.621Z"
   },
   {
    "duration": -196,
    "start_time": "2021-07-04T11:49:41.183Z"
   },
   {
    "duration": -197,
    "start_time": "2021-07-04T11:49:41.185Z"
   },
   {
    "duration": -199,
    "start_time": "2021-07-04T11:49:41.188Z"
   },
   {
    "duration": -201,
    "start_time": "2021-07-04T11:49:41.191Z"
   },
   {
    "duration": -203,
    "start_time": "2021-07-04T11:49:41.194Z"
   },
   {
    "duration": -204,
    "start_time": "2021-07-04T11:49:41.196Z"
   },
   {
    "duration": -209,
    "start_time": "2021-07-04T11:49:41.202Z"
   },
   {
    "duration": -211,
    "start_time": "2021-07-04T11:49:41.205Z"
   },
   {
    "duration": -212,
    "start_time": "2021-07-04T11:49:41.207Z"
   },
   {
    "duration": -214,
    "start_time": "2021-07-04T11:49:41.210Z"
   },
   {
    "duration": -215,
    "start_time": "2021-07-04T11:49:41.212Z"
   },
   {
    "duration": 231338,
    "start_time": "2021-07-04T11:50:06.369Z"
   },
   {
    "duration": 374,
    "start_time": "2021-07-04T11:53:57.709Z"
   },
   {
    "duration": 6,
    "start_time": "2021-07-04T11:53:58.085Z"
   },
   {
    "duration": 34,
    "start_time": "2021-07-04T11:53:58.093Z"
   },
   {
    "duration": 69,
    "start_time": "2021-07-04T11:53:58.129Z"
   },
   {
    "duration": 5,
    "start_time": "2021-07-04T11:53:58.200Z"
   },
   {
    "duration": 296342,
    "start_time": "2021-07-04T11:53:58.294Z"
   },
   {
    "duration": 79480,
    "start_time": "2021-07-04T11:58:54.638Z"
   },
   {
    "duration": 3,
    "start_time": "2021-07-04T12:00:14.192Z"
   },
   {
    "duration": 282,
    "start_time": "2021-07-04T12:00:14.196Z"
   },
   {
    "duration": -238,
    "start_time": "2021-07-04T12:00:14.718Z"
   },
   {
    "duration": -241,
    "start_time": "2021-07-04T12:00:14.722Z"
   },
   {
    "duration": 957163,
    "start_time": "2021-07-04T12:02:42.138Z"
   },
   {
    "duration": 192789,
    "start_time": "2021-07-04T12:18:39.304Z"
   },
   {
    "duration": 9,
    "start_time": "2021-07-04T12:21:52.095Z"
   },
   {
    "duration": 8,
    "start_time": "2021-07-04T13:11:13.895Z"
   },
   {
    "duration": 4,
    "start_time": "2021-07-04T13:11:57.661Z"
   },
   {
    "duration": 281134,
    "start_time": "2021-07-04T13:11:58.205Z"
   },
   {
    "duration": 76255,
    "start_time": "2021-07-04T13:16:39.341Z"
   },
   {
    "duration": 10,
    "start_time": "2021-07-04T13:19:56.315Z"
   },
   {
    "duration": 9,
    "start_time": "2021-07-04T13:27:57.254Z"
   },
   {
    "duration": 4,
    "start_time": "2021-07-04T13:29:13.196Z"
   },
   {
    "duration": 402339,
    "start_time": "2021-07-04T13:29:13.460Z"
   },
   {
    "duration": 30508,
    "start_time": "2021-07-04T13:35:55.801Z"
   },
   {
    "duration": 11,
    "start_time": "2021-07-04T13:36:26.314Z"
   },
   {
    "duration": 3,
    "start_time": "2021-07-04T13:37:04.313Z"
   },
   {
    "duration": 288853,
    "start_time": "2021-07-04T13:37:04.849Z"
   },
   {
    "duration": 10690,
    "start_time": "2021-07-04T13:41:53.704Z"
   },
   {
    "duration": 8,
    "start_time": "2021-07-04T13:42:04.396Z"
   },
   {
    "duration": 4,
    "start_time": "2021-07-04T13:43:55.791Z"
   },
   {
    "duration": 33302,
    "start_time": "2021-07-04T13:43:56.304Z"
   },
   {
    "duration": 9192,
    "start_time": "2021-07-04T13:44:29.608Z"
   },
   {
    "duration": 8,
    "start_time": "2021-07-04T13:44:38.802Z"
   },
   {
    "duration": 5,
    "start_time": "2021-07-04T13:45:09.709Z"
   },
   {
    "duration": 80879,
    "start_time": "2021-07-04T13:45:10.013Z"
   },
   {
    "duration": 93814,
    "start_time": "2021-07-04T13:46:30.895Z"
   },
   {
    "duration": 8,
    "start_time": "2021-07-04T13:48:04.711Z"
   },
   {
    "duration": 4,
    "start_time": "2021-07-04T13:48:36.608Z"
   },
   {
    "duration": 55776,
    "start_time": "2021-07-04T13:48:36.824Z"
   },
   {
    "duration": 11801,
    "start_time": "2021-07-04T13:49:32.602Z"
   },
   {
    "duration": 8,
    "start_time": "2021-07-04T13:49:44.406Z"
   },
   {
    "duration": 4,
    "start_time": "2021-07-04T14:00:06.352Z"
   },
   {
    "duration": 1345,
    "start_time": "2021-07-04T14:29:06.298Z"
   },
   {
    "duration": 801,
    "start_time": "2021-07-04T14:29:07.645Z"
   },
   {
    "duration": 19,
    "start_time": "2021-07-04T14:29:08.448Z"
   },
   {
    "duration": 133,
    "start_time": "2021-07-04T14:29:08.469Z"
   },
   {
    "duration": 100,
    "start_time": "2021-07-04T14:29:08.604Z"
   },
   {
    "duration": 123,
    "start_time": "2021-07-04T14:29:08.705Z"
   },
   {
    "duration": 406,
    "start_time": "2021-07-04T14:29:08.829Z"
   },
   {
    "duration": 441,
    "start_time": "2021-07-04T14:29:09.237Z"
   },
   {
    "duration": 35,
    "start_time": "2021-07-04T14:29:09.680Z"
   },
   {
    "duration": 2,
    "start_time": "2021-07-04T14:29:09.717Z"
   },
   {
    "duration": 201,
    "start_time": "2021-07-04T14:29:09.721Z"
   },
   {
    "duration": 34,
    "start_time": "2021-07-04T14:29:09.924Z"
   },
   {
    "duration": 7,
    "start_time": "2021-07-04T14:29:09.960Z"
   },
   {
    "duration": 4830,
    "start_time": "2021-07-04T14:29:09.969Z"
   },
   {
    "duration": 7,
    "start_time": "2021-07-04T14:29:14.802Z"
   },
   {
    "duration": 1692,
    "start_time": "2021-07-04T14:29:14.811Z"
   },
   {
    "duration": 221,
    "start_time": "2021-07-04T14:29:16.505Z"
   },
   {
    "duration": 39,
    "start_time": "2021-07-04T14:29:16.728Z"
   },
   {
    "duration": 2970,
    "start_time": "2021-07-04T14:29:16.769Z"
   },
   {
    "duration": 8,
    "start_time": "2021-07-04T14:29:19.741Z"
   },
   {
    "duration": 61,
    "start_time": "2021-07-04T14:29:19.751Z"
   },
   {
    "duration": 7,
    "start_time": "2021-07-04T14:29:19.814Z"
   },
   {
    "duration": 285583,
    "start_time": "2021-07-04T14:29:19.824Z"
   },
   {
    "duration": 409376,
    "start_time": "2021-07-04T14:34:05.410Z"
   },
   {
    "duration": 374,
    "start_time": "2021-07-04T14:40:54.788Z"
   },
   {
    "duration": 6,
    "start_time": "2021-07-04T14:40:55.164Z"
   },
   {
    "duration": 23,
    "start_time": "2021-07-04T14:40:55.172Z"
   },
   {
    "duration": 96,
    "start_time": "2021-07-04T14:40:55.197Z"
   },
   {
    "duration": 91,
    "start_time": "2021-07-04T14:40:55.294Z"
   },
   {
    "duration": 321941,
    "start_time": "2021-07-04T14:40:55.388Z"
   },
   {
    "duration": 86168,
    "start_time": "2021-07-04T14:46:17.331Z"
   },
   {
    "duration": 3,
    "start_time": "2021-07-04T14:47:43.501Z"
   },
   {
    "duration": 492,
    "start_time": "2021-07-04T14:47:43.505Z"
   },
   {
    "duration": -18211,
    "start_time": "2021-07-04T14:48:02.210Z"
   },
   {
    "duration": -18214,
    "start_time": "2021-07-04T14:48:02.214Z"
   },
   {
    "duration": 30256,
    "start_time": "2021-07-04T14:49:12.830Z"
   },
   {
    "duration": 4211,
    "start_time": "2021-07-04T14:49:43.088Z"
   },
   {
    "duration": 8,
    "start_time": "2021-07-04T14:49:47.301Z"
   },
   {
    "duration": 3,
    "start_time": "2021-07-04T14:53:48.265Z"
   },
   {
    "duration": 19343,
    "start_time": "2021-07-04T14:53:48.746Z"
   },
   {
    "duration": 5804,
    "start_time": "2021-07-04T14:54:08.091Z"
   },
   {
    "duration": 9,
    "start_time": "2021-07-04T14:54:13.898Z"
   },
   {
    "duration": 4,
    "start_time": "2021-07-04T15:00:50.046Z"
   },
   {
    "duration": 35354,
    "start_time": "2021-07-04T15:00:50.439Z"
   },
   {
    "duration": 11104,
    "start_time": "2021-07-04T15:01:25.795Z"
   },
   {
    "duration": 8,
    "start_time": "2021-07-04T15:01:36.902Z"
   },
   {
    "duration": 3,
    "start_time": "2021-07-04T15:03:01.029Z"
   },
   {
    "duration": 13758,
    "start_time": "2021-07-04T15:03:01.244Z"
   },
   {
    "duration": 4190,
    "start_time": "2021-07-04T15:03:15.004Z"
   },
   {
    "duration": 9,
    "start_time": "2021-07-04T15:03:19.196Z"
   },
   {
    "duration": 4,
    "start_time": "2021-07-04T15:05:51.807Z"
   },
   {
    "duration": 8750,
    "start_time": "2021-07-04T15:05:52.144Z"
   },
   {
    "duration": 2702,
    "start_time": "2021-07-04T15:06:00.896Z"
   },
   {
    "duration": 9,
    "start_time": "2021-07-04T15:06:03.600Z"
   },
   {
    "duration": 4,
    "start_time": "2021-07-04T16:03:07.601Z"
   },
   {
    "duration": 750534,
    "start_time": "2021-07-04T16:03:08.072Z"
   },
   {
    "duration": 79777,
    "start_time": "2021-07-04T16:15:38.608Z"
   },
   {
    "duration": 8,
    "start_time": "2021-07-04T16:16:58.388Z"
   },
   {
    "duration": 10,
    "start_time": "2021-07-04T16:30:58.986Z"
   },
   {
    "duration": 231,
    "start_time": "2021-07-04T17:37:54.053Z"
   },
   {
    "duration": 1006,
    "start_time": "2021-07-04T17:38:14.895Z"
   },
   {
    "duration": 916,
    "start_time": "2021-07-04T17:38:46.244Z"
   },
   {
    "duration": 977,
    "start_time": "2021-07-04T17:40:51.402Z"
   },
   {
    "duration": 1013,
    "start_time": "2021-07-04T17:40:59.814Z"
   },
   {
    "duration": 1396,
    "start_time": "2021-07-04T17:59:16.960Z"
   },
   {
    "duration": 855,
    "start_time": "2021-07-04T17:59:18.358Z"
   },
   {
    "duration": 19,
    "start_time": "2021-07-04T17:59:19.216Z"
   },
   {
    "duration": 137,
    "start_time": "2021-07-04T17:59:19.237Z"
   },
   {
    "duration": 112,
    "start_time": "2021-07-04T17:59:19.376Z"
   },
   {
    "duration": 131,
    "start_time": "2021-07-04T17:59:19.490Z"
   },
   {
    "duration": 456,
    "start_time": "2021-07-04T17:59:19.622Z"
   },
   {
    "duration": 482,
    "start_time": "2021-07-04T17:59:20.081Z"
   },
   {
    "duration": 43,
    "start_time": "2021-07-04T17:59:20.565Z"
   },
   {
    "duration": 3,
    "start_time": "2021-07-04T17:59:20.609Z"
   },
   {
    "duration": 225,
    "start_time": "2021-07-04T17:59:20.614Z"
   },
   {
    "duration": 7,
    "start_time": "2021-07-04T17:59:20.841Z"
   },
   {
    "duration": 5317,
    "start_time": "2021-07-04T17:59:20.850Z"
   },
   {
    "duration": 19,
    "start_time": "2021-07-04T17:59:26.168Z"
   },
   {
    "duration": 1815,
    "start_time": "2021-07-04T17:59:26.195Z"
   },
   {
    "duration": 412,
    "start_time": "2021-07-04T17:59:28.012Z"
   },
   {
    "duration": 44,
    "start_time": "2021-07-04T17:59:28.426Z"
   },
   {
    "duration": 3347,
    "start_time": "2021-07-04T17:59:28.484Z"
   },
   {
    "duration": 509,
    "start_time": "2021-07-04T17:59:31.835Z"
   },
   {
    "duration": -4605,
    "start_time": "2021-07-04T17:59:36.952Z"
   },
   {
    "duration": -4609,
    "start_time": "2021-07-04T17:59:36.957Z"
   },
   {
    "duration": -4618,
    "start_time": "2021-07-04T17:59:36.967Z"
   },
   {
    "duration": -4635,
    "start_time": "2021-07-04T17:59:36.985Z"
   },
   {
    "duration": -4646,
    "start_time": "2021-07-04T17:59:36.997Z"
   },
   {
    "duration": -4651,
    "start_time": "2021-07-04T17:59:37.003Z"
   },
   {
    "duration": -4655,
    "start_time": "2021-07-04T17:59:37.008Z"
   },
   {
    "duration": -4661,
    "start_time": "2021-07-04T17:59:37.015Z"
   },
   {
    "duration": -4666,
    "start_time": "2021-07-04T17:59:37.021Z"
   },
   {
    "duration": -4672,
    "start_time": "2021-07-04T17:59:37.029Z"
   },
   {
    "duration": -4685,
    "start_time": "2021-07-04T17:59:37.043Z"
   },
   {
    "duration": -4695,
    "start_time": "2021-07-04T17:59:37.054Z"
   },
   {
    "duration": -4680,
    "start_time": "2021-07-04T17:59:37.065Z"
   },
   {
    "duration": -4691,
    "start_time": "2021-07-04T17:59:37.077Z"
   },
   {
    "duration": -4697,
    "start_time": "2021-07-04T17:59:37.084Z"
   },
   {
    "duration": -4714,
    "start_time": "2021-07-04T17:59:37.101Z"
   },
   {
    "duration": 2136,
    "start_time": "2021-07-04T18:05:50.129Z"
   },
   {
    "duration": 856,
    "start_time": "2021-07-04T18:05:52.267Z"
   },
   {
    "duration": 17,
    "start_time": "2021-07-04T18:05:53.125Z"
   },
   {
    "duration": 140,
    "start_time": "2021-07-04T18:05:53.144Z"
   },
   {
    "duration": 117,
    "start_time": "2021-07-04T18:05:53.287Z"
   },
   {
    "duration": 123,
    "start_time": "2021-07-04T18:05:53.406Z"
   },
   {
    "duration": 461,
    "start_time": "2021-07-04T18:05:53.531Z"
   },
   {
    "duration": 501,
    "start_time": "2021-07-04T18:05:53.996Z"
   },
   {
    "duration": 46,
    "start_time": "2021-07-04T18:05:54.500Z"
   },
   {
    "duration": 6,
    "start_time": "2021-07-04T18:05:54.548Z"
   },
   {
    "duration": 217,
    "start_time": "2021-07-04T18:05:54.555Z"
   },
   {
    "duration": 22,
    "start_time": "2021-07-04T18:05:54.774Z"
   },
   {
    "duration": 5017,
    "start_time": "2021-07-04T18:05:54.798Z"
   },
   {
    "duration": 4,
    "start_time": "2021-07-04T18:05:59.817Z"
   },
   {
    "duration": 1879,
    "start_time": "2021-07-04T18:05:59.823Z"
   },
   {
    "duration": 311,
    "start_time": "2021-07-04T18:06:01.703Z"
   },
   {
    "duration": 40,
    "start_time": "2021-07-04T18:06:02.016Z"
   },
   {
    "duration": 3315,
    "start_time": "2021-07-04T18:06:02.057Z"
   },
   {
    "duration": 1118,
    "start_time": "2021-07-04T18:06:05.374Z"
   },
   {
    "duration": 8,
    "start_time": "2021-07-04T18:06:06.497Z"
   },
   {
    "duration": 87,
    "start_time": "2021-07-04T18:06:06.507Z"
   },
   {
    "duration": 8,
    "start_time": "2021-07-04T18:06:06.598Z"
   },
   {
    "duration": 283796,
    "start_time": "2021-07-04T18:06:06.611Z"
   },
   {
    "duration": 150190,
    "start_time": "2021-07-04T18:10:50.409Z"
   },
   {
    "duration": 423,
    "start_time": "2021-07-04T18:13:20.604Z"
   },
   {
    "duration": 6,
    "start_time": "2021-07-04T18:13:21.029Z"
   },
   {
    "duration": 28,
    "start_time": "2021-07-04T18:13:21.037Z"
   },
   {
    "duration": 218,
    "start_time": "2021-07-04T18:13:21.068Z"
   },
   {
    "duration": 5,
    "start_time": "2021-07-04T18:13:21.292Z"
   },
   {
    "duration": 2852331,
    "start_time": "2021-07-04T18:13:21.299Z"
   },
   {
    "duration": 79467,
    "start_time": "2021-07-04T19:00:53.684Z"
   },
   {
    "duration": -526,
    "start_time": "2021-07-04T19:02:13.679Z"
   },
   {
    "duration": -529,
    "start_time": "2021-07-04T19:02:13.683Z"
   },
   {
    "duration": -532,
    "start_time": "2021-07-04T19:02:13.687Z"
   },
   {
    "duration": -534,
    "start_time": "2021-07-04T19:02:13.690Z"
   },
   {
    "duration": 807054,
    "start_time": "2021-07-04T19:03:17.565Z"
   },
   {
    "duration": 3,
    "start_time": "2021-07-04T19:16:44.622Z"
   },
   {
    "duration": 707673,
    "start_time": "2021-07-04T19:16:44.627Z"
   },
   {
    "duration": 42525,
    "start_time": "2021-07-04T19:28:32.301Z"
   },
   {
    "duration": 10,
    "start_time": "2021-07-04T19:29:14.828Z"
   }
  ],
  "kernelspec": {
   "display_name": "Python 3 (ipykernel)",
   "language": "python",
   "name": "python3"
  },
  "language_info": {
   "codemirror_mode": {
    "name": "ipython",
    "version": 3
   },
   "file_extension": ".py",
   "mimetype": "text/x-python",
   "name": "python",
   "nbconvert_exporter": "python",
   "pygments_lexer": "ipython3",
   "version": "3.9.5"
  },
  "toc": {
   "base_numbering": 1,
   "nav_menu": {},
   "number_sections": true,
   "sideBar": true,
   "skip_h1_title": true,
   "title_cell": "Содержание",
   "title_sidebar": "Contents",
   "toc_cell": true,
   "toc_position": {},
   "toc_section_display": true,
   "toc_window_display": false
  }
 },
 "nbformat": 4,
 "nbformat_minor": 2
}
