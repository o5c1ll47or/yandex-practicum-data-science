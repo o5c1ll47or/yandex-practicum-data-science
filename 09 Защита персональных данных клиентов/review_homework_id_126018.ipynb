{
 "cells": [
  {
   "cell_type": "markdown",
   "metadata": {},
   "source": [
    "<div style=\"border: 1px solid #CCCCFF; border-radius: 1px;\">\n",
    "<div style=\"margin: 5px\">\n",
    "<b class=\"alert-heading\">Комментарий ревьюера</b>\n",
    "<p>Евгений, привет!</p>\n",
    "<p>Меня зовут Алексей Секоцкий. Поздравляю с подготовкой очередного проекта. Предлагаю обращаться друг к другу на «ты» если нет возражений. Ниже стандартный блок с условными обозначениями:</p>\n",
    "<div class=\"alert alert-success\" role=\"alert\">\n",
    "всё отлично\n",
    "</div>\n",
    "<div class=\"alert alert-warning\" role=\"alert\">\n",
    "рекомендации на будущее (не требующие доработки проекта)\n",
    "</div>\n",
    "<div class=\"alert alert-danger\" role=\"alert\">\n",
    "критичные моменты требующие внимания (доработки)\n",
    "</div>\n",
    "<div class=\"alert alert-info\">\n",
    "информационные комментарии и итоговый\n",
    "</div>\n",
    "\n",
    "<hr>\n",
    "<p>Пожалуйста, не изменяй и не удаляй мои комментарии – они потребуются для повторной проверки (при необходимости). Задавай вопросы и описывай сделанные изменения, помечая их любым удобным наглядным способом.</p>"
   ]
  },
  {
   "cell_type": "markdown",
   "metadata": {},
   "source": [
    "# Защита персональных данных клиентов"
   ]
  },
  {
   "cell_type": "markdown",
   "metadata": {},
   "source": [
    "Вам нужно защитить данные клиентов страховой компании «Хоть потоп». Разработайте такой метод преобразования данных, чтобы по ним было сложно восстановить персональную информацию. Обоснуйте корректность его работы.\n",
    "\n",
    "Нужно защитить данные, чтобы при преобразовании качество моделей машинного обучения не ухудшилось. Подбирать наилучшую модель не требуется."
   ]
  },
  {
   "cell_type": "markdown",
   "metadata": {
    "toc": true
   },
   "source": [
    "<h1>Содержание<span class=\"tocSkip\"></span></h1>\n",
    "<div class=\"toc\"><ul class=\"toc-item\"><li><span><a href=\"#Загрузка-данных\" data-toc-modified-id=\"Загрузка-данных-1\"><span class=\"toc-item-num\">1&nbsp;&nbsp;</span>Загрузка данных</a></span></li><li><span><a href=\"#Умножение-матриц\" data-toc-modified-id=\"Умножение-матриц-2\"><span class=\"toc-item-num\">2&nbsp;&nbsp;</span>Умножение матриц</a></span></li><li><span><a href=\"#Алгоритм-преобразования\" data-toc-modified-id=\"Алгоритм-преобразования-3\"><span class=\"toc-item-num\">3&nbsp;&nbsp;</span>Алгоритм преобразования</a></span></li><li><span><a href=\"#Проверка-алгоритма\" data-toc-modified-id=\"Проверка-алгоритма-4\"><span class=\"toc-item-num\">4&nbsp;&nbsp;</span>Проверка алгоритма</a></span></li><li><span><a href=\"#Чек-лист-проверки\" data-toc-modified-id=\"Чек-лист-проверки-5\"><span class=\"toc-item-num\">5&nbsp;&nbsp;</span>Чек-лист проверки</a></span></li></ul></div>"
   ]
  },
  {
   "cell_type": "code",
   "execution_count": 1,
   "metadata": {},
   "outputs": [],
   "source": [
    "import pandas as pd\n",
    "import numpy as np\n",
    "from sklearn.preprocessing import StandardScaler\n",
    "from sklearn.linear_model import LinearRegression\n",
    "from sklearn.pipeline import Pipeline\n",
    "from sklearn.metrics import r2_score, mean_squared_error\n",
    "from sklearn.model_selection import train_test_split"
   ]
  },
  {
   "cell_type": "markdown",
   "metadata": {},
   "source": [
    "## Загрузка данных"
   ]
  },
  {
   "cell_type": "code",
   "execution_count": 2,
   "metadata": {},
   "outputs": [],
   "source": [
    "df = pd.read_csv('/datasets/insurance.csv')"
   ]
  },
  {
   "cell_type": "code",
   "execution_count": 3,
   "metadata": {},
   "outputs": [
    {
     "data": {
      "text/html": [
       "<div>\n",
       "<style scoped>\n",
       "    .dataframe tbody tr th:only-of-type {\n",
       "        vertical-align: middle;\n",
       "    }\n",
       "\n",
       "    .dataframe tbody tr th {\n",
       "        vertical-align: top;\n",
       "    }\n",
       "\n",
       "    .dataframe thead th {\n",
       "        text-align: right;\n",
       "    }\n",
       "</style>\n",
       "<table border=\"1\" class=\"dataframe\">\n",
       "  <thead>\n",
       "    <tr style=\"text-align: right;\">\n",
       "      <th></th>\n",
       "      <th>Пол</th>\n",
       "      <th>Возраст</th>\n",
       "      <th>Зарплата</th>\n",
       "      <th>Члены семьи</th>\n",
       "      <th>Страховые выплаты</th>\n",
       "    </tr>\n",
       "  </thead>\n",
       "  <tbody>\n",
       "    <tr>\n",
       "      <td>0</td>\n",
       "      <td>1</td>\n",
       "      <td>41.0</td>\n",
       "      <td>49600.0</td>\n",
       "      <td>1</td>\n",
       "      <td>0</td>\n",
       "    </tr>\n",
       "    <tr>\n",
       "      <td>1</td>\n",
       "      <td>0</td>\n",
       "      <td>46.0</td>\n",
       "      <td>38000.0</td>\n",
       "      <td>1</td>\n",
       "      <td>1</td>\n",
       "    </tr>\n",
       "    <tr>\n",
       "      <td>2</td>\n",
       "      <td>0</td>\n",
       "      <td>29.0</td>\n",
       "      <td>21000.0</td>\n",
       "      <td>0</td>\n",
       "      <td>0</td>\n",
       "    </tr>\n",
       "    <tr>\n",
       "      <td>3</td>\n",
       "      <td>0</td>\n",
       "      <td>21.0</td>\n",
       "      <td>41700.0</td>\n",
       "      <td>2</td>\n",
       "      <td>0</td>\n",
       "    </tr>\n",
       "    <tr>\n",
       "      <td>4</td>\n",
       "      <td>1</td>\n",
       "      <td>28.0</td>\n",
       "      <td>26100.0</td>\n",
       "      <td>0</td>\n",
       "      <td>0</td>\n",
       "    </tr>\n",
       "  </tbody>\n",
       "</table>\n",
       "</div>"
      ],
      "text/plain": [
       "   Пол  Возраст  Зарплата  Члены семьи  Страховые выплаты\n",
       "0    1     41.0   49600.0            1                  0\n",
       "1    0     46.0   38000.0            1                  1\n",
       "2    0     29.0   21000.0            0                  0\n",
       "3    0     21.0   41700.0            2                  0\n",
       "4    1     28.0   26100.0            0                  0"
      ]
     },
     "execution_count": 3,
     "metadata": {},
     "output_type": "execute_result"
    }
   ],
   "source": [
    "df.head()"
   ]
  },
  {
   "cell_type": "code",
   "execution_count": 4,
   "metadata": {},
   "outputs": [
    {
     "name": "stdout",
     "output_type": "stream",
     "text": [
      "<class 'pandas.core.frame.DataFrame'>\n",
      "RangeIndex: 5000 entries, 0 to 4999\n",
      "Data columns (total 5 columns):\n",
      "Пол                  5000 non-null int64\n",
      "Возраст              5000 non-null float64\n",
      "Зарплата             5000 non-null float64\n",
      "Члены семьи          5000 non-null int64\n",
      "Страховые выплаты    5000 non-null int64\n",
      "dtypes: float64(2), int64(3)\n",
      "memory usage: 195.4 KB\n"
     ]
    }
   ],
   "source": [
    "df.info()"
   ]
  },
  {
   "cell_type": "code",
   "execution_count": 5,
   "metadata": {},
   "outputs": [
    {
     "data": {
      "text/plain": [
       "Пол                    int64\n",
       "Возраст                int64\n",
       "Зарплата             float64\n",
       "Члены семьи            int64\n",
       "Страховые выплаты      int64\n",
       "dtype: object"
      ]
     },
     "execution_count": 5,
     "metadata": {},
     "output_type": "execute_result"
    }
   ],
   "source": [
    "df['Возраст'] = df['Возраст'].astype(int)\n",
    "df.dtypes"
   ]
  },
  {
   "cell_type": "markdown",
   "metadata": {},
   "source": [
    "<div class=\"alert alert-success\">\n",
    "<b>Комментарий ревьюера</b>\n",
    "\n",
    "Отлично. Данные загружены и изучены.\n",
    "</div>"
   ]
  },
  {
   "cell_type": "markdown",
   "metadata": {},
   "source": [
    "## Умножение матриц"
   ]
  },
  {
   "cell_type": "markdown",
   "metadata": {},
   "source": [
    "В этом задании вы можете записывать формулы в *Jupyter Notebook.*\n",
    "\n",
    "Чтобы записать формулу внутри текста, окружите её символами доллара \\\\$; если снаружи —  двойными символами \\\\$\\\\$. Эти формулы записываются на языке вёрстки *LaTeX.* \n",
    "\n",
    "Для примера мы записали формулы линейной регрессии. Можете их скопировать и отредактировать, чтобы решить задачу.\n",
    "\n",
    "Работать в *LaTeX* необязательно."
   ]
  },
  {
   "cell_type": "markdown",
   "metadata": {},
   "source": [
    "Обозначения:\n",
    "\n",
    "- $X$ — матрица признаков (нулевой столбец состоит из единиц)\n",
    "\n",
    "- $y$ — вектор целевого признака\n",
    "\n",
    "- $P$ — матрица, на которую умножаются признаки\n",
    "\n",
    "- $w$ — вектор весов линейной регрессии (нулевой элемент равен сдвигу)"
   ]
  },
  {
   "cell_type": "markdown",
   "metadata": {},
   "source": [
    "Предсказания:\n",
    "\n",
    "$$\n",
    "a = Xw\n",
    "$$\n",
    "\n",
    "Задача обучения:\n",
    "\n",
    "$$\n",
    "w = \\arg\\min_w MSE(Xw, y)\n",
    "$$\n",
    "\n",
    "Формула обучения:\n",
    "\n",
    "$$\n",
    "w = (X^T X)^{-1} X^T y\n",
    "$$"
   ]
  },
  {
   "cell_type": "markdown",
   "metadata": {},
   "source": [
    "**Ответ:** <br>\n",
    "\n",
    "При умножении признаков на обратимую матрицу, предсказания модели не поменяется, но поменяются веса для новых признаков. Придется переобучать модель на новых признаках.<br>\n",
    "\n",
    "**Обоснование:** <br>\n",
    "\n",
    "Формула расчета весов для линейной регрессии:\n",
    "\n",
    "$$\n",
    "w = (X^T X)^{-1} X^T y\n",
    "$$\n",
    "\n",
    "Представим новую матрицу признаков $X_1$ как произведение старой $X$ на матрицу $P$ (обратимую):\n",
    "\n",
    "$$\n",
    "X_1 = X * P\n",
    "$$\n",
    "\n",
    "Подставим новое значение $X_1$ в формулу $w_1$:\n",
    "\n",
    "$$\n",
    "w_1 = ((X P)^T X P)^{-1} (X P)^T y\n",
    "$$\n",
    "\n",
    "Раскроем первое произведение $(XP)^T$:\n",
    "\n",
    "$$\n",
    "w_1 = (P^T X^T X P)^{-1} P^T X^T y\n",
    "$$\n",
    "\n",
    "Перегруппируем множители в скобках, чтобы это выглядело как произведение трех множителей:\n",
    "\n",
    "$$\n",
    "w_1 = (P^T (X^T X) P)^{-1} P^T X^T y\n",
    "$$\n",
    "\n",
    "Раскроем скобки $ (P^T (X^T X) P)^{-1} $:\n",
    "\n",
    "$$\n",
    "w_1 = P^{-1} (X^T X)^{-1} (P^T)^{-1} P^T X^T y\n",
    "$$\n",
    "\n",
    "Так как $P$ по условию обратимая, то произведение $(P^T)^{-1} P^T$ равно $E$ (единичная матрица):\n",
    "\n",
    "$$\n",
    "w_1 = P^{-1} (X^T X)^{-1} E X^T y = P^{-1} (X^T X)^{-1} X^T y\n",
    "$$\n",
    "\n",
    "Можно заметить, что справа получилась формула для $w$:\n",
    "\n",
    "$$\n",
    "w_1 = P^{-1} (X^T X)^{-1} X^T y = P^{-1} w\n",
    "$$\n",
    "\n",
    "Подставим новое значение весов  $w_1$  в формулу для предсказаний линейной регрессии.\n",
    "Предсказания модели расчитываются по формуле:\n",
    "\n",
    "$$\n",
    "a = Xw\n",
    "$$\n",
    "\n",
    "Подставим в эту формулу значения $X_1$ и $w_1$ для того, чтобы на их основе вычислить предсказания модели $a_1$:\n",
    "\n",
    "$$\n",
    "a_1 = X_1w_1 = XPP^{-1} w\n",
    "$$\n",
    "\n",
    "Так как $P$ по условию обратимая, то произведение $PP^{-1}$ снова равно $E$:\n",
    "\n",
    "$$\n",
    "a_1 = XPP^{-1} w = X E w = X w = a\n",
    "$$\n",
    "\n",
    "Мы доказали, что предсказания $a_1$ для матрицы признаков, умноженных на обратимую матрицу $P$, равны предсказаниям $a$.<br>\n",
    "Следовательно, отвечая на вопрос изменится ли качество линейной регрессии при умножении признаков на обратимую матрицу - нет, не изменится. В данном случае, параметры линейной регрессии в исходной задаче $w$ и в преобразованной $w_1$ связаны следующим образом:\n",
    "\n",
    "$$\n",
    "w_1 = P^{-1} w\n",
    "$$"
   ]
  },
  {
   "cell_type": "markdown",
   "metadata": {},
   "source": [
    "<div class=\"alert alert-success\">\n",
    "<b>Комментарий ревьюера</b>\n",
    "\n",
    "Верное доказательтво. Отлично, что используются свойства матриц.\n",
    "</div>"
   ]
  },
  {
   "cell_type": "markdown",
   "metadata": {},
   "source": [
    "## Алгоритм преобразования"
   ]
  },
  {
   "cell_type": "markdown",
   "metadata": {},
   "source": [
    "**Алгоритм:**\n",
    "\n",
    "Для защиты информации на этапе поиска коэффициентов регрессии и предсказаний регрессии будем умножать матрицу признаков на обратимую матрицу $Y$, которая будет генерироваться случайным образом."
   ]
  },
  {
   "cell_type": "markdown",
   "metadata": {},
   "source": [
    "**Обоснование:**\n",
    "\n",
    "Матрица $Y$ должна иметь необходимую размерность $(n*n)$, где $n$ - количество признаков для регрессии.\n",
    "Таким образом матрица $Z$ будет иметь туже размерность, что и матрица $X$. Обратная матрица $Y$ существует только для квадратных невырожденных матриц (определитель которых не равен нулю).\n",
    "\n",
    "Пример:\n",
    "\n",
    "$\n",
    "X = \\begin{pmatrix}\n",
    "1 & 2 \\\\\n",
    "2 & 3 \\\\\n",
    "4 & 5  \n",
    "\\end{pmatrix}\n",
    "\\qquad \n",
    "Y = \\begin{pmatrix}\n",
    "1 & 0 \\\\\n",
    "2 & 3 \\\\  \n",
    "\\end{pmatrix}\n",
    "\\qquad det  Y = 3 $\n",
    "\n",
    "Найдем значние $Z$:\n",
    "\n",
    "$\n",
    "Z = \\begin{pmatrix}\n",
    "1 & 2 \\\\\n",
    "2 & 3 \\\\\n",
    "4 & 5  \n",
    "\\end{pmatrix} \\begin{pmatrix}\n",
    "1 & 0 \\\\\n",
    "2 & 3 \\\\  \n",
    "\\end{pmatrix} = \\begin{pmatrix}\n",
    "1*1+2*2 & 1*0+2*3  \\\\\n",
    "2*1+3*2 & 2*0+3*3  \\\\\n",
    "4*1+5*2 & 4*0+5*3   \n",
    "\\end{pmatrix} = \\begin{pmatrix}\n",
    "5 & 6 \\\\\n",
    "8 & 9 \\\\\n",
    "14 & 15  \n",
    "\\end{pmatrix}$\n",
    "\n",
    "После этого добавляем нулевой столбец и вводим данные в линейную регрессию."
   ]
  },
  {
   "cell_type": "markdown",
   "metadata": {},
   "source": [
    "<div class=\"alert alert-warning\">\n",
    "<b>Комментарий ревьюера</b>\n",
    "\n",
    "Алгоритм лучше расписать немного подробнее и пошагово:<br>\n",
    "1. Генерим ранодомную матрицу размером ...\n",
    "2. Умножаем ее на матрицу признаков\n",
    "3. Определяем метрику R2 с помощью линейной регрессии для предобразованных данных и исходных, а затем сравниваем\n",
    "\n",
    "</div>"
   ]
  },
  {
   "cell_type": "markdown",
   "metadata": {},
   "source": [
    "## Проверка алгоритма"
   ]
  },
  {
   "cell_type": "code",
   "execution_count": 6,
   "metadata": {},
   "outputs": [],
   "source": [
    "features = df.drop(['Страховые выплаты'], axis = 1)\n",
    "target = df['Страховые выплаты']"
   ]
  },
  {
   "cell_type": "code",
   "execution_count": 7,
   "metadata": {},
   "outputs": [],
   "source": [
    "def score(features, target):\n",
    "    features_train, features_test, target_train, target_test = train_test_split(\n",
    "        features, target, test_size = 0.25, random_state = 12345)\n",
    "    model = LinearRegression()\n",
    "    scaller = StandardScaler()\n",
    "    pipeline = Pipeline([(\"standard_scaller\", scaller), (\"linear_regression\", model)])\n",
    "    pipeline.fit(features_train, target_train)\n",
    "    print('MSE Score: {:.4f}'.format(mean_squared_error(target_test, pipeline.predict(features_test))))\n",
    "    print('R2_Score: {:.4f}'.format(r2_score(target_test, pipeline.predict(features_test))))"
   ]
  },
  {
   "cell_type": "markdown",
   "metadata": {},
   "source": [
    "Проверим модель на исходных данных:"
   ]
  },
  {
   "cell_type": "code",
   "execution_count": 8,
   "metadata": {},
   "outputs": [
    {
     "name": "stdout",
     "output_type": "stream",
     "text": [
      "MSE Score: 0.1166\n",
      "R2_Score: 0.4352\n"
     ]
    }
   ],
   "source": [
    "score(features, target)"
   ]
  },
  {
   "cell_type": "markdown",
   "metadata": {},
   "source": [
    "Проверим модель на зашифрованных данных:"
   ]
  },
  {
   "cell_type": "code",
   "execution_count": 9,
   "metadata": {},
   "outputs": [],
   "source": [
    "state = np.random.RandomState(12345)\n",
    "inv_rand_matrix = state.normal(size = (features.shape[1], features.shape[1]))\n",
    "crypt_features = features.dot(inv_rand_matrix)"
   ]
  },
  {
   "cell_type": "markdown",
   "metadata": {},
   "source": [
    "<div class=\"alert alert-success\">\n",
    "<b>Комментарий ревьюера</b>\n",
    "\n",
    "Отлично, что задан RandomState.\n",
    "</div>"
   ]
  },
  {
   "cell_type": "code",
   "execution_count": 10,
   "metadata": {},
   "outputs": [
    {
     "name": "stdout",
     "output_type": "stream",
     "text": [
      "MSE Score: 0.1166\n",
      "R2_Score: 0.4352\n"
     ]
    }
   ],
   "source": [
    "score(crypt_features, target)"
   ]
  },
  {
   "cell_type": "markdown",
   "metadata": {},
   "source": [
    "Проверим модель на расшифрованных данных:"
   ]
  },
  {
   "cell_type": "code",
   "execution_count": 11,
   "metadata": {},
   "outputs": [],
   "source": [
    "P_inv = np.linalg.inv(inv_rand_matrix)\n",
    "decrypt_features = crypt_features.dot(P_inv)"
   ]
  },
  {
   "cell_type": "markdown",
   "metadata": {},
   "source": [
    "<div class=\"alert alert-success\">\n",
    "<b>Комментарий ревьюера</b>\n",
    "\n",
    "Хорошо, что есть такая проверка, которая одновременно является проверкой наобратимость рандомной матрицы.\n",
    "</div>"
   ]
  },
  {
   "cell_type": "code",
   "execution_count": 12,
   "metadata": {
    "scrolled": true
   },
   "outputs": [
    {
     "name": "stdout",
     "output_type": "stream",
     "text": [
      "MSE Score: 0.1166\n",
      "R2_Score: 0.4352\n"
     ]
    }
   ],
   "source": [
    "score(decrypt_features, target)"
   ]
  },
  {
   "cell_type": "markdown",
   "metadata": {},
   "source": [
    "**Вывод**\n",
    "\n",
    "Во всех трех вариантах ошибка идентичная. Мы подтвердили теоретические выкладки экспериментом."
   ]
  },
  {
   "cell_type": "markdown",
   "metadata": {},
   "source": [
    "<div class=\"alert alert-success\">\n",
    "<b>Комментарий ревьюера</b>\n",
    "\n",
    "Верный вывод. Метрики идентичны.\n",
    "</div>"
   ]
  },
  {
   "cell_type": "markdown",
   "metadata": {},
   "source": [
    "<div class=\"alert alert-info\">\n",
    "<b>Итоговый комментарий ревьюера</b>\n",
    "\n",
    "Отличный проект! Вспомнили свойства матриц, вывели формулу и освоили алгоритм шифрования. Можно прочитать про <a href=\"https://ru.wikipedia.org/wiki/Шифр_Хилла\">шифр Хилла</a>, основанный на линейной алгебре. Про другие простые алгоритмы шифрования <a href=\"https://habr.com/ru/post/116716/\">здесь</a>. Желаю успехов в дальнейшем обучении! Впереди еще будут интересные задачи!\n",
    "<hr>\n",
    "</div>"
   ]
  },
  {
   "cell_type": "markdown",
   "metadata": {},
   "source": [
    "## Чек-лист проверки"
   ]
  },
  {
   "cell_type": "markdown",
   "metadata": {},
   "source": [
    "Поставьте 'x' в выполненных пунктах. Далее нажмите Shift+Enter."
   ]
  },
  {
   "cell_type": "markdown",
   "metadata": {},
   "source": [
    "- [x]  Jupyter Notebook открыт\n",
    "- [x]  Весь код выполняется без ошибок\n",
    "- [x]  Ячейки с кодом расположены в порядке исполнения\n",
    "- [x]  Выполнен шаг 1: данные загружены\n",
    "- [x]  Выполнен шаг 2: получен ответ на вопрос об умножении матриц\n",
    "    - [x]  Указан правильный вариант ответа\n",
    "    - [x]  Вариант обоснован\n",
    "- [x]  Выполнен шаг 3: предложен алгоритм преобразования\n",
    "    - [x]  Алгоритм описан\n",
    "    - [x]  Алгоритм обоснован\n",
    "- [x]  Выполнен шаг 4: алгоритм проверен\n",
    "    - [x]  Алгоритм реализован\n",
    "    - [x]  Проведено сравнение качества моделей до и после преобразования"
   ]
  }
 ],
 "metadata": {
  "ExecuteTimeLog": [
   {
    "duration": 368,
    "start_time": "2021-06-20T10:52:12.720Z"
   },
   {
    "duration": 744,
    "start_time": "2021-06-20T10:52:25.985Z"
   },
   {
    "duration": 21,
    "start_time": "2021-06-20T10:52:27.449Z"
   },
   {
    "duration": 6,
    "start_time": "2021-06-20T10:52:29.768Z"
   },
   {
    "duration": 732,
    "start_time": "2021-06-20T10:55:09.301Z"
   },
   {
    "duration": 7,
    "start_time": "2021-06-20T10:55:14.277Z"
   },
   {
    "duration": 14,
    "start_time": "2021-06-20T10:55:14.572Z"
   },
   {
    "duration": 7,
    "start_time": "2021-06-20T10:55:14.829Z"
   },
   {
    "duration": 9,
    "start_time": "2021-06-20T10:55:15.733Z"
   },
   {
    "duration": 8,
    "start_time": "2021-06-20T10:55:32.404Z"
   },
   {
    "duration": 4,
    "start_time": "2021-06-20T10:55:56.044Z"
   },
   {
    "duration": 9,
    "start_time": "2021-06-20T10:56:04.564Z"
   },
   {
    "duration": 12,
    "start_time": "2021-06-20T10:56:23.075Z"
   },
   {
    "duration": 33,
    "start_time": "2021-06-20T10:57:57.473Z"
   },
   {
    "duration": 423,
    "start_time": "2021-06-20T10:58:00.665Z"
   },
   {
    "duration": 4,
    "start_time": "2021-06-20T10:58:13.640Z"
   },
   {
    "duration": 23,
    "start_time": "2021-06-20T10:58:17.377Z"
   },
   {
    "duration": 68,
    "start_time": "2021-06-20T10:58:44.786Z"
   },
   {
    "duration": 51,
    "start_time": "2021-06-20T10:58:49.672Z"
   },
   {
    "duration": 13,
    "start_time": "2021-06-20T10:58:54.783Z"
   },
   {
    "duration": 5,
    "start_time": "2021-06-20T11:05:29.804Z"
   },
   {
    "duration": 278,
    "start_time": "2021-06-20T11:05:30.663Z"
   },
   {
    "duration": 4,
    "start_time": "2021-06-20T11:05:44.934Z"
   },
   {
    "duration": 7,
    "start_time": "2021-06-20T11:05:51.502Z"
   },
   {
    "duration": 299,
    "start_time": "2021-06-20T11:05:52.789Z"
   },
   {
    "duration": 6,
    "start_time": "2021-06-20T11:06:04.045Z"
   },
   {
    "duration": 16,
    "start_time": "2021-06-20T11:06:09.981Z"
   },
   {
    "duration": 18,
    "start_time": "2021-06-20T11:06:31.765Z"
   },
   {
    "duration": 15,
    "start_time": "2021-06-20T11:07:44.092Z"
   },
   {
    "duration": 22,
    "start_time": "2021-06-20T11:07:47.756Z"
   },
   {
    "duration": 22,
    "start_time": "2021-06-20T11:08:11.787Z"
   },
   {
    "duration": 22,
    "start_time": "2021-06-20T11:08:23.291Z"
   },
   {
    "duration": 22,
    "start_time": "2021-06-20T11:08:26.651Z"
   },
   {
    "duration": 18,
    "start_time": "2021-06-20T11:08:35.786Z"
   },
   {
    "duration": 16,
    "start_time": "2021-06-20T11:08:49.953Z"
   },
   {
    "duration": 24,
    "start_time": "2021-06-20T11:08:56.505Z"
   },
   {
    "duration": 10,
    "start_time": "2021-06-20T11:22:17.496Z"
   },
   {
    "duration": 9,
    "start_time": "2021-06-20T11:22:19.503Z"
   },
   {
    "duration": 9,
    "start_time": "2021-06-20T11:22:21.471Z"
   },
   {
    "duration": 7,
    "start_time": "2021-06-20T11:22:23.519Z"
   },
   {
    "duration": 17,
    "start_time": "2021-06-20T11:24:28.587Z"
   },
   {
    "duration": 7,
    "start_time": "2021-06-20T11:24:41.747Z"
   },
   {
    "duration": 17,
    "start_time": "2021-06-20T11:24:50.931Z"
   },
   {
    "duration": 9,
    "start_time": "2021-06-20T11:26:53.392Z"
   },
   {
    "duration": 19,
    "start_time": "2021-06-20T11:26:59.041Z"
   },
   {
    "duration": 7,
    "start_time": "2021-06-20T11:27:27.096Z"
   },
   {
    "duration": 17,
    "start_time": "2021-06-20T11:27:27.704Z"
   },
   {
    "duration": 21,
    "start_time": "2021-06-20T11:27:32.134Z"
   },
   {
    "duration": 19,
    "start_time": "2021-06-20T11:30:22.691Z"
   },
   {
    "duration": 19,
    "start_time": "2021-06-20T11:30:27.739Z"
   },
   {
    "duration": 286,
    "start_time": "2021-06-20T11:31:23.995Z"
   },
   {
    "duration": 359,
    "start_time": "2021-06-20T11:31:50.314Z"
   },
   {
    "duration": 22,
    "start_time": "2021-06-20T11:32:05.970Z"
   },
   {
    "duration": 27,
    "start_time": "2021-06-20T11:32:09.769Z"
   },
   {
    "duration": 19,
    "start_time": "2021-06-20T11:32:14.681Z"
   },
   {
    "duration": 8,
    "start_time": "2021-06-20T11:32:17.217Z"
   },
   {
    "duration": 15,
    "start_time": "2021-06-20T11:32:17.665Z"
   },
   {
    "duration": 8,
    "start_time": "2021-06-20T11:32:18.385Z"
   },
   {
    "duration": 15,
    "start_time": "2021-06-20T11:32:19.009Z"
   },
   {
    "duration": 10,
    "start_time": "2021-06-20T11:32:19.461Z"
   },
   {
    "duration": 15,
    "start_time": "2021-06-20T11:32:20.289Z"
   },
   {
    "duration": 21,
    "start_time": "2021-06-20T11:32:21.192Z"
   },
   {
    "duration": 10,
    "start_time": "2021-06-20T11:32:58.640Z"
   },
   {
    "duration": 19,
    "start_time": "2021-06-20T11:33:05.272Z"
   },
   {
    "duration": 20,
    "start_time": "2021-06-20T14:14:29.820Z"
   },
   {
    "duration": 19,
    "start_time": "2021-06-20T14:14:45.724Z"
   },
   {
    "duration": 18,
    "start_time": "2021-06-20T14:14:46.196Z"
   },
   {
    "duration": 19,
    "start_time": "2021-06-20T14:14:50.980Z"
   },
   {
    "duration": 32,
    "start_time": "2021-06-20T14:14:54.731Z"
   },
   {
    "duration": 6,
    "start_time": "2021-06-20T14:27:47.697Z"
   },
   {
    "duration": 19,
    "start_time": "2021-06-20T14:28:00.793Z"
   },
   {
    "duration": 16,
    "start_time": "2021-06-20T14:28:27.928Z"
   },
   {
    "duration": 5,
    "start_time": "2021-06-20T14:28:47.104Z"
   },
   {
    "duration": 5,
    "start_time": "2021-06-20T14:28:53.023Z"
   },
   {
    "duration": 6,
    "start_time": "2021-06-20T14:29:16.071Z"
   },
   {
    "duration": 21,
    "start_time": "2021-06-20T14:29:16.598Z"
   },
   {
    "duration": 5,
    "start_time": "2021-06-20T14:29:36.183Z"
   },
   {
    "duration": 16,
    "start_time": "2021-06-20T14:29:47.662Z"
   },
   {
    "duration": 5,
    "start_time": "2021-06-20T14:29:57.478Z"
   },
   {
    "duration": 8,
    "start_time": "2021-06-20T21:45:52.098Z"
   },
   {
    "duration": 31,
    "start_time": "2021-06-20T21:46:06.466Z"
   },
   {
    "duration": 8,
    "start_time": "2021-06-20T21:46:11.346Z"
   },
   {
    "duration": 19,
    "start_time": "2021-06-20T21:46:17.794Z"
   },
   {
    "duration": 11,
    "start_time": "2021-06-20T21:50:23.363Z"
   },
   {
    "duration": 16,
    "start_time": "2021-06-20T21:50:33.469Z"
   },
   {
    "duration": 22,
    "start_time": "2021-06-20T21:50:42.154Z"
   },
   {
    "duration": 16,
    "start_time": "2021-06-20T21:50:42.404Z"
   },
   {
    "duration": 11,
    "start_time": "2021-06-20T21:50:42.637Z"
   },
   {
    "duration": 11,
    "start_time": "2021-06-20T21:50:42.868Z"
   },
   {
    "duration": 1345,
    "start_time": "2021-06-20T22:15:21.494Z"
   },
   {
    "duration": 20,
    "start_time": "2021-06-20T22:15:22.842Z"
   },
   {
    "duration": 21,
    "start_time": "2021-06-20T22:15:22.866Z"
   },
   {
    "duration": 8,
    "start_time": "2021-06-20T22:15:22.890Z"
   },
   {
    "duration": 28,
    "start_time": "2021-06-20T22:15:22.900Z"
   },
   {
    "duration": 8,
    "start_time": "2021-06-20T22:15:22.930Z"
   },
   {
    "duration": 9,
    "start_time": "2021-06-20T22:15:22.940Z"
   },
   {
    "duration": 22,
    "start_time": "2021-06-20T22:15:22.953Z"
   },
   {
    "duration": 6,
    "start_time": "2021-06-20T22:15:22.977Z"
   },
   {
    "duration": 46,
    "start_time": "2021-06-20T22:15:22.985Z"
   },
   {
    "duration": 5,
    "start_time": "2021-06-20T22:15:23.033Z"
   },
   {
    "duration": 93,
    "start_time": "2021-06-20T22:15:23.041Z"
   },
   {
    "duration": 1366,
    "start_time": "2021-06-21T10:39:55.766Z"
   },
   {
    "duration": 18,
    "start_time": "2021-06-21T10:39:57.135Z"
   },
   {
    "duration": 22,
    "start_time": "2021-06-21T10:39:57.156Z"
   },
   {
    "duration": 9,
    "start_time": "2021-06-21T10:39:57.181Z"
   },
   {
    "duration": 35,
    "start_time": "2021-06-21T10:39:57.193Z"
   },
   {
    "duration": 8,
    "start_time": "2021-06-21T10:39:57.230Z"
   },
   {
    "duration": 8,
    "start_time": "2021-06-21T10:39:57.240Z"
   },
   {
    "duration": 21,
    "start_time": "2021-06-21T10:39:57.250Z"
   },
   {
    "duration": 6,
    "start_time": "2021-06-21T10:39:57.274Z"
   },
   {
    "duration": 54,
    "start_time": "2021-06-21T10:39:57.282Z"
   },
   {
    "duration": 17,
    "start_time": "2021-06-21T10:39:57.338Z"
   },
   {
    "duration": 85,
    "start_time": "2021-06-21T10:39:57.358Z"
   }
  ],
  "kernelspec": {
   "display_name": "Python 3 (ipykernel)",
   "language": "python",
   "name": "python3"
  },
  "language_info": {
   "codemirror_mode": {
    "name": "ipython",
    "version": 3
   },
   "file_extension": ".py",
   "mimetype": "text/x-python",
   "name": "python",
   "nbconvert_exporter": "python",
   "pygments_lexer": "ipython3",
   "version": "3.9.5"
  },
  "toc": {
   "base_numbering": 1,
   "nav_menu": {},
   "number_sections": true,
   "sideBar": true,
   "skip_h1_title": true,
   "title_cell": "Содержание",
   "title_sidebar": "Contents",
   "toc_cell": true,
   "toc_position": {},
   "toc_section_display": true,
   "toc_window_display": false
  }
 },
 "nbformat": 4,
 "nbformat_minor": 2
}
